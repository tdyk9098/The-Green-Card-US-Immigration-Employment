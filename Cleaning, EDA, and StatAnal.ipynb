{
 "cells": [
  {
   "cell_type": "code",
   "execution_count": 1,
   "id": "4958a082",
   "metadata": {},
   "outputs": [
    {
     "data": {
      "text/html": [
       "        <script type=\"text/javascript\">\n",
       "        window.PlotlyConfig = {MathJaxConfig: 'local'};\n",
       "        if (window.MathJax) {MathJax.Hub.Config({SVG: {font: \"STIX-Web\"}});}\n",
       "        if (typeof require !== 'undefined') {\n",
       "        require.undef(\"plotly\");\n",
       "        requirejs.config({\n",
       "            paths: {\n",
       "                'plotly': ['https://cdn.plot.ly/plotly-2.9.0.min']\n",
       "            }\n",
       "        });\n",
       "        require(['plotly'], function(Plotly) {\n",
       "            window._Plotly = Plotly;\n",
       "        });\n",
       "        }\n",
       "        </script>\n",
       "        "
      ]
     },
     "metadata": {},
     "output_type": "display_data"
    },
    {
     "data": {
      "text/html": [
       "        <script type=\"text/javascript\">\n",
       "        window.PlotlyConfig = {MathJaxConfig: 'local'};\n",
       "        if (window.MathJax) {MathJax.Hub.Config({SVG: {font: \"STIX-Web\"}});}\n",
       "        if (typeof require !== 'undefined') {\n",
       "        require.undef(\"plotly\");\n",
       "        requirejs.config({\n",
       "            paths: {\n",
       "                'plotly': ['https://cdn.plot.ly/plotly-2.9.0.min']\n",
       "            }\n",
       "        });\n",
       "        require(['plotly'], function(Plotly) {\n",
       "            window._Plotly = Plotly;\n",
       "        });\n",
       "        }\n",
       "        </script>\n",
       "        "
      ]
     },
     "metadata": {},
     "output_type": "display_data"
    }
   ],
   "source": [
    "import numpy as np\n",
    "import pandas as pd\n",
    "import matplotlib.pyplot as plt\n",
    "import seaborn as sns\n",
    "import scipy.stats as st\n",
    "import cufflinks as cf\n",
    "from plotly.offline import download_plotlyjs, init_notebook_mode, plot, iplot\n",
    "init_notebook_mode(connected = True)\n",
    "cf.go_offline()\n",
    "import chart_studio.plotly as py\n",
    "import plotly.graph_objs as go \n",
    "import datetime as dt\n",
    "import dataframe_image as dfi\n",
    "import Levenshtein as lev\n",
    "import re"
   ]
  },
  {
   "cell_type": "code",
   "execution_count": 2,
   "id": "77ff8e48",
   "metadata": {},
   "outputs": [],
   "source": [
    "df = pd.read_csv(\"GCST.csv\", low_memory = False)"
   ]
  },
  {
   "cell_type": "code",
   "execution_count": 3,
   "id": "045f6217",
   "metadata": {},
   "outputs": [],
   "source": [
    "# PW_CODE CLEAN UP\n",
    "df[\"PW_SOC_CODE\"] = df[\"PW_SOC_CODE\"].astype(str)\n",
    "# PW_SOC_CODES that do not follow the standard XX-XXXX, missing \"-\"\n",
    "wrongsoc = df[~df[\"PW_SOC_CODE\"].str.contains(\"-\", na = False)]\n",
    "# DROPPING ANY APPLICANTS THAT DO NOT HAVE \"-\" IN PW SOC CODE\n",
    "df = df[df[\"PW_SOC_CODE\"].str.contains(\"-\", na = False)]"
   ]
  },
  {
   "cell_type": "code",
   "execution_count": 4,
   "id": "2b3865da",
   "metadata": {},
   "outputs": [],
   "source": [
    "# RESET DF INDEX\n",
    "df = df.reset_index(drop = True)"
   ]
  },
  {
   "cell_type": "code",
   "execution_count": 5,
   "id": "efdb55a9",
   "metadata": {},
   "outputs": [],
   "source": [
    "# SPLITTING PW_SOC_CODE FOR CLEANING DECIMALS\n",
    "# COL1 will be pre \"-\", COL2 will be after \"-\"... DROP THE DECIMALS (OLDER FORMAT, NOW MORE CONSOLIDATED)\n",
    "symbol = df[\"PW_SOC_CODE\"].str.find(\"-\")\n",
    "list1 = []\n",
    "for x in range(len(df)):\n",
    "    j = df[\"PW_SOC_CODE\"][x][:symbol[x]]\n",
    "    list1.append(j)\n",
    "list2 = []\n",
    "for x in range(len(df)):\n",
    "    j = df[\"PW_SOC_CODE\"][x][symbol[x]:]\n",
    "    list2.append(j)"
   ]
  },
  {
   "cell_type": "code",
   "execution_count": 6,
   "id": "63203222",
   "metadata": {},
   "outputs": [],
   "source": [
    "# COL1: HAS SOME WEIRD FORMATTING FROM CSV... TURNED IT INTO DATES... NOVEMBER IS IN THERE, SHOULD BE 11\n",
    "col1 = pd.DataFrame(list1)\n",
    "#col1[col1[0].str.len()>2][0].unique()\n",
    "col1[0] = col1[0].replace(\"Nov\",11)"
   ]
  },
  {
   "cell_type": "code",
   "execution_count": 7,
   "id": "0aa161d9",
   "metadata": {},
   "outputs": [],
   "source": [
    "# DROPPING ANYTHING AFTER DECIMAL FOR COL2\n",
    "list2 = [sub.replace('-', '') for sub in list2]\n",
    "col2 = pd.DataFrame(list2)\n",
    "decimal = col2[col2[0].str.find(\".\")>0][0].str[:-3]\n",
    "col2[0].loc[decimal.index] = decimal\n",
    "col2[0] = col2[0].astype(str)"
   ]
  },
  {
   "cell_type": "code",
   "execution_count": 8,
   "id": "82568a43",
   "metadata": {},
   "outputs": [
    {
     "data": {
      "text/plain": [
       "True"
      ]
     },
     "execution_count": 8,
     "metadata": {},
     "output_type": "execute_result"
    }
   ],
   "source": [
    "# HOW MANY Novs were there? THERE SHOULD BE MATCHING 2 DIGIT in Col2\n",
    "(pd.DataFrame(list1)[0]==\"Nov\").sum() == len(col2[col2[0].str.len()<4])"
   ]
  },
  {
   "cell_type": "code",
   "execution_count": 9,
   "id": "3baecefa",
   "metadata": {},
   "outputs": [],
   "source": [
    "# TURNING 2 DIGIT Col2 and adding 00 at the end\n",
    "col2add = col2[col2[0].str.len()<4][0].astype(str)+\"00\"\n",
    "col2[0].loc[col2add.index] = col2add\n",
    "col2[0] = col2[0].astype(str)"
   ]
  },
  {
   "cell_type": "code",
   "execution_count": 10,
   "id": "981713e3",
   "metadata": {},
   "outputs": [],
   "source": [
    "# PUTTING BACK TOGETHER PW CODE CODE\n",
    "df[\"PW_SOC_CODE\"] = col1.astype(str)+\"-\"+col2.astype(str)"
   ]
  },
  {
   "cell_type": "code",
   "execution_count": 11,
   "id": "9544fb1a",
   "metadata": {},
   "outputs": [],
   "source": [
    "# RESET INDEX\n",
    "df = df.reset_index(drop = True)"
   ]
  },
  {
   "cell_type": "code",
   "execution_count": 12,
   "id": "b88ee0c3",
   "metadata": {},
   "outputs": [],
   "source": [
    "# CHANGING DECISION DATE AND APPLICATION RECEIVE DATE INTO MONTH OF YEAR \n",
    "df[\"MONTH\"] = pd.to_datetime(df[\"DECISION_DATE\"]).apply(lambda x:x.month)\n",
    "df[\"YEAR\"] = pd.to_datetime(df[\"DECISION_DATE\"]).apply(lambda x:x.year)"
   ]
  },
  {
   "cell_type": "code",
   "execution_count": 13,
   "id": "241ca713",
   "metadata": {},
   "outputs": [],
   "source": [
    "# changing certified and certified expired to 1. and withdrawn and denied to 0: CLASSIFICATION MODEL OUTPUT\n",
    "df[\"CASE_STATUS\"] = df[\"CASE_STATUS\"].replace([\"CERTIFIED-EXPIRED\",\"CERTIFIED\"],[1,1]).replace([\"WITHDRAWN\",\"DENIED\"],[0,0])"
   ]
  },
  {
   "cell_type": "code",
   "execution_count": 14,
   "id": "a25abfc8",
   "metadata": {},
   "outputs": [
    {
     "name": "stdout",
     "output_type": "stream",
     "text": [
      "Number of PW Wage null: 24\n",
      "Number of Wage offered null: 50\n",
      "Number of PW Wage Unit Null: 1173\n",
      "Number of Wage Unit null: 1179\n"
     ]
    }
   ],
   "source": [
    "# HOW MANY WAGE OFFERED AND PW_WAGE ARE NULL? HOW MANY UNITS ARE NULL?\n",
    "print(\"Number of PW Wage null:\",len(df[df[\"PW_WAGE\"].isnull()]))\n",
    "print(\"Number of Wage offered null:\",len(df[df[\"WAGE_OFFER_FROM\"].isnull()]))\n",
    "print(\"Number of PW Wage Unit Null:\",len(df[df[\"PW_UNIT_OF_PAY\"].isnull()]))\n",
    "print(\"Number of Wage Unit null:\",len(df[df[\"WAGE_OFFER_UNIT_OF_PAY\"].isnull()]))"
   ]
  },
  {
   "cell_type": "code",
   "execution_count": 15,
   "id": "631a6d0d",
   "metadata": {},
   "outputs": [],
   "source": [
    "# DF COPY TO SEE HOW MANY WERE DROPPED\n",
    "dfc = df"
   ]
  },
  {
   "cell_type": "code",
   "execution_count": 16,
   "id": "0cd05e65",
   "metadata": {},
   "outputs": [],
   "source": [
    "# DROP ALL APPLICANTS WITH NO WAGE UNIT\n",
    "df = df[df[\"WAGE_OFFER_UNIT_OF_PAY\"].notnull()]\n",
    "# DROP ALL APPLICANTS WITH NO PW UNIT\n",
    "df = df[df[\"PW_UNIT_OF_PAY\"].notnull()]\n",
    "# DROP ALL APPLICANTS WITH NO WAGE OFFERED\n",
    "df = df[df[\"WAGE_OFFER_FROM\"].notnull()]\n",
    "# DROP ALL APPLICANTS WITH NO PW WAGE\n",
    "df = df[df[\"PW_WAGE\"].notnull()]"
   ]
  },
  {
   "cell_type": "code",
   "execution_count": 17,
   "id": "bc53ef71",
   "metadata": {},
   "outputs": [
    {
     "data": {
      "text/plain": [
       "1236"
      ]
     },
     "execution_count": 17,
     "metadata": {},
     "output_type": "execute_result"
    }
   ],
   "source": [
    "# HOW MANY DROPPED DUE TO NULL\n",
    "len(dfc)-len(df)"
   ]
  },
  {
   "cell_type": "code",
   "execution_count": 18,
   "id": "1337bd2a",
   "metadata": {},
   "outputs": [],
   "source": [
    "# DF COPY TO SEE HOW MANY WERE DROPPED\n",
    "dfc = df"
   ]
  },
  {
   "cell_type": "code",
   "execution_count": 19,
   "id": "241464b5",
   "metadata": {},
   "outputs": [],
   "source": [
    "# TURNING ALL WAGES TO FLOATS\n",
    "df[\"WAGE_OFFER_FROM\"] = df[\"WAGE_OFFER_FROM\"].str.replace(\",\",\"\")\n",
    "df = df[df[\"WAGE_OFFER_FROM\"]!=\"#############\"]\n",
    "df[\"PW_WAGE\"] = df[\"PW_WAGE\"].str.replace(\",\",\"\")\n",
    "df = df[df[\"PW_WAGE\"]!=\"#############\"]\n",
    "df[\"WAGE_OFFER_FROM\"] = df[\"WAGE_OFFER_FROM\"].astype(float)\n",
    "df[\"PW_WAGE\"] = df[\"PW_WAGE\"].astype(float)"
   ]
  },
  {
   "cell_type": "code",
   "execution_count": 20,
   "id": "6e0a39bd",
   "metadata": {},
   "outputs": [
    {
     "data": {
      "text/plain": [
       "6"
      ]
     },
     "execution_count": 20,
     "metadata": {},
     "output_type": "execute_result"
    }
   ],
   "source": [
    "# HOW MANY DROPPED DUE TO #######?\n",
    "len(dfc)-len(df)"
   ]
  },
  {
   "cell_type": "code",
   "execution_count": 21,
   "id": "1dc87dd3",
   "metadata": {},
   "outputs": [],
   "source": [
    "# STANDARD THE PW and SALARY UNIT OF PAY\n",
    "df[\"PW_UNIT_OF_PAY\"] = df[\"PW_UNIT_OF_PAY\"].replace([\"HOUR\",\"YEAR\",\"WEEK\",\"MONTH\",\"BI-WEEKLY\"],[\"HR\",\"YR\",\"WK\",\"MTH\",\"BI\"])\n",
    "df[\"WAGE_OFFER_UNIT_OF_PAY\"] = df[\"WAGE_OFFER_UNIT_OF_PAY\"].replace([\"HOUR\",\"YEAR\",\"WEEK\",\"MONTH\",\"BI-WEEKLY\"],[\"HR\",\"YR\",\"WK\",\"MTH\",\"BI\"])"
   ]
  },
  {
   "cell_type": "code",
   "execution_count": 22,
   "id": "0fc2991d",
   "metadata": {},
   "outputs": [
    {
     "data": {
      "text/html": [
       "<div>\n",
       "<style scoped>\n",
       "    .dataframe tbody tr th:only-of-type {\n",
       "        vertical-align: middle;\n",
       "    }\n",
       "\n",
       "    .dataframe tbody tr th {\n",
       "        vertical-align: top;\n",
       "    }\n",
       "\n",
       "    .dataframe thead th {\n",
       "        text-align: right;\n",
       "    }\n",
       "</style>\n",
       "<table border=\"1\" class=\"dataframe\">\n",
       "  <thead>\n",
       "    <tr style=\"text-align: right;\">\n",
       "      <th></th>\n",
       "      <th>WAGE_OFFER_UNIT_OF_PAY</th>\n",
       "      <th>PW_UNIT_OF_PAY</th>\n",
       "      <th>Unnamed 0</th>\n",
       "    </tr>\n",
       "  </thead>\n",
       "  <tbody>\n",
       "    <tr>\n",
       "      <th>YR</th>\n",
       "      <td>709971</td>\n",
       "      <td>723498</td>\n",
       "      <td>-13527</td>\n",
       "    </tr>\n",
       "    <tr>\n",
       "      <th>HR</th>\n",
       "      <td>24886</td>\n",
       "      <td>11644</td>\n",
       "      <td>13242</td>\n",
       "    </tr>\n",
       "    <tr>\n",
       "      <th>WK</th>\n",
       "      <td>280</td>\n",
       "      <td>133</td>\n",
       "      <td>147</td>\n",
       "    </tr>\n",
       "    <tr>\n",
       "      <th>MTH</th>\n",
       "      <td>218</td>\n",
       "      <td>107</td>\n",
       "      <td>111</td>\n",
       "    </tr>\n",
       "    <tr>\n",
       "      <th>BI</th>\n",
       "      <td>58</td>\n",
       "      <td>31</td>\n",
       "      <td>27</td>\n",
       "    </tr>\n",
       "  </tbody>\n",
       "</table>\n",
       "</div>"
      ],
      "text/plain": [
       "     WAGE_OFFER_UNIT_OF_PAY  PW_UNIT_OF_PAY  Unnamed 0\n",
       "YR                   709971          723498     -13527\n",
       "HR                    24886           11644      13242\n",
       "WK                      280             133        147\n",
       "MTH                     218             107        111\n",
       "BI                       58              31         27"
      ]
     },
     "execution_count": 22,
     "metadata": {},
     "output_type": "execute_result"
    }
   ],
   "source": [
    "# DISTRIBUTION OF UNIT OF PAY\n",
    "pd.DataFrame([df[\"WAGE_OFFER_UNIT_OF_PAY\"].value_counts(),df[\"PW_UNIT_OF_PAY\"].value_counts(),df[\"WAGE_OFFER_UNIT_OF_PAY\"].value_counts()-df[\"PW_UNIT_OF_PAY\"].value_counts()]).transpose()"
   ]
  },
  {
   "cell_type": "code",
   "execution_count": 23,
   "id": "135f61c3",
   "metadata": {},
   "outputs": [],
   "source": [
    "# ANNUALIZING WAGE OFFER AND PW\n",
    "# Annualized Salaries: Actual Salary: multiplier\n",
    "def annual(row):\n",
    "    if row[\"WAGE_OFFER_UNIT_OF_PAY\"] == \"YR\":\n",
    "        return 1\n",
    "    elif row[\"WAGE_OFFER_UNIT_OF_PAY\"] == \"MTH\": \n",
    "        return 12\n",
    "    elif row[\"WAGE_OFFER_UNIT_OF_PAY\"] == \"WK\": \n",
    "        return 52\n",
    "    elif row[\"WAGE_OFFER_UNIT_OF_PAY\"] == \"BI\": \n",
    "        return 26\n",
    "    elif row[\"WAGE_OFFER_UNIT_OF_PAY\"] == \"HR\": \n",
    "        return 2080\n",
    "mult = pd.DataFrame(df.apply(lambda row:annual(row), axis = 1))\n",
    "mult.columns = [\"WAGE_OFFER_FROM\"]\n",
    "# ANNUALIZED WAGE OFFER\n",
    "df[\"WO_A\"] = pd.DataFrame(df[\"WAGE_OFFER_FROM\"])*mult\n",
    "\n",
    "# Annualized Salaries: PW Salary\n",
    "def annuali(row):\n",
    "    if row[\"PW_UNIT_OF_PAY\"] == \"YR\":\n",
    "        return 1\n",
    "    elif row[\"PW_UNIT_OF_PAY\"] == \"MTH\": \n",
    "        return 12\n",
    "    elif row[\"PW_UNIT_OF_PAY\"] == \"WK\": \n",
    "        return 52\n",
    "    elif row[\"PW_UNIT_OF_PAY\"] == \"BI\": \n",
    "        return 26\n",
    "    elif row[\"PW_UNIT_OF_PAY\"] == \"HR\": \n",
    "        return 2080\n",
    "multi = pd.DataFrame(df.apply(lambda row:annuali(row), axis = 1))\n",
    "multi.columns = [\"PW_WAGE\"]\n",
    "# ANNUALIZED WAGE PW\n",
    "df[\"PW_A\"] = pd.DataFrame(df[\"PW_WAGE\"])*multi"
   ]
  },
  {
   "cell_type": "code",
   "execution_count": 24,
   "id": "58dd1df3",
   "metadata": {},
   "outputs": [],
   "source": [
    "# ANNUALIZED WAGE OFFER - ANNUALIZED PW\n",
    "df[\"WO-PW\"] = df[\"WO_A\"] - df[\"PW_A\"]"
   ]
  },
  {
   "cell_type": "code",
   "execution_count": 25,
   "id": "87d023de",
   "metadata": {},
   "outputs": [],
   "source": [
    "# STANDARDIZING THE NULLS\n",
    "df = df.replace(np.nan,\"\", regex = True)"
   ]
  },
  {
   "cell_type": "code",
   "execution_count": 26,
   "id": "6b79ff33",
   "metadata": {},
   "outputs": [
    {
     "data": {
      "text/html": [
       "<div>\n",
       "<style scoped>\n",
       "    .dataframe tbody tr th:only-of-type {\n",
       "        vertical-align: middle;\n",
       "    }\n",
       "\n",
       "    .dataframe tbody tr th {\n",
       "        vertical-align: top;\n",
       "    }\n",
       "\n",
       "    .dataframe thead th {\n",
       "        text-align: right;\n",
       "    }\n",
       "</style>\n",
       "<table border=\"1\" class=\"dataframe\">\n",
       "  <thead>\n",
       "    <tr style=\"text-align: right;\">\n",
       "      <th></th>\n",
       "      <th>CASE_STATUS</th>\n",
       "      <th>WAGE_OFFER_UNIT_OF_PAY</th>\n",
       "      <th>PW_UNIT_OF_PAY</th>\n",
       "      <th>WAGE_OFFER_FROM</th>\n",
       "      <th>PW_WAGE</th>\n",
       "      <th>WO_A</th>\n",
       "      <th>PW_A</th>\n",
       "    </tr>\n",
       "  </thead>\n",
       "  <tbody>\n",
       "    <tr>\n",
       "      <th>736</th>\n",
       "      <td>1</td>\n",
       "      <td>HR</td>\n",
       "      <td>YR</td>\n",
       "      <td>16.16</td>\n",
       "      <td>33613.00</td>\n",
       "      <td>33612.8</td>\n",
       "      <td>33613.0</td>\n",
       "    </tr>\n",
       "    <tr>\n",
       "      <th>1008</th>\n",
       "      <td>1</td>\n",
       "      <td>HR</td>\n",
       "      <td>YR</td>\n",
       "      <td>20.27</td>\n",
       "      <td>42162.00</td>\n",
       "      <td>42161.6</td>\n",
       "      <td>42162.0</td>\n",
       "    </tr>\n",
       "    <tr>\n",
       "      <th>1009</th>\n",
       "      <td>1</td>\n",
       "      <td>HR</td>\n",
       "      <td>YR</td>\n",
       "      <td>20.27</td>\n",
       "      <td>42162.00</td>\n",
       "      <td>42161.6</td>\n",
       "      <td>42162.0</td>\n",
       "    </tr>\n",
       "    <tr>\n",
       "      <th>1281</th>\n",
       "      <td>1</td>\n",
       "      <td>HR</td>\n",
       "      <td>YR</td>\n",
       "      <td>20.27</td>\n",
       "      <td>42162.00</td>\n",
       "      <td>42161.6</td>\n",
       "      <td>42162.0</td>\n",
       "    </tr>\n",
       "    <tr>\n",
       "      <th>4453</th>\n",
       "      <td>1</td>\n",
       "      <td>HR</td>\n",
       "      <td>YR</td>\n",
       "      <td>11.41</td>\n",
       "      <td>23733.00</td>\n",
       "      <td>23732.8</td>\n",
       "      <td>23733.0</td>\n",
       "    </tr>\n",
       "    <tr>\n",
       "      <th>...</th>\n",
       "      <td>...</td>\n",
       "      <td>...</td>\n",
       "      <td>...</td>\n",
       "      <td>...</td>\n",
       "      <td>...</td>\n",
       "      <td>...</td>\n",
       "      <td>...</td>\n",
       "    </tr>\n",
       "    <tr>\n",
       "      <th>732094</th>\n",
       "      <td>0</td>\n",
       "      <td>HR</td>\n",
       "      <td>HR</td>\n",
       "      <td>13.00</td>\n",
       "      <td>40.75</td>\n",
       "      <td>27040.0</td>\n",
       "      <td>84760.0</td>\n",
       "    </tr>\n",
       "    <tr>\n",
       "      <th>732246</th>\n",
       "      <td>0</td>\n",
       "      <td>HR</td>\n",
       "      <td>HR</td>\n",
       "      <td>11.50</td>\n",
       "      <td>12.00</td>\n",
       "      <td>23920.0</td>\n",
       "      <td>24960.0</td>\n",
       "    </tr>\n",
       "    <tr>\n",
       "      <th>732287</th>\n",
       "      <td>0</td>\n",
       "      <td>HR</td>\n",
       "      <td>HR</td>\n",
       "      <td>25.00</td>\n",
       "      <td>26.07</td>\n",
       "      <td>52000.0</td>\n",
       "      <td>54225.6</td>\n",
       "    </tr>\n",
       "    <tr>\n",
       "      <th>732288</th>\n",
       "      <td>0</td>\n",
       "      <td>HR</td>\n",
       "      <td>HR</td>\n",
       "      <td>25.00</td>\n",
       "      <td>26.07</td>\n",
       "      <td>52000.0</td>\n",
       "      <td>54225.6</td>\n",
       "    </tr>\n",
       "    <tr>\n",
       "      <th>735491</th>\n",
       "      <td>0</td>\n",
       "      <td>YR</td>\n",
       "      <td>YR</td>\n",
       "      <td>45000.00</td>\n",
       "      <td>76000.00</td>\n",
       "      <td>45000.0</td>\n",
       "      <td>76000.0</td>\n",
       "    </tr>\n",
       "  </tbody>\n",
       "</table>\n",
       "<p>1460 rows × 7 columns</p>\n",
       "</div>"
      ],
      "text/plain": [
       "        CASE_STATUS WAGE_OFFER_UNIT_OF_PAY PW_UNIT_OF_PAY  WAGE_OFFER_FROM  \\\n",
       "736               1                     HR             YR            16.16   \n",
       "1008              1                     HR             YR            20.27   \n",
       "1009              1                     HR             YR            20.27   \n",
       "1281              1                     HR             YR            20.27   \n",
       "4453              1                     HR             YR            11.41   \n",
       "...             ...                    ...            ...              ...   \n",
       "732094            0                     HR             HR            13.00   \n",
       "732246            0                     HR             HR            11.50   \n",
       "732287            0                     HR             HR            25.00   \n",
       "732288            0                     HR             HR            25.00   \n",
       "735491            0                     YR             YR         45000.00   \n",
       "\n",
       "         PW_WAGE     WO_A     PW_A  \n",
       "736     33613.00  33612.8  33613.0  \n",
       "1008    42162.00  42161.6  42162.0  \n",
       "1009    42162.00  42161.6  42162.0  \n",
       "1281    42162.00  42161.6  42162.0  \n",
       "4453    23733.00  23732.8  23733.0  \n",
       "...          ...      ...      ...  \n",
       "732094     40.75  27040.0  84760.0  \n",
       "732246     12.00  23920.0  24960.0  \n",
       "732287     26.07  52000.0  54225.6  \n",
       "732288     26.07  52000.0  54225.6  \n",
       "735491  76000.00  45000.0  76000.0  \n",
       "\n",
       "[1460 rows x 7 columns]"
      ]
     },
     "execution_count": 26,
     "metadata": {},
     "output_type": "execute_result"
    }
   ],
   "source": [
    "# HAVE WAGE OFFER BEEN < ANNUALIZED PW? THIS SOULD NEVER HAPPEN...\n",
    "lowwage = df[df[\"WO-PW\"]<0][[\"CASE_STATUS\",\"WAGE_OFFER_UNIT_OF_PAY\",\"PW_UNIT_OF_PAY\",\"WAGE_OFFER_FROM\",\"PW_WAGE\",\"WO_A\",\"PW_A\"]]\n",
    "lowwage"
   ]
  },
  {
   "cell_type": "code",
   "execution_count": 27,
   "id": "12e55710",
   "metadata": {},
   "outputs": [
    {
     "name": "stdout",
     "output_type": "stream",
     "text": [
      "Number of Successful applicants: 829\n",
      "Out of: 1460 , 0.5678082191780822\n"
     ]
    }
   ],
   "source": [
    "# HOW MANY HAVE SUCCESSFUL APPLICATIONS WHEN WAGE < PW?\n",
    "print(\"Number of Successful applicants:\",lowwage[\"CASE_STATUS\"].sum())\n",
    "print(\"Out of:\",len(lowwage),\",\",lowwage[\"CASE_STATUS\"].sum()/len(lowwage))"
   ]
  },
  {
   "cell_type": "code",
   "execution_count": 28,
   "id": "5f56e45b",
   "metadata": {},
   "outputs": [
    {
     "data": {
      "text/html": [
       "<div>\n",
       "<style scoped>\n",
       "    .dataframe tbody tr th:only-of-type {\n",
       "        vertical-align: middle;\n",
       "    }\n",
       "\n",
       "    .dataframe tbody tr th {\n",
       "        vertical-align: top;\n",
       "    }\n",
       "\n",
       "    .dataframe thead th {\n",
       "        text-align: right;\n",
       "    }\n",
       "</style>\n",
       "<table border=\"1\" class=\"dataframe\">\n",
       "  <thead>\n",
       "    <tr style=\"text-align: right;\">\n",
       "      <th></th>\n",
       "      <th>CASE_STATUS</th>\n",
       "      <th>WAGE_OFFER_UNIT_OF_PAY</th>\n",
       "      <th>PW_UNIT_OF_PAY</th>\n",
       "      <th>WAGE_OFFER_FROM</th>\n",
       "      <th>PW_WAGE</th>\n",
       "      <th>WO_A</th>\n",
       "      <th>PW_A</th>\n",
       "    </tr>\n",
       "  </thead>\n",
       "  <tbody>\n",
       "    <tr>\n",
       "      <th>7334</th>\n",
       "      <td>0</td>\n",
       "      <td>YR</td>\n",
       "      <td>YR</td>\n",
       "      <td>40000.0</td>\n",
       "      <td>94078.00</td>\n",
       "      <td>40000.0</td>\n",
       "      <td>94078.0</td>\n",
       "    </tr>\n",
       "    <tr>\n",
       "      <th>8190</th>\n",
       "      <td>0</td>\n",
       "      <td>YR</td>\n",
       "      <td>YR</td>\n",
       "      <td>21019.0</td>\n",
       "      <td>27019.00</td>\n",
       "      <td>21019.0</td>\n",
       "      <td>27019.0</td>\n",
       "    </tr>\n",
       "    <tr>\n",
       "      <th>12462</th>\n",
       "      <td>0</td>\n",
       "      <td>YR</td>\n",
       "      <td>YR</td>\n",
       "      <td>27394.0</td>\n",
       "      <td>27934.00</td>\n",
       "      <td>27394.0</td>\n",
       "      <td>27934.0</td>\n",
       "    </tr>\n",
       "    <tr>\n",
       "      <th>15349</th>\n",
       "      <td>0</td>\n",
       "      <td>YR</td>\n",
       "      <td>YR</td>\n",
       "      <td>106038.0</td>\n",
       "      <td>128898.00</td>\n",
       "      <td>106038.0</td>\n",
       "      <td>128898.0</td>\n",
       "    </tr>\n",
       "    <tr>\n",
       "      <th>16112</th>\n",
       "      <td>0</td>\n",
       "      <td>YR</td>\n",
       "      <td>YR</td>\n",
       "      <td>106038.0</td>\n",
       "      <td>110677.00</td>\n",
       "      <td>106038.0</td>\n",
       "      <td>110677.0</td>\n",
       "    </tr>\n",
       "    <tr>\n",
       "      <th>...</th>\n",
       "      <td>...</td>\n",
       "      <td>...</td>\n",
       "      <td>...</td>\n",
       "      <td>...</td>\n",
       "      <td>...</td>\n",
       "      <td>...</td>\n",
       "      <td>...</td>\n",
       "    </tr>\n",
       "    <tr>\n",
       "      <th>732094</th>\n",
       "      <td>0</td>\n",
       "      <td>HR</td>\n",
       "      <td>HR</td>\n",
       "      <td>13.0</td>\n",
       "      <td>40.75</td>\n",
       "      <td>27040.0</td>\n",
       "      <td>84760.0</td>\n",
       "    </tr>\n",
       "    <tr>\n",
       "      <th>732246</th>\n",
       "      <td>0</td>\n",
       "      <td>HR</td>\n",
       "      <td>HR</td>\n",
       "      <td>11.5</td>\n",
       "      <td>12.00</td>\n",
       "      <td>23920.0</td>\n",
       "      <td>24960.0</td>\n",
       "    </tr>\n",
       "    <tr>\n",
       "      <th>732287</th>\n",
       "      <td>0</td>\n",
       "      <td>HR</td>\n",
       "      <td>HR</td>\n",
       "      <td>25.0</td>\n",
       "      <td>26.07</td>\n",
       "      <td>52000.0</td>\n",
       "      <td>54225.6</td>\n",
       "    </tr>\n",
       "    <tr>\n",
       "      <th>732288</th>\n",
       "      <td>0</td>\n",
       "      <td>HR</td>\n",
       "      <td>HR</td>\n",
       "      <td>25.0</td>\n",
       "      <td>26.07</td>\n",
       "      <td>52000.0</td>\n",
       "      <td>54225.6</td>\n",
       "    </tr>\n",
       "    <tr>\n",
       "      <th>735491</th>\n",
       "      <td>0</td>\n",
       "      <td>YR</td>\n",
       "      <td>YR</td>\n",
       "      <td>45000.0</td>\n",
       "      <td>76000.00</td>\n",
       "      <td>45000.0</td>\n",
       "      <td>76000.0</td>\n",
       "    </tr>\n",
       "  </tbody>\n",
       "</table>\n",
       "<p>203 rows × 7 columns</p>\n",
       "</div>"
      ],
      "text/plain": [
       "        CASE_STATUS WAGE_OFFER_UNIT_OF_PAY PW_UNIT_OF_PAY  WAGE_OFFER_FROM  \\\n",
       "7334              0                     YR             YR          40000.0   \n",
       "8190              0                     YR             YR          21019.0   \n",
       "12462             0                     YR             YR          27394.0   \n",
       "15349             0                     YR             YR         106038.0   \n",
       "16112             0                     YR             YR         106038.0   \n",
       "...             ...                    ...            ...              ...   \n",
       "732094            0                     HR             HR             13.0   \n",
       "732246            0                     HR             HR             11.5   \n",
       "732287            0                     HR             HR             25.0   \n",
       "732288            0                     HR             HR             25.0   \n",
       "735491            0                     YR             YR          45000.0   \n",
       "\n",
       "          PW_WAGE      WO_A      PW_A  \n",
       "7334     94078.00   40000.0   94078.0  \n",
       "8190     27019.00   21019.0   27019.0  \n",
       "12462    27934.00   27394.0   27934.0  \n",
       "15349   128898.00  106038.0  128898.0  \n",
       "16112   110677.00  106038.0  110677.0  \n",
       "...           ...       ...       ...  \n",
       "732094      40.75   27040.0   84760.0  \n",
       "732246      12.00   23920.0   24960.0  \n",
       "732287      26.07   52000.0   54225.6  \n",
       "732288      26.07   52000.0   54225.6  \n",
       "735491   76000.00   45000.0   76000.0  \n",
       "\n",
       "[203 rows x 7 columns]"
      ]
     },
     "execution_count": 28,
     "metadata": {},
     "output_type": "execute_result"
    }
   ],
   "source": [
    "# SUCCESFULL APPLICATIONS WITH THE SAME UNIT\n",
    "lowwage[lowwage[\"WAGE_OFFER_UNIT_OF_PAY\"]==lowwage[\"PW_UNIT_OF_PAY\"]]"
   ]
  },
  {
   "cell_type": "code",
   "execution_count": 29,
   "id": "d1b9741a",
   "metadata": {},
   "outputs": [],
   "source": [
    "# CREATE A UNIQUE IDENTIFIER: THIS WILL BE TO UPDATE ANY OUTLIERS\n",
    "df[\"ID\"] = df[\"CASE_NUMBER\"].astype(str)+df[\"DECISION_DATE\"].astype(str)+df[\"CASE_STATUS\"].astype(str)+df[\"RECEIVED_DATE\"].astype(str)+df[\"DAYS_TO_DECIDE\"].astype(str)+df[\"EMPLOYER_NAME\"].astype(str)"
   ]
  },
  {
   "cell_type": "code",
   "execution_count": 30,
   "id": "04dd2399",
   "metadata": {},
   "outputs": [
    {
     "data": {
      "text/plain": [
       "YEAR\n",
       "2014    44990.88\n",
       "2015    32000.00\n",
       "2016    25240.00\n",
       "2017    25064.00\n",
       "2018    28018.00\n",
       "2019    27000.00\n",
       "2020    27830.00\n",
       "2021    29328.00\n",
       "Name: WAGE_OFFER_FROM, dtype: float64"
      ]
     },
     "execution_count": 30,
     "metadata": {},
     "output_type": "execute_result"
    }
   ],
   "source": [
    "# PATTERN FOR MIS-LABELED: UNIT OF PAY IS NOT YEAR BUT THE WAGE OFFER IS YEAR AMOUNT\n",
    "# FIND THIS BY UNIT OF PAY NOT YEAR, BUT WAGE OFFER > btm 5% OF WAGE OFFER of each YEAR\n",
    "top = df[df[\"WAGE_OFFER_UNIT_OF_PAY\"]==\"YR\"].groupby(\"YEAR\")[\"WAGE_OFFER_FROM\"].quantile(.05) \n",
    "top"
   ]
  },
  {
   "cell_type": "code",
   "execution_count": 31,
   "id": "258f1570",
   "metadata": {},
   "outputs": [],
   "source": [
    "# CREATING THE LIST FOR THE FOR LOOP TO REPLACE IF ANNUALIZED SALARY IS > OUTLIER CUTOFF\n",
    "year = top.index.tolist()\n",
    "top = top.tolist()"
   ]
  },
  {
   "cell_type": "code",
   "execution_count": 32,
   "id": "c124b406",
   "metadata": {
    "scrolled": true
   },
   "outputs": [
    {
     "data": {
      "text/html": [
       "<div>\n",
       "<style scoped>\n",
       "    .dataframe tbody tr th:only-of-type {\n",
       "        vertical-align: middle;\n",
       "    }\n",
       "\n",
       "    .dataframe tbody tr th {\n",
       "        vertical-align: top;\n",
       "    }\n",
       "\n",
       "    .dataframe thead th {\n",
       "        text-align: right;\n",
       "    }\n",
       "</style>\n",
       "<table border=\"1\" class=\"dataframe\">\n",
       "  <thead>\n",
       "    <tr style=\"text-align: right;\">\n",
       "      <th></th>\n",
       "      <th>CASE_STATUS</th>\n",
       "      <th>WAGE_OFFER_UNIT_OF_PAY</th>\n",
       "      <th>PW_UNIT_OF_PAY</th>\n",
       "      <th>WAGE_OFFER_FROM</th>\n",
       "      <th>PW_WAGE</th>\n",
       "      <th>WO_A</th>\n",
       "      <th>PW_A</th>\n",
       "    </tr>\n",
       "  </thead>\n",
       "  <tbody>\n",
       "    <tr>\n",
       "      <th>524104</th>\n",
       "      <td>1</td>\n",
       "      <td>WK</td>\n",
       "      <td>YR</td>\n",
       "      <td>69493.0</td>\n",
       "      <td>69493.0</td>\n",
       "      <td>3613636.0</td>\n",
       "      <td>69493.0</td>\n",
       "    </tr>\n",
       "    <tr>\n",
       "      <th>524987</th>\n",
       "      <td>1</td>\n",
       "      <td>MTH</td>\n",
       "      <td>YR</td>\n",
       "      <td>115149.0</td>\n",
       "      <td>115149.0</td>\n",
       "      <td>1381788.0</td>\n",
       "      <td>115149.0</td>\n",
       "    </tr>\n",
       "    <tr>\n",
       "      <th>528015</th>\n",
       "      <td>0</td>\n",
       "      <td>MTH</td>\n",
       "      <td>MTH</td>\n",
       "      <td>45000.0</td>\n",
       "      <td>45000.0</td>\n",
       "      <td>540000.0</td>\n",
       "      <td>540000.0</td>\n",
       "    </tr>\n",
       "    <tr>\n",
       "      <th>531560</th>\n",
       "      <td>0</td>\n",
       "      <td>MTH</td>\n",
       "      <td>YR</td>\n",
       "      <td>80000.0</td>\n",
       "      <td>54280.0</td>\n",
       "      <td>960000.0</td>\n",
       "      <td>54280.0</td>\n",
       "    </tr>\n",
       "    <tr>\n",
       "      <th>535846</th>\n",
       "      <td>1</td>\n",
       "      <td>WK</td>\n",
       "      <td>YR</td>\n",
       "      <td>110000.0</td>\n",
       "      <td>105560.0</td>\n",
       "      <td>5720000.0</td>\n",
       "      <td>105560.0</td>\n",
       "    </tr>\n",
       "    <tr>\n",
       "      <th>...</th>\n",
       "      <td>...</td>\n",
       "      <td>...</td>\n",
       "      <td>...</td>\n",
       "      <td>...</td>\n",
       "      <td>...</td>\n",
       "      <td>...</td>\n",
       "      <td>...</td>\n",
       "    </tr>\n",
       "    <tr>\n",
       "      <th>58349</th>\n",
       "      <td>1</td>\n",
       "      <td>WK</td>\n",
       "      <td>YR</td>\n",
       "      <td>125000.0</td>\n",
       "      <td>66331.0</td>\n",
       "      <td>6500000.0</td>\n",
       "      <td>66331.0</td>\n",
       "    </tr>\n",
       "    <tr>\n",
       "      <th>77296</th>\n",
       "      <td>0</td>\n",
       "      <td>HR</td>\n",
       "      <td>YR</td>\n",
       "      <td>43867.0</td>\n",
       "      <td>43867.0</td>\n",
       "      <td>91243360.0</td>\n",
       "      <td>43867.0</td>\n",
       "    </tr>\n",
       "    <tr>\n",
       "      <th>87476</th>\n",
       "      <td>1</td>\n",
       "      <td>WK</td>\n",
       "      <td>YR</td>\n",
       "      <td>100000.0</td>\n",
       "      <td>73860.0</td>\n",
       "      <td>5200000.0</td>\n",
       "      <td>73860.0</td>\n",
       "    </tr>\n",
       "    <tr>\n",
       "      <th>88326</th>\n",
       "      <td>0</td>\n",
       "      <td>WK</td>\n",
       "      <td>YR</td>\n",
       "      <td>31096.0</td>\n",
       "      <td>31096.0</td>\n",
       "      <td>1616992.0</td>\n",
       "      <td>31096.0</td>\n",
       "    </tr>\n",
       "    <tr>\n",
       "      <th>104143</th>\n",
       "      <td>1</td>\n",
       "      <td>HR</td>\n",
       "      <td>HR</td>\n",
       "      <td>48173.0</td>\n",
       "      <td>48173.0</td>\n",
       "      <td>100199840.0</td>\n",
       "      <td>100199840.0</td>\n",
       "    </tr>\n",
       "  </tbody>\n",
       "</table>\n",
       "<p>101 rows × 7 columns</p>\n",
       "</div>"
      ],
      "text/plain": [
       "        CASE_STATUS WAGE_OFFER_UNIT_OF_PAY PW_UNIT_OF_PAY  WAGE_OFFER_FROM  \\\n",
       "524104            1                     WK             YR          69493.0   \n",
       "524987            1                    MTH             YR         115149.0   \n",
       "528015            0                    MTH            MTH          45000.0   \n",
       "531560            0                    MTH             YR          80000.0   \n",
       "535846            1                     WK             YR         110000.0   \n",
       "...             ...                    ...            ...              ...   \n",
       "58349             1                     WK             YR         125000.0   \n",
       "77296             0                     HR             YR          43867.0   \n",
       "87476             1                     WK             YR         100000.0   \n",
       "88326             0                     WK             YR          31096.0   \n",
       "104143            1                     HR             HR          48173.0   \n",
       "\n",
       "         PW_WAGE         WO_A         PW_A  \n",
       "524104   69493.0    3613636.0      69493.0  \n",
       "524987  115149.0    1381788.0     115149.0  \n",
       "528015   45000.0     540000.0     540000.0  \n",
       "531560   54280.0     960000.0      54280.0  \n",
       "535846  105560.0    5720000.0     105560.0  \n",
       "...          ...          ...          ...  \n",
       "58349    66331.0    6500000.0      66331.0  \n",
       "77296    43867.0   91243360.0      43867.0  \n",
       "87476    73860.0    5200000.0      73860.0  \n",
       "88326    31096.0    1616992.0      31096.0  \n",
       "104143   48173.0  100199840.0  100199840.0  \n",
       "\n",
       "[101 rows x 7 columns]"
      ]
     },
     "execution_count": 32,
     "metadata": {},
     "output_type": "execute_result"
    }
   ],
   "source": [
    "# GRABBING THE APPLICANTS THAT ARE OVER NON YR BUT > btm 5% of WAGE\n",
    "todrop = pd.DataFrame()\n",
    "for i in range(len(year)):\n",
    "    j = df[(df[\"YEAR\"]==year[i])&(df[\"WAGE_OFFER_FROM\"]>=top[i])&(df[\"WAGE_OFFER_UNIT_OF_PAY\"]!=\"YR\")]\n",
    "    todrop = pd.concat([todrop,j])\n",
    "todrop[[\"CASE_STATUS\",\"WAGE_OFFER_UNIT_OF_PAY\",\"PW_UNIT_OF_PAY\",\"WAGE_OFFER_FROM\",\"PW_WAGE\",\"WO_A\",\"PW_A\"]]"
   ]
  },
  {
   "cell_type": "code",
   "execution_count": 33,
   "id": "cb5968f9",
   "metadata": {},
   "outputs": [],
   "source": [
    "# CHANGING THE WO_A TO THE WAGE OFFER (LEAVE UNIT OF PAY AS WHAT THE APPLICATION SAYS, ONLY CHANGE MY* Annualized WAGES)\n",
    "todrop[\"WO_A\"]=todrop[\"WAGE_OFFER_FROM\"]"
   ]
  },
  {
   "cell_type": "code",
   "execution_count": 34,
   "id": "64763cc9",
   "metadata": {},
   "outputs": [
    {
     "name": "stdout",
     "output_type": "stream",
     "text": [
      "ID IS NOT A UNIQUE IDENTIFIER\n"
     ]
    }
   ],
   "source": [
    "# CHECK IF UNIQUE IDENTIFIER IS UNIQUE\n",
    "if len(df) == df[\"ID\"].nunique():\n",
    "    print(\"ID IS A UNIQUE IDENTIFIER\")\n",
    "else:\n",
    "    print(\"ID IS NOT A UNIQUE IDENTIFIER\")"
   ]
  },
  {
   "cell_type": "code",
   "execution_count": 35,
   "id": "ce30f5dd",
   "metadata": {},
   "outputs": [
    {
     "data": {
      "text/plain": [
       "2"
      ]
     },
     "execution_count": 35,
     "metadata": {},
     "output_type": "execute_result"
    }
   ],
   "source": [
    "# WHAT IS THE MAX REPEAT OF IDs\n",
    "df[\"ID\"].value_counts()[df[\"ID\"].value_counts()>1].max()"
   ]
  },
  {
   "cell_type": "code",
   "execution_count": 36,
   "id": "df9045b1",
   "metadata": {},
   "outputs": [],
   "source": [
    "# ISOLATE THE APPLICATIONS WITH THE SAME ID\n",
    "idcheck = df[\"ID\"].value_counts()[df[\"ID\"].value_counts()>1].index.tolist()"
   ]
  },
  {
   "cell_type": "code",
   "execution_count": 37,
   "id": "37771ea3",
   "metadata": {},
   "outputs": [
    {
     "data": {
      "text/plain": [
       "0"
      ]
     },
     "execution_count": 37,
     "metadata": {},
     "output_type": "execute_result"
    }
   ],
   "source": [
    "# CHECK TO SEE IF EACH DUPLICATE ID HAS IDENTICAL FIELDS (WOULD MEAN A MISTAKE AND THEN WE DROP). IF 0 THEN ALL IDENTICAL\n",
    "empty = []\n",
    "for i in range(len(idcheck)):\n",
    "    df[df[\"ID\"] == idcheck[i]]\n",
    "    j = df[df[\"ID\"] == idcheck[1]]\n",
    "    if (j.iloc[0] == j.iloc[1]).sum() == len(j.columns):\n",
    "        y = 0\n",
    "        empty.append(y)\n",
    "    else:\n",
    "        y=[1]\n",
    "sum(empty)"
   ]
  },
  {
   "cell_type": "code",
   "execution_count": 38,
   "id": "f21690bd",
   "metadata": {},
   "outputs": [],
   "source": [
    "# DROP THE REPEAT APPLICATION FROM THE DF\n",
    "df = df.drop_duplicates(subset=[\"ID\"])"
   ]
  },
  {
   "cell_type": "code",
   "execution_count": 39,
   "id": "cd167477",
   "metadata": {},
   "outputs": [],
   "source": [
    "# CHANGING THE EXISTING APPLICANTS WITH UPDATED WAGE and UNIT OF PAY IN THE ORIGINAL DF\n",
    "# MATCH APPLICATIONS IN TODROP DF WITH ORIGINAL DF AND UPDATE WAGE DATA\n",
    "todrop = todrop.set_index(\"ID\")\n",
    "df = df.set_index(\"ID\")\n",
    "df.loc[todrop.index] = todrop\n",
    "df = df.reset_index()"
   ]
  },
  {
   "cell_type": "code",
   "execution_count": 40,
   "id": "0d71932e",
   "metadata": {},
   "outputs": [
    {
     "data": {
      "text/plain": [
       "YEAR\n",
       "2014    39749.0\n",
       "2015    29557.0\n",
       "2016    20654.0\n",
       "2017    21112.0\n",
       "2018    22422.0\n",
       "2019    23013.4\n",
       "2020    23358.0\n",
       "2021    24502.0\n",
       "Name: PW_WAGE, dtype: float64"
      ]
     },
     "execution_count": 40,
     "metadata": {},
     "output_type": "execute_result"
    }
   ],
   "source": [
    "# PATTERN FOR MIS-LABELED: UNIT OF PAY IS NOT YEAR BUT THE PW WAGE IS YEAR AMOUNT\n",
    "# FIND THIS BY UNIT OF PAY NOT YEAR, BUT PW WAGE > btm 5% OF PW WAGE of each YEAR\n",
    "top1 = df[df[\"PW_UNIT_OF_PAY\"]==\"YR\"].groupby(\"YEAR\")[\"PW_WAGE\"].quantile(.05) \n",
    "top1"
   ]
  },
  {
   "cell_type": "code",
   "execution_count": 41,
   "id": "422a5de5",
   "metadata": {},
   "outputs": [],
   "source": [
    "# CREATING THE LIST FOR THE FOR LOOP TO REPLACE IF ANNUALIZED SALARY IS > OUTLIER CUTOFF\n",
    "year1 = top1.index.tolist()\n",
    "top1 = top1.tolist()"
   ]
  },
  {
   "cell_type": "code",
   "execution_count": 42,
   "id": "65596cf4",
   "metadata": {
    "scrolled": true
   },
   "outputs": [
    {
     "data": {
      "text/html": [
       "<div>\n",
       "<style scoped>\n",
       "    .dataframe tbody tr th:only-of-type {\n",
       "        vertical-align: middle;\n",
       "    }\n",
       "\n",
       "    .dataframe tbody tr th {\n",
       "        vertical-align: top;\n",
       "    }\n",
       "\n",
       "    .dataframe thead th {\n",
       "        text-align: right;\n",
       "    }\n",
       "</style>\n",
       "<table border=\"1\" class=\"dataframe\">\n",
       "  <thead>\n",
       "    <tr style=\"text-align: right;\">\n",
       "      <th></th>\n",
       "      <th>CASE_STATUS</th>\n",
       "      <th>WAGE_OFFER_UNIT_OF_PAY</th>\n",
       "      <th>PW_UNIT_OF_PAY</th>\n",
       "      <th>WAGE_OFFER_FROM</th>\n",
       "      <th>PW_WAGE</th>\n",
       "      <th>WO_A</th>\n",
       "      <th>PW_A</th>\n",
       "    </tr>\n",
       "  </thead>\n",
       "  <tbody>\n",
       "    <tr>\n",
       "      <th>527928</th>\n",
       "      <td>0</td>\n",
       "      <td>YR</td>\n",
       "      <td>MTH</td>\n",
       "      <td>45000.00</td>\n",
       "      <td>45000.00</td>\n",
       "      <td>45000.00</td>\n",
       "      <td>5.400000e+05</td>\n",
       "    </tr>\n",
       "    <tr>\n",
       "      <th>699636</th>\n",
       "      <td>1</td>\n",
       "      <td>YR</td>\n",
       "      <td>HR</td>\n",
       "      <td>50544.00</td>\n",
       "      <td>50544.00</td>\n",
       "      <td>50544.00</td>\n",
       "      <td>1.051315e+08</td>\n",
       "    </tr>\n",
       "    <tr>\n",
       "      <th>448022</th>\n",
       "      <td>1</td>\n",
       "      <td>YR</td>\n",
       "      <td>HR</td>\n",
       "      <td>110000.00</td>\n",
       "      <td>106267.00</td>\n",
       "      <td>110000.00</td>\n",
       "      <td>2.210354e+08</td>\n",
       "    </tr>\n",
       "    <tr>\n",
       "      <th>614415</th>\n",
       "      <td>0</td>\n",
       "      <td>YR</td>\n",
       "      <td>HR</td>\n",
       "      <td>77147.00</td>\n",
       "      <td>77147.00</td>\n",
       "      <td>77147.00</td>\n",
       "      <td>1.604658e+08</td>\n",
       "    </tr>\n",
       "    <tr>\n",
       "      <th>630213</th>\n",
       "      <td>0</td>\n",
       "      <td>YR</td>\n",
       "      <td>HR</td>\n",
       "      <td>110000.00</td>\n",
       "      <td>106267.00</td>\n",
       "      <td>110000.00</td>\n",
       "      <td>2.210354e+08</td>\n",
       "    </tr>\n",
       "    <tr>\n",
       "      <th>456013</th>\n",
       "      <td>0</td>\n",
       "      <td>YR</td>\n",
       "      <td>HR</td>\n",
       "      <td>111760.00</td>\n",
       "      <td>95846.00</td>\n",
       "      <td>111760.00</td>\n",
       "      <td>1.993597e+08</td>\n",
       "    </tr>\n",
       "    <tr>\n",
       "      <th>464596</th>\n",
       "      <td>1</td>\n",
       "      <td>YR</td>\n",
       "      <td>HR</td>\n",
       "      <td>104000.00</td>\n",
       "      <td>66789.00</td>\n",
       "      <td>104000.00</td>\n",
       "      <td>1.389211e+08</td>\n",
       "    </tr>\n",
       "    <tr>\n",
       "      <th>212736</th>\n",
       "      <td>0</td>\n",
       "      <td>YR</td>\n",
       "      <td>HR</td>\n",
       "      <td>77958.00</td>\n",
       "      <td>77958.00</td>\n",
       "      <td>77958.00</td>\n",
       "      <td>1.621526e+08</td>\n",
       "    </tr>\n",
       "    <tr>\n",
       "      <th>330653</th>\n",
       "      <td>1</td>\n",
       "      <td>YR</td>\n",
       "      <td>WK</td>\n",
       "      <td>107536.00</td>\n",
       "      <td>107536.00</td>\n",
       "      <td>107536.00</td>\n",
       "      <td>5.591872e+06</td>\n",
       "    </tr>\n",
       "    <tr>\n",
       "      <th>330872</th>\n",
       "      <td>0</td>\n",
       "      <td>YR</td>\n",
       "      <td>BI</td>\n",
       "      <td>203000.00</td>\n",
       "      <td>202390.00</td>\n",
       "      <td>203000.00</td>\n",
       "      <td>5.262140e+06</td>\n",
       "    </tr>\n",
       "    <tr>\n",
       "      <th>390505</th>\n",
       "      <td>1</td>\n",
       "      <td>YR</td>\n",
       "      <td>MTH</td>\n",
       "      <td>68078.00</td>\n",
       "      <td>68078.00</td>\n",
       "      <td>68078.00</td>\n",
       "      <td>8.169360e+05</td>\n",
       "    </tr>\n",
       "    <tr>\n",
       "      <th>422440</th>\n",
       "      <td>0</td>\n",
       "      <td>HR</td>\n",
       "      <td>HR</td>\n",
       "      <td>22.00</td>\n",
       "      <td>27144.00</td>\n",
       "      <td>45760.00</td>\n",
       "      <td>5.645952e+07</td>\n",
       "    </tr>\n",
       "    <tr>\n",
       "      <th>423055</th>\n",
       "      <td>0</td>\n",
       "      <td>YR</td>\n",
       "      <td>HR</td>\n",
       "      <td>60486.00</td>\n",
       "      <td>60486.00</td>\n",
       "      <td>60486.00</td>\n",
       "      <td>1.258109e+08</td>\n",
       "    </tr>\n",
       "    <tr>\n",
       "      <th>222900</th>\n",
       "      <td>1</td>\n",
       "      <td>YR</td>\n",
       "      <td>MTH</td>\n",
       "      <td>40102.00</td>\n",
       "      <td>40102.00</td>\n",
       "      <td>40102.00</td>\n",
       "      <td>4.812240e+05</td>\n",
       "    </tr>\n",
       "    <tr>\n",
       "      <th>301125</th>\n",
       "      <td>1</td>\n",
       "      <td>YR</td>\n",
       "      <td>WK</td>\n",
       "      <td>130000.00</td>\n",
       "      <td>119101.00</td>\n",
       "      <td>130000.00</td>\n",
       "      <td>6.193252e+06</td>\n",
       "    </tr>\n",
       "    <tr>\n",
       "      <th>196679</th>\n",
       "      <td>0</td>\n",
       "      <td>MTH</td>\n",
       "      <td>MTH</td>\n",
       "      <td>26259.00</td>\n",
       "      <td>26259.00</td>\n",
       "      <td>315108.00</td>\n",
       "      <td>3.151080e+05</td>\n",
       "    </tr>\n",
       "    <tr>\n",
       "      <th>103417</th>\n",
       "      <td>1</td>\n",
       "      <td>MTH</td>\n",
       "      <td>MTH</td>\n",
       "      <td>26118.84</td>\n",
       "      <td>26118.84</td>\n",
       "      <td>313426.08</td>\n",
       "      <td>3.134261e+05</td>\n",
       "    </tr>\n",
       "    <tr>\n",
       "      <th>103424</th>\n",
       "      <td>1</td>\n",
       "      <td>MTH</td>\n",
       "      <td>MTH</td>\n",
       "      <td>26118.84</td>\n",
       "      <td>26118.84</td>\n",
       "      <td>313426.08</td>\n",
       "      <td>3.134261e+05</td>\n",
       "    </tr>\n",
       "    <tr>\n",
       "      <th>103430</th>\n",
       "      <td>1</td>\n",
       "      <td>MTH</td>\n",
       "      <td>MTH</td>\n",
       "      <td>26118.84</td>\n",
       "      <td>26118.84</td>\n",
       "      <td>313426.08</td>\n",
       "      <td>3.134261e+05</td>\n",
       "    </tr>\n",
       "    <tr>\n",
       "      <th>104137</th>\n",
       "      <td>1</td>\n",
       "      <td>YR</td>\n",
       "      <td>HR</td>\n",
       "      <td>48173.00</td>\n",
       "      <td>48173.00</td>\n",
       "      <td>48173.00</td>\n",
       "      <td>1.001998e+08</td>\n",
       "    </tr>\n",
       "  </tbody>\n",
       "</table>\n",
       "</div>"
      ],
      "text/plain": [
       "        CASE_STATUS WAGE_OFFER_UNIT_OF_PAY PW_UNIT_OF_PAY  WAGE_OFFER_FROM  \\\n",
       "527928            0                     YR            MTH         45000.00   \n",
       "699636            1                     YR             HR         50544.00   \n",
       "448022            1                     YR             HR        110000.00   \n",
       "614415            0                     YR             HR         77147.00   \n",
       "630213            0                     YR             HR        110000.00   \n",
       "456013            0                     YR             HR        111760.00   \n",
       "464596            1                     YR             HR        104000.00   \n",
       "212736            0                     YR             HR         77958.00   \n",
       "330653            1                     YR             WK        107536.00   \n",
       "330872            0                     YR             BI        203000.00   \n",
       "390505            1                     YR            MTH         68078.00   \n",
       "422440            0                     HR             HR            22.00   \n",
       "423055            0                     YR             HR         60486.00   \n",
       "222900            1                     YR            MTH         40102.00   \n",
       "301125            1                     YR             WK        130000.00   \n",
       "196679            0                    MTH            MTH         26259.00   \n",
       "103417            1                    MTH            MTH         26118.84   \n",
       "103424            1                    MTH            MTH         26118.84   \n",
       "103430            1                    MTH            MTH         26118.84   \n",
       "104137            1                     YR             HR         48173.00   \n",
       "\n",
       "          PW_WAGE       WO_A          PW_A  \n",
       "527928   45000.00   45000.00  5.400000e+05  \n",
       "699636   50544.00   50544.00  1.051315e+08  \n",
       "448022  106267.00  110000.00  2.210354e+08  \n",
       "614415   77147.00   77147.00  1.604658e+08  \n",
       "630213  106267.00  110000.00  2.210354e+08  \n",
       "456013   95846.00  111760.00  1.993597e+08  \n",
       "464596   66789.00  104000.00  1.389211e+08  \n",
       "212736   77958.00   77958.00  1.621526e+08  \n",
       "330653  107536.00  107536.00  5.591872e+06  \n",
       "330872  202390.00  203000.00  5.262140e+06  \n",
       "390505   68078.00   68078.00  8.169360e+05  \n",
       "422440   27144.00   45760.00  5.645952e+07  \n",
       "423055   60486.00   60486.00  1.258109e+08  \n",
       "222900   40102.00   40102.00  4.812240e+05  \n",
       "301125  119101.00  130000.00  6.193252e+06  \n",
       "196679   26259.00  315108.00  3.151080e+05  \n",
       "103417   26118.84  313426.08  3.134261e+05  \n",
       "103424   26118.84  313426.08  3.134261e+05  \n",
       "103430   26118.84  313426.08  3.134261e+05  \n",
       "104137   48173.00   48173.00  1.001998e+08  "
      ]
     },
     "execution_count": 42,
     "metadata": {},
     "output_type": "execute_result"
    }
   ],
   "source": [
    "# GRABBING THE APPLICANTS THAT ARE OVER NON YR BUT > btm 5% of PW_WAGE\n",
    "todrop1 = pd.DataFrame()\n",
    "for i in range(len(year)):\n",
    "    j = df[(df[\"YEAR\"]==year1[i])&(df[\"PW_WAGE\"]>=top1[i])&(df[\"PW_UNIT_OF_PAY\"]!=\"YR\")]\n",
    "    todrop1 = pd.concat([todrop1,j])\n",
    "todrop1[[\"CASE_STATUS\",\"WAGE_OFFER_UNIT_OF_PAY\",\"PW_UNIT_OF_PAY\",\"WAGE_OFFER_FROM\",\"PW_WAGE\",\"WO_A\",\"PW_A\"]]"
   ]
  },
  {
   "cell_type": "code",
   "execution_count": 43,
   "id": "c73cc285",
   "metadata": {},
   "outputs": [],
   "source": [
    "# CHANGING THE PW_A TO THE WAGE OFFER AGAIN LEAVING THE UNIT LIKE WO_A\n",
    "todrop1[\"PW_A\"]=todrop1[\"PW_WAGE\"]"
   ]
  },
  {
   "cell_type": "code",
   "execution_count": 44,
   "id": "28cad543",
   "metadata": {},
   "outputs": [],
   "source": [
    "# CHANGING THE EXISTING APPLICANTS WITH UPDATED WAGE and UNIT OF PAY IN THE ORIGINAL DF\n",
    "# MATCH APPLICATIONS IN TODROP DF WITH ORIGINAL DF AND UPDATE WAGE DATA\n",
    "todrop1 = todrop1.set_index(\"ID\")\n",
    "df = df.set_index(\"ID\")\n",
    "df.loc[todrop1.index] = todrop1\n",
    "df = df.reset_index()"
   ]
  },
  {
   "cell_type": "code",
   "execution_count": 45,
   "id": "0b097de7",
   "metadata": {},
   "outputs": [],
   "source": [
    "# CONTINUE CLEANING OUTLIERS IF PW_UNIT IS NOT THE SAME AS WAGE_UNIT BUT WAGE_OFFER AND PW_WAGE IS THE SAME & PW UNIT IS YR:\n",
    "# UPDATE WO_A TO PW_A\n",
    "clean = df[(df[\"WAGE_OFFER_FROM\"]==df[\"PW_WAGE\"])&(df[\"PW_UNIT_OF_PAY\"]!=df[\"WAGE_OFFER_UNIT_OF_PAY\"])&(df[\"PW_UNIT_OF_PAY\"]==\"YR\")]\n",
    "clean[\"WO_A\"]=clean[\"PW_A\"]\n",
    "clean = clean.set_index(\"ID\")\n",
    "df = df.set_index(\"ID\")\n",
    "df.loc[clean.index] = clean\n",
    "df = df.reset_index()"
   ]
  },
  {
   "cell_type": "code",
   "execution_count": 46,
   "id": "64be4819",
   "metadata": {},
   "outputs": [],
   "source": [
    "# DROPPING THE BTM 1% FROM EACH YEAR\n",
    "# SETTING UP THE FOR LOOP\n",
    "wagebtm = df.groupby(\"YEAR\")[\"WO_A\"].quantile(.01)\n",
    "pwbtm = df.groupby(\"YEAR\")[\"PW_A\"].quantile(.01)\n",
    "yr = wagebtm.index.tolist()\n",
    "wagebtm = wagebtm.tolist()\n",
    "pwbtm = pwbtm.tolist()"
   ]
  },
  {
   "cell_type": "code",
   "execution_count": 47,
   "id": "4cd70fec",
   "metadata": {},
   "outputs": [],
   "source": [
    "# FOR LOOP TO GET ALL APPLICANTS WITH WO_A < CUTOFF\n",
    "emp = pd.DataFrame()\n",
    "for x in range(len(yr)):\n",
    "    j = df[(df[\"YEAR\"] == yr[x])&(df[\"WO_A\"]<wagebtm[x])]\n",
    "    emp = pd.concat([emp,j])"
   ]
  },
  {
   "cell_type": "code",
   "execution_count": 48,
   "id": "6ade76a8",
   "metadata": {},
   "outputs": [
    {
     "data": {
      "text/plain": [
       "6959"
      ]
     },
     "execution_count": 48,
     "metadata": {},
     "output_type": "execute_result"
    }
   ],
   "source": [
    "# HOW MANY ARE DROPPED FOR WO_A<CUTOFF?\n",
    "len(emp)"
   ]
  },
  {
   "cell_type": "code",
   "execution_count": 49,
   "id": "dafc59b1",
   "metadata": {},
   "outputs": [],
   "source": [
    "# DROPPING ALL APPLICANTS WO_A < CUTOFF\n",
    "emp = emp[\"ID\"].tolist()\n",
    "df = df[~df['ID'].isin(emp)]"
   ]
  },
  {
   "cell_type": "code",
   "execution_count": 50,
   "id": "9e39fbbb",
   "metadata": {},
   "outputs": [],
   "source": [
    "# FOR LOOP TO GET ALL APPLICANTS WITH PW_A < CUTOFF\n",
    "empt = pd.DataFrame()\n",
    "for x in range(len(yr)):\n",
    "    j = df[(df[\"YEAR\"] == yr[x])&(df[\"PW_A\"]<pwbtm[x])]\n",
    "    empt = pd.concat([empt,j])"
   ]
  },
  {
   "cell_type": "code",
   "execution_count": 51,
   "id": "7e59df79",
   "metadata": {},
   "outputs": [
    {
     "data": {
      "text/plain": [
       "1643"
      ]
     },
     "execution_count": 51,
     "metadata": {},
     "output_type": "execute_result"
    }
   ],
   "source": [
    "# HOW MANY ARE DROPPED FOR PW_A < CUTOFF?\n",
    "len(empt)"
   ]
  },
  {
   "cell_type": "code",
   "execution_count": 52,
   "id": "fc7fd496",
   "metadata": {},
   "outputs": [],
   "source": [
    "# DROPPING ALL APPLICANTS PW < CUTOFF\n",
    "empt = empt[\"ID\"].tolist()\n",
    "df = df[~df['ID'].isin(empt)]"
   ]
  },
  {
   "cell_type": "code",
   "execution_count": 53,
   "id": "f4ae13a3",
   "metadata": {},
   "outputs": [
    {
     "data": {
      "text/plain": [
       "<AxesSubplot:ylabel='Frequency'>"
      ]
     },
     "execution_count": 53,
     "metadata": {},
     "output_type": "execute_result"
    },
    {
     "data": {
      "image/png": "[encoded data removed]",
      "text/plain": [
       "<Figure size 432x288 with 1 Axes>"
      ]
     },
     "metadata": {
      "needs_background": "light"
     },
     "output_type": "display_data"
    }
   ],
   "source": [
    "# CLEANING CITIES: EVENTUALLY WILL BE USED TO CREATE AVG WAGE TO REPLACE EXTREME OUTLIER WAGES\n",
    "# CLEAN UP JOB CITY: distribution of the length of the cities\n",
    "df[\"WORKSITE_CITY\"].str.len().plot(kind = \"hist\")"
   ]
  },
  {
   "cell_type": "code",
   "execution_count": 54,
   "id": "e5aaa265",
   "metadata": {},
   "outputs": [
    {
     "data": {
      "text/plain": [
       "array(['BREA', 'TROY', 'CARY', 'KATY', 'LEHI', 'WEED', 'NOVI', 'LAIE',\n",
       "       'KENT', 'RENO', 'LULA', 'ERIE', 'YORK', 'STOW', 'OREM', 'NYC',\n",
       "       'ANZA', 'YIGO', 'ELM', 'APEX', 'WACO', 'ROME', 'MESA', 'HAYS',\n",
       "       'YUMA', 'KYLE', 'NY', 'ELKO', 'AVON', 'ENID', 'BUDA', 'ELON',\n",
       "       'YELM', 'NASH', 'NAPA', 'COPE', 'AMES', 'ELBA', 'LUTZ', 'COVE',\n",
       "       'HILO', 'LYNN', 'FIFE', 'LIMA', 'GARY', 'AGAT', 'LODI', 'PERU',\n",
       "       'GUAM', 'OMAK', 'HULL', 'ADA', 'ALMA', 'CUBA', 'KRUM', 'RAKE',\n",
       "       'BEND', 'BELL', 'TAFT', 'POCA', 'RYE', 'TATE', 'RIVA', 'OAKS',\n",
       "       'VONA', 'LEE', 'KULM', 'BEAR', 'IRMO', 'AZLE', 'OJAI', 'ELMA',\n",
       "       'HOWE', 'MARS', 'VAIL', 'HOPE', 'ALVA', 'ROY', 'SWEA', 'SACO',\n",
       "       'ZUNI', 'MOAB', 'POTH', 'KIEL', 'GILL', 'PALA', 'AJO', 'AYER',\n",
       "       'COOK', 'ROTA', 'WADE', 'TAOS', 'EDEN', 'MACK', 'RAY', 'DYER',\n",
       "       'ORD', 'AXIS', 'LUSK', 'VEGA', 'CA', 'ELY', 'RTP', 'DUNN', '',\n",
       "       'DOON', 'BATH', 'NUNN', 'ALTO', 'PACE', 'WALL', 'SPUR', 'WARE',\n",
       "       'CARO', 'LEAD', 'FORD', 'LIC', 'JAY', 'KNOX', 'WEBB', 'MENA',\n",
       "       'AIEA', 'PAGE', 'PITI', 'DEAL', 'CORN', 'GRAY', 'HUGO', 'CALL',\n",
       "       'PANA', 'MINA', 'ETNA', 'SILT', 'ELOY', 'WISE', 'HOLT', 'IOWA',\n",
       "       'MAMI', 'BUHL', 'ONA', 'LENA', 'BOAZ', 'DORR', 'ROSS', 'TOW',\n",
       "       'BOYD', 'RUTH', 'KITE', 'ARAB', 'ZION', 'CITY', 'CODY', 'NOME',\n",
       "       'DC', '300', 'ANNA', 'KILN', 'KANE', 'AUST', 'POLO', 'BUNA',\n",
       "       'YONA', 'PIRU', 'DUCK', 'BOW', 'ZAHL', 'EADS', 'GAP', 'NC', 'BONX',\n",
       "       'LOMA', '7302', 'MIMS', 'ASAN', 'EPES', 'TOK', 'YUM'], dtype=object)"
      ]
     },
     "execution_count": 54,
     "metadata": {},
     "output_type": "execute_result"
    }
   ],
   "source": [
    "# TOO MANY TO MANUALLY CLEAN: BUT WE WILL TARGET CITIES UNDER 5 CHARECTERS TO SPELL OUT ANY ABR.\n",
    "df[df[\"WORKSITE_CITY\"].str.len()<5][\"WORKSITE_CITY\"].unique()"
   ]
  },
  {
   "cell_type": "code",
   "execution_count": 55,
   "id": "5d4d57b8",
   "metadata": {},
   "outputs": [
    {
     "data": {
      "text/plain": [
       "NEW YORK           43046\n",
       "SEATTLE            22738\n",
       "SAN FRANCISCO      20135\n",
       "COLLEGE STATION    18520\n",
       "REDMOND            16886\n",
       "MOUNTAIN VIEW      16716\n",
       "SAN JOSE           16423\n",
       "SANTA CLARA        12175\n",
       "CHICAGO            11773\n",
       "HOUSTON            11616\n",
       "SUNNYVALE          10925\n",
       "PLANO               9231\n",
       "AUSTIN              8013\n",
       "LOS ANGELES         7802\n",
       "EDISON              7205\n",
       "Name: WORKSITE_CITY, dtype: int64"
      ]
     },
     "execution_count": 55,
     "metadata": {},
     "output_type": "execute_result"
    }
   ],
   "source": [
    "# WHAT ARE THE TOP CITIES?\n",
    "df[\"WORKSITE_CITY\"].value_counts()[:15]"
   ]
  },
  {
   "cell_type": "code",
   "execution_count": 56,
   "id": "7c5cd301",
   "metadata": {},
   "outputs": [],
   "source": [
    "# HOW MANY VARIATIONS OF THE TOP CITIES?\n",
    "#df[df[\"WORKSITE_CITY\"].str.contains(\"edison\", case = False, na = False)][\"WORKSITE_CITY\"].value_counts()"
   ]
  },
  {
   "cell_type": "code",
   "execution_count": 57,
   "id": "267dde6f",
   "metadata": {},
   "outputs": [],
   "source": [
    "# TURNING ALL THE NYC VARATIONS INTO NEW YORK + SPELL OUT NEW YORK\n",
    "df[\"WORKSITE_CITY\"] =  df[\"WORKSITE_CITY\"].replace(\"NY\",\"NEW YORK\").replace(\"NYC\",\"NEW YORK\")\n",
    "df.loc[df[\"WORKSITE_CITY\"].str.contains(\"new york\", case = False, na = False), \"WORKSITE_CITY\"] = \"NEW YORK\"\n",
    "# MERGING THE TOP 15 cities (COLLEGE STATION, PLANO DOES NOT NEED CLEANING)\n",
    "df.loc[df[\"WORKSITE_CITY\"].str.contains(\"seattle\", case = False, na = False), \"WORKSITE_CITY\"] = \"SEATTLE\"\n",
    "df.loc[df[\"WORKSITE_CITY\"].str.contains(\"san francisco\", case = False, na = False), \"WORKSITE_CITY\"] = \"SAN FRANCISCO\"\n",
    "df.loc[df[\"WORKSITE_CITY\"].str.contains(\"REDMOND\", case = False, na = False), \"WORKSITE_CITY\"] = \"REDMOND\"\n",
    "df.loc[df[\"WORKSITE_CITY\"].str.contains(\"mountain view\", case = False, na = False), \"WORKSITE_CITY\"] = \"MOUNTAIN VIEW\"\n",
    "df.loc[df[\"WORKSITE_CITY\"].str.contains(\"san jose\", case = False, na = False), \"WORKSITE_CITY\"] = \"SAN JOSE\"\n",
    "df.loc[df[\"WORKSITE_CITY\"].str.contains(\"santa clara\", case = False, na = False), \"WORKSITE_CITY\"] = \"SANTA CLARA\"\n",
    "df.loc[df[\"WORKSITE_CITY\"].str.contains(\"chicago\", case = False, na = False), \"WORKSITE_CITY\"] = \"CHICAGO\"\n",
    "df.loc[df[\"WORKSITE_CITY\"].str.contains(\"houston\", case = False, na = False), \"WORKSITE_CITY\"] = \"HOUSTON\"\n",
    "df.loc[df[\"WORKSITE_CITY\"].str.contains(\"sunnyvale\", case = False, na = False), \"WORKSITE_CITY\"] = \"SUNNYVALE\"\n",
    "df.loc[df[\"WORKSITE_CITY\"].str.contains(\"austin/|austin,\", case = False, na = False), \"WORKSITE_CITY\"] = \"AUSTIN\"\n",
    "df.loc[df[\"WORKSITE_CITY\"].str.contains(\"los angeles\", case = False, na = False), \"WORKSITE_CITY\"] = \"LOS ANGELES\"\n",
    "df.loc[df[\"WORKSITE_CITY\"].str.contains(\"edison\", case = False, na = False), \"WORKSITE_CITY\"] = \"EDISON\""
   ]
  },
  {
   "cell_type": "code",
   "execution_count": 59,
   "id": "ce968ee3",
   "metadata": {},
   "outputs": [
    {
     "data": {
      "text/plain": [
       "114"
      ]
     },
     "execution_count": 59,
     "metadata": {},
     "output_type": "execute_result"
    }
   ],
   "source": [
    "# HOW MANY STATES ARE APPLICANTS TRYING TO WORK IN? SHOULD BE NO MORE THAN 60...\n",
    "df[\"WORKSITE_STATE\"].nunique()"
   ]
  },
  {
   "cell_type": "code",
   "execution_count": 61,
   "id": "0bfcef60",
   "metadata": {},
   "outputs": [],
   "source": [
    "# CREATING THE MAIN LIST TO TRY AND CLEAN MOST STATES INTO ABBREVIATIONS\n",
    "mainst= [\"Alabama\",\n",
    "\"Alaska\",\n",
    "\"Arizona\",\n",
    "\"Arkansas\",\n",
    "\"California\",\n",
    "\"Colorado\",\n",
    "\"Connecticut\",\n",
    "\"Delaware\",\n",
    "\"Florida\",\n",
    "\"Georgia\",\n",
    "\"Hawaii\",\n",
    "\"Idaho\",\n",
    "\"Illinois\",\n",
    "\"Indiana\",\n",
    "\"Iowa\",\n",
    "\"Kansas\",\n",
    "\"Kentucky\",\n",
    "\"Louisiana\",\n",
    "\"Maine\",\n",
    "\"Maryland\",\n",
    "\"Massachusetts\",\n",
    "\"Michigan\",\n",
    "\"Minnesota\",\n",
    "\"Mississippi\",\n",
    "\"Missouri\",\n",
    "\"Montana\",\n",
    "\"Nebraska\",\n",
    "\"Nevada\",\n",
    "\"New Hampshire\",\n",
    "\"New Jersey\",\n",
    "\"New Mexico\",\n",
    "\"New York\",\n",
    "\"North Carolina\",\n",
    "\"North Dakota\",\n",
    "\"Ohio\",\n",
    "\"Oklahoma\",\n",
    "\"Oregon\",\n",
    "\"Pennsylvania\",\n",
    "\"Rhode Island\",\n",
    "\"South Carolina\",\n",
    "\"South Dakota\",\n",
    "\"Tennessee\",\n",
    "\"Texas\",\n",
    "\"Utah\",\n",
    "\"Vermont\",\n",
    "\"Virginia\",\n",
    "\"Washington\",\n",
    "\"West Virginia\",\n",
    "\"Wisconsin\",\n",
    "\"Wyoming\",\n",
    "\"District of Columbia\"]"
   ]
  },
  {
   "cell_type": "code",
   "execution_count": 62,
   "id": "28efc771",
   "metadata": {},
   "outputs": [],
   "source": [
    "# CREATING THE MAIN ABR TO TRY AND CLEAN MOST STATES INTO ABBREVIATIONS\n",
    "mainabr = [\"AL\",\n",
    "\"AK\",\n",
    "\"AZ\",\n",
    "\"AR\",\n",
    "\"CA\",\n",
    "\"CO\",\n",
    "\"CT\",\n",
    "\"DE\",\n",
    "\"FL\",\n",
    "\"GA\",\n",
    "\"HI\",\n",
    "\"ID\",\n",
    "\"IL\",\n",
    "\"IN\",\n",
    "\"IA\",\n",
    "\"KS\",\n",
    "\"KY\",\n",
    "\"LA\",\n",
    "\"ME\",\n",
    "\"MD\",\n",
    "\"MA\",\n",
    "\"MI\",\n",
    "\"MN\",\n",
    "\"MS\",\n",
    "\"MO\",\n",
    "\"MT\",\n",
    "\"NE\",\n",
    "\"NV\",\n",
    "\"NH\",\n",
    "\"NJ\",\n",
    "\"NM\",\n",
    "\"NY\",\n",
    "\"NC\",\n",
    "\"ND\",\n",
    "\"OH\",\n",
    "\"OK\",\n",
    "\"OR\",\n",
    "\"PA\",\n",
    "\"RI\",\n",
    "\"SC\",\n",
    "\"SD\",\n",
    "\"TN\",\n",
    "\"TX\",\n",
    "\"UT\",\n",
    "\"VT\",\n",
    "\"VA\",\n",
    "\"WA\",\n",
    "\"WV\",\n",
    "\"WI\",\n",
    "\"WY\",\n",
    "\"DC\"]"
   ]
  },
  {
   "cell_type": "code",
   "execution_count": 65,
   "id": "fba604a5",
   "metadata": {},
   "outputs": [],
   "source": [
    "# ROUND 1 CLEANING STATES\n",
    "for j in range(len(mainst)):\n",
    "    df.loc[df[\"WORKSITE_STATE\"].str.contains(mainst[j], case = False, na = False), \"WORKSITE_STATE\"] = mainabr[j]"
   ]
  },
  {
   "cell_type": "code",
   "execution_count": 76,
   "id": "2ac4fbc7",
   "metadata": {},
   "outputs": [
    {
     "data": {
      "text/plain": [
       "array(['PUERTO RICO', 'GUAM', 'NORTHERN MARIANA ISLANDS',\n",
       "       'VIRGIN ISLANDS', 'MARSHALL ISLANDS',\n",
       "       'FEDERATED STATES OF MICRONESIA'], dtype=object)"
      ]
     },
     "execution_count": 76,
     "metadata": {},
     "output_type": "execute_result"
    }
   ],
   "source": [
    "# HOW MANY STATES ARE THERE NOT ABR AFTER ROUND 1 CLEANING?\n",
    "df[\"WORKSITE_STATE\"].unique()[np.vectorize(len)(df[\"WORKSITE_STATE\"].unique())>2]"
   ]
  },
  {
   "cell_type": "code",
   "execution_count": 77,
   "id": "c52cfc05",
   "metadata": {},
   "outputs": [],
   "source": [
    "# CREATING THE SECONDARY LIST TO FINISH CLEANING STATES\n",
    "secondst = ['PUERTO RICO', 'GUAM', 'NORTHERN MARIANA ISLANDS',\n",
    "       'VIRGIN ISLANDS', 'MARSHALL ISLANDS',\n",
    "       'FEDERATED STATES OF MICRONESIA']\n",
    "secondabr = [\"PR\",\"GU\",\"MP\",\"VI\",\"MH\",\"FSM\"]\n",
    "# ROUND 2 CLEANING STATES\n",
    "for j in range(len(secondst)):\n",
    "    df.loc[df[\"WORKSITE_STATE\"].str.contains(secondst[j], case = False, na = False), \"WORKSITE_STATE\"] = secondabr[j]"
   ]
  },
  {
   "cell_type": "code",
   "execution_count": null,
   "id": "f0130656",
   "metadata": {},
   "outputs": [],
   "source": [
    "# CREATING US GEOGRAPHIC REGION: STATE LIST\n",
    "geostate = [\"AK\",\n",
    "\"AL\",\n",
    "\"AR\",\n",
    "\"AZ\",\n",
    "\"CA\",\n",
    "\"CO\",\n",
    "\"CT\",\n",
    "\"DC\",\n",
    "\"DE\",\n",
    "\"FL\",\n",
    "\"GA\",\n",
    "\"HI\",\n",
    "\"IA\",\n",
    "\"ID\",\n",
    "\"IL\",\n",
    "\"IN\",\n",
    "\"KS\",\n",
    "\"KY\",\n",
    "\"LA\",\n",
    "\"MA\",\n",
    "\"MD\",\n",
    "\"ME\",\n",
    "\"MI\",\n",
    "\"MN\",\n",
    "\"MO\",\n",
    "\"MS\",\n",
    "\"MT\",\n",
    "\"NC\",\n",
    "\"ND\",\n",
    "\"NE\",\n",
    "\"NH\",\n",
    "\"NJ\",\n",
    "\"NM\",\n",
    "\"NV\",\n",
    "\"NY\",\n",
    "\"OH\",\n",
    "\"OK\",\n",
    "\"OR\",\n",
    "\"PA\",\n",
    "\"RI\",\n",
    "\"SC\",\n",
    "\"SD\",\n",
    "\"TN\",\n",
    "\"TX\",\n",
    "\"UT\",\n",
    "\"VA\",\n",
    "\"VT\",\n",
    "\"WA\",\n",
    "\"WI\",\n",
    "\"WV\",\n",
    "\"WY\",\n",
    "\"PR\",\n",
    "\"GU\",\n",
    "\"MP\",\n",
    "\"VI\",\n",
    "\"MH\",\n",
    "\"FSM\"]"
   ]
  },
  {
   "cell_type": "code",
   "execution_count": null,
   "id": "1a73d4c7",
   "metadata": {},
   "outputs": [],
   "source": [
    "# CREATING US GEOGRAPHIC REGION: REGION LIST\n",
    "region= [\"WEST\",\n",
    "\"SOUTH\",\n",
    "\"SOUTH\",\n",
    "\"WEST\",\n",
    "\"WEST\",\n",
    "\"WEST\",\n",
    "\"NORTHEAST\",\n",
    "\"SOUTH\",\n",
    "\"SOUTH\",\n",
    "\"SOUTH\",\n",
    "\"SOUTH\",\n",
    "\"WEST\",\n",
    "\"MIDWEST\",\n",
    "\"WEST\",\n",
    "\"MIDWEST\",\n",
    "\"MIDWEST\",\n",
    "\"MIDWEST\",\n",
    "\"SOUTH\",\n",
    "\"SOUTH\",\n",
    "\"NORTHEAST\",\n",
    "\"SOUTH\",\n",
    "\"NORTHEAST\",\n",
    "\"MIDWEST\",\n",
    "\"MIDWEST\",\n",
    "\"MIDWEST\",\n",
    "\"SOUTH\",\n",
    "\"WEST\",\n",
    "\"SOUTH\",\n",
    "\"MIDWEST\",\n",
    "\"MIDWEST\",\n",
    "\"NORTHEAST\",\n",
    "\"NORTHEAST\",\n",
    "\"WEST\",\n",
    "\"WEST\",\n",
    "\"NORTHEAST\",\n",
    "\"MIDWEST\",\n",
    "\"SOUTH\",\n",
    "\"WEST\",\n",
    "\"NORTHEAST\",\n",
    "\"NORTHEAST\",\n",
    "\"SOUTH\",\n",
    "\"MIDWEST\",\n",
    "\"SOUTH\",\n",
    "\"SOUTH\",\n",
    "\"WEST\",\n",
    "\"SOUTH\",\n",
    "\"NORTHEAST\",\n",
    "\"WEST\",\n",
    "\"MIDWEST\",\n",
    "\"SOUTH\",\n",
    "\"WEST\",\n",
    "\"TERRITORY\",\n",
    "\"TERRITORY\",\n",
    "\"TERRITORY\",\n",
    "\"TERRITORY\",\n",
    "\"TERRITORY\",\n",
    "\"TERRITORY\"]"
   ]
  },
  {
   "cell_type": "code",
   "execution_count": null,
   "id": "f8ac2af1",
   "metadata": {},
   "outputs": [],
   "source": [
    "# CREATING A WORKSITE REGION COLUMN\n",
    "df[\"WORKSITE_REGION\"]=df[\"WORKSITE_STATE\"]\n",
    "for j in range(len(geostate)):\n",
    "    df.loc[df[\"WORKSITE_REGION\"].str.contains(geostate[j], case = False, na = False), \"WORKSITE_REGION\"] = region[j]"
   ]
  },
  {
   "cell_type": "code",
   "execution_count": null,
   "id": "ccdf1c99",
   "metadata": {},
   "outputs": [],
   "source": [
    "# UNIQUE REGIONS (CHECK IF ALL STATES WERE TRANSLATED CORRECTLY)\n",
    "df[\"WORKSITE_REGION\"].unique()"
   ]
  },
  {
   "cell_type": "code",
   "execution_count": 121,
   "id": "c493b128",
   "metadata": {},
   "outputs": [],
   "source": [
    "# OUTLIER WO_A USING IQR (EXTREME OUTLIER PER YEAR) TOP SIDE\n",
    "wagetop = df.groupby(\"YEAR\")[\"WO_A\"].quantile(.75) + (df.groupby(\"YEAR\")[\"WO_A\"].quantile(.75)-df.groupby(\"YEAR\")[\"WO_A\"].quantile(.25)) *3\n",
    "pwtop = df.groupby(\"YEAR\")[\"PW_A\"].quantile(.75) + (df.groupby(\"YEAR\")[\"PW_A\"].quantile(.75)-df.groupby(\"YEAR\")[\"PW_A\"].quantile(.25)) *3"
   ]
  },
  {
   "cell_type": "code",
   "execution_count": 122,
   "id": "78da70f2",
   "metadata": {},
   "outputs": [],
   "source": [
    "# CREATING LISTS TO CLEAN UP WAGE BASED ON OUTLIERS : TOP END ONLY... DROP BOTTOM 1% (LAWS PROTECTING THE BTM END... MORE LIKELY TOP END IS ERROR)\n",
    "yr = wagetop.index.tolist()\n",
    "wagetop = wagetop.tolist()\n",
    "pwtop = pwtop.tolist()"
   ]
  },
  {
   "cell_type": "code",
   "execution_count": 292,
   "id": "08e2c69f",
   "metadata": {},
   "outputs": [],
   "source": [
    "# FOR LOOP TO GET ALL APPLICANTS WITH WO_A > CUTOFF: BIGWAGE\n",
    "bigwage = pd.DataFrame()\n",
    "for x in range(len(yr)):\n",
    "    j = df[(df[\"YEAR\"] == yr[x])&(df[\"WO_A\"]>wagetop[x])]\n",
    "    bigwage = pd.concat([bigwage,j])"
   ]
  },
  {
   "cell_type": "code",
   "execution_count": 293,
   "id": "18ddcf33",
   "metadata": {},
   "outputs": [],
   "source": [
    "# GETTING THE REST OF THE APPLICANTS WHO ARE NOT > CUTOFF: REGWAGE\n",
    "bwlist = bigwage[\"ID\"].tolist()\n",
    "regwage = df[~df['ID'].isin(bwlist)]"
   ]
  },
  {
   "cell_type": "code",
   "execution_count": 294,
   "id": "4ab948dd",
   "metadata": {},
   "outputs": [
    {
     "data": {
      "text/plain": [
       "2.1001111440857962"
      ]
     },
     "execution_count": 294,
     "metadata": {},
     "output_type": "execute_result"
    }
   ],
   "source": [
    "# CREATING A UNIQUE IDENTIFIER TO GET AN AVG WAGE FOR EACH IDENTIFIER TO REPLACE OUTLIER SALARIES\n",
    "regwage[\"BID\"] = regwage[\"PW_SOC_CODE\"].astype(str)+regwage[\"WORKSITE_STATE\"].astype(str) + regwage[\"WORKSITE_CITY\"].astype(str) + regwage[\"PW_SKILL_LEVEL\"].astype(str)\n",
    "# IS THIS TOO GRANULAR OF AN AVG? LETS SEE AVG COUNT FOR EACH UNIQUE IDENTIFIER\n",
    "regwage.groupby(\"BID\")[\"WO_A\"].value_counts().mean()"
   ]
  },
  {
   "cell_type": "code",
   "execution_count": 295,
   "id": "30c72ce7",
   "metadata": {},
   "outputs": [
    {
     "data": {
      "text/plain": [
       "2.7672819981980945"
      ]
     },
     "execution_count": 295,
     "metadata": {},
     "output_type": "execute_result"
    }
   ],
   "source": [
    "# NEW IDENTIFIER : USING STATE ONLY\n",
    "regwage[\"BID\"] = regwage[\"PW_SOC_CODE\"].astype(str)+regwage[\"WORKSITE_STATE\"].astype(str)+ regwage[\"PW_SKILL_LEVEL\"].astype(str)\n",
    "regwage.groupby(\"BID\")[\"WO_A\"].value_counts().mean()\n",
    "# STILL ONLY 2.7  APPLICANTS A CODE"
   ]
  },
  {
   "cell_type": "code",
   "execution_count": 296,
   "id": "df2585b6",
   "metadata": {},
   "outputs": [
    {
     "data": {
      "text/plain": [
       "3.3040254140308156"
      ]
     },
     "execution_count": 296,
     "metadata": {},
     "output_type": "execute_result"
    }
   ],
   "source": [
    "# NEW IDENTIFIER : USING REGION ONLY\n",
    "regwage[\"BID\"] = regwage[\"PW_SOC_CODE\"].astype(str)+regwage[\"WORKSITE_REGION\"].astype(str)+ regwage[\"PW_SKILL_LEVEL\"].astype(str)\n",
    "regwage.groupby(\"BID\")[\"WO_A\"].value_counts().mean()\n",
    "# BETTER with 3.3... "
   ]
  },
  {
   "cell_type": "code",
   "execution_count": 297,
   "id": "176551fa",
   "metadata": {},
   "outputs": [],
   "source": [
    "# NORMALIZED AVG WAGE FOR EACH UNIQUE IDENTIFIER\n",
    "normwage = pd.DataFrame(regwage.groupby(\"BID\")[\"WO_A\"].mean())\n",
    "normpw = pd.DataFrame(regwage.groupby(\"BID\")[\"PW_A\"].mean())\n",
    "normwage.columns=[\"NORM_WAGE\"]\n",
    "normpw.columns = [\"NORM_PW\"]"
   ]
  },
  {
   "cell_type": "code",
   "execution_count": 298,
   "id": "ece9102a",
   "metadata": {},
   "outputs": [],
   "source": [
    "# CREATING THE UNIQUE IDENTIFIER FOR BIG WAGE TO MATCH UP WITH REG WAGE AVG\n",
    "bigwage[\"BID\"] = bigwage[\"PW_SOC_CODE\"].astype(str)+bigwage[\"WORKSITE_REGION\"].astype(str)+ bigwage[\"PW_SKILL_LEVEL\"].astype(str)"
   ]
  },
  {
   "cell_type": "code",
   "execution_count": 299,
   "id": "d0ca241c",
   "metadata": {},
   "outputs": [],
   "source": [
    "# MERGING BASED ON BID AND BRINGING IN NORM WAGE\n",
    "matchbidwage = bigwage\n",
    "matchbidwage = matchbidwage.merge(normwage, how = \"inner\", on = \"BID\")"
   ]
  },
  {
   "cell_type": "code",
   "execution_count": 300,
   "id": "4d3834e1",
   "metadata": {},
   "outputs": [
    {
     "data": {
      "text/plain": [
       "35"
      ]
     },
     "execution_count": 300,
     "metadata": {},
     "output_type": "execute_result"
    }
   ],
   "source": [
    "# HOW MANY APPLICANTS WERE NOT MATCHED THROUGH BID\n",
    "len(bigwage) - len(matchbidwage)"
   ]
  },
  {
   "cell_type": "code",
   "execution_count": 301,
   "id": "1d01cce1",
   "metadata": {},
   "outputs": [
    {
     "data": {
      "text/plain": [
       "['29-1069TERRITORYLEVEL III',\n",
       " '29-1064NORTHEAST',\n",
       " '25-1051WESTLEVEL IV',\n",
       " '29-1061TERRITORYLEVEL III',\n",
       " '29-1069TERRITORYLEVEL I',\n",
       " '29-1022WESTLEVEL III',\n",
       " '29-1061SOUTHLEVEL III',\n",
       " '29-1067NORTHEAST',\n",
       " '29-1064MIDWESTLEVEL IV',\n",
       " '11-1011SOUTH',\n",
       " '29-1067NORTHEASTLEVEL IV',\n",
       " '29-1061NORTHEAST',\n",
       " '29-1061NORTHEASTLEVEL I',\n",
       " '29-1063SOUTHLEVEL III',\n",
       " '29-1067SOUTHLEVEL III']"
      ]
     },
     "execution_count": 301,
     "metadata": {},
     "output_type": "execute_result"
    }
   ],
   "source": [
    "# LIST THE BIDs THAT DO NOT MATCH IN NORM WAGE: THESE ARE THE BIDs NOT IN THE NORM WAGE...\n",
    "bwregion = bigwage[\"BID\"].unique().tolist()\n",
    "normwageregion = normwage.index.tolist()\n",
    "list(set(bwregion) - set(normwageregion))"
   ]
  },
  {
   "cell_type": "code",
   "execution_count": 302,
   "id": "8e96b2ce",
   "metadata": {},
   "outputs": [],
   "source": [
    "# GETTING THE APPLICANTS THAT DID NOT MATCH IN BID for NORM WAGE\n",
    "nonmatchwage = pd.DataFrame()\n",
    "for x in range(len(list(set(bwregion) - set(normwageregion)))):\n",
    "    j = bigwage[bigwage[\"BID\"]==list(set(bwregion) - set(normwageregion))[x]]\n",
    "    nonmatchwage = pd.concat([nonmatchwage, j],axis = 0)"
   ]
  },
  {
   "cell_type": "code",
   "execution_count": 303,
   "id": "8fc7c9c4",
   "metadata": {},
   "outputs": [
    {
     "data": {
      "text/plain": [
       "35"
      ]
     },
     "execution_count": 303,
     "metadata": {},
     "output_type": "execute_result"
    }
   ],
   "source": [
    "# DOES THE NUMBER OF APPLICANTS THAT DO NOT MATCH = TO 35?\n",
    "len(nonmatchwage)\n",
    "# YES"
   ]
  },
  {
   "cell_type": "code",
   "execution_count": 304,
   "id": "5adb3579",
   "metadata": {},
   "outputs": [],
   "source": [
    "# CORRELATION BETWEEN REGION OR LEVEL WITH WAGE: TO DETERMINE HOW TO ADJUST THE BID\n",
    "regiondummy = pd.get_dummies(df[\"WORKSITE_REGION\"])\n",
    "leveldummy = pd.get_dummies(df[\"PW_SKILL_LEVEL\"])"
   ]
  },
  {
   "cell_type": "code",
   "execution_count": 305,
   "id": "f3eaed52",
   "metadata": {},
   "outputs": [
    {
     "data": {
      "text/plain": [
       "            -0.002334\n",
       "MIDWEST     -0.035590\n",
       "NORTHEAST   -0.000936\n",
       "SOUTH       -0.015369\n",
       "TERRITORY   -0.021151\n",
       "WEST         0.040105\n",
       "WO_A         1.000000\n",
       "Name: WO_A, dtype: float64"
      ]
     },
     "execution_count": 305,
     "metadata": {},
     "output_type": "execute_result"
    }
   ],
   "source": [
    "# CORREL BETWEEN REGIONS AND WO_A\n",
    "pd.concat([regiondummy,df[\"WO_A\"]],axis = 1).corr()[\"WO_A\"]"
   ]
  },
  {
   "cell_type": "code",
   "execution_count": 306,
   "id": "d3c60646",
   "metadata": {},
   "outputs": [
    {
     "data": {
      "text/plain": [
       "             0.030487\n",
       "LEVEL I     -0.140557\n",
       "LEVEL II    -0.011328\n",
       "LEVEL III    0.024672\n",
       "LEVEL IV     0.105993\n",
       "WO_A         1.000000\n",
       "Name: WO_A, dtype: float64"
      ]
     },
     "execution_count": 306,
     "metadata": {},
     "output_type": "execute_result"
    }
   ],
   "source": [
    "# CORREL BETWEEN LEVEL AND WO_A\n",
    "pd.concat([leveldummy,df[\"WO_A\"]],axis = 1).corr()[\"WO_A\"]\n",
    "# LEVELS LOOK MUCH HIGHER OVERALL "
   ]
  },
  {
   "cell_type": "code",
   "execution_count": 307,
   "id": "1e0b3c85",
   "metadata": {},
   "outputs": [
    {
     "data": {
      "text/plain": [
       "2"
      ]
     },
     "execution_count": 307,
     "metadata": {},
     "output_type": "execute_result"
    }
   ],
   "source": [
    "# GETTING THE ADJUSTED BID FOR NORM WAGE: ONLY KEEPING LEVELS SINCE IT IS MORE CORREL WITH WAGE THAN REGION\n",
    "adjregw = regwage\n",
    "adjregw[\"BID\"] = adjregw[\"PW_SOC_CODE\"].astype(str)+adjregw[\"PW_SKILL_LEVEL\"].astype(str)\n",
    "# NORMALIZED AVG WAGE FOR EACH UNIQUE IDENTIFIER\n",
    "adjnormwage = pd.DataFrame(adjregw.groupby(\"BID\")[\"WO_A\"].mean())\n",
    "adjnormwage.columns=[\"NORM_WAGE\"]\n",
    "\n",
    "# CREATING THE UNIQUE IDENTIFIER FOR MISSING BIG WAGE TO MATCH UP WITH REG WAGE AVG\n",
    "adjbigwage = nonmatchwage\n",
    "adjbigwage[\"BID\"] = adjbigwage[\"PW_SOC_CODE\"].astype(str)+ adjbigwage[\"PW_SKILL_LEVEL\"].astype(str)\n",
    "\n",
    "# MERGING BASED ON BID AND BRINGING IN NORM WAGE\n",
    "matchadjbidwage = adjbigwage\n",
    "matchadjbidwage = matchadjbidwage.merge(adjnormwage, how = \"inner\", on = \"BID\")\n",
    "\n",
    "# HOW MANY APPLICANTS WERE NOT MATCHED THROUGH AdjBID\n",
    "len(adjbigwage) - len(matchadjbidwage)"
   ]
  },
  {
   "cell_type": "code",
   "execution_count": 308,
   "id": "18c4e36a",
   "metadata": {},
   "outputs": [
    {
     "data": {
      "text/plain": [
       "['25-1051LEVEL IV', '29-1064LEVEL IV']"
      ]
     },
     "execution_count": 308,
     "metadata": {},
     "output_type": "execute_result"
    }
   ],
   "source": [
    "# LIST THE Adj BIDs THAT DO NOT MATCH IN NORM WAGE: THESE ARE THE Adj BIDs NOT IN THE NORM WAGE...\n",
    "adjbwregion = adjbigwage[\"BID\"].unique().tolist()\n",
    "adjnormwageregion = adjnormwage.index.tolist()\n",
    "list(set(adjbwregion) - set(adjnormwageregion))"
   ]
  },
  {
   "cell_type": "code",
   "execution_count": 309,
   "id": "f5c6a66d",
   "metadata": {},
   "outputs": [
    {
     "data": {
      "text/plain": [
       "2"
      ]
     },
     "execution_count": 309,
     "metadata": {},
     "output_type": "execute_result"
    }
   ],
   "source": [
    "# LIST THE APPLICANTS THAT ARE STILL NOT MATCHED THROUGH BID...\n",
    "nonmatchadjwage = pd.DataFrame()\n",
    "for x in range(len(list(set(adjbwregion) - set(adjnormwageregion)))):\n",
    "    j = adjbigwage[adjbigwage[\"BID\"]==list(set(adjbwregion) - set(adjnormwageregion))[x]]\n",
    "    nonmatchadjwage = pd.concat([nonmatchadjwage, j],axis = 0)\n",
    "\n",
    "# DOES THE NUMBER OF APPLICANTS THAT DO NOT MATCH = TO 2?\n",
    "len(nonmatchadjwage)\n",
    "# YES"
   ]
  },
  {
   "cell_type": "code",
   "execution_count": 310,
   "id": "e239dfa1",
   "metadata": {},
   "outputs": [
    {
     "data": {
      "text/plain": [
       "0"
      ]
     },
     "execution_count": 310,
     "metadata": {},
     "output_type": "execute_result"
    }
   ],
   "source": [
    "# GETTING THE WAGE FOR SOC CODE ONLY FOR NORM WAGE\n",
    "soconly = regwage\n",
    "soconly[\"BID\"] = soconly[\"PW_SOC_CODE\"].astype(str)\n",
    "# NORMALIZED AVG WAGE FOR EACH UNIQUE IDENTIFIER\n",
    "socnormwage = pd.DataFrame(soconly.groupby(\"BID\")[\"WO_A\"].mean())\n",
    "socnormwage.columns=[\"NORM_WAGE\"]\n",
    "\n",
    "# CREATING THE UNIQUE IDENTIFIER FOR MISSING BIG WAGE TO MATCH UP WITH REG WAGE AVG\n",
    "socbigwage = nonmatchadjwage\n",
    "socbigwage[\"BID\"] = socbigwage[\"PW_SOC_CODE\"].astype(str)\n",
    "\n",
    "# MERGING BASED ON BID AND BRINGING IN NORM WAGE\n",
    "matchsocbidwage = socbigwage\n",
    "matchsocbidwage = matchsocbidwage.merge(socnormwage, how = \"inner\", on = \"BID\")\n",
    "\n",
    "# HOW MANY APPLICANTS WERE NOT MATCHED THROUGH AdjBID\n",
    "len(socbigwage) - len(matchsocbidwage)"
   ]
  },
  {
   "cell_type": "code",
   "execution_count": 311,
   "id": "d626b715",
   "metadata": {},
   "outputs": [],
   "source": [
    "# MERGING BACK TO MAKE THE FINAL BIG WAGE : USING NORM WAGE...\n",
    "bigwage = pd.concat([matchbidwage,\n",
    "matchadjbidwage,\n",
    "matchsocbidwage],axis = 0, ignore_index = True)\n",
    "bigwage[\"WO_A\"] = bigwage[\"NORM_WAGE\"]\n",
    "bigwage = bigwage.drop(\"NORM_WAGE\", axis = 1)"
   ]
  },
  {
   "cell_type": "code",
   "execution_count": 317,
   "id": "6441be14",
   "metadata": {},
   "outputs": [],
   "source": [
    "# CLEANING UP THE PW_A\n",
    "# CREATING THE UNIQUE IDENTIFIER FOR BIG WAGE TO MATCH UP WITH REG WAGE AVG\n",
    "bigwage[\"BID\"] = bigwage[\"PW_SOC_CODE\"].astype(str)+bigwage[\"WORKSITE_REGION\"].astype(str)+ bigwage[\"PW_SKILL_LEVEL\"].astype(str)"
   ]
  },
  {
   "cell_type": "code",
   "execution_count": 318,
   "id": "fbd6755f",
   "metadata": {},
   "outputs": [],
   "source": [
    "# MERGING BASED ON BID AND BRINGING IN NORM PW\n",
    "matchbidwage = bigwage\n",
    "matchbidwage = matchbidwage.merge(normpw, how = \"inner\", on = \"BID\")"
   ]
  },
  {
   "cell_type": "code",
   "execution_count": 319,
   "id": "fc2dca9f",
   "metadata": {},
   "outputs": [
    {
     "data": {
      "text/plain": [
       "35"
      ]
     },
     "execution_count": 319,
     "metadata": {},
     "output_type": "execute_result"
    }
   ],
   "source": [
    "# HOW MANY APPLICANTS WERE NOT MATCHED THROUGH BID\n",
    "len(bigwage) - len(matchbidwage)"
   ]
  },
  {
   "cell_type": "code",
   "execution_count": 320,
   "id": "7fc58c80",
   "metadata": {},
   "outputs": [
    {
     "data": {
      "text/plain": [
       "['29-1069TERRITORYLEVEL III',\n",
       " '29-1064NORTHEAST',\n",
       " '25-1051WESTLEVEL IV',\n",
       " '29-1061TERRITORYLEVEL III',\n",
       " '29-1069TERRITORYLEVEL I',\n",
       " '29-1022WESTLEVEL III',\n",
       " '29-1061SOUTHLEVEL III',\n",
       " '29-1067NORTHEAST',\n",
       " '29-1064MIDWESTLEVEL IV',\n",
       " '11-1011SOUTH',\n",
       " '29-1067NORTHEASTLEVEL IV',\n",
       " '29-1061NORTHEAST',\n",
       " '29-1061NORTHEASTLEVEL I',\n",
       " '29-1063SOUTHLEVEL III',\n",
       " '29-1067SOUTHLEVEL III']"
      ]
     },
     "execution_count": 320,
     "metadata": {},
     "output_type": "execute_result"
    }
   ],
   "source": [
    "# LIST THE BIDs THAT DO NOT MATCH IN NORM WAGE: THESE ARE THE BIDs NOT IN THE NORM WAGE...\n",
    "bwregion = bigwage[\"BID\"].unique().tolist()\n",
    "normwageregion = normpw.index.tolist()\n",
    "list(set(bwregion) - set(normwageregion))"
   ]
  },
  {
   "cell_type": "code",
   "execution_count": 321,
   "id": "2c029043",
   "metadata": {},
   "outputs": [],
   "source": [
    "# GETTING THE APPLICANTS THAT DID NOT MATCH IN BID for NORM PW\n",
    "nonmatchwage = pd.DataFrame()\n",
    "for x in range(len(list(set(bwregion) - set(normwageregion)))):\n",
    "    j = bigwage[bigwage[\"BID\"]==list(set(bwregion) - set(normwageregion))[x]]\n",
    "    nonmatchwage = pd.concat([nonmatchwage, j],axis = 0)"
   ]
  },
  {
   "cell_type": "code",
   "execution_count": 322,
   "id": "ff824c07",
   "metadata": {},
   "outputs": [
    {
     "data": {
      "text/plain": [
       "35"
      ]
     },
     "execution_count": 322,
     "metadata": {},
     "output_type": "execute_result"
    }
   ],
   "source": [
    "# DOES THE NUMBER OF APPLICANTS THAT DO NOT MATCH = TO 35?\n",
    "len(nonmatchwage)\n",
    "# YES"
   ]
  },
  {
   "cell_type": "code",
   "execution_count": 323,
   "id": "2666d5aa",
   "metadata": {},
   "outputs": [
    {
     "data": {
      "text/plain": [
       "2"
      ]
     },
     "execution_count": 323,
     "metadata": {},
     "output_type": "execute_result"
    }
   ],
   "source": [
    "# GETTING THE ADJUSTED BID FOR NORM PW: ONLY KEEPING LEVELS SINCE IT IS MORE CORREL WITH WAGE THAN REGION\n",
    "adjregw = regwage\n",
    "adjregw[\"BID\"] = adjregw[\"PW_SOC_CODE\"].astype(str)+adjregw[\"PW_SKILL_LEVEL\"].astype(str)\n",
    "# NORMALIZED AVG WAGE FOR EACH UNIQUE IDENTIFIER\n",
    "adjnormwage = pd.DataFrame(adjregw.groupby(\"BID\")[\"PW_A\"].mean())\n",
    "adjnormwage.columns=[\"NORM_PW\"]\n",
    "\n",
    "# CREATING THE UNIQUE IDENTIFIER FOR MISSING BIG WAGE TO MATCH UP WITH REG WAGE AVG\n",
    "adjbigwage = nonmatchwage\n",
    "adjbigwage[\"BID\"] = adjbigwage[\"PW_SOC_CODE\"].astype(str)+ adjbigwage[\"PW_SKILL_LEVEL\"].astype(str)\n",
    "\n",
    "# MERGING BASED ON BID AND BRINGING IN NORM WAGE\n",
    "matchadjbidwage = adjbigwage\n",
    "matchadjbidwage = matchadjbidwage.merge(adjnormwage, how = \"inner\", on = \"BID\")\n",
    "\n",
    "# HOW MANY APPLICANTS WERE NOT MATCHED THROUGH AdjBID\n",
    "len(adjbigwage) - len(matchadjbidwage)"
   ]
  },
  {
   "cell_type": "code",
   "execution_count": 324,
   "id": "e96161b8",
   "metadata": {},
   "outputs": [
    {
     "data": {
      "text/plain": [
       "['25-1051LEVEL IV', '29-1064LEVEL IV']"
      ]
     },
     "execution_count": 324,
     "metadata": {},
     "output_type": "execute_result"
    }
   ],
   "source": [
    "# LIST THE Adj BIDs THAT DO NOT MATCH IN NORM WAGE: THESE ARE THE Adj BIDs NOT IN THE NORM WAGE...\n",
    "adjbwregion = adjbigwage[\"BID\"].unique().tolist()\n",
    "adjnormwageregion = adjnormwage.index.tolist()\n",
    "list(set(adjbwregion) - set(adjnormwageregion))"
   ]
  },
  {
   "cell_type": "code",
   "execution_count": 325,
   "id": "9f6c3bd4",
   "metadata": {},
   "outputs": [
    {
     "data": {
      "text/plain": [
       "2"
      ]
     },
     "execution_count": 325,
     "metadata": {},
     "output_type": "execute_result"
    }
   ],
   "source": [
    "# LIST THE APPLICANTS THAT ARE STILL NOT MATCHED THROUGH BID...\n",
    "nonmatchadjwage = pd.DataFrame()\n",
    "for x in range(len(list(set(adjbwregion) - set(adjnormwageregion)))):\n",
    "    j = adjbigwage[adjbigwage[\"BID\"]==list(set(adjbwregion) - set(adjnormwageregion))[x]]\n",
    "    nonmatchadjwage = pd.concat([nonmatchadjwage, j],axis = 0)\n",
    "\n",
    "# DOES THE NUMBER OF APPLICANTS THAT DO NOT MATCH = TO 2?\n",
    "len(nonmatchadjwage)\n",
    "# YES"
   ]
  },
  {
   "cell_type": "code",
   "execution_count": 326,
   "id": "ecb3e73a",
   "metadata": {},
   "outputs": [
    {
     "data": {
      "text/plain": [
       "0"
      ]
     },
     "execution_count": 326,
     "metadata": {},
     "output_type": "execute_result"
    }
   ],
   "source": [
    "# GETTING THE WAGE FOR SOC CODE ONLY FOR NORM WAGE\n",
    "soconly = regwage\n",
    "soconly[\"BID\"] = soconly[\"PW_SOC_CODE\"].astype(str)\n",
    "# NORMALIZED AVG WAGE FOR EACH UNIQUE IDENTIFIER\n",
    "socnormwage = pd.DataFrame(soconly.groupby(\"BID\")[\"PW_A\"].mean())\n",
    "socnormwage.columns=[\"NORM_PW\"]\n",
    "\n",
    "# CREATING THE UNIQUE IDENTIFIER FOR MISSING BIG WAGE TO MATCH UP WITH REG WAGE AVG\n",
    "socbigwage = nonmatchadjwage\n",
    "socbigwage[\"BID\"] = socbigwage[\"PW_SOC_CODE\"].astype(str)\n",
    "\n",
    "# MERGING BASED ON BID AND BRINGING IN NORM WAGE\n",
    "matchsocbidwage = socbigwage\n",
    "matchsocbidwage = matchsocbidwage.merge(socnormwage, how = \"inner\", on = \"BID\")\n",
    "\n",
    "# HOW MANY APPLICANTS WERE NOT MATCHED THROUGH AdjBID\n",
    "len(socbigwage) - len(matchsocbidwage)"
   ]
  },
  {
   "cell_type": "code",
   "execution_count": 331,
   "id": "ebf2e2e9",
   "metadata": {},
   "outputs": [],
   "source": [
    "# MERGING BACK TO MAKE THE FINAL BIG WAGE : USING NORM WAGE...\n",
    "bigwage = pd.concat([matchbidwage,\n",
    "matchadjbidwage,\n",
    "matchsocbidwage],axis = 0, ignore_index = True)\n",
    "bigwage[\"PW_A\"] = bigwage[\"NORM_PW\"]\n",
    "bigwage = bigwage.drop([\"BID\",\"NORM_PW\"], axis = 1)"
   ]
  },
  {
   "cell_type": "code",
   "execution_count": 335,
   "id": "f8fe52c8",
   "metadata": {},
   "outputs": [],
   "source": [
    "# MATCH APPLICATIONS IN BIGWAGE DF WITH ORIGINAL DF AND UPDATE WAGE AND PW DATA\n",
    "bigwage = bigwage.set_index(\"ID\")\n",
    "df = df.set_index(\"ID\")\n",
    "df.loc[bigwage.index] = bigwage\n",
    "df = df.reset_index()"
   ]
  },
  {
   "cell_type": "code",
   "execution_count": 336,
   "id": "59fa0fb9",
   "metadata": {},
   "outputs": [],
   "source": [
    "# ANNUALIZED WAGE OFFER - ANNUALIZED PW: REDO, WITH CLEANED UP ANNUAL WAGE AND PW\n",
    "df[\"WO-PW\"] = df[\"WO_A\"] - df[\"PW_A\"]"
   ]
  },
  {
   "cell_type": "code",
   "execution_count": 337,
   "id": "8b37fc20",
   "metadata": {},
   "outputs": [
    {
     "data": {
      "text/plain": [
       "<AxesSubplot:ylabel='Frequency'>"
      ]
     },
     "execution_count": 337,
     "metadata": {},
     "output_type": "execute_result"
    },
    {
     "data": {
      "image/png": "[encoded data removed]",
      "text/plain": [
       "<Figure size 432x288 with 1 Axes>"
      ]
     },
     "metadata": {
      "needs_background": "light"
     },
     "output_type": "display_data"
    }
   ],
   "source": [
    "# CLEANING EMPLOYER HQ CITIES\n",
    "# CLEAN UP JOB CITY: distribution of the length of the cities\n",
    "df[\"EMPLOYER_CITY\"].str.len().plot(kind = \"hist\")"
   ]
  },
  {
   "cell_type": "code",
   "execution_count": 338,
   "id": "9c17991d",
   "metadata": {},
   "outputs": [
    {
     "data": {
      "text/plain": [
       "NEW YORK           41062\n",
       "SEATTLE            24506\n",
       "MOUNTAIN VIEW      21402\n",
       "SANTA CLARA        21085\n",
       "COLLEGE STATION    19646\n",
       "SAN FRANCISCO      18349\n",
       "SAN JOSE           18137\n",
       "REDMOND            17907\n",
       "CHICAGO            15309\n",
       "SUNNYVALE          11828\n",
       "HOUSTON            10303\n",
       "PLANO               8655\n",
       "CUPERTINO           7894\n",
       "EDISON              7304\n",
       "MENLO PARK          7258\n",
       "Name: EMPLOYER_CITY, dtype: int64"
      ]
     },
     "execution_count": 338,
     "metadata": {},
     "output_type": "execute_result"
    }
   ],
   "source": [
    "# TOO MANY TO MANUALLY CLEAN: \n",
    "# WHAT ARE THE TOP CITIES?\n",
    "df[\"EMPLOYER_CITY\"].value_counts()[:15]"
   ]
  },
  {
   "cell_type": "code",
   "execution_count": 356,
   "id": "5850cd1a",
   "metadata": {},
   "outputs": [
    {
     "data": {
      "text/plain": [
       "MOUNTAIN VIEW    21402\n",
       "Name: EMPLOYER_CITY, dtype: int64"
      ]
     },
     "execution_count": 356,
     "metadata": {},
     "output_type": "execute_result"
    }
   ],
   "source": [
    "# HOW MANY VARIATIONS OF THE TOP CITIES?\n",
    "#df[df[\"EMPLOYER_CITY\"].str.contains(\"mountain view\", case = False, na = False)][\"EMPLOYER_CITY\"].value_counts()"
   ]
  },
  {
   "cell_type": "code",
   "execution_count": 357,
   "id": "686654ae",
   "metadata": {},
   "outputs": [],
   "source": [
    "# TURNING ALL THE NYC VARATIONS INTO NEW YORK + SPELL OUT NEW YORK\n",
    "df[\"EMPLOYER_CITY\"] =  df[\"EMPLOYER_CITY\"].replace(\"NY\",\"NEW YORK\").replace(\"NYC\",\"NEW YORK\")\n",
    "df.loc[df[\"EMPLOYER_CITY\"].str.contains(\"new york\", case = False, na = False), \"EMPLOYER_CITY\"] = \"NEW YORK\"\n",
    "# MERGING THE TOP 15 cities (santa clara, COLLEGE STATION,redmond, cupertino, menlo park, and PLANO did NOT NEED CLEANING)\n",
    "df.loc[df[\"EMPLOYER_CITY\"].str.contains(\"seattle\", case = False, na = False), \"EMPLOYER_CITY\"] = \"SEATTLE\"\n",
    "df.loc[df[\"EMPLOYER_CITY\"].str.contains(\"san francisco\", case = False, na = False), \"EMPLOYER_CITY\"] = \"SAN FRANCISCO\"\n",
    "df.loc[df[\"EMPLOYER_CITY\"].str.contains(\"san jose\", case = False, na = False), \"EMPLOYER_CITY\"] = \"SAN JOSE\"\n",
    "df.loc[df[\"EMPLOYER_CITY\"].str.contains(\"chicago\", case = False, na = False), \"EMPLOYER_CITY\"] = \"CHICAGO\"\n",
    "df.loc[df[\"EMPLOYER_CITY\"].str.contains(\"houston\", case = False, na = False), \"EMPLOYER_CITY\"] = \"HOUSTON\"\n",
    "df.loc[df[\"EMPLOYER_CITY\"].str.contains(\"sunnyvale\", case = False, na = False), \"EMPLOYER_CITY\"] = \"SUNNYVALE\"\n",
    "df.loc[df[\"EMPLOYER_CITY\"].str.contains(\"los angeles\", case = False, na = False), \"EMPLOYER_CITY\"] = \"LOS ANGELES\"\n",
    "df.loc[df[\"EMPLOYER_CITY\"].str.contains(\"edison\", case = False, na = False), \"EMPLOYER_CITY\"] = \"EDISON\""
   ]
  },
  {
   "cell_type": "code",
   "execution_count": 362,
   "id": "0d4c3d05",
   "metadata": {},
   "outputs": [
    {
     "data": {
      "text/plain": [
       "1157"
      ]
     },
     "execution_count": 362,
     "metadata": {},
     "output_type": "execute_result"
    }
   ],
   "source": [
    "# HOW MANY STATES ARE EMPLOYERS HQ IN? SHOULD BE NO MORE THAN 60...\n",
    "df[\"EMPLOYER_STATE_PROVINCE\"].nunique()\n",
    "# ... 1157"
   ]
  },
  {
   "cell_type": "code",
   "execution_count": 363,
   "id": "bae68af5",
   "metadata": {},
   "outputs": [],
   "source": [
    "# ROUND 1 CLEANING STATES\n",
    "for j in range(len(mainst)):\n",
    "    df.loc[df[\"EMPLOYER_STATE_PROVINCE\"].str.contains(mainst[j], case = False, na = False), \"EMPLOYER_STATE_PROVINCE\"] = mainabr[j]"
   ]
  },
  {
   "cell_type": "code",
   "execution_count": 364,
   "id": "f33959e1",
   "metadata": {},
   "outputs": [
    {
     "data": {
      "text/plain": [
       "array(['PUERTO RICO', 'GUAM', 'NORTHERN MARIANA ISLANDS',\n",
       "       'NORTHERN MARIANA ISLANDS CNMI', ' PR', 'GUAM ', 'GUAM GUAM',\n",
       "       'NORTHERN MARIANA ISLANDS SAIPAN INTERNATIONAL SCHOOL',\n",
       "       'VIRGIN ISLANDS ABC SALES & SERVICES', 'VIRGIN ISLANDS ST. CROIX',\n",
       "       'PUERTO RICO SAN JUAN', ' FL 32773', ' FL BUILDIN',\n",
       "       'NORTHERN MARIANA ISLANDS NORTHERN MARIANA ISLANDS',\n",
       "       'VIRGIN ISLANDS', 'PUERTO RICO PUERTO RICO', ' OR OR',\n",
       "       'VIRGIN ISLANDS ST CROIX', 'PUERTO RICO PR',\n",
       "       'NORTHERN MARIANA ISLANDS NORTHERN MARIANA ISLAND',\n",
       "       'FEDERATED STATES OF MICRONESIA', 'BRITISH COLUMBIA'], dtype=object)"
      ]
     },
     "execution_count": 364,
     "metadata": {},
     "output_type": "execute_result"
    }
   ],
   "source": [
    "# HOW MANY STATES ARE THERE NOT ABR AFTER ROUND 1 CLEANING?\n",
    "df[\"EMPLOYER_STATE_PROVINCE\"].unique()[np.vectorize(len)(df[\"EMPLOYER_STATE_PROVINCE\"].unique())>2]"
   ]
  },
  {
   "cell_type": "code",
   "execution_count": 367,
   "id": "90a29613",
   "metadata": {},
   "outputs": [
    {
     "data": {
      "text/plain": [
       "['PUERTO RICO',\n",
       " 'GUAM',\n",
       " 'NORTHERN MARIANA ISLANDS',\n",
       " 'NORTHERN MARIANA ISLANDS CNMI',\n",
       " ' PR',\n",
       " 'GUAM ',\n",
       " 'GUAM GUAM',\n",
       " 'NORTHERN MARIANA ISLANDS SAIPAN INTERNATIONAL SCHOOL',\n",
       " 'VIRGIN ISLANDS ABC SALES & SERVICES',\n",
       " 'VIRGIN ISLANDS ST. CROIX',\n",
       " 'PUERTO RICO SAN JUAN',\n",
       " ' FL 32773',\n",
       " ' FL BUILDIN',\n",
       " 'NORTHERN MARIANA ISLANDS NORTHERN MARIANA ISLANDS',\n",
       " 'VIRGIN ISLANDS',\n",
       " 'PUERTO RICO PUERTO RICO',\n",
       " ' OR OR',\n",
       " 'VIRGIN ISLANDS ST CROIX',\n",
       " 'PUERTO RICO PR',\n",
       " 'NORTHERN MARIANA ISLANDS NORTHERN MARIANA ISLAND',\n",
       " 'FEDERATED STATES OF MICRONESIA',\n",
       " 'BRITISH COLUMBIA']"
      ]
     },
     "execution_count": 367,
     "metadata": {},
     "output_type": "execute_result"
    }
   ],
   "source": [
    "df[\"EMPLOYER_STATE_PROVINCE\"].unique()[np.vectorize(len)(df[\"EMPLOYER_STATE_PROVINCE\"].unique())>2].tolist()"
   ]
  },
  {
   "cell_type": "code",
   "execution_count": 369,
   "id": "f722ee86",
   "metadata": {},
   "outputs": [],
   "source": [
    "# CREATING THE SECONDARY LIST TO FINISH CLEANING STATES\n",
    "secondst = ['PUERTO RICO', 'GUAM', 'NORTHERN MARIANA ISLANDS',\n",
    "       'VIRGIN ISLANDS', 'MARSHALL ISLANDS',\n",
    "       'FEDERATED STATES OF MICRONESIA',\" PR\",\"FL 32773\",\"FL BUILDIN\",\"OR OR\",\"BRITISH COLUMBIA\"]\n",
    "secondabr = [\"PR\",\"GU\",\"MP\",\"VI\",\"MH\",\"FSM\",\"PR\",\"FL\",\"FL\",\"OR\",\"BC\"]\n",
    "# ROUND 2 CLEANING STATES\n",
    "for j in range(len(secondst)):\n",
    "    df.loc[df[\"EMPLOYER_STATE_PROVINCE\"].str.contains(secondst[j], case = False, na = False), \"EMPLOYER_STATE_PROVINCE\"] = secondabr[j]"
   ]
  },
  {
   "cell_type": "code",
   "execution_count": 372,
   "id": "c77ce18a",
   "metadata": {},
   "outputs": [],
   "source": [
    "# CREATING A WORKSITE REGION COLUMN\n",
    "df[\"EMPLOYER_REGION\"]=df[\"EMPLOYER_STATE_PROVINCE\"]\n",
    "for j in range(len(geostate)):\n",
    "    df.loc[df[\"EMPLOYER_REGION\"].str.contains(geostate[j], case = False, na = False), \"EMPLOYER_REGION\"] = region[j]\n"
   ]
  },
  {
   "cell_type": "code",
   "execution_count": 375,
   "id": "648adff4",
   "metadata": {},
   "outputs": [
    {
     "data": {
      "text/plain": [
       "array(['WEST', 'MIDWEST', 'SOUTH', 'NORTHEAST', 'TERRITORY', '', 'OTHER'],\n",
       "      dtype=object)"
      ]
     },
     "execution_count": 375,
     "metadata": {},
     "output_type": "execute_result"
    }
   ],
   "source": [
    "# UNIQUE REGIONS (CHECK IF ALL STATES WERE TRANSLATED CORRECTLY)\n",
    "df[\"EMPLOYER_REGION\"] = df[\"EMPLOYER_REGION\"].replace(\"BC\",\"OTHER\")\n",
    "df[\"EMPLOYER_REGION\"].unique()"
   ]
  },
  {
   "cell_type": "code",
   "execution_count": null,
   "id": "cb147abd",
   "metadata": {},
   "outputs": [],
   "source": []
  },
  {
   "cell_type": "code",
   "execution_count": null,
   "id": "3af42e96",
   "metadata": {},
   "outputs": [],
   "source": []
  },
  {
   "cell_type": "code",
   "execution_count": null,
   "id": "df8ad0be",
   "metadata": {},
   "outputs": [],
   "source": []
  },
  {
   "cell_type": "code",
   "execution_count": null,
   "id": "e9e2c6b4",
   "metadata": {},
   "outputs": [],
   "source": []
  },
  {
   "cell_type": "code",
   "execution_count": null,
   "id": "5b8338e8",
   "metadata": {},
   "outputs": [],
   "source": []
  },
  {
   "cell_type": "code",
   "execution_count": null,
   "id": "3d6cfeec",
   "metadata": {},
   "outputs": [],
   "source": [
    "# ADDING CATEGORICAL VARIABLE OF DISCREPANCY BETWEEN EMPLOYER HQ STATE AND CITY WITH JOB WORK SITE. UNIT OF WAGE AS WELL\n",
    "df[\"DISC_ST\"] = np.where(df[\"EMPLOYER_STATE\"]==df[\"JOB_INFO_WORK_STATE\"], 0, 1)\n",
    "df[\"DISC_CTY\"] = np.where(df[\"EMPLOYER_CITY\"]==df[\"JOB_INFO_WORK_CITY\"], 0, 1)\n",
    "df[\"DISC_UNIT\"] = np.where(df[\"WAGE_OFFER_UNIT_OF_PAY_9089\"]==df[\"PW_UNIT_OF_PAY_9089\"], 0, 1)"
   ]
  },
  {
   "cell_type": "code",
   "execution_count": null,
   "id": "ae34f9c5",
   "metadata": {},
   "outputs": [],
   "source": [
    "# CLEANING UP THE CLASS OF ADMISSIONS\n",
    "df.loc[df[\"CLASS_OF_ADMISSION\"].str.contains(\"PAROL\", case=False, na = False), \"CLASS_OF_ADMISSION\"] = \"PAROLEE\"\n",
    "df[\"CLASS_OF_ADMISSION\"] = np.where((df[\"CLASS_OF_ADMISSION\"] == \"H1B1\"),\"H-1B1\",df[\"CLASS_OF_ADMISSION\"])\n",
    "df[\"CLASS_OF_ADMISSION\"] = np.where((df[\"CLASS_OF_ADMISSION\"] == \"H-1B/I-485 APP\"),\"H-1B\",df[\"CLASS_OF_ADMISSION\"])\n",
    "df[\"CLASS_OF_ADMISSION\"] = np.where((df[\"CLASS_OF_ADMISSION\"] == \"AOS/H-1B\"),\"H-1B\",df[\"CLASS_OF_ADMISSION\"])\n",
    "df[\"CLASS_OF_ADMISSION\"] = np.where((df[\"CLASS_OF_ADMISSION\"] == \"H1B\"),\"H-1B\",df[\"CLASS_OF_ADMISSION\"])"
   ]
  },
  {
   "cell_type": "code",
   "execution_count": null,
   "id": "635768c7",
   "metadata": {},
   "outputs": [],
   "source": [
    "#manual Filter employers\n",
    "df.loc[df[\"EMPLOYER_NAME\"].str.contains(\"GOOGLE\", case = False, na = False),\"EMPLOYER_NAME\"]=\"GOOGLE\"\n",
    "df.loc[(df[\"EMPLOYER_NAME\"].str.contains(\"amazon |amazon.com\", case = False, na = False))&(~df[\"EMPLOYER_NAME\"].str.contains(\"amazon conservation team|amazon stones\", case = False, na = False)), \"EMPLOYER_NAME\"] = \"AMAZON\"\n",
    "df.loc[df[\"EMPLOYER_NAME\"].str.contains(\"MICROSOFT\", case = False, na = False), \"EMPLOYER_NAME\"] = \"MICROSOFT\"\n",
    "df.loc[df[\"EMPLOYER_NAME\"].str.contains(\"Cognizant\", case = False, na = False), \"EMPLOYER_NAME\"] = \"COGNIZANT\"\n",
    "df.loc[df[\"EMPLOYER_NAME\"].str.contains(\"intel corporation|intel mobile|intel massachusetts|intel america|intel federal\", case = False, na = False), \"EMPLOYER_NAME\"] = \"INTEL\"\n",
    "df.loc[df[\"EMPLOYER_NAME\"].str.contains(\"apple inc.|apple computer|apple educational\", case = False, na = False), \"EMPLOYER_NAME\"] = \"APPLE\"\n",
    "df.loc[df[\"EMPLOYER_NAME\"].str.contains(\"infosys ltd.|infosys technologies|infosys public|infosys solutions|infosys consulting|infosys international|infosys BPO\", case = False, na = False), \"EMPLOYER_NAME\"] = \"INFOSYS\"\n",
    "df.loc[df[\"EMPLOYER_NAME\"].str.contains(\"facebook\", case = False, na = False), \"EMPLOYER_NAME\"] = \"FACEBOOK\"\n",
    "df.loc[df[\"EMPLOYER_NAME\"].str.contains(\"tata consultancy|tata technologies|tata communications|tata industries|tata consltancy|tata enterprises|tata america international|tata autocomp|tata international metals|tata chemicals|tata elxsi\", case = False, na = False), \"EMPLOYER_NAME\"] = \"TATA\"\n",
    "df.loc[df[\"EMPLOYER_NAME\"].str.contains(\"oracle america|oracle usa|oracle financial\", case = False, na = False), \"EMPLOYER_NAME\"] = \"FACEBOOK\"\n",
    "df.loc[df[\"EMPLOYER_NAME\"].str.contains(\"hcl america\", case = False, na = False), \"EMPLOYER_NAME\"] = \"HCL AMERICA\"\n",
    "df.loc[df[\"EMPLOYER_NAME\"].str.contains(\"deloitte\", case = False, na = False), \"EMPLOYER_NAME\"] = \"DELOITTE\"\n",
    "df.loc[df[\"EMPLOYER_NAME\"].str.contains(\"qualcomm\", case = False, na = False), \"EMPLOYER_NAME\"] = \"QUALCOMM\"\n",
    "df.loc[df[\"EMPLOYER_NAME\"].str.contains(\"IBM \", case = False, na = False), \"EMPLOYER_NAME\"] = \"IBM\"\n",
    "df.loc[df[\"EMPLOYER_NAME\"].str.contains(\"Cisco systems|cisco consumer\", case = False, na = False), \"EMPLOYER_NAME\"] = \"CISCO\"\n",
    "df.loc[df[\"EMPLOYER_NAME\"].str.contains(\"salesforce\", case = False, na = False), \"EMPLOYER_NAME\"] = \"SALESFORCE\"\n",
    "df.loc[df[\"EMPLOYER_NAME\"].str.contains(\"morgan stanley\", case = False, na = False), \"EMPLOYER_NAME\"] = \"MORGAN STANLEY\"\n",
    "df.loc[df[\"EMPLOYER_NAME\"].str.contains(\"JP Morgan\", case = False, na = False), \"EMPLOYER_NAME\"] = \"JP MORGAN\"\n",
    "df.loc[df[\"EMPLOYER_NAME\"].str.contains(\"goldman sachs|goldman, sachs|goldman,sachs\", case = False, na = False), \"EMPLOYER_NAME\"] = \"GOLDMAN SACHS\"\n",
    "df.loc[df[\"EMPLOYER_NAME\"].str.contains(\"MERRILL LYNCH\", case = False, na = False), \"EMPLOYER_NAME\"] = \"MERRILL LYNCH\"\n",
    "df.loc[df[\"EMPLOYER_NAME\"].str.contains(\"Citibank|citigroup\", case = False, na = False), \"EMPLOYER_NAME\"] = \"CITI GROUP\"\n",
    "df.loc[df[\"EMPLOYER_NAME\"].str.contains(\"CREDIT SUISSE\", case = False, na = False), \"EMPLOYER_NAME\"] = \"CREDIT SUISSE\"\n",
    "df.loc[df[\"EMPLOYER_NAME\"].str.contains(\"pricewater|pwc\", case = False, na = False), \"EMPLOYER_NAME\"] = \"PRICEWATERHOUSECOOPERS\"\n",
    "df.loc[df[\"EMPLOYER_NAME\"].str.contains(\"ernst  |ernst & Young\", case = False, na = False), \"EMPLOYER_NAME\"] = \"ERNST YOUNG\"\n",
    "df.loc[df[\"EMPLOYER_NAME\"].str.contains(\"capgemini\", case = False, na = False), \"EMPLOYER_NAME\"] = \"CAPGEMINI\"\n",
    "df.loc[df[\"EMPLOYER_NAME\"].str.contains(\"technip usa\", case = False, na = False), \"EMPLOYER_NAME\"] = \"TECHNIP USA\"\n",
    "df.loc[df[\"EMPLOYER_NAME\"].str.contains(\"bechtel \", case = False, na = False), \"EMPLOYER_NAME\"] = \"BECHTEL\"\n",
    "df.loc[(df[\"EMPLOYER_NAME\"].str.contains(\"hp enterprise services|hp inc.|Hewlett-|Hewlett P|HewlettP\", case = False, na = False))&(~df[\"EMPLOYER_NAME\"].str.contains(\"queen nails hp inc|backer ehp inc\", case = False, na = False)), \"EMPLOYER_NAME\"] = \"AMAZON\"\n",
    "df.loc[df[\"EMPLOYER_NAME\"].str.contains(\"CGGVERITAS\", case = False, na = False), \"EMPLOYER_NAME\"] = \"CGGVERITAS\"\n",
    "df.loc[df[\"EMPLOYER_NAME\"].str.contains(\"national oilwell\", case = False, na = False), \"EMPLOYER_NAME\"] = \"NATIONAL OILWELL VARCO\"\n",
    "df.loc[df[\"EMPLOYER_NAME\"].str.contains(\"IH SERVICES\", case = False, na = False), \"EMPLOYER_NAME\"] = \"IH SERVICES\"\n",
    "df.loc[df[\"EMPLOYER_NAME\"].str.contains(\"paypal\", case = False, na = False), \"EMPLOYER_NAME\"] = \"PAYPAL\"\n",
    "df.loc[df[\"EMPLOYER_NAME\"].str.contains(\"EBAY INC.|EBAY INC|EBAY ENTERPRISE|EBAY MOBILE LABS| EBAY PAYMENTS\", case = False, na = False), \"EMPLOYER_NAME\"] = \"EBAY\"\n",
    "df.loc[df[\"EMPLOYER_NAME\"].str.contains(\"brocade\", case = False, na = False), \"EMPLOYER_NAME\"] = \"BROCADE\"\n",
    "df.loc[df[\"EMPLOYER_NAME\"].str.contains(\"ADOBE INC.|ADOBE SYSTEMS\", case = False, na = False), \"EMPLOYER_NAME\"] = \"ADOBE\"\n",
    "df.loc[df[\"EMPLOYER_NAME\"].str.contains(\"University of Chicago\", case = False, na = False), \"EMPLOYER_NAME\"] = \"THE UNIVERSITY OF CHICAGO\"\n",
    "df.loc[df[\"EMPLOYER_NAME\"].str.contains(\"mckinsey\", case = False, na = False), \"EMPLOYER_NAME\"] = \"MCKINSEY COMPANY\"\n",
    "df.loc[df[\"EMPLOYER_NAME\"].str.contains(\"motorola\", case = False, na = False), \"EMPLOYER_NAME\"] = \"MOTOROLA\"\n",
    "df.loc[df[\"EMPLOYER_NAME\"].str.contains(\"citadel LLC|citadel americas|citadel Securities|citadel investment|citadel enterprise\", case = False, na = False), \"EMPLOYER_NAME\"] = \"CITADEL LLC\"\n",
    "df.loc[df[\"EMPLOYER_NAME\"].str.contains(\"yahoo\", case = False, na = False), \"EMPLOYER_NAME\"] = \"YAHOO\"\n",
    "df.loc[df[\"EMPLOYER_NAME\"].str.contains(\"Juniper networks\", case = False, na = False), \"EMPLOYER_NAME\"] = \"JUNIPER NETWORKS\"\n",
    "df.loc[df[\"EMPLOYER_NAME\"].str.contains(\"a2z development\", case = False, na = False), \"EMPLOYER_NAME\"] = \"A2Z DEVELOPMENT\"\n",
    "df.loc[df[\"EMPLOYER_NAME\"].str.contains(\"walmart|wal-mart\", case = False, na = False), \"EMPLOYER_NAME\"] = \"WALMART\"\n",
    "df.loc[df[\"EMPLOYER_NAME\"].str.contains(\"fortinet\", case = False, na = False), \"EMPLOYER_NAME\"] = \"FORTINET\"\n",
    "df.loc[df[\"EMPLOYER_NAME\"].str.contains(\"larsen &|larsen  \", case = False, na = False), \"EMPLOYER_NAME\"] = \"LARSEN TOUBRO\"\n",
    "df.loc[df[\"EMPLOYER_NAME\"].str.contains(\"mindtree\", case = False, na = False), \"EMPLOYER_NAME\"] = \"MINDTREE LIMITED\"\n",
    "df.loc[df[\"EMPLOYER_NAME\"].str.contains(\"igate tech|igate mastech|igate global\", case = False, na = False), \"EMPLOYER_NAME\"] = \"IGATE TECHNOLOGIES\"\n",
    "df.loc[df[\"EMPLOYER_NAME\"].str.contains(\"3i info\", case = False, na = False), \"EMPLOYER_NAME\"] = \"3I INFOTECH\"\n",
    "df.loc[df[\"EMPLOYER_NAME\"].str.contains(\"NTT Data\", case = False, na = False), \"EMPLOYER_NAME\"] = \"NTT DATA\"\n",
    "df.loc[df[\"EMPLOYER_NAME\"].str.contains(\"Texas instrument\", case = False, na = False), \"EMPLOYER_NAME\"] = \"TEXAS INSTRUMENTS\"\n",
    "df.loc[df[\"EMPLOYER_NAME\"].str.contains(\"tech mahindra\", case = False, na = False), \"EMPLOYER_NAME\"] = \"TECH MAHINDRA\"\n",
    "df.loc[df[\"EMPLOYER_NAME\"].str.contains(\"DELL USA LP|DELL PRODUCTS LP|DELL MARKETING LP|DELL SOFTWARE INC|DELL FINANCIAL\", case = False, na = False), \"EMPLOYER_NAME\"] = \"DELL\"\n",
    "df.loc[df[\"EMPLOYER_NAME\"].str.contains(\"uber technologies\", case = False, na = False), \"EMPLOYER_NAME\"] = \"UBER TECHNOLOGIES\"\n",
    "df.loc[df[\"EMPLOYER_NAME\"].str.contains(\"case farms\", case = False, na = False), \"EMPLOYER_NAME\"] = \"CASE FARMS\"\n",
    "df.loc[df[\"EMPLOYER_NAME\"].str.contains(\"house of raeford\", case = False, na = False), \"EMPLOYER_NAME\"] = \"HOUSE OF RAEFORD FARMS\"\n",
    "df.loc[df[\"EMPLOYER_NAME\"].str.contains(\"george's processing\", case = False, na = False), \"EMPLOYER_NAME\"] = \"GEORGE'S PROCESSING\"\n",
    "df.loc[df[\"EMPLOYER_NAME\"].str.contains(\"abbyland\", case = False, na = False), \"EMPLOYER_NAME\"] = \"ABBYLAND FOODS\"\n",
    "df.loc[df[\"EMPLOYER_NAME\"].str.contains(\"koch foods of cinc\", case = False, na = False), \"EMPLOYER_NAME\"] = \"KOCH FOODS OF CINCINNATI\"\n",
    "df.loc[df[\"EMPLOYER_NAME\"].str.contains(\"koch foods of al\", case = False, na = False), \"EMPLOYER_NAME\"] = \"KOCH FOODS OF ALABAMA\""
   ]
  },
  {
   "cell_type": "code",
   "execution_count": null,
   "id": "fbdfc94e",
   "metadata": {},
   "outputs": [],
   "source": [
    "#EMPLOYER LOOK UP TOOL\n",
    "#df[df[\"EMPLOYER_NAME\"].str.contains(\"wayne farms\", case = False, na = False)][\"EMPLOYER_NAME\"].value_counts()"
   ]
  },
  {
   "cell_type": "code",
   "execution_count": null,
   "id": "e5803cb8",
   "metadata": {},
   "outputs": [],
   "source": []
  },
  {
   "cell_type": "code",
   "execution_count": null,
   "id": "0f6c3a28",
   "metadata": {},
   "outputs": [],
   "source": []
  },
  {
   "cell_type": "code",
   "execution_count": null,
   "id": "4d0ae6d4",
   "metadata": {},
   "outputs": [],
   "source": []
  },
  {
   "cell_type": "code",
   "execution_count": null,
   "id": "195c42c6",
   "metadata": {},
   "outputs": [],
   "source": [
    "# DROP THE UNNEEDED COLUMNS"
   ]
  },
  {
   "cell_type": "code",
   "execution_count": null,
   "id": "f314117d",
   "metadata": {},
   "outputs": [],
   "source": [
    "# DROP RECIEVED DATE AFTER EXTRACTING MONTH OF YEAR AND SETING INDEX TO DECISION DATE\n",
    "# RECEIVED DATE ISNT NEEDED WITH RECIEVE - DECISION COLUMN AND DECISION DATE\n",
    "#df = df.set_index(\"DECISION_DATE\")\n",
    "#df = df.drop(\"RECEIVED_DATE\", axis = 1)"
   ]
  },
  {
   "cell_type": "code",
   "execution_count": null,
   "id": "f32f5fcd",
   "metadata": {},
   "outputs": [],
   "source": []
  },
  {
   "cell_type": "code",
   "execution_count": null,
   "id": "ceab5cb2",
   "metadata": {},
   "outputs": [],
   "source": []
  },
  {
   "cell_type": "code",
   "execution_count": null,
   "id": "9623f49b",
   "metadata": {},
   "outputs": [],
   "source": []
  },
  {
   "cell_type": "code",
   "execution_count": null,
   "id": "d780edbd",
   "metadata": {},
   "outputs": [],
   "source": []
  },
  {
   "cell_type": "code",
   "execution_count": null,
   "id": "48bbdc71",
   "metadata": {},
   "outputs": [],
   "source": [
    "############################################################"
   ]
  },
  {
   "cell_type": "code",
   "execution_count": null,
   "id": "9a551f25",
   "metadata": {},
   "outputs": [],
   "source": [
    "########## EDA ##########"
   ]
  },
  {
   "cell_type": "code",
   "execution_count": null,
   "id": "5df2d0c5",
   "metadata": {},
   "outputs": [],
   "source": [
    "### EMPLOYERS ###"
   ]
  },
  {
   "cell_type": "code",
   "execution_count": null,
   "id": "9b07adf8",
   "metadata": {},
   "outputs": [],
   "source": [
    "# Top 15 Employers of all time 2007-2021\n",
    "allemp = pd.DataFrame(df[\"EMPLOYER_NAME\"].value_counts()[:15]).reset_index()\n",
    "allemp.columns = [\"AEMP\",\"COUNT AEMP\"]\n",
    "sucemp = pd.DataFrame(df[df[\"CASE_STATUS\"]==1][\"EMPLOYER_NAME\"].value_counts()[:15]).reset_index()\n",
    "sucemp.columns = [\"SEMP\",\"COUNT SEMP\"]\n",
    "pd.concat([allemp,sucemp], axis = 1)"
   ]
  },
  {
   "cell_type": "code",
   "execution_count": null,
   "id": "0c8db620",
   "metadata": {},
   "outputs": [],
   "source": [
    "# Grabbing the top 15 for each year employers: success only\n",
    "def grab (year):\n",
    "    return df[(df[\"YEAR\"]==year)&(df[\"CASE_STATUS\"]==1)][\"EMPLOYER_NAME\"].value_counts()[:15]\n",
    "top15semp = pd.DataFrame([grab(2007),grab(2008),grab(2009),grab(2010),\n",
    "             grab(2011),grab(2012),grab(2013),grab(2014),grab(2015),\n",
    "             grab(2016),grab(2017),grab(2018),grab(2019),grab(2020),\n",
    "             grab(2021)], index = [2007,2008,2009,2010,2011,2012,2013,2014,2015,2016,2017,\n",
    "                                  2018,2019,2020,2021]).transpose()\n",
    "# King of Consistency: Count the N in top 15 (success)\n",
    "kingcons = top15semp.isnull().replace(False,0).replace(True,1)\n",
    "kingcons[\"Yrs not in top15\"] = kingcons[2007]+kingcons[2008]+kingcons[2009]+kingcons[2010]+kingcons[2011]+kingcons[2012]+kingcons[2013]+kingcons[2014]+kingcons[2015]+kingcons[2016]+kingcons[2017]+kingcons[2018]+kingcons[2019]+kingcons[2020]+kingcons[2021]\n",
    "kingcons[\"Yrs not in top15\"].sort_values()"
   ]
  },
  {
   "cell_type": "code",
   "execution_count": null,
   "id": "129aff06",
   "metadata": {},
   "outputs": [],
   "source": [
    "# Grabbing the top 15 for each year employers: regardless of success\n",
    "def grab (year):\n",
    "    return df[df[\"YEAR\"]==year][\"EMPLOYER_NAME\"].value_counts()[:15]\n",
    "top15aemp = pd.DataFrame([grab(2007),grab(2008),grab(2009),grab(2010),\n",
    "             grab(2011),grab(2012),grab(2013),grab(2014),grab(2015),\n",
    "             grab(2016),grab(2017),grab(2018),grab(2019),grab(2020),\n",
    "             grab(2021)], index = [2007,2008,2009,2010,2011,2012,2013,2014,2015,2016,2017,\n",
    "                                  2018,2019,2020,2021]).transpose()\n",
    "# King of Consistency: Count the N in top 15 (application)\n",
    "kingcon = top15aemp.isnull().replace(False,0).replace(True,1)\n",
    "kingcon[\"Yrs not in top15\"] = kingcon[2007]+kingcon[2008]+kingcon[2009]+kingcon[2010]+kingcon[2011]+kingcon[2012]+kingcon[2013]+kingcon[2014]+kingcon[2015]+kingcon[2016]+kingcon[2017]+kingcon[2018]+kingcon[2019]+kingcon[2020]+kingcon[2021]\n",
    "kingcon[\"Yrs not in top15\"].sort_values()"
   ]
  },
  {
   "cell_type": "code",
   "execution_count": null,
   "id": "04f46003",
   "metadata": {},
   "outputs": [],
   "source": [
    "### GENERAL TRENDS IN APPLICATION SUCCESS AND VOLUME ###"
   ]
  },
  {
   "cell_type": "code",
   "execution_count": null,
   "id": "c855d6d7",
   "metadata": {},
   "outputs": [],
   "source": [
    "# Denial Applications BY YEAR\n",
    "ddf = pd.DataFrame(df.groupby(\"YEAR\")[\"CASE_STATUS\"].value_counts()[1::2])\n",
    "ddf.columns = [\"DENIAL\"]\n",
    "ddf = ddf.reset_index()\n",
    "ddf = ddf.drop(\"CASE_STATUS\", axis = 1)\n",
    "ddf = ddf.set_index(\"YEAR\")\n",
    "#TOTAL APPLICATIONS BY YEAR\n",
    "tap = pd.DataFrame(df.groupby(\"YEAR\")[\"CASE_STATUS\"].count())\n",
    "tap.columns = [\"TOTAL APP\"]\n",
    "pd.concat([ddf,tap], axis = 1).plot()\n",
    "# SUCCESS APPLICATIONS BY YEAR\n",
    "adf = pd.DataFrame(df.groupby(\"YEAR\")[\"CASE_STATUS\"].value_counts()[0::2])\n",
    "adf.columns = [\"ACCEPT\"]\n",
    "adf = adf.reset_index()\n",
    "adf = adf.drop(\"CASE_STATUS\", axis = 1)\n",
    "adf = adf.set_index(\"YEAR\")"
   ]
  },
  {
   "cell_type": "code",
   "execution_count": null,
   "id": "f5590556",
   "metadata": {},
   "outputs": [],
   "source": [
    "# Acceptance Correlations\n",
    "st.linregress(x = adf.reset_index()[\"YEAR\"],y = adf.reset_index()[\"ACCEPT\"])"
   ]
  },
  {
   "cell_type": "code",
   "execution_count": null,
   "id": "9c1cd85f",
   "metadata": {},
   "outputs": [],
   "source": [
    "# Acceptance as %\n",
    "adf[\"%A\"] = adf[\"ACCEPT\"]/tap[\"TOTAL APP\"]\n",
    "adf[\"%A\"].plot()"
   ]
  },
  {
   "cell_type": "code",
   "execution_count": null,
   "id": "9f8528a9",
   "metadata": {},
   "outputs": [],
   "source": [
    "# CORREL AND LIN REG BETWEEN % SUCCESS AND TIME\n",
    "st.linregress(x = adf.reset_index()[\"YEAR\"],y = adf.reset_index()[\"%A\"])"
   ]
  },
  {
   "cell_type": "code",
   "execution_count": null,
   "id": "2301eb44",
   "metadata": {},
   "outputs": [],
   "source": [
    "# DATATABLE WITH ACCEPT AND DENIAL % OVER THE YEARS\n",
    "acy = df.groupby(\"YEAR\")[\"CASE_STATUS\"].value_counts()\n",
    "acyper = pd.DataFrame(acy.groupby(level=0).transform(lambda x: (x / x.sum()).round(2)))\n",
    "acyper.columns = [\"Percent\"]\n",
    "f = acyper.reset_index()[\"YEAR\"].tolist()\n",
    "t = acyper.reset_index()[\"CASE_STATUS\"].replace(1,\"Accept\").replace(0,\"Reject\").tolist()\n",
    "idx = []\n",
    "idx.extend([tuple(a) for a in zip (f,t)])\n",
    "acyper.index = pd.MultiIndex.from_tuples(idx)\n",
    "acyper"
   ]
  },
  {
   "cell_type": "code",
   "execution_count": null,
   "id": "d0eedf12",
   "metadata": {},
   "outputs": [],
   "source": []
  },
  {
   "cell_type": "code",
   "execution_count": null,
   "id": "62636cdb",
   "metadata": {},
   "outputs": [],
   "source": []
  },
  {
   "cell_type": "code",
   "execution_count": null,
   "id": "a1fe7560",
   "metadata": {},
   "outputs": [],
   "source": []
  },
  {
   "cell_type": "code",
   "execution_count": null,
   "id": "129fea91",
   "metadata": {},
   "outputs": [],
   "source": []
  },
  {
   "cell_type": "code",
   "execution_count": null,
   "id": "41f9945f",
   "metadata": {},
   "outputs": [],
   "source": [
    "#### WAGE ANALYSIS ####"
   ]
  },
  {
   "cell_type": "code",
   "execution_count": null,
   "id": "549c7af6",
   "metadata": {},
   "outputs": [],
   "source": [
    "yr = df[\"YEAR\"].unique().tolist()\n",
    "yr = yr.sort()"
   ]
  },
  {
   "cell_type": "code",
   "execution_count": null,
   "id": "767213ca",
   "metadata": {},
   "outputs": [],
   "source": [
    "# CORREL AND LIN REG BETWEEN Wage Offered and the Year (case by case)\n",
    "st.linregress(y = df.reset_index().dropna()[\"WO_A\"], x = yr)"
   ]
  },
  {
   "cell_type": "code",
   "execution_count": null,
   "id": "64f0a990",
   "metadata": {},
   "outputs": [],
   "source": [
    "# CORREL AND LIN REG BETWEEN Wage offered (btm 25%) and Year (in aggregate)\n",
    "st.linregress(y = df.groupby(\"YEAR\")[\"WO_A\"].quantile(.25), x = yr)"
   ]
  },
  {
   "cell_type": "code",
   "execution_count": null,
   "id": "65a68cee",
   "metadata": {},
   "outputs": [],
   "source": [
    "# CORREL AND LIN REG BETWEEN Wage offered (median) and Year (in aggregate)\n",
    "st.linregress(y = df.groupby(\"YEAR\")[\"WO_A\"].quantile(.5), x = yr)"
   ]
  },
  {
   "cell_type": "code",
   "execution_count": null,
   "id": "e5f5923a",
   "metadata": {},
   "outputs": [],
   "source": [
    "# CORREL AND LIN REG BETWEEN Wage offered (top 75%) and Year (in aggregate)\n",
    "st.linregress(y = df.groupby(\"YEAR\")[\"WO_A\"].quantile(.75), x = yr)"
   ]
  },
  {
   "cell_type": "code",
   "execution_count": null,
   "id": "20bc5419",
   "metadata": {},
   "outputs": [],
   "source": [
    "# CORREL AND LIN REG BETWEEN WAGE OFFERED - PW WAGE and Acceptance (case by case) \n",
    "# FIRST TURN INTO A DUMMY AND THEN COMPARE WITH CASE STATUS AND COMPARE IT WITH IF WAGE OFFER NOT BIGGER: ANY DIFFERENCE?\n",
    "st.linregress(x = np.where(df[\"OW-PW\"]> 0, 1, 0),y = df[\"CASE_STATUS\"])\n",
    "st.linregress(x = np.where(df[\"OW-PW\"]< 0, 1, 0),y = df[\"CASE_STATUS\"])"
   ]
  },
  {
   "cell_type": "code",
   "execution_count": null,
   "id": "a2bb3819",
   "metadata": {},
   "outputs": [],
   "source": [
    "#PLOT OF AVERAGE WAGE - PW\n",
    "fig,axes = plt.subplots(ncols = 2, figsize = (12,10))\n",
    "df.groupby(\"YEAR\")[\"OW-PW\"].mean().plot(ax = axes[0],kind = \"bar\")\n",
    "df.groupby(\"YEAR\")[\"OW-PW\"].quantile(.5).plot(ax = axes[1],kind = \"bar\")"
   ]
  },
  {
   "cell_type": "code",
   "execution_count": null,
   "id": "6ab2e54d",
   "metadata": {},
   "outputs": [],
   "source": []
  },
  {
   "cell_type": "code",
   "execution_count": null,
   "id": "8ae3df3e",
   "metadata": {},
   "outputs": [],
   "source": []
  },
  {
   "cell_type": "code",
   "execution_count": null,
   "id": "395da0e8",
   "metadata": {},
   "outputs": [],
   "source": [
    "### CITY AND STATE TO WORK IN ###"
   ]
  },
  {
   "cell_type": "code",
   "execution_count": null,
   "id": "e2ec211b",
   "metadata": {},
   "outputs": [],
   "source": [
    "# ACCEPT % BASED ON STATE HQ IN\n",
    "\n",
    "empy = df.groupby(\"EMPLOYER_STATE\")[\"CASE_STATUS\"].value_counts()\n",
    "empyer = pd.DataFrame(empy.groupby(level=0).transform(lambda x: (x / x.sum()).round(2)))\n",
    "empyer.columns = [\"Percent\"]\n",
    "f1 = empyer.reset_index()[\"EMPLOYER_STATE\"].tolist()\n",
    "t1 = empyer.reset_index()[\"CASE_STATUS\"].replace(1,\"Accept\").replace(0,\"Reject\").tolist()\n",
    "idx1 = []\n",
    "idx1.extend([tuple(a) for a in zip (f1,t1)])\n",
    "empyer.index = pd.MultiIndex.from_tuples(idx1)\n",
    "empyer = empyer.reset_index()\n",
    "empyer = empyer[empyer[\"level_1\"]==\"Accept\"]\n",
    "empyer = empyer.drop(\"level_1\",axis = 1)\n",
    "\n",
    "empycount = pd.DataFrame(df.groupby(\"EMPLOYER_STATE\")[\"CASE_STATUS\"].value_counts())\n",
    "empycount.columns = [\"Count\"]\n",
    "empycount = empycount.reset_index()\n",
    "empycount = empycount[empycount[\"CASE_STATUS\"]==1]\n",
    "empycount = empycount[\"Count\"]\n",
    "\n",
    "empyer = pd.concat([empyer, empycount], axis = 1)\n",
    "empyer.columns = [\"State\",\"Percent\",\"Count\"]\n",
    "empyer[\"Count\"] = empyer[\"State\"].astype(str)+\": \"+empyer[\"Count\"].astype(str)+\" Successful Applications\"\n",
    "empyer"
   ]
  },
  {
   "cell_type": "code",
   "execution_count": null,
   "id": "e2de1f84",
   "metadata": {},
   "outputs": [],
   "source": [
    "# Choropleth Map of Employer State Accept %\n",
    "data = dict(type = \"choropleth\",\n",
    "           locations = empyer[\"State\"],\n",
    "           locationmode = \"USA-states\",\n",
    "           z = empyer[\"Percent\"].astype(float),\n",
    "           text = empyer[\"Count\"],\n",
    "           colorbar={\"title\":\"Percent Accepted\"},\n",
    "           colorscale = \"delta\",\n",
    "           marker = dict(line = dict(color = \"rgb(255,255,255)\")) )\n",
    "layout = dict(title = \"Percent Accepted in Employer Headquartered States\",\n",
    "              geo = dict(scope = \"usa\",showlakes = True, lakecolor = \"rgb(255,255,255)\"))\n",
    "choro = go.Figure(data, layout)\n",
    "iplot(choro)"
   ]
  },
  {
   "cell_type": "code",
   "execution_count": null,
   "id": "90d67fd7",
   "metadata": {},
   "outputs": [],
   "source": [
    "# ACCEPT % BASED ON STATE WORKED IN\n",
    "\n",
    "joby = df.groupby(\"JOB_INFO_WORK_STATE\")[\"CASE_STATUS\"].value_counts()\n",
    "jobyer = pd.DataFrame(joby.groupby(level=0).transform(lambda x: (x / x.sum()).round(2)))\n",
    "jobyer.columns = [\"Percent\"]\n",
    "f1 = jobyer.reset_index()[\"JOB_INFO_WORK_STATE\"].tolist()\n",
    "t1 = jobyer.reset_index()[\"CASE_STATUS\"].replace(1,\"Accept\").replace(0,\"Reject\").tolist()\n",
    "idx1 = []\n",
    "idx1.extend([tuple(a) for a in zip (f1,t1)])\n",
    "jobyer.index = pd.MultiIndex.from_tuples(idx1)\n",
    "jobyer = jobyer.reset_index()\n",
    "jobyer = jobyer[jobyer[\"level_1\"]==\"Accept\"]\n",
    "jobyer = jobyer.drop(\"level_1\",axis = 1)\n",
    "\n",
    "jobycount = pd.DataFrame(df.groupby(\"JOB_INFO_WORK_STATE\")[\"CASE_STATUS\"].value_counts())\n",
    "jobycount.columns = [\"Count\"]\n",
    "jobycount = jobycount.reset_index()\n",
    "jobycount = jobycount[jobycount[\"CASE_STATUS\"]==1]\n",
    "jobycount = jobycount[\"Count\"]\n",
    "\n",
    "jobyer = pd.concat([jobyer, jobycount], axis = 1)\n",
    "jobyer.columns = [\"State\",\"Percent\",\"Count\"]\n",
    "jobyer[\"Count\"] = jobyer[\"State\"].astype(str)+\": \"+jobyer[\"Count\"].astype(str)+\" Successful Applications\"\n",
    "jobyer"
   ]
  },
  {
   "cell_type": "code",
   "execution_count": null,
   "id": "7f0db2c4",
   "metadata": {},
   "outputs": [],
   "source": [
    "# Choropleth Map of JOB State Accept %\n",
    "data = dict(type = \"choropleth\",\n",
    "           locations = jobyer[\"State\"],\n",
    "           locationmode = \"USA-states\",\n",
    "           z = jobyer[\"Percent\"].astype(float),\n",
    "           text = jobyer[\"Count\"],\n",
    "           colorbar={\"title\":\"Percent Accepted\"},\n",
    "           colorscale = \"delta\",\n",
    "           marker = dict(line = dict(color = \"rgb(255,255,255)\")) )\n",
    "layout = dict(title = \"Percent Accepted in States Worked In\",\n",
    "              geo = dict(scope = \"usa\",showlakes = True, lakecolor = \"rgb(255,255,255)\"))\n",
    "choro = go.Figure(data, layout)\n",
    "iplot(choro)"
   ]
  },
  {
   "cell_type": "code",
   "execution_count": null,
   "id": "1df4b556",
   "metadata": {},
   "outputs": [],
   "source": [
    "# top 15 CITY TO WORK IN (APPLICATION)\n",
    "def grab (year):\n",
    "    return df[df[\"YEAR\"]==year][\"JOB_INFO_WORK_CITY\"].value_counts()[:15]\n",
    "top15jcityapp = pd.DataFrame([grab(2007),grab(2008),grab(2009),grab(2010),\n",
    "             grab(2011),grab(2012),grab(2013),grab(2014),grab(2015),\n",
    "             grab(2016),grab(2017),grab(2018),grab(2019),grab(2020),\n",
    "             grab(2021)], index = [2007,2008,2009,2010,2011,2012,2013,2014,2015,2016,2017,\n",
    "                                  2018,2019,2020,2021]).transpose()\n",
    "# King of Consistency: Count the N in top 15 (application) Job city\n",
    "kingconjc = top15jcityapp.isnull().replace(False,0).replace(True,1)\n",
    "kingconjc[\"Yrs not in top15\"] = kingconjc[2007]+kingconjc[2008]+kingconjc[2009]+kingconjc[2010]+kingconjc[2011]+kingconjc[2012]+kingconjc[2013]+kingconjc[2014]+kingconjc[2015]+kingconjc[2016]+kingconjc[2017]+kingconjc[2018]+kingconjc[2019]+kingconjc[2020]+kingconjc[2021]\n",
    "kingconjc[\"Yrs not in top15\"].sort_values()"
   ]
  },
  {
   "cell_type": "code",
   "execution_count": null,
   "id": "961ce93b",
   "metadata": {},
   "outputs": [],
   "source": [
    "# Top 15 City TO WORK IN (SUCCESS)\n",
    "def grab (year):\n",
    "    return df[(df[\"YEAR\"]==year)&(df[\"CASE_STATUS\"]==1)][\"JOB_INFO_WORK_CITY\"].value_counts()[:15]\n",
    "top15jcitysuc = pd.DataFrame([grab(2007),grab(2008),grab(2009),grab(2010),\n",
    "             grab(2011),grab(2012),grab(2013),grab(2014),grab(2015),\n",
    "             grab(2016),grab(2017),grab(2018),grab(2019),grab(2020),\n",
    "             grab(2021)], index = [2007,2008,2009,2010,2011,2012,2013,2014,2015,2016,2017,\n",
    "                                  2018,2019,2020,2021]).transpose()\n",
    "# King of Consistency: Count the N in top 15 (success) Job city\n",
    "kingconjc = top15jcitysuc.isnull().replace(False,0).replace(True,1)\n",
    "kingconjc[\"Yrs not in top15\"] = kingconjc[2007]+kingconjc[2008]+kingconjc[2009]+kingconjc[2010]+kingconjc[2011]+kingconjc[2012]+kingconjc[2013]+kingconjc[2014]+kingconjc[2015]+kingconjc[2016]+kingconjc[2017]+kingconjc[2018]+kingconjc[2019]+kingconjc[2020]+kingconjc[2021]\n",
    "kingconjc[\"Yrs not in top15\"].sort_values()"
   ]
  },
  {
   "cell_type": "code",
   "execution_count": null,
   "id": "8ac3baf9",
   "metadata": {},
   "outputs": [],
   "source": [
    "##### DEEPER DIVE INTO TOP CITY ####"
   ]
  },
  {
   "cell_type": "code",
   "execution_count": null,
   "id": "61f551c5",
   "metadata": {},
   "outputs": [],
   "source": [
    "# Working in New York City\n",
    "# TOP JOB CODES in NEW YORK CITY\n",
    "appcol = pd.DataFrame(df[df[\"JOB_INFO_WORK_CITY\"]==\"NEW YORK\"][\"PW_SOC_CODE\"].value_counts()[:15]).reset_index()\n",
    "appcol.columns = [\"ACode\",\"ACount\"]\n",
    "succol = pd.DataFrame(df[(df[\"JOB_INFO_WORK_CITY\"]==\"NEW YORK\")&(df[\"CASE_STATUS\"]==1)][\"PW_SOC_CODE\"].value_counts()[:15]).reset_index()\n",
    "succol.columns = [\"SCode\",\"SCount\"]\n",
    "pd.concat([appcol,succol], axis = 1)"
   ]
  },
  {
   "cell_type": "code",
   "execution_count": null,
   "id": "14d412bd",
   "metadata": {},
   "outputs": [],
   "source": [
    "# Working in New York City\n",
    "# EMPLOYER NAMES\n",
    "appcol = pd.DataFrame(df[df[\"JOB_INFO_WORK_CITY\"]==\"NEW YORK\"][\"EMPLOYER_NAME\"].value_counts()[:15]).reset_index()\n",
    "appcol.columns = [\"AName\",\"ACount\"]\n",
    "succol = pd.DataFrame(df[(df[\"JOB_INFO_WORK_CITY\"]==\"NEW YORK\")&(df[\"CASE_STATUS\"]==1)][\"EMPLOYER_NAME\"].value_counts()[:15]).reset_index()\n",
    "succol.columns = [\"SName\",\"SCount\"]\n",
    "pd.concat([appcol,succol], axis = 1)"
   ]
  },
  {
   "cell_type": "code",
   "execution_count": null,
   "id": "2a05c015",
   "metadata": {},
   "outputs": [],
   "source": [
    "# Working in New York City\n",
    "# Wage Offered\n",
    "print(\"25th Percentile Application:\",round(df[df[\"JOB_INFO_WORK_CITY\"]==\"NEW YORK\"][\"WAGE_OFFER_FROM_9089\"].quantile(.25),2))\n",
    "print(\"25th Percentile Success:\",round(df[(df[\"JOB_INFO_WORK_CITY\"]==\"NEW YORK\")&(df[\"CASE_STATUS\"]==1)][\"WAGE_OFFER_FROM_9089\"].quantile(.25),2))\n",
    "print(\"Mean Application:\",round(df[df[\"JOB_INFO_WORK_CITY\"]==\"NEW YORK\"][\"WAGE_OFFER_FROM_9089\"].mean(),2))\n",
    "print(\"Mean Success:\",round(df[(df[\"JOB_INFO_WORK_CITY\"]==\"NEW YORK\")&(df[\"CASE_STATUS\"]==1)][\"WAGE_OFFER_FROM_9089\"].mean(),2))\n",
    "print(\"Median Application:\",round(df[df[\"JOB_INFO_WORK_CITY\"]==\"NEW YORK\"][\"WAGE_OFFER_FROM_9089\"].median(),2))\n",
    "print(\"Median Sucess:\",round(df[(df[\"JOB_INFO_WORK_CITY\"]==\"NEW YORK\")&(df[\"CASE_STATUS\"]==1)][\"WAGE_OFFER_FROM_9089\"].median(),2))\n",
    "print(\"75th Percentile Application:\",round(df[df[\"JOB_INFO_WORK_CITY\"]==\"NEW YORK\"][\"WAGE_OFFER_FROM_9089\"].quantile(.75),2))\n",
    "print(\"75th Percentile Success:\",round(df[(df[\"JOB_INFO_WORK_CITY\"]==\"NEW YORK\")&(df[\"CASE_STATUS\"]==1)][\"WAGE_OFFER_FROM_9089\"].quantile(.75),2))"
   ]
  },
  {
   "cell_type": "code",
   "execution_count": null,
   "id": "0381ed39",
   "metadata": {},
   "outputs": [],
   "source": [
    "# Working in New York City\n",
    "# Class of Admission\n",
    "appcol = pd.DataFrame(df[df[\"JOB_INFO_WORK_CITY\"]==\"NEW YORK\"][\"CLASS_OF_ADMISSION\"].value_counts()[:15]).reset_index()\n",
    "appcol.columns = [\"AClass\",\"ACount\"]\n",
    "succol = pd.DataFrame(df[(df[\"JOB_INFO_WORK_CITY\"]==\"NEW YORK\")&(df[\"CASE_STATUS\"]==1)][\"CLASS_OF_ADMISSION\"].value_counts()[:15]).reset_index()\n",
    "succol.columns = [\"SClass\",\"SCount\"]\n",
    "pd.concat([appcol,succol], axis = 1)"
   ]
  },
  {
   "cell_type": "code",
   "execution_count": null,
   "id": "d1b5a476",
   "metadata": {},
   "outputs": [],
   "source": [
    "# Working in New York City\n",
    "# Top Years\n",
    "appcol = pd.DataFrame(df[df[\"JOB_INFO_WORK_CITY\"]==\"NEW YORK\"][\"YEAR\"].value_counts()[:15]).reset_index()\n",
    "appcol.columns = [\"AYear\",\"ACount\"]\n",
    "succol = pd.DataFrame(df[(df[\"JOB_INFO_WORK_CITY\"]==\"NEW YORK\")&(df[\"CASE_STATUS\"]==1)][\"YEAR\"].value_counts()[:15]).reset_index()\n",
    "succol.columns = [\"SYear\",\"SCount\"]\n",
    "pd.concat([appcol,succol], axis = 1)"
   ]
  },
  {
   "cell_type": "code",
   "execution_count": null,
   "id": "32f8cc18",
   "metadata": {},
   "outputs": [],
   "source": [
    "# Working in New York City\n",
    "# CORREL AND LIN REG BETWEEN YEARS AND NEW YORK CITY"
   ]
  },
  {
   "cell_type": "code",
   "execution_count": null,
   "id": "f74b971a",
   "metadata": {},
   "outputs": [],
   "source": [
    "# Top 15 State worked in (application)\n",
    "def grab (year):\n",
    "    return df[df[\"YEAR\"]==year][\"JOB_INFO_WORK_STATE\"].value_counts()[:15]\n",
    "top15jstateapp = pd.DataFrame([grab(2007),grab(2008),grab(2009),grab(2010),\n",
    "             grab(2011),grab(2012),grab(2013),grab(2014),grab(2015),\n",
    "             grab(2016),grab(2017),grab(2018),grab(2019),grab(2020),\n",
    "             grab(2021)], index = [2007,2008,2009,2010,2011,2012,2013,2014,2015,2016,2017,\n",
    "                                  2018,2019,2020,2021]).transpose()\n",
    "# King of Consistency: Count the N in top 15 (application) Job state\n",
    "kingconjc = top15jstateapp.isnull().replace(False,0).replace(True,1)\n",
    "kingconjc[\"Yrs not in top15\"] = kingconjc[2007]+kingconjc[2008]+kingconjc[2009]+kingconjc[2010]+kingconjc[2011]+kingconjc[2012]+kingconjc[2013]+kingconjc[2014]+kingconjc[2015]+kingconjc[2016]+kingconjc[2017]+kingconjc[2018]+kingconjc[2019]+kingconjc[2020]+kingconjc[2021]\n",
    "kingconjc[\"Yrs not in top15\"].sort_values()"
   ]
  },
  {
   "cell_type": "code",
   "execution_count": null,
   "id": "d8f901e7",
   "metadata": {},
   "outputs": [],
   "source": [
    "# Top 15 State worked in (success)\n",
    "def grab (year):\n",
    "    return df[(df[\"YEAR\"]==year)&(df[\"CASE_STATUS\"]==1)][\"JOB_INFO_WORK_STATE\"].value_counts()[:15]\n",
    "top15jstatesuc = pd.DataFrame([grab(2007),grab(2008),grab(2009),grab(2010),\n",
    "             grab(2011),grab(2012),grab(2013),grab(2014),grab(2015),\n",
    "             grab(2016),grab(2017),grab(2018),grab(2019),grab(2020),\n",
    "             grab(2021)], index = [2007,2008,2009,2010,2011,2012,2013,2014,2015,2016,2017,\n",
    "                                  2018,2019,2020,2021]).transpose()\n",
    "# King of Consistency: Count the N in top 15 (success) Job state\n",
    "kingconjc = top15jstatesuc.isnull().replace(False,0).replace(True,1)\n",
    "kingconjc[\"Yrs not in top15\"] = kingconjc[2007]+kingconjc[2008]+kingconjc[2009]+kingconjc[2010]+kingconjc[2011]+kingconjc[2012]+kingconjc[2013]+kingconjc[2014]+kingconjc[2015]+kingconjc[2016]+kingconjc[2017]+kingconjc[2018]+kingconjc[2019]+kingconjc[2020]+kingconjc[2021]\n",
    "kingconjc[\"Yrs not in top15\"].sort_values()"
   ]
  },
  {
   "cell_type": "code",
   "execution_count": null,
   "id": "5f0a24ce",
   "metadata": {},
   "outputs": [],
   "source": [
    "##### DEEPER DIVE INTO TOP STATE ####"
   ]
  },
  {
   "cell_type": "code",
   "execution_count": null,
   "id": "4069aa40",
   "metadata": {},
   "outputs": [],
   "source": [
    "# Working in CA State\n",
    "# TOP JOB CODES in CA \n",
    "appcol = pd.DataFrame(df[df[\"JOB_INFO_WORK_STATE\"]==\"CA\"][\"PW_SOC_CODE\"].value_counts()[:15]).reset_index()\n",
    "appcol.columns = [\"ACode\",\"ACount\"]\n",
    "succol = pd.DataFrame(df[(df[\"JOB_INFO_WORK_STATE\"]==\"CA\")&(df[\"CASE_STATUS\"]==1)][\"PW_SOC_CODE\"].value_counts()[:15]).reset_index()\n",
    "succol.columns = [\"SCode\",\"SCount\"]\n",
    "pd.concat([appcol,succol], axis = 1)"
   ]
  },
  {
   "cell_type": "code",
   "execution_count": null,
   "id": "97466bfc",
   "metadata": {},
   "outputs": [],
   "source": [
    "# Working in CA State\n",
    "# EMPLOYER NAMES\n",
    "appcol = pd.DataFrame(df[df[\"JOB_INFO_WORK_STATE\"]==\"CA\"][\"EMPLOYER_NAME\"].value_counts()[:15]).reset_index()\n",
    "appcol.columns = [\"AName\",\"ACount\"]\n",
    "succol = pd.DataFrame(df[(df[\"JOB_INFO_WORK_STATE\"]==\"CA\")&(df[\"CASE_STATUS\"]==1)][\"EMPLOYER_NAME\"].value_counts()[:15]).reset_index()\n",
    "succol.columns = [\"SName\",\"SCount\"]\n",
    "pd.concat([appcol,succol], axis = 1)"
   ]
  },
  {
   "cell_type": "code",
   "execution_count": null,
   "id": "9926eafa",
   "metadata": {},
   "outputs": [],
   "source": [
    "# Working in CA State\n",
    "# Wage Offered\n",
    "print(\"25th Percentile Application:\",round(df[df[\"JOB_INFO_WORK_STATE\"]==\"CA\"][\"WAGE_OFFER_FROM_9089\"].quantile(.25),2))\n",
    "print(\"25th Percentile Success:\",round(df[(df[\"JOB_INFO_WORK_STATE\"]==\"CA\")&(df[\"CASE_STATUS\"]==1)][\"WAGE_OFFER_FROM_9089\"].quantile(.25),2))\n",
    "print(\"Mean Application:\",round(df[df[\"JOB_INFO_WORK_STATE\"]==\"CA\"][\"WAGE_OFFER_FROM_9089\"].mean(),2))\n",
    "print(\"Mean Success:\",round(df[(df[\"JOB_INFO_WORK_STATE\"]==\"CA\")&(df[\"CASE_STATUS\"]==1)][\"WAGE_OFFER_FROM_9089\"].mean(),2))\n",
    "print(\"Median Application:\",round(df[df[\"JOB_INFO_WORK_STATE\"]==\"CA\"][\"WAGE_OFFER_FROM_9089\"].median(),2))\n",
    "print(\"Median Sucess:\",round(df[(df[\"JOB_INFO_WORK_STATE\"]==\"CA\")&(df[\"CASE_STATUS\"]==1)][\"WAGE_OFFER_FROM_9089\"].median(),2))\n",
    "print(\"75th Percentile Application:\",round(df[df[\"JOB_INFO_WORK_STATE\"]==\"CA\"][\"WAGE_OFFER_FROM_9089\"].quantile(.75),2))\n",
    "print(\"75th Percentile Success:\",round(df[(df[\"JOB_INFO_WORK_STATE\"]==\"CA\")&(df[\"CASE_STATUS\"]==1)][\"WAGE_OFFER_FROM_9089\"].quantile(.75),2))"
   ]
  },
  {
   "cell_type": "code",
   "execution_count": null,
   "id": "77f4e8df",
   "metadata": {},
   "outputs": [],
   "source": [
    "# Working in CA State\n",
    "# Class of Admission\n",
    "appcol = pd.DataFrame(df[df[\"JOB_INFO_WORK_STATE\"]==\"CA\"][\"CLASS_OF_ADMISSION\"].value_counts()[:15]).reset_index()\n",
    "appcol.columns = [\"AClass\",\"ACount\"]\n",
    "succol = pd.DataFrame(df[(df[\"JOB_INFO_WORK_STATE\"]==\"CA\")&(df[\"CASE_STATUS\"]==1)][\"CLASS_OF_ADMISSION\"].value_counts()[:15]).reset_index()\n",
    "succol.columns = [\"SClass\",\"SCount\"]\n",
    "pd.concat([appcol,succol], axis = 1)"
   ]
  },
  {
   "cell_type": "code",
   "execution_count": null,
   "id": "8c8e7dfa",
   "metadata": {},
   "outputs": [],
   "source": [
    "# Working in CA State\n",
    "# Top Years\n",
    "appcol = pd.DataFrame(df[df[\"JOB_INFO_WORK_STATE\"]==\"CA\"][\"YEAR\"].value_counts()[:15]).reset_index()\n",
    "appcol.columns = [\"AYear\",\"ACount\"]\n",
    "succol = pd.DataFrame(df[(df[\"JOB_INFO_WORK_STATE\"]==\"CA\")&(df[\"CASE_STATUS\"]==1)][\"YEAR\"].value_counts()[:15]).reset_index()\n",
    "succol.columns = [\"SYear\",\"SCount\"]\n",
    "pd.concat([appcol,succol], axis = 1)"
   ]
  },
  {
   "cell_type": "code",
   "execution_count": null,
   "id": "fb8e66a2",
   "metadata": {},
   "outputs": [],
   "source": [
    "# Working in CA State\n",
    "# CORREL AND LIN REG BETWEEN YEARS AND CA "
   ]
  },
  {
   "cell_type": "code",
   "execution_count": null,
   "id": "08449c08",
   "metadata": {},
   "outputs": [],
   "source": [
    "#### JOB CODE ANALYSIS #####"
   ]
  },
  {
   "cell_type": "code",
   "execution_count": null,
   "id": "b1816d18",
   "metadata": {},
   "outputs": [],
   "source": [
    "# TOP 15 JOB CODES\n",
    "allcode = pd.DataFrame(df[\"PW_SOC_CODE\"].value_counts()[:15]).reset_index()\n",
    "allcode.columns = [\"ACODE\",\"COUNT ACODE\"]\n",
    "succode = pd.DataFrame(df[df[\"CASE_STATUS\"]==1][\"PW_SOC_CODE\"].value_counts()[:15]).reset_index()\n",
    "succode.columns = [\"SCODE\",\"COUNT SCODE\"]\n",
    "pd.concat([allcode,succode], axis = 1)"
   ]
  },
  {
   "cell_type": "code",
   "execution_count": null,
   "id": "02937458",
   "metadata": {},
   "outputs": [],
   "source": [
    "# TOP 15 Apps codes\n",
    "def grab (year):\n",
    "    return df[df[\"YEAR\"]==year][\"PW_SOC_CODE\"].value_counts()[:15]\n",
    "top15code = pd.DataFrame([grab(2007),grab(2008),grab(2009),grab(2010),\n",
    "             grab(2011),grab(2012),grab(2013),grab(2014),grab(2015),\n",
    "             grab(2016),grab(2017),grab(2018),grab(2019),grab(2020),\n",
    "             grab(2021)], index = [2007,2008,2009,2010,2011,2012,2013,2014,2015,2016,2017,\n",
    "                                  2018,2019,2020,2021]).transpose()\n",
    "# King of Consistency: Count the N in top 15 (application)\n",
    "kingconjc = top15code.isnull().replace(False,0).replace(True,1)\n",
    "kingconjc[\"Yrs not in top15\"] = kingconjc[2007]+kingconjc[2008]+kingconjc[2009]+kingconjc[2010]+kingconjc[2011]+kingconjc[2012]+kingconjc[2013]+kingconjc[2014]+kingconjc[2015]+kingconjc[2016]+kingconjc[2017]+kingconjc[2018]+kingconjc[2019]+kingconjc[2020]+kingconjc[2021]\n",
    "kingconjc[\"Yrs not in top15\"].sort_values()"
   ]
  },
  {
   "cell_type": "code",
   "execution_count": null,
   "id": "933180fb",
   "metadata": {},
   "outputs": [],
   "source": [
    "# TOP 15 Success Codes\n",
    "def grab (year):\n",
    "    return df[(df[\"YEAR\"]==year)&(df[\"CASE_STATUS\"]==1)][\"PW_SOC_CODE\"].value_counts()[:15]\n",
    "top15acode = pd.DataFrame([grab(2007),grab(2008),grab(2009),grab(2010),\n",
    "             grab(2011),grab(2012),grab(2013),grab(2014),grab(2015),\n",
    "             grab(2016),grab(2017),grab(2018),grab(2019),grab(2020),\n",
    "             grab(2021)], index = [2007,2008,2009,2010,2011,2012,2013,2014,2015,2016,2017,\n",
    "                                  2018,2019,2020,2021]).transpose()\n",
    "# King of Consistency: Count the N in top 15 (success)\n",
    "kingconsjc = top15acode.isnull().replace(False,0).replace(True,1)\n",
    "kingconsjc[\"Yrs not in top15\"] = kingconsjc[2007]+kingconsjc[2008]+kingconsjc[2009]+kingconsjc[2010]+kingconsjc[2011]+kingconsjc[2012]+kingconsjc[2013]+kingconsjc[2014]+kingconsjc[2015]+kingconsjc[2016]+kingconsjc[2017]+kingconsjc[2018]+kingconsjc[2019]+kingconsjc[2020]+kingconsjc[2021]\n",
    "kingconsjc[\"Yrs not in top15\"].sort_values()"
   ]
  },
  {
   "cell_type": "code",
   "execution_count": null,
   "id": "4c067e85",
   "metadata": {},
   "outputs": [],
   "source": [
    "##### DEEPER DIVE INTO TOP 3 JOB CODE ####"
   ]
  },
  {
   "cell_type": "code",
   "execution_count": null,
   "id": "43e1aa70",
   "metadata": {},
   "outputs": [],
   "source": [
    "# 11-3021\n",
    "# Computer and Information Systems Managers\n",
    "# 17-2072\n",
    "# Electronics Engineers, Except Computer\n",
    "# 17-2141\n",
    "# Mechanical Engineers"
   ]
  },
  {
   "cell_type": "code",
   "execution_count": null,
   "id": "ea030e53",
   "metadata": {},
   "outputs": [],
   "source": [
    "# 11-3021, Computer and Information Systems Managers\n",
    "\n",
    "# TOP CITIES WORKED IN\n",
    "appcol = pd.DataFrame(df[df[\"PW_SOC_CODE\"]==\"11-3021\"][\"JOB_INFO_WORK_CITY\"].value_counts()[:15]).reset_index()\n",
    "appcol.columns = [\"ACity\",\"ACount\"]\n",
    "succol = pd.DataFrame(df[(df[\"PW_SOC_CODE\"]==\"11-3021\")&(df[\"CASE_STATUS\"]==1)][\"JOB_INFO_WORK_CITY\"].value_counts()[:15]).reset_index()\n",
    "succol.columns = [\"SCity\",\"SCount\"]\n",
    "pd.concat([appcol,succol], axis = 1)"
   ]
  },
  {
   "cell_type": "code",
   "execution_count": null,
   "id": "7d1bb2e9",
   "metadata": {},
   "outputs": [],
   "source": [
    "# TOP STATES WORKED IN \n",
    "appcol = pd.DataFrame(df[df[\"PW_SOC_CODE\"]==\"11-3021\"][\"JOB_INFO_WORK_STATE\"].value_counts()[:15]).reset_index()\n",
    "appcol.columns = [\"AState\",\"ACount\"]\n",
    "succol = pd.DataFrame(df[(df[\"PW_SOC_CODE\"]==\"11-3021\")&(df[\"CASE_STATUS\"]==1)][\"JOB_INFO_WORK_STATE\"].value_counts()[:15]).reset_index()\n",
    "succol.columns = [\"SState\",\"SCount\"]\n",
    "pd.concat([appcol,succol], axis = 1)"
   ]
  },
  {
   "cell_type": "code",
   "execution_count": null,
   "id": "5a2795a6",
   "metadata": {},
   "outputs": [],
   "source": [
    "jobcho = pd.DataFrame(df[(df[\"PW_SOC_CODE\"]==\"11-3021\")&(df[\"CASE_STATUS\"]==1)][\"JOB_INFO_WORK_STATE\"].value_counts()).reset_index()\n",
    "jobcho.columns = [\"SState\",\"SCount\"]\n",
    "jobcho[\"text\"] = jobcho[\"SState\"].astype(str)+\": \"+jobcho[\"SCount\"].astype(str)+\" Successful Applications\"\n",
    "# Choropleth Map of EMPLOYER STATE\n",
    "data = dict(type = \"choropleth\",\n",
    "           locations = jobcho[\"SState\"],\n",
    "           locationmode = \"USA-states\",\n",
    "           z = jobcho[\"SCount\"].astype(float),\n",
    "           text = jobcho[\"text\"],\n",
    "           colorbar={\"title\":\"Applications\"},\n",
    "           colorscale = \"oranges\",\n",
    "           marker = dict(line = dict(color = \"rgb(255,255,255)\")) )\n",
    "layout = dict(title = \"Successful 11-3021 Applications in States Worked In\",\n",
    "              geo = dict(scope = \"usa\",showlakes = True, lakecolor = \"rgb(255,255,255)\"))\n",
    "choro = go.Figure(data, layout)\n",
    "iplot(choro)"
   ]
  },
  {
   "cell_type": "code",
   "execution_count": null,
   "id": "c66e890b",
   "metadata": {},
   "outputs": [],
   "source": [
    "# 11-3021, Computer and Information Systems Managers\n",
    "# EMPLOYER NAME\n",
    "appcol = pd.DataFrame(df[df[\"PW_SOC_CODE\"]==\"11-3021\"][\"EMPLOYER_NAME\"].value_counts()[:15]).reset_index()\n",
    "appcol.columns = [\"AName\",\"ACount\"]\n",
    "succol = pd.DataFrame(df[(df[\"PW_SOC_CODE\"]==\"11-3021\")&(df[\"CASE_STATUS\"]==1)][\"EMPLOYER_NAME\"].value_counts()[:15]).reset_index()\n",
    "succol.columns = [\"SName\",\"SCount\"]\n",
    "pd.concat([appcol,succol], axis = 1)"
   ]
  },
  {
   "cell_type": "code",
   "execution_count": null,
   "id": "9d8ba12c",
   "metadata": {},
   "outputs": [],
   "source": [
    "# 11-3021, Computer and Information Systems Managers\n",
    "# Wage Offered\n",
    "print(\"25th Percentile Application:\",round(df[df[\"PW_SOC_CODE\"]==\"11-3021\"][\"WAGE_OFFER_FROM_9089\"].quantile(.25),2))\n",
    "print(\"25th Percentile Success:\",round(df[(df[\"PW_SOC_CODE\"]==\"11-3021\")&(df[\"CASE_STATUS\"]==1)][\"WAGE_OFFER_FROM_9089\"].quantile(.25),2))\n",
    "print(\"Mean Application:\",round(df[df[\"PW_SOC_CODE\"]==\"11-3021\"][\"WAGE_OFFER_FROM_9089\"].mean(),2))\n",
    "print(\"Mean Success:\",round(df[(df[\"PW_SOC_CODE\"]==\"11-3021\")&(df[\"CASE_STATUS\"]==1)][\"WAGE_OFFER_FROM_9089\"].mean(),2))\n",
    "print(\"Median Application:\",round(df[df[\"PW_SOC_CODE\"]==\"11-3021\"][\"WAGE_OFFER_FROM_9089\"].median(),2))\n",
    "print(\"Median Sucess:\",round(df[(df[\"PW_SOC_CODE\"]==\"11-3021\")&(df[\"CASE_STATUS\"]==1)][\"WAGE_OFFER_FROM_9089\"].median(),2))\n",
    "print(\"75th Percentile Application:\",round(df[df[\"PW_SOC_CODE\"]==\"11-3021\"][\"WAGE_OFFER_FROM_9089\"].quantile(.75),2))\n",
    "print(\"75th Percentile Success:\",round(df[(df[\"PW_SOC_CODE\"]==\"11-3021\")&(df[\"CASE_STATUS\"]==1)][\"WAGE_OFFER_FROM_9089\"].quantile(.75),2))"
   ]
  },
  {
   "cell_type": "code",
   "execution_count": null,
   "id": "7185693c",
   "metadata": {},
   "outputs": [],
   "source": [
    "# 11-3021, Computer and Information Systems Managers\n",
    "# Class of Admission\n",
    "appcol = pd.DataFrame(df[df[\"PW_SOC_CODE\"]==\"11-3021\"][\"CLASS_OF_ADMISSION\"].value_counts()[:15]).reset_index()\n",
    "appcol.columns = [\"AClass\",\"ACount\"]\n",
    "succol = pd.DataFrame(df[(df[\"PW_SOC_CODE\"]==\"11-3021\")&(df[\"CASE_STATUS\"]==1)][\"CLASS_OF_ADMISSION\"].value_counts()[:15]).reset_index()\n",
    "succol.columns = [\"SClass\",\"SCount\"]\n",
    "pd.concat([appcol,succol], axis = 1)"
   ]
  },
  {
   "cell_type": "code",
   "execution_count": null,
   "id": "e4827961",
   "metadata": {},
   "outputs": [],
   "source": [
    "# 11-3021, Computer and Information Systems Managers\n",
    "# Top Years\n",
    "appcol = pd.DataFrame(df[df[\"PW_SOC_CODE\"]==\"11-3021\"][\"YEAR\"].value_counts()[:15]).reset_index()\n",
    "appcol.columns = [\"AYear\",\"ACount\"]\n",
    "succol = pd.DataFrame(df[(df[\"PW_SOC_CODE\"]==\"11-3021\")&(df[\"CASE_STATUS\"]==1)][\"YEAR\"].value_counts()[:15]).reset_index()\n",
    "succol.columns = [\"SYear\",\"SCount\"]\n",
    "pd.concat([appcol,succol], axis = 1)"
   ]
  },
  {
   "cell_type": "code",
   "execution_count": null,
   "id": "1c73a1fa",
   "metadata": {},
   "outputs": [],
   "source": [
    "# 11-3021, Computer and Information Systems Managers\n",
    "# CORREL AND LIN REG BETWEEN YEARS AND APPLICATIONS\n"
   ]
  },
  {
   "cell_type": "code",
   "execution_count": null,
   "id": "4cf90bca",
   "metadata": {},
   "outputs": [],
   "source": [
    "### JOB LEVEL ANALYSIS ###"
   ]
  },
  {
   "cell_type": "code",
   "execution_count": null,
   "id": "9664efb5",
   "metadata": {},
   "outputs": [],
   "source": [
    "# DISTRIBUTION OF JOB LEVEL OVER TIME\n",
    "plt.figure(figsize=(12,10))\n",
    "sns.countplot(x = \"YEAR\", hue = \"PW_LEVEL_9089\",data=df,hue_order=[\"LEVEL I\",\"LEVEL II\",\"LEVEL III\",\"LEVEL IV\"])"
   ]
  },
  {
   "cell_type": "code",
   "execution_count": null,
   "id": "b9389983",
   "metadata": {},
   "outputs": [],
   "source": [
    "# SUCCESS % OF JOB LEVEL IN AGGREGATE\n",
    "lo = df[df[\"PW_LEVEL_9089\"] == \"LEVEL I\"][\"CASE_STATUS\"].sum()/len(df[df[\"PW_LEVEL_9089\"] == \"LEVEL I\"])\n",
    "lt = df[df[\"PW_LEVEL_9089\"] == \"LEVEL II\"][\"CASE_STATUS\"].sum()/len(df[df[\"PW_LEVEL_9089\"] == \"LEVEL II\"])\n",
    "lth = df[df[\"PW_LEVEL_9089\"] == \"LEVEL III\"][\"CASE_STATUS\"].sum()/len(df[df[\"PW_LEVEL_9089\"] == \"LEVEL III\"])\n",
    "lf = df[df[\"PW_LEVEL_9089\"] == \"LEVEL IV\"][\"CASE_STATUS\"].sum()/len(df[df[\"PW_LEVEL_9089\"] == \"LEVEL IV\"])\n",
    "#SIMPLE AVG\n",
    "salw =(lo+lt+lth+lf)/4 \n",
    "#WEIGHTED AVG\n",
    "walw = (len(df[df[\"PW_LEVEL_9089\"] == \"LEVEL I\"])*lo+\n",
    "len(df[df[\"PW_LEVEL_9089\"] == \"LEVEL II\"])*lt+\n",
    "len(df[df[\"PW_LEVEL_9089\"] == \"LEVEL III\"])*lth+\n",
    "len(df[df[\"PW_LEVEL_9089\"] == \"LEVEL IV\"])*lf)/len(df[df[\"PW_LEVEL_9089\"].notna()])\n",
    "#MERGING ALL\n",
    "la = pd.DataFrame([lo,lt,lth,lf,salw,walw]).transpose()\n",
    "la.columns=[\"LEVEL I\",\"LEVEL II\",\"LEVEL III\",\"LEVEL IV\",\"AVG\",\"WAVG\"]\n",
    "la"
   ]
  },
  {
   "cell_type": "code",
   "execution_count": null,
   "id": "9e260799",
   "metadata": {},
   "outputs": [],
   "source": [
    "# GET A GROUPBY ON THE YEAR AND SEE EACH LEVELS SUCCESS AND APPLICATION COUNT\n",
    "#PLOT THAT\n",
    "# GET CORREL AND LIN REG OF THE SUCCESS AND APP COUNT OVER TIME FOR EACH LEVEL "
   ]
  },
  {
   "cell_type": "code",
   "execution_count": null,
   "id": "60e6717d",
   "metadata": {},
   "outputs": [],
   "source": [
    "# PW LEVEL DIST PER STATE WORKED IN\n",
    "joblevel = pd.DataFrame(df.groupby(\"JOB_INFO_WORK_STATE\")[\"PW_LEVEL_9089\"].value_counts())\n",
    "joblevel.columns = [\"Count\"]\n",
    "joblevel = joblevel.reset_index()"
   ]
  },
  {
   "cell_type": "code",
   "execution_count": null,
   "id": "6c24a068",
   "metadata": {},
   "outputs": [],
   "source": [
    "# LEVEL 1 DISTRIBUTION BY STATES WORKED IN\n",
    "jobcho = joblevel[joblevel[\"PW_LEVEL_9089\"]==\"LEVEL I\"]\n",
    "jobcho.columns = [\"State\",\"Level\",\"Count\"]\n",
    "jobcho[\"text\"] = jobcho[\"State\"].astype(str)+\": \"+jobcho[\"Count\"].astype(str)+\" Applications\"\n",
    "# Choropleth Map of EMPLOYER STATE\n",
    "data = dict(type = \"choropleth\",\n",
    "           locations = jobcho[\"State\"],\n",
    "           locationmode = \"USA-states\",\n",
    "           z = jobcho[\"Count\"].astype(float),\n",
    "           text = jobcho[\"text\"],\n",
    "           colorbar={\"title\":\"Applications\"},\n",
    "           colorscale = \"oranges\",\n",
    "           marker = dict(line = dict(color = \"rgb(255,255,255)\")) )\n",
    "layout = dict(title = \"Level I Applications in States Worked In\",\n",
    "              geo = dict(scope = \"usa\",showlakes = True, lakecolor = \"rgb(255,255,255)\"))\n",
    "choro = go.Figure(data, layout)\n",
    "iplot(choro)"
   ]
  },
  {
   "cell_type": "code",
   "execution_count": null,
   "id": "24b02be7",
   "metadata": {},
   "outputs": [],
   "source": [
    "# LEVEL 2 DISTRIBUTION BY STATES WORKED IN\n",
    "jobcho = joblevel[joblevel[\"PW_LEVEL_9089\"]==\"LEVEL II\"]\n",
    "jobcho.columns = [\"State\",\"Level\",\"Count\"]\n",
    "jobcho[\"text\"] = jobcho[\"State\"].astype(str)+\": \"+jobcho[\"Count\"].astype(str)+\" Applications\"\n",
    "# Choropleth Map of EMPLOYER STATE\n",
    "data = dict(type = \"choropleth\",\n",
    "           locations = jobcho[\"State\"],\n",
    "           locationmode = \"USA-states\",\n",
    "           z = jobcho[\"Count\"].astype(float),\n",
    "           text = jobcho[\"text\"],\n",
    "           colorbar={\"title\":\"Applications\"},\n",
    "           colorscale = \"oranges\",\n",
    "           marker = dict(line = dict(color = \"rgb(255,255,255)\")) )\n",
    "layout = dict(title = \"Level II Applications in States Worked In\",\n",
    "              geo = dict(scope = \"usa\",showlakes = True, lakecolor = \"rgb(255,255,255)\"))\n",
    "choro = go.Figure(data, layout)\n",
    "iplot(choro)"
   ]
  },
  {
   "cell_type": "code",
   "execution_count": null,
   "id": "138aaf3a",
   "metadata": {},
   "outputs": [],
   "source": [
    "# LEVEL 3 DISTRIBUTION BY STATES WORKED IN\n",
    "jobcho = joblevel[joblevel[\"PW_LEVEL_9089\"]==\"LEVEL III\"]\n",
    "jobcho.columns = [\"State\",\"Level\",\"Count\"]\n",
    "jobcho[\"text\"] = jobcho[\"State\"].astype(str)+\": \"+jobcho[\"Count\"].astype(str)+\" Applications\"\n",
    "# Choropleth Map of EMPLOYER STATE\n",
    "data = dict(type = \"choropleth\",\n",
    "           locations = jobcho[\"State\"],\n",
    "           locationmode = \"USA-states\",\n",
    "           z = jobcho[\"Count\"].astype(float),\n",
    "           text = jobcho[\"text\"],\n",
    "           colorbar={\"title\":\"Applications\"},\n",
    "           colorscale = \"oranges\",\n",
    "           marker = dict(line = dict(color = \"rgb(255,255,255)\")) )\n",
    "layout = dict(title = \"Level III Applications in States Worked In\",\n",
    "              geo = dict(scope = \"usa\",showlakes = True, lakecolor = \"rgb(255,255,255)\"))\n",
    "choro = go.Figure(data, layout)\n",
    "iplot(choro)"
   ]
  },
  {
   "cell_type": "code",
   "execution_count": null,
   "id": "dca68e1e",
   "metadata": {},
   "outputs": [],
   "source": [
    "# LEVEL 4 DISTRIBUTION BY STATES WORKED IN\n",
    "jobcho = joblevel[joblevel[\"PW_LEVEL_9089\"]==\"LEVEL IV\"]\n",
    "jobcho.columns = [\"State\",\"Level\",\"Count\"]\n",
    "jobcho[\"text\"] = jobcho[\"State\"].astype(str)+\": \"+jobcho[\"Count\"].astype(str)+\" Applications\"\n",
    "# Choropleth Map of EMPLOYER STATE\n",
    "data = dict(type = \"choropleth\",\n",
    "           locations = jobcho[\"State\"],\n",
    "           locationmode = \"USA-states\",\n",
    "           z = jobcho[\"Count\"].astype(float),\n",
    "           text = jobcho[\"text\"],\n",
    "           colorbar={\"title\":\"Applications\"},\n",
    "           colorscale = \"oranges\",\n",
    "           marker = dict(line = dict(color = \"rgb(255,255,255)\")) )\n",
    "layout = dict(title = \"Level IV Applications in States Worked In\",\n",
    "              geo = dict(scope = \"usa\",showlakes = True, lakecolor = \"rgb(255,255,255)\"))\n",
    "choro = go.Figure(data, layout)\n",
    "iplot(choro)"
   ]
  },
  {
   "cell_type": "code",
   "execution_count": null,
   "id": "15362775",
   "metadata": {},
   "outputs": [],
   "source": []
  },
  {
   "cell_type": "code",
   "execution_count": null,
   "id": "261412f5",
   "metadata": {},
   "outputs": [],
   "source": []
  }
 ],
 "metadata": {
  "kernelspec": {
   "display_name": "Python 3 (ipykernel)",
   "language": "python",
   "name": "python3"
  },
  "language_info": {
   "codemirror_mode": {
    "name": "ipython",
    "version": 3
   },
   "file_extension": ".py",
   "mimetype": "text/x-python",
   "name": "python",
   "nbconvert_exporter": "python",
   "pygments_lexer": "ipython3",
   "version": "3.9.12"
  }
 },
 "nbformat": 4,
 "nbformat_minor": 5
}
