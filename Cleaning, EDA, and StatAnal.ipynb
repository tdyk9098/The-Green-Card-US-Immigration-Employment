{
 "cells": [
  {
   "cell_type": "code",
   "execution_count": 1,
   "id": "4958a082",
   "metadata": {},
   "outputs": [
    {
     "data": {
      "text/html": [
       "        <script type=\"text/javascript\">\n",
       "        window.PlotlyConfig = {MathJaxConfig: 'local'};\n",
       "        if (window.MathJax) {MathJax.Hub.Config({SVG: {font: \"STIX-Web\"}});}\n",
       "        if (typeof require !== 'undefined') {\n",
       "        require.undef(\"plotly\");\n",
       "        requirejs.config({\n",
       "            paths: {\n",
       "                'plotly': ['https://cdn.plot.ly/plotly-2.9.0.min']\n",
       "            }\n",
       "        });\n",
       "        require(['plotly'], function(Plotly) {\n",
       "            window._Plotly = Plotly;\n",
       "        });\n",
       "        }\n",
       "        </script>\n",
       "        "
      ]
     },
     "metadata": {},
     "output_type": "display_data"
    },
    {
     "data": {
      "text/html": [
       "        <script type=\"text/javascript\">\n",
       "        window.PlotlyConfig = {MathJaxConfig: 'local'};\n",
       "        if (window.MathJax) {MathJax.Hub.Config({SVG: {font: \"STIX-Web\"}});}\n",
       "        if (typeof require !== 'undefined') {\n",
       "        require.undef(\"plotly\");\n",
       "        requirejs.config({\n",
       "            paths: {\n",
       "                'plotly': ['https://cdn.plot.ly/plotly-2.9.0.min']\n",
       "            }\n",
       "        });\n",
       "        require(['plotly'], function(Plotly) {\n",
       "            window._Plotly = Plotly;\n",
       "        });\n",
       "        }\n",
       "        </script>\n",
       "        "
      ]
     },
     "metadata": {},
     "output_type": "display_data"
    }
   ],
   "source": [
    "import numpy as np\n",
    "import pandas as pd\n",
    "import matplotlib.pyplot as plt\n",
    "import seaborn as sns\n",
    "import scipy.stats as st\n",
    "import cufflinks as cf\n",
    "from plotly.offline import download_plotlyjs, init_notebook_mode, plot, iplot\n",
    "init_notebook_mode(connected = True)\n",
    "cf.go_offline()\n",
    "import chart_studio.plotly as py\n",
    "import plotly.graph_objs as go \n",
    "import datetime as dt\n",
    "import dataframe_image as dfi\n",
    "import Levenshtein as lev\n",
    "import re"
   ]
  },
  {
   "cell_type": "code",
   "execution_count": 2,
   "id": "77ff8e48",
   "metadata": {},
   "outputs": [],
   "source": [
    "df = pd.read_csv(\"GCST.csv\", low_memory = False)"
   ]
  },
  {
   "cell_type": "code",
   "execution_count": 3,
   "id": "045f6217",
   "metadata": {},
   "outputs": [],
   "source": [
    "# PW_CODE CLEAN UP\n",
    "df[\"PW_SOC_CODE\"] = df[\"PW_SOC_CODE\"].astype(str)\n",
    "# PW_SOC_CODES that do not follow the standard XX-XXXX, missing \"-\"\n",
    "wrongsoc = df[~df[\"PW_SOC_CODE\"].str.contains(\"-\", na = False)]\n",
    "# DROPPING ANY APPLICANTS THAT DO NOT HAVE \"-\" IN PW SOC CODE\n",
    "df = df[df[\"PW_SOC_CODE\"].str.contains(\"-\", na = False)]"
   ]
  },
  {
   "cell_type": "code",
   "execution_count": 4,
   "id": "2b3865da",
   "metadata": {},
   "outputs": [],
   "source": [
    "# RESET DF INDEX\n",
    "df = df.reset_index(drop = True)"
   ]
  },
  {
   "cell_type": "code",
   "execution_count": 5,
   "id": "efdb55a9",
   "metadata": {},
   "outputs": [],
   "source": [
    "# SPLITTING PW_SOC_CODE FOR CLEANING DECIMALS\n",
    "# COL1 will be pre \"-\", COL2 will be after \"-\"... DROP THE DECIMALS (OLDER FORMAT, NOW MORE CONSOLIDATED)\n",
    "symbol = df[\"PW_SOC_CODE\"].str.find(\"-\")\n",
    "list1 = []\n",
    "for x in range(len(df)):\n",
    "    j = df[\"PW_SOC_CODE\"][x][:symbol[x]]\n",
    "    list1.append(j)\n",
    "list2 = []\n",
    "for x in range(len(df)):\n",
    "    j = df[\"PW_SOC_CODE\"][x][symbol[x]:]\n",
    "    list2.append(j)"
   ]
  },
  {
   "cell_type": "code",
   "execution_count": 6,
   "id": "63203222",
   "metadata": {},
   "outputs": [],
   "source": [
    "# COL1: HAS SOME WEIRD FORMATTING FROM CSV... TURNED IT INTO DATES... NOVEMBER IS IN THERE, SHOULD BE 11\n",
    "col1 = pd.DataFrame(list1)\n",
    "#col1[col1[0].str.len()>2][0].unique()\n",
    "col1[0] = col1[0].replace(\"Nov\",11)"
   ]
  },
  {
   "cell_type": "code",
   "execution_count": 7,
   "id": "0aa161d9",
   "metadata": {},
   "outputs": [],
   "source": [
    "# DROPPING ANYTHING AFTER DECIMAL FOR COL2\n",
    "list2 = [sub.replace('-', '') for sub in list2]\n",
    "col2 = pd.DataFrame(list2)\n",
    "decimal = col2[col2[0].str.find(\".\")>0][0].str[:-3]\n",
    "col2[0].loc[decimal.index] = decimal\n",
    "col2[0] = col2[0].astype(str)"
   ]
  },
  {
   "cell_type": "code",
   "execution_count": 8,
   "id": "82568a43",
   "metadata": {},
   "outputs": [
    {
     "data": {
      "text/plain": [
       "False"
      ]
     },
     "execution_count": 8,
     "metadata": {},
     "output_type": "execute_result"
    }
   ],
   "source": [
    "# HOW MANY Novs were there? THERE SHOULD BE MATCHING 2 DIGIT in Col2\n",
    "(pd.DataFrame(list1)[0]==\"Nov\").sum() == len(col2[col2[0].str.len()<4])"
   ]
  },
  {
   "cell_type": "code",
   "execution_count": 9,
   "id": "3baecefa",
   "metadata": {},
   "outputs": [],
   "source": [
    "# TURNING 2 DIGIT Col2 and adding 00 at the end\n",
    "col2add = col2[col2[0].str.len()<4][0].astype(str)+\"00\"\n",
    "col2[0].loc[col2add.index] = col2add\n",
    "col2[0] = col2[0].astype(str)"
   ]
  },
  {
   "cell_type": "code",
   "execution_count": 10,
   "id": "981713e3",
   "metadata": {},
   "outputs": [],
   "source": [
    "# PUTTING BACK TOGETHER PW CODE CODE\n",
    "df[\"PW_SOC_CODE\"] = col1.astype(str)+\"-\"+col2.astype(str)"
   ]
  },
  {
   "cell_type": "code",
   "execution_count": 11,
   "id": "9544fb1a",
   "metadata": {},
   "outputs": [],
   "source": [
    "# RESET INDEX\n",
    "df = df.reset_index(drop = True)"
   ]
  },
  {
   "cell_type": "code",
   "execution_count": 12,
   "id": "b88ee0c3",
   "metadata": {},
   "outputs": [],
   "source": [
    "# CHANGING DECISION DATE AND APPLICATION RECEIVE DATE INTO MONTH OF YEAR \n",
    "df[\"MONTH\"] = pd.to_datetime(df[\"DECISION_DATE\"]).apply(lambda x:x.month)\n",
    "df[\"YEAR\"] = pd.to_datetime(df[\"DECISION_DATE\"]).apply(lambda x:x.year)"
   ]
  },
  {
   "cell_type": "code",
   "execution_count": 13,
   "id": "241ca713",
   "metadata": {},
   "outputs": [],
   "source": [
    "# changing certified and certified expired to 1. and withdrawn and denied to 0: CLASSIFICATION MODEL OUTPUT\n",
    "df[\"CASE_STATUS\"] = df[\"CASE_STATUS\"].replace([\"CERTIFIED-EXPIRED\",\"CERTIFIED\"],[1,1]).replace([\"WITHDRAWN\",\"DENIED\"],[0,0])"
   ]
  },
  {
   "cell_type": "code",
   "execution_count": 14,
   "id": "a25abfc8",
   "metadata": {},
   "outputs": [
    {
     "name": "stdout",
     "output_type": "stream",
     "text": [
      "Number of PW Wage null: 24\n",
      "Number of Wage offered null: 50\n",
      "Number of PW Wage Unit Null: 1173\n",
      "Number of Wage Unit null: 1179\n"
     ]
    }
   ],
   "source": [
    "# HOW MANY WAGE OFFERED AND PW_WAGE ARE NULL? HOW MANY UNITS ARE NULL?\n",
    "print(\"Number of PW Wage null:\",len(df[df[\"PW_WAGE\"].isnull()]))\n",
    "print(\"Number of Wage offered null:\",len(df[df[\"WAGE_OFFER_FROM\"].isnull()]))\n",
    "print(\"Number of PW Wage Unit Null:\",len(df[df[\"PW_UNIT_OF_PAY\"].isnull()]))\n",
    "print(\"Number of Wage Unit null:\",len(df[df[\"WAGE_OFFER_UNIT_OF_PAY\"].isnull()]))"
   ]
  },
  {
   "cell_type": "code",
   "execution_count": 15,
   "id": "631a6d0d",
   "metadata": {},
   "outputs": [],
   "source": [
    "# DF COPY TO SEE HOW MANY WERE DROPPED\n",
    "dfc = df"
   ]
  },
  {
   "cell_type": "code",
   "execution_count": 16,
   "id": "0cd05e65",
   "metadata": {},
   "outputs": [],
   "source": [
    "# DROP ALL APPLICANTS WITH NO WAGE UNIT\n",
    "df = df[df[\"WAGE_OFFER_UNIT_OF_PAY\"].notnull()]\n",
    "# DROP ALL APPLICANTS WITH NO PW UNIT\n",
    "df = df[df[\"PW_UNIT_OF_PAY\"].notnull()]\n",
    "# DROP ALL APPLICANTS WITH NO WAGE OFFERED\n",
    "df = df[df[\"WAGE_OFFER_FROM\"].notnull()]\n",
    "# DROP ALL APPLICANTS WITH NO PW WAGE\n",
    "df = df[df[\"PW_WAGE\"].notnull()]"
   ]
  },
  {
   "cell_type": "code",
   "execution_count": 17,
   "id": "bc53ef71",
   "metadata": {},
   "outputs": [
    {
     "data": {
      "text/plain": [
       "1236"
      ]
     },
     "execution_count": 17,
     "metadata": {},
     "output_type": "execute_result"
    }
   ],
   "source": [
    "# HOW MANY DROPPED DUE TO NULL\n",
    "len(dfc)-len(df)"
   ]
  },
  {
   "cell_type": "code",
   "execution_count": 18,
   "id": "1337bd2a",
   "metadata": {},
   "outputs": [],
   "source": [
    "# DF COPY TO SEE HOW MANY WERE DROPPED\n",
    "dfc = df"
   ]
  },
  {
   "cell_type": "code",
   "execution_count": 19,
   "id": "241464b5",
   "metadata": {},
   "outputs": [],
   "source": [
    "# TURNING ALL WAGES TO FLOATS\n",
    "df[\"WAGE_OFFER_FROM\"] = df[\"WAGE_OFFER_FROM\"].str.replace(\",\",\"\")\n",
    "df = df[df[\"WAGE_OFFER_FROM\"]!=\"#############\"]\n",
    "df[\"PW_WAGE\"] = df[\"PW_WAGE\"].str.replace(\",\",\"\")\n",
    "df = df[df[\"PW_WAGE\"]!=\"#############\"]\n",
    "df[\"WAGE_OFFER_FROM\"] = df[\"WAGE_OFFER_FROM\"].astype(float)\n",
    "df[\"PW_WAGE\"] = df[\"PW_WAGE\"].astype(float)"
   ]
  },
  {
   "cell_type": "code",
   "execution_count": 20,
   "id": "6e0a39bd",
   "metadata": {},
   "outputs": [
    {
     "data": {
      "text/plain": [
       "6"
      ]
     },
     "execution_count": 20,
     "metadata": {},
     "output_type": "execute_result"
    }
   ],
   "source": [
    "# HOW MANY DROPPED DUE TO #######?\n",
    "len(dfc)-len(df)"
   ]
  },
  {
   "cell_type": "code",
   "execution_count": 21,
   "id": "1dc87dd3",
   "metadata": {},
   "outputs": [],
   "source": [
    "# STANDARD THE PW and SALARY UNIT OF PAY\n",
    "df[\"PW_UNIT_OF_PAY\"] = df[\"PW_UNIT_OF_PAY\"].replace([\"HOUR\",\"YEAR\",\"WEEK\",\"MONTH\",\"BI-WEEKLY\"],[\"HR\",\"YR\",\"WK\",\"MTH\",\"BI\"])\n",
    "df[\"WAGE_OFFER_UNIT_OF_PAY\"] = df[\"WAGE_OFFER_UNIT_OF_PAY\"].replace([\"HOUR\",\"YEAR\",\"WEEK\",\"MONTH\",\"BI-WEEKLY\"],[\"HR\",\"YR\",\"WK\",\"MTH\",\"BI\"])"
   ]
  },
  {
   "cell_type": "code",
   "execution_count": 22,
   "id": "0fc2991d",
   "metadata": {},
   "outputs": [
    {
     "data": {
      "text/html": [
       "<div>\n",
       "<style scoped>\n",
       "    .dataframe tbody tr th:only-of-type {\n",
       "        vertical-align: middle;\n",
       "    }\n",
       "\n",
       "    .dataframe tbody tr th {\n",
       "        vertical-align: top;\n",
       "    }\n",
       "\n",
       "    .dataframe thead th {\n",
       "        text-align: right;\n",
       "    }\n",
       "</style>\n",
       "<table border=\"1\" class=\"dataframe\">\n",
       "  <thead>\n",
       "    <tr style=\"text-align: right;\">\n",
       "      <th></th>\n",
       "      <th>WAGE_OFFER_UNIT_OF_PAY</th>\n",
       "      <th>PW_UNIT_OF_PAY</th>\n",
       "      <th>Unnamed 0</th>\n",
       "    </tr>\n",
       "  </thead>\n",
       "  <tbody>\n",
       "    <tr>\n",
       "      <th>YR</th>\n",
       "      <td>709971</td>\n",
       "      <td>723498</td>\n",
       "      <td>-13527</td>\n",
       "    </tr>\n",
       "    <tr>\n",
       "      <th>HR</th>\n",
       "      <td>24886</td>\n",
       "      <td>11644</td>\n",
       "      <td>13242</td>\n",
       "    </tr>\n",
       "    <tr>\n",
       "      <th>WK</th>\n",
       "      <td>280</td>\n",
       "      <td>133</td>\n",
       "      <td>147</td>\n",
       "    </tr>\n",
       "    <tr>\n",
       "      <th>MTH</th>\n",
       "      <td>218</td>\n",
       "      <td>107</td>\n",
       "      <td>111</td>\n",
       "    </tr>\n",
       "    <tr>\n",
       "      <th>BI</th>\n",
       "      <td>58</td>\n",
       "      <td>31</td>\n",
       "      <td>27</td>\n",
       "    </tr>\n",
       "  </tbody>\n",
       "</table>\n",
       "</div>"
      ],
      "text/plain": [
       "     WAGE_OFFER_UNIT_OF_PAY  PW_UNIT_OF_PAY  Unnamed 0\n",
       "YR                   709971          723498     -13527\n",
       "HR                    24886           11644      13242\n",
       "WK                      280             133        147\n",
       "MTH                     218             107        111\n",
       "BI                       58              31         27"
      ]
     },
     "execution_count": 22,
     "metadata": {},
     "output_type": "execute_result"
    }
   ],
   "source": [
    "# DISTRIBUTION OF UNIT OF PAY\n",
    "pd.DataFrame([df[\"WAGE_OFFER_UNIT_OF_PAY\"].value_counts(),df[\"PW_UNIT_OF_PAY\"].value_counts(),df[\"WAGE_OFFER_UNIT_OF_PAY\"].value_counts()-df[\"PW_UNIT_OF_PAY\"].value_counts()]).transpose()"
   ]
  },
  {
   "cell_type": "code",
   "execution_count": 23,
   "id": "135f61c3",
   "metadata": {},
   "outputs": [],
   "source": [
    "# ANNUALIZING WAGE OFFER AND PW\n",
    "# Annualized Salaries: Actual Salary: multiplier\n",
    "def annual(row):\n",
    "    if row[\"WAGE_OFFER_UNIT_OF_PAY\"] == \"YR\":\n",
    "        return 1\n",
    "    elif row[\"WAGE_OFFER_UNIT_OF_PAY\"] == \"MTH\": \n",
    "        return 12\n",
    "    elif row[\"WAGE_OFFER_UNIT_OF_PAY\"] == \"WK\": \n",
    "        return 52\n",
    "    elif row[\"WAGE_OFFER_UNIT_OF_PAY\"] == \"BI\": \n",
    "        return 26\n",
    "    elif row[\"WAGE_OFFER_UNIT_OF_PAY\"] == \"HR\": \n",
    "        return 2080\n",
    "mult = pd.DataFrame(df.apply(lambda row:annual(row), axis = 1))\n",
    "mult.columns = [\"WAGE_OFFER_FROM\"]\n",
    "# ANNUALIZED WAGE OFFER\n",
    "df[\"WO_A\"] = pd.DataFrame(df[\"WAGE_OFFER_FROM\"])*mult\n",
    "\n",
    "# Annualized Salaries: PW Salary\n",
    "def annuali(row):\n",
    "    if row[\"PW_UNIT_OF_PAY\"] == \"YR\":\n",
    "        return 1\n",
    "    elif row[\"PW_UNIT_OF_PAY\"] == \"MTH\": \n",
    "        return 12\n",
    "    elif row[\"PW_UNIT_OF_PAY\"] == \"WK\": \n",
    "        return 52\n",
    "    elif row[\"PW_UNIT_OF_PAY\"] == \"BI\": \n",
    "        return 26\n",
    "    elif row[\"PW_UNIT_OF_PAY\"] == \"HR\": \n",
    "        return 2080\n",
    "multi = pd.DataFrame(df.apply(lambda row:annuali(row), axis = 1))\n",
    "multi.columns = [\"PW_WAGE\"]\n",
    "# ANNUALIZED WAGE PW\n",
    "df[\"PW_A\"] = pd.DataFrame(df[\"PW_WAGE\"])*multi"
   ]
  },
  {
   "cell_type": "code",
   "execution_count": 24,
   "id": "58dd1df3",
   "metadata": {},
   "outputs": [],
   "source": [
    "# ANNUALIZED WAGE OFFER - ANNUALIZED PW\n",
    "df[\"WO-PW\"] = df[\"WO_A\"] - df[\"PW_A\"]"
   ]
  },
  {
   "cell_type": "code",
   "execution_count": 25,
   "id": "87d023de",
   "metadata": {},
   "outputs": [],
   "source": [
    "# STANDARDIZING THE NULLS\n",
    "df = df.replace(np.nan,\"\", regex = True)"
   ]
  },
  {
   "cell_type": "code",
   "execution_count": 26,
   "id": "6b79ff33",
   "metadata": {},
   "outputs": [
    {
     "data": {
      "text/html": [
       "<div>\n",
       "<style scoped>\n",
       "    .dataframe tbody tr th:only-of-type {\n",
       "        vertical-align: middle;\n",
       "    }\n",
       "\n",
       "    .dataframe tbody tr th {\n",
       "        vertical-align: top;\n",
       "    }\n",
       "\n",
       "    .dataframe thead th {\n",
       "        text-align: right;\n",
       "    }\n",
       "</style>\n",
       "<table border=\"1\" class=\"dataframe\">\n",
       "  <thead>\n",
       "    <tr style=\"text-align: right;\">\n",
       "      <th></th>\n",
       "      <th>CASE_STATUS</th>\n",
       "      <th>WAGE_OFFER_UNIT_OF_PAY</th>\n",
       "      <th>PW_UNIT_OF_PAY</th>\n",
       "      <th>WAGE_OFFER_FROM</th>\n",
       "      <th>PW_WAGE</th>\n",
       "      <th>WO_A</th>\n",
       "      <th>PW_A</th>\n",
       "    </tr>\n",
       "  </thead>\n",
       "  <tbody>\n",
       "    <tr>\n",
       "      <th>736</th>\n",
       "      <td>1</td>\n",
       "      <td>HR</td>\n",
       "      <td>YR</td>\n",
       "      <td>16.16</td>\n",
       "      <td>33613.00</td>\n",
       "      <td>33612.8</td>\n",
       "      <td>33613.0</td>\n",
       "    </tr>\n",
       "    <tr>\n",
       "      <th>1008</th>\n",
       "      <td>1</td>\n",
       "      <td>HR</td>\n",
       "      <td>YR</td>\n",
       "      <td>20.27</td>\n",
       "      <td>42162.00</td>\n",
       "      <td>42161.6</td>\n",
       "      <td>42162.0</td>\n",
       "    </tr>\n",
       "    <tr>\n",
       "      <th>1009</th>\n",
       "      <td>1</td>\n",
       "      <td>HR</td>\n",
       "      <td>YR</td>\n",
       "      <td>20.27</td>\n",
       "      <td>42162.00</td>\n",
       "      <td>42161.6</td>\n",
       "      <td>42162.0</td>\n",
       "    </tr>\n",
       "    <tr>\n",
       "      <th>1281</th>\n",
       "      <td>1</td>\n",
       "      <td>HR</td>\n",
       "      <td>YR</td>\n",
       "      <td>20.27</td>\n",
       "      <td>42162.00</td>\n",
       "      <td>42161.6</td>\n",
       "      <td>42162.0</td>\n",
       "    </tr>\n",
       "    <tr>\n",
       "      <th>4453</th>\n",
       "      <td>1</td>\n",
       "      <td>HR</td>\n",
       "      <td>YR</td>\n",
       "      <td>11.41</td>\n",
       "      <td>23733.00</td>\n",
       "      <td>23732.8</td>\n",
       "      <td>23733.0</td>\n",
       "    </tr>\n",
       "    <tr>\n",
       "      <th>...</th>\n",
       "      <td>...</td>\n",
       "      <td>...</td>\n",
       "      <td>...</td>\n",
       "      <td>...</td>\n",
       "      <td>...</td>\n",
       "      <td>...</td>\n",
       "      <td>...</td>\n",
       "    </tr>\n",
       "    <tr>\n",
       "      <th>732094</th>\n",
       "      <td>0</td>\n",
       "      <td>HR</td>\n",
       "      <td>HR</td>\n",
       "      <td>13.00</td>\n",
       "      <td>40.75</td>\n",
       "      <td>27040.0</td>\n",
       "      <td>84760.0</td>\n",
       "    </tr>\n",
       "    <tr>\n",
       "      <th>732246</th>\n",
       "      <td>0</td>\n",
       "      <td>HR</td>\n",
       "      <td>HR</td>\n",
       "      <td>11.50</td>\n",
       "      <td>12.00</td>\n",
       "      <td>23920.0</td>\n",
       "      <td>24960.0</td>\n",
       "    </tr>\n",
       "    <tr>\n",
       "      <th>732287</th>\n",
       "      <td>0</td>\n",
       "      <td>HR</td>\n",
       "      <td>HR</td>\n",
       "      <td>25.00</td>\n",
       "      <td>26.07</td>\n",
       "      <td>52000.0</td>\n",
       "      <td>54225.6</td>\n",
       "    </tr>\n",
       "    <tr>\n",
       "      <th>732288</th>\n",
       "      <td>0</td>\n",
       "      <td>HR</td>\n",
       "      <td>HR</td>\n",
       "      <td>25.00</td>\n",
       "      <td>26.07</td>\n",
       "      <td>52000.0</td>\n",
       "      <td>54225.6</td>\n",
       "    </tr>\n",
       "    <tr>\n",
       "      <th>735491</th>\n",
       "      <td>0</td>\n",
       "      <td>YR</td>\n",
       "      <td>YR</td>\n",
       "      <td>45000.00</td>\n",
       "      <td>76000.00</td>\n",
       "      <td>45000.0</td>\n",
       "      <td>76000.0</td>\n",
       "    </tr>\n",
       "  </tbody>\n",
       "</table>\n",
       "<p>1460 rows × 7 columns</p>\n",
       "</div>"
      ],
      "text/plain": [
       "        CASE_STATUS WAGE_OFFER_UNIT_OF_PAY PW_UNIT_OF_PAY  WAGE_OFFER_FROM  \\\n",
       "736               1                     HR             YR            16.16   \n",
       "1008              1                     HR             YR            20.27   \n",
       "1009              1                     HR             YR            20.27   \n",
       "1281              1                     HR             YR            20.27   \n",
       "4453              1                     HR             YR            11.41   \n",
       "...             ...                    ...            ...              ...   \n",
       "732094            0                     HR             HR            13.00   \n",
       "732246            0                     HR             HR            11.50   \n",
       "732287            0                     HR             HR            25.00   \n",
       "732288            0                     HR             HR            25.00   \n",
       "735491            0                     YR             YR         45000.00   \n",
       "\n",
       "         PW_WAGE     WO_A     PW_A  \n",
       "736     33613.00  33612.8  33613.0  \n",
       "1008    42162.00  42161.6  42162.0  \n",
       "1009    42162.00  42161.6  42162.0  \n",
       "1281    42162.00  42161.6  42162.0  \n",
       "4453    23733.00  23732.8  23733.0  \n",
       "...          ...      ...      ...  \n",
       "732094     40.75  27040.0  84760.0  \n",
       "732246     12.00  23920.0  24960.0  \n",
       "732287     26.07  52000.0  54225.6  \n",
       "732288     26.07  52000.0  54225.6  \n",
       "735491  76000.00  45000.0  76000.0  \n",
       "\n",
       "[1460 rows x 7 columns]"
      ]
     },
     "execution_count": 26,
     "metadata": {},
     "output_type": "execute_result"
    }
   ],
   "source": [
    "# HAVE WAGE OFFER BEEN < ANNUALIZED PW? THIS SOULD NEVER HAPPEN...\n",
    "lowwage = df[df[\"WO-PW\"]<0][[\"CASE_STATUS\",\"WAGE_OFFER_UNIT_OF_PAY\",\"PW_UNIT_OF_PAY\",\"WAGE_OFFER_FROM\",\"PW_WAGE\",\"WO_A\",\"PW_A\"]]\n",
    "lowwage"
   ]
  },
  {
   "cell_type": "code",
   "execution_count": 27,
   "id": "12e55710",
   "metadata": {},
   "outputs": [
    {
     "name": "stdout",
     "output_type": "stream",
     "text": [
      "Number of Successful applicants: 829\n",
      "Out of: 1460 , 0.5678082191780822\n"
     ]
    }
   ],
   "source": [
    "# HOW MANY HAVE SUCCESSFUL APPLICATIONS WHEN WAGE < PW?\n",
    "print(\"Number of Successful applicants:\",lowwage[\"CASE_STATUS\"].sum())\n",
    "print(\"Out of:\",len(lowwage),\",\",lowwage[\"CASE_STATUS\"].sum()/len(lowwage))"
   ]
  },
  {
   "cell_type": "code",
   "execution_count": 28,
   "id": "5f56e45b",
   "metadata": {},
   "outputs": [
    {
     "data": {
      "text/html": [
       "<div>\n",
       "<style scoped>\n",
       "    .dataframe tbody tr th:only-of-type {\n",
       "        vertical-align: middle;\n",
       "    }\n",
       "\n",
       "    .dataframe tbody tr th {\n",
       "        vertical-align: top;\n",
       "    }\n",
       "\n",
       "    .dataframe thead th {\n",
       "        text-align: right;\n",
       "    }\n",
       "</style>\n",
       "<table border=\"1\" class=\"dataframe\">\n",
       "  <thead>\n",
       "    <tr style=\"text-align: right;\">\n",
       "      <th></th>\n",
       "      <th>CASE_STATUS</th>\n",
       "      <th>WAGE_OFFER_UNIT_OF_PAY</th>\n",
       "      <th>PW_UNIT_OF_PAY</th>\n",
       "      <th>WAGE_OFFER_FROM</th>\n",
       "      <th>PW_WAGE</th>\n",
       "      <th>WO_A</th>\n",
       "      <th>PW_A</th>\n",
       "    </tr>\n",
       "  </thead>\n",
       "  <tbody>\n",
       "    <tr>\n",
       "      <th>7334</th>\n",
       "      <td>0</td>\n",
       "      <td>YR</td>\n",
       "      <td>YR</td>\n",
       "      <td>40000.0</td>\n",
       "      <td>94078.00</td>\n",
       "      <td>40000.0</td>\n",
       "      <td>94078.0</td>\n",
       "    </tr>\n",
       "    <tr>\n",
       "      <th>8190</th>\n",
       "      <td>0</td>\n",
       "      <td>YR</td>\n",
       "      <td>YR</td>\n",
       "      <td>21019.0</td>\n",
       "      <td>27019.00</td>\n",
       "      <td>21019.0</td>\n",
       "      <td>27019.0</td>\n",
       "    </tr>\n",
       "    <tr>\n",
       "      <th>12462</th>\n",
       "      <td>0</td>\n",
       "      <td>YR</td>\n",
       "      <td>YR</td>\n",
       "      <td>27394.0</td>\n",
       "      <td>27934.00</td>\n",
       "      <td>27394.0</td>\n",
       "      <td>27934.0</td>\n",
       "    </tr>\n",
       "    <tr>\n",
       "      <th>15349</th>\n",
       "      <td>0</td>\n",
       "      <td>YR</td>\n",
       "      <td>YR</td>\n",
       "      <td>106038.0</td>\n",
       "      <td>128898.00</td>\n",
       "      <td>106038.0</td>\n",
       "      <td>128898.0</td>\n",
       "    </tr>\n",
       "    <tr>\n",
       "      <th>16112</th>\n",
       "      <td>0</td>\n",
       "      <td>YR</td>\n",
       "      <td>YR</td>\n",
       "      <td>106038.0</td>\n",
       "      <td>110677.00</td>\n",
       "      <td>106038.0</td>\n",
       "      <td>110677.0</td>\n",
       "    </tr>\n",
       "    <tr>\n",
       "      <th>...</th>\n",
       "      <td>...</td>\n",
       "      <td>...</td>\n",
       "      <td>...</td>\n",
       "      <td>...</td>\n",
       "      <td>...</td>\n",
       "      <td>...</td>\n",
       "      <td>...</td>\n",
       "    </tr>\n",
       "    <tr>\n",
       "      <th>732094</th>\n",
       "      <td>0</td>\n",
       "      <td>HR</td>\n",
       "      <td>HR</td>\n",
       "      <td>13.0</td>\n",
       "      <td>40.75</td>\n",
       "      <td>27040.0</td>\n",
       "      <td>84760.0</td>\n",
       "    </tr>\n",
       "    <tr>\n",
       "      <th>732246</th>\n",
       "      <td>0</td>\n",
       "      <td>HR</td>\n",
       "      <td>HR</td>\n",
       "      <td>11.5</td>\n",
       "      <td>12.00</td>\n",
       "      <td>23920.0</td>\n",
       "      <td>24960.0</td>\n",
       "    </tr>\n",
       "    <tr>\n",
       "      <th>732287</th>\n",
       "      <td>0</td>\n",
       "      <td>HR</td>\n",
       "      <td>HR</td>\n",
       "      <td>25.0</td>\n",
       "      <td>26.07</td>\n",
       "      <td>52000.0</td>\n",
       "      <td>54225.6</td>\n",
       "    </tr>\n",
       "    <tr>\n",
       "      <th>732288</th>\n",
       "      <td>0</td>\n",
       "      <td>HR</td>\n",
       "      <td>HR</td>\n",
       "      <td>25.0</td>\n",
       "      <td>26.07</td>\n",
       "      <td>52000.0</td>\n",
       "      <td>54225.6</td>\n",
       "    </tr>\n",
       "    <tr>\n",
       "      <th>735491</th>\n",
       "      <td>0</td>\n",
       "      <td>YR</td>\n",
       "      <td>YR</td>\n",
       "      <td>45000.0</td>\n",
       "      <td>76000.00</td>\n",
       "      <td>45000.0</td>\n",
       "      <td>76000.0</td>\n",
       "    </tr>\n",
       "  </tbody>\n",
       "</table>\n",
       "<p>203 rows × 7 columns</p>\n",
       "</div>"
      ],
      "text/plain": [
       "        CASE_STATUS WAGE_OFFER_UNIT_OF_PAY PW_UNIT_OF_PAY  WAGE_OFFER_FROM  \\\n",
       "7334              0                     YR             YR          40000.0   \n",
       "8190              0                     YR             YR          21019.0   \n",
       "12462             0                     YR             YR          27394.0   \n",
       "15349             0                     YR             YR         106038.0   \n",
       "16112             0                     YR             YR         106038.0   \n",
       "...             ...                    ...            ...              ...   \n",
       "732094            0                     HR             HR             13.0   \n",
       "732246            0                     HR             HR             11.5   \n",
       "732287            0                     HR             HR             25.0   \n",
       "732288            0                     HR             HR             25.0   \n",
       "735491            0                     YR             YR          45000.0   \n",
       "\n",
       "          PW_WAGE      WO_A      PW_A  \n",
       "7334     94078.00   40000.0   94078.0  \n",
       "8190     27019.00   21019.0   27019.0  \n",
       "12462    27934.00   27394.0   27934.0  \n",
       "15349   128898.00  106038.0  128898.0  \n",
       "16112   110677.00  106038.0  110677.0  \n",
       "...           ...       ...       ...  \n",
       "732094      40.75   27040.0   84760.0  \n",
       "732246      12.00   23920.0   24960.0  \n",
       "732287      26.07   52000.0   54225.6  \n",
       "732288      26.07   52000.0   54225.6  \n",
       "735491   76000.00   45000.0   76000.0  \n",
       "\n",
       "[203 rows x 7 columns]"
      ]
     },
     "execution_count": 28,
     "metadata": {},
     "output_type": "execute_result"
    }
   ],
   "source": [
    "# SUCESSFULL APPLICATIONS WITH THE SAME UNIT\n",
    "lowwage[lowwage[\"WAGE_OFFER_UNIT_OF_PAY\"]==lowwage[\"PW_UNIT_OF_PAY\"]]"
   ]
  },
  {
   "cell_type": "code",
   "execution_count": 29,
   "id": "d1b9741a",
   "metadata": {},
   "outputs": [],
   "source": [
    "# CREATE A UNIQUE IDENTIFIER: THIS WILL BE TO UPDATE ANY OUTLIERS\n",
    "df[\"ID\"] = df[\"CASE_NUMBER\"].astype(str)+df[\"DECISION_DATE\"].astype(str)+df[\"CASE_STATUS\"].astype(str)+df[\"RECEIVED_DATE\"].astype(str)+df[\"DAYS_TO_DECIDE\"].astype(str)+df[\"EMPLOYER_NAME\"].astype(str)"
   ]
  },
  {
   "cell_type": "code",
   "execution_count": 30,
   "id": "04dd2399",
   "metadata": {},
   "outputs": [
    {
     "data": {
      "text/plain": [
       "YEAR\n",
       "2014    44990.88\n",
       "2015    32000.00\n",
       "2016    25240.00\n",
       "2017    25064.00\n",
       "2018    28018.00\n",
       "2019    27000.00\n",
       "2020    27830.00\n",
       "2021    29328.00\n",
       "Name: WAGE_OFFER_FROM, dtype: float64"
      ]
     },
     "execution_count": 30,
     "metadata": {},
     "output_type": "execute_result"
    }
   ],
   "source": [
    "# PATTERN FOR MIS-LABELED: UNIT OF PAY IS NOT YEAR BUT THE WAGE OFFER IS YEAR AMOUNT\n",
    "# FIND THIS BY UNIT OF PAY NOT YEAR, BUT WAGE OFFER > btm 5% OF WAGE OFFER of each YEAR\n",
    "top = df[df[\"WAGE_OFFER_UNIT_OF_PAY\"]==\"YR\"].groupby(\"YEAR\")[\"WAGE_OFFER_FROM\"].quantile(.05) \n",
    "top"
   ]
  },
  {
   "cell_type": "code",
   "execution_count": 31,
   "id": "258f1570",
   "metadata": {},
   "outputs": [],
   "source": [
    "# CREATING THE LIST FOR THE FOR LOOP TO REPLACE IF ANNUALIZED SALARY IS > OUTLIER CUTOFF\n",
    "year = top.index.tolist()\n",
    "top = top.tolist()"
   ]
  },
  {
   "cell_type": "code",
   "execution_count": 32,
   "id": "c124b406",
   "metadata": {
    "scrolled": true
   },
   "outputs": [
    {
     "data": {
      "text/html": [
       "<div>\n",
       "<style scoped>\n",
       "    .dataframe tbody tr th:only-of-type {\n",
       "        vertical-align: middle;\n",
       "    }\n",
       "\n",
       "    .dataframe tbody tr th {\n",
       "        vertical-align: top;\n",
       "    }\n",
       "\n",
       "    .dataframe thead th {\n",
       "        text-align: right;\n",
       "    }\n",
       "</style>\n",
       "<table border=\"1\" class=\"dataframe\">\n",
       "  <thead>\n",
       "    <tr style=\"text-align: right;\">\n",
       "      <th></th>\n",
       "      <th>CASE_STATUS</th>\n",
       "      <th>WAGE_OFFER_UNIT_OF_PAY</th>\n",
       "      <th>PW_UNIT_OF_PAY</th>\n",
       "      <th>WAGE_OFFER_FROM</th>\n",
       "      <th>PW_WAGE</th>\n",
       "      <th>WO_A</th>\n",
       "      <th>PW_A</th>\n",
       "    </tr>\n",
       "  </thead>\n",
       "  <tbody>\n",
       "    <tr>\n",
       "      <th>524104</th>\n",
       "      <td>1</td>\n",
       "      <td>WK</td>\n",
       "      <td>YR</td>\n",
       "      <td>69493.0</td>\n",
       "      <td>69493.0</td>\n",
       "      <td>3613636.0</td>\n",
       "      <td>69493.0</td>\n",
       "    </tr>\n",
       "    <tr>\n",
       "      <th>524987</th>\n",
       "      <td>1</td>\n",
       "      <td>MTH</td>\n",
       "      <td>YR</td>\n",
       "      <td>115149.0</td>\n",
       "      <td>115149.0</td>\n",
       "      <td>1381788.0</td>\n",
       "      <td>115149.0</td>\n",
       "    </tr>\n",
       "    <tr>\n",
       "      <th>528015</th>\n",
       "      <td>0</td>\n",
       "      <td>MTH</td>\n",
       "      <td>MTH</td>\n",
       "      <td>45000.0</td>\n",
       "      <td>45000.0</td>\n",
       "      <td>540000.0</td>\n",
       "      <td>540000.0</td>\n",
       "    </tr>\n",
       "    <tr>\n",
       "      <th>531560</th>\n",
       "      <td>0</td>\n",
       "      <td>MTH</td>\n",
       "      <td>YR</td>\n",
       "      <td>80000.0</td>\n",
       "      <td>54280.0</td>\n",
       "      <td>960000.0</td>\n",
       "      <td>54280.0</td>\n",
       "    </tr>\n",
       "    <tr>\n",
       "      <th>535846</th>\n",
       "      <td>1</td>\n",
       "      <td>WK</td>\n",
       "      <td>YR</td>\n",
       "      <td>110000.0</td>\n",
       "      <td>105560.0</td>\n",
       "      <td>5720000.0</td>\n",
       "      <td>105560.0</td>\n",
       "    </tr>\n",
       "    <tr>\n",
       "      <th>...</th>\n",
       "      <td>...</td>\n",
       "      <td>...</td>\n",
       "      <td>...</td>\n",
       "      <td>...</td>\n",
       "      <td>...</td>\n",
       "      <td>...</td>\n",
       "      <td>...</td>\n",
       "    </tr>\n",
       "    <tr>\n",
       "      <th>58349</th>\n",
       "      <td>1</td>\n",
       "      <td>WK</td>\n",
       "      <td>YR</td>\n",
       "      <td>125000.0</td>\n",
       "      <td>66331.0</td>\n",
       "      <td>6500000.0</td>\n",
       "      <td>66331.0</td>\n",
       "    </tr>\n",
       "    <tr>\n",
       "      <th>77296</th>\n",
       "      <td>0</td>\n",
       "      <td>HR</td>\n",
       "      <td>YR</td>\n",
       "      <td>43867.0</td>\n",
       "      <td>43867.0</td>\n",
       "      <td>91243360.0</td>\n",
       "      <td>43867.0</td>\n",
       "    </tr>\n",
       "    <tr>\n",
       "      <th>87476</th>\n",
       "      <td>1</td>\n",
       "      <td>WK</td>\n",
       "      <td>YR</td>\n",
       "      <td>100000.0</td>\n",
       "      <td>73860.0</td>\n",
       "      <td>5200000.0</td>\n",
       "      <td>73860.0</td>\n",
       "    </tr>\n",
       "    <tr>\n",
       "      <th>88326</th>\n",
       "      <td>0</td>\n",
       "      <td>WK</td>\n",
       "      <td>YR</td>\n",
       "      <td>31096.0</td>\n",
       "      <td>31096.0</td>\n",
       "      <td>1616992.0</td>\n",
       "      <td>31096.0</td>\n",
       "    </tr>\n",
       "    <tr>\n",
       "      <th>104143</th>\n",
       "      <td>1</td>\n",
       "      <td>HR</td>\n",
       "      <td>HR</td>\n",
       "      <td>48173.0</td>\n",
       "      <td>48173.0</td>\n",
       "      <td>100199840.0</td>\n",
       "      <td>100199840.0</td>\n",
       "    </tr>\n",
       "  </tbody>\n",
       "</table>\n",
       "<p>101 rows × 7 columns</p>\n",
       "</div>"
      ],
      "text/plain": [
       "        CASE_STATUS WAGE_OFFER_UNIT_OF_PAY PW_UNIT_OF_PAY  WAGE_OFFER_FROM  \\\n",
       "524104            1                     WK             YR          69493.0   \n",
       "524987            1                    MTH             YR         115149.0   \n",
       "528015            0                    MTH            MTH          45000.0   \n",
       "531560            0                    MTH             YR          80000.0   \n",
       "535846            1                     WK             YR         110000.0   \n",
       "...             ...                    ...            ...              ...   \n",
       "58349             1                     WK             YR         125000.0   \n",
       "77296             0                     HR             YR          43867.0   \n",
       "87476             1                     WK             YR         100000.0   \n",
       "88326             0                     WK             YR          31096.0   \n",
       "104143            1                     HR             HR          48173.0   \n",
       "\n",
       "         PW_WAGE         WO_A         PW_A  \n",
       "524104   69493.0    3613636.0      69493.0  \n",
       "524987  115149.0    1381788.0     115149.0  \n",
       "528015   45000.0     540000.0     540000.0  \n",
       "531560   54280.0     960000.0      54280.0  \n",
       "535846  105560.0    5720000.0     105560.0  \n",
       "...          ...          ...          ...  \n",
       "58349    66331.0    6500000.0      66331.0  \n",
       "77296    43867.0   91243360.0      43867.0  \n",
       "87476    73860.0    5200000.0      73860.0  \n",
       "88326    31096.0    1616992.0      31096.0  \n",
       "104143   48173.0  100199840.0  100199840.0  \n",
       "\n",
       "[101 rows x 7 columns]"
      ]
     },
     "execution_count": 32,
     "metadata": {},
     "output_type": "execute_result"
    }
   ],
   "source": [
    "# GRABBING THE APPLICANTS THAT ARE OVER NON YR BUT > btm 5% of WAGE\n",
    "todrop = pd.DataFrame()\n",
    "for i in range(len(year)):\n",
    "    j = df[(df[\"YEAR\"]==year[i])&(df[\"WAGE_OFFER_FROM\"]>=top[i])&(df[\"WAGE_OFFER_UNIT_OF_PAY\"]!=\"YR\")]\n",
    "    todrop = pd.concat([todrop,j])\n",
    "todrop[[\"CASE_STATUS\",\"WAGE_OFFER_UNIT_OF_PAY\",\"PW_UNIT_OF_PAY\",\"WAGE_OFFER_FROM\",\"PW_WAGE\",\"WO_A\",\"PW_A\"]]"
   ]
  },
  {
   "cell_type": "code",
   "execution_count": 33,
   "id": "cb5968f9",
   "metadata": {},
   "outputs": [],
   "source": [
    "# CHANGING THE WO_A TO THE WAGE OFFER (LEAVE UNIT OF PAY AS WHAT THE APPLICATION SAYS, ONLY CHANGE MY* Annualized WAGES)\n",
    "todrop[\"WO_A\"]=todrop[\"WAGE_OFFER_FROM\"]"
   ]
  },
  {
   "cell_type": "code",
   "execution_count": 34,
   "id": "64763cc9",
   "metadata": {},
   "outputs": [
    {
     "name": "stdout",
     "output_type": "stream",
     "text": [
      "ID IS NOT A UNIQUE IDENTIFIER\n"
     ]
    }
   ],
   "source": [
    "# CHECK IF UNIQUE IDENTIFIER IS UNIQUE\n",
    "if len(df) == df[\"ID\"].nunique():\n",
    "    print(\"ID IS A UNIQUE IDENTIFIER\")\n",
    "else:\n",
    "    print(\"ID IS NOT A UNIQUE IDENTIFIER\")"
   ]
  },
  {
   "cell_type": "code",
   "execution_count": 35,
   "id": "ce30f5dd",
   "metadata": {},
   "outputs": [
    {
     "data": {
      "text/plain": [
       "2"
      ]
     },
     "execution_count": 35,
     "metadata": {},
     "output_type": "execute_result"
    }
   ],
   "source": [
    "# WHAT IS THE MAX REPEAT OF IDs\n",
    "df[\"ID\"].value_counts()[df[\"ID\"].value_counts()>1].max()"
   ]
  },
  {
   "cell_type": "code",
   "execution_count": 36,
   "id": "df9045b1",
   "metadata": {},
   "outputs": [],
   "source": [
    "# ISOLATE THE APPLICATIONS WITH THE SAME ID\n",
    "idcheck = df[\"ID\"].value_counts()[df[\"ID\"].value_counts()>1].index.tolist()"
   ]
  },
  {
   "cell_type": "code",
   "execution_count": 37,
   "id": "37771ea3",
   "metadata": {},
   "outputs": [
    {
     "data": {
      "text/plain": [
       "0"
      ]
     },
     "execution_count": 37,
     "metadata": {},
     "output_type": "execute_result"
    }
   ],
   "source": [
    "# CHECK TO SEE IF EACH DUPLICATE ID HAS IDENTICAL FIELDS (WOULD MEAN A MISTAKE AND THEN WE DROP). IF 0 THEN ALL IDENTICAL\n",
    "empty = []\n",
    "for i in range(len(idcheck)):\n",
    "    df[df[\"ID\"] == idcheck[i]]\n",
    "    j = df[df[\"ID\"] == idcheck[1]]\n",
    "    if (j.iloc[0] == j.iloc[1]).sum() == len(j.columns):\n",
    "        y = 0\n",
    "        empty.append(y)\n",
    "    else:\n",
    "        y=[1]\n",
    "sum(empty)"
   ]
  },
  {
   "cell_type": "code",
   "execution_count": 38,
   "id": "f21690bd",
   "metadata": {},
   "outputs": [],
   "source": [
    "# DROP THE REPEAT APPLICATION FROM THE DF\n",
    "df = df.drop_duplicates(subset=[\"ID\"])"
   ]
  },
  {
   "cell_type": "code",
   "execution_count": 39,
   "id": "cd167477",
   "metadata": {},
   "outputs": [],
   "source": [
    "# CHANGING THE EXISTING APPLICANTS WITH UPDATED WAGE and UNIT OF PAY IN THE ORIGINAL DF\n",
    "# MATCH APPLICATIONS IN TODROP DF WITH ORIGINAL DF AND UPDATE WAGE DATA\n",
    "todrop = todrop.set_index(\"ID\")\n",
    "df = df.set_index(\"ID\")\n",
    "df.loc[todrop.index] = todrop\n",
    "df = df.reset_index()"
   ]
  },
  {
   "cell_type": "code",
   "execution_count": 40,
   "id": "0d71932e",
   "metadata": {},
   "outputs": [
    {
     "data": {
      "text/plain": [
       "YEAR\n",
       "2014    39749.0\n",
       "2015    29557.0\n",
       "2016    20654.0\n",
       "2017    21112.0\n",
       "2018    22422.0\n",
       "2019    23013.4\n",
       "2020    23358.0\n",
       "2021    24502.0\n",
       "Name: PW_WAGE, dtype: float64"
      ]
     },
     "execution_count": 40,
     "metadata": {},
     "output_type": "execute_result"
    }
   ],
   "source": [
    "# PATTERN FOR MIS-LABELED: UNIT OF PAY IS NOT YEAR BUT THE PW WAGE IS YEAR AMOUNT\n",
    "# FIND THIS BY UNIT OF PAY NOT YEAR, BUT PW WAGE > btm 5% OF PW WAGE of each YEAR\n",
    "top1 = df[df[\"PW_UNIT_OF_PAY\"]==\"YR\"].groupby(\"YEAR\")[\"PW_WAGE\"].quantile(.05) \n",
    "top1"
   ]
  },
  {
   "cell_type": "code",
   "execution_count": 41,
   "id": "422a5de5",
   "metadata": {},
   "outputs": [],
   "source": [
    "# CREATING THE LIST FOR THE FOR LOOP TO REPLACE IF ANNUALIZED SALARY IS > OUTLIER CUTOFF\n",
    "year1 = top1.index.tolist()\n",
    "top1 = top1.tolist()"
   ]
  },
  {
   "cell_type": "code",
   "execution_count": 42,
   "id": "65596cf4",
   "metadata": {
    "scrolled": true
   },
   "outputs": [
    {
     "data": {
      "text/html": [
       "<div>\n",
       "<style scoped>\n",
       "    .dataframe tbody tr th:only-of-type {\n",
       "        vertical-align: middle;\n",
       "    }\n",
       "\n",
       "    .dataframe tbody tr th {\n",
       "        vertical-align: top;\n",
       "    }\n",
       "\n",
       "    .dataframe thead th {\n",
       "        text-align: right;\n",
       "    }\n",
       "</style>\n",
       "<table border=\"1\" class=\"dataframe\">\n",
       "  <thead>\n",
       "    <tr style=\"text-align: right;\">\n",
       "      <th></th>\n",
       "      <th>CASE_STATUS</th>\n",
       "      <th>WAGE_OFFER_UNIT_OF_PAY</th>\n",
       "      <th>PW_UNIT_OF_PAY</th>\n",
       "      <th>WAGE_OFFER_FROM</th>\n",
       "      <th>PW_WAGE</th>\n",
       "      <th>WO_A</th>\n",
       "      <th>PW_A</th>\n",
       "    </tr>\n",
       "  </thead>\n",
       "  <tbody>\n",
       "    <tr>\n",
       "      <th>527928</th>\n",
       "      <td>0</td>\n",
       "      <td>MTH</td>\n",
       "      <td>MTH</td>\n",
       "      <td>45000.00</td>\n",
       "      <td>45000.00</td>\n",
       "      <td>45000.00</td>\n",
       "      <td>5.400000e+05</td>\n",
       "    </tr>\n",
       "    <tr>\n",
       "      <th>699636</th>\n",
       "      <td>1</td>\n",
       "      <td>HR</td>\n",
       "      <td>HR</td>\n",
       "      <td>50544.00</td>\n",
       "      <td>50544.00</td>\n",
       "      <td>50544.00</td>\n",
       "      <td>1.051315e+08</td>\n",
       "    </tr>\n",
       "    <tr>\n",
       "      <th>448022</th>\n",
       "      <td>1</td>\n",
       "      <td>YR</td>\n",
       "      <td>HR</td>\n",
       "      <td>110000.00</td>\n",
       "      <td>106267.00</td>\n",
       "      <td>110000.00</td>\n",
       "      <td>2.210354e+08</td>\n",
       "    </tr>\n",
       "    <tr>\n",
       "      <th>614415</th>\n",
       "      <td>0</td>\n",
       "      <td>YR</td>\n",
       "      <td>HR</td>\n",
       "      <td>77147.00</td>\n",
       "      <td>77147.00</td>\n",
       "      <td>77147.00</td>\n",
       "      <td>1.604658e+08</td>\n",
       "    </tr>\n",
       "    <tr>\n",
       "      <th>630213</th>\n",
       "      <td>0</td>\n",
       "      <td>YR</td>\n",
       "      <td>HR</td>\n",
       "      <td>110000.00</td>\n",
       "      <td>106267.00</td>\n",
       "      <td>110000.00</td>\n",
       "      <td>2.210354e+08</td>\n",
       "    </tr>\n",
       "    <tr>\n",
       "      <th>456013</th>\n",
       "      <td>0</td>\n",
       "      <td>YR</td>\n",
       "      <td>HR</td>\n",
       "      <td>111760.00</td>\n",
       "      <td>95846.00</td>\n",
       "      <td>111760.00</td>\n",
       "      <td>1.993597e+08</td>\n",
       "    </tr>\n",
       "    <tr>\n",
       "      <th>464596</th>\n",
       "      <td>1</td>\n",
       "      <td>YR</td>\n",
       "      <td>HR</td>\n",
       "      <td>104000.00</td>\n",
       "      <td>66789.00</td>\n",
       "      <td>104000.00</td>\n",
       "      <td>1.389211e+08</td>\n",
       "    </tr>\n",
       "    <tr>\n",
       "      <th>212736</th>\n",
       "      <td>0</td>\n",
       "      <td>YR</td>\n",
       "      <td>HR</td>\n",
       "      <td>77958.00</td>\n",
       "      <td>77958.00</td>\n",
       "      <td>77958.00</td>\n",
       "      <td>1.621526e+08</td>\n",
       "    </tr>\n",
       "    <tr>\n",
       "      <th>330653</th>\n",
       "      <td>1</td>\n",
       "      <td>WK</td>\n",
       "      <td>WK</td>\n",
       "      <td>107536.00</td>\n",
       "      <td>107536.00</td>\n",
       "      <td>107536.00</td>\n",
       "      <td>5.591872e+06</td>\n",
       "    </tr>\n",
       "    <tr>\n",
       "      <th>330872</th>\n",
       "      <td>0</td>\n",
       "      <td>BI</td>\n",
       "      <td>BI</td>\n",
       "      <td>203000.00</td>\n",
       "      <td>202390.00</td>\n",
       "      <td>203000.00</td>\n",
       "      <td>5.262140e+06</td>\n",
       "    </tr>\n",
       "    <tr>\n",
       "      <th>390505</th>\n",
       "      <td>1</td>\n",
       "      <td>MTH</td>\n",
       "      <td>MTH</td>\n",
       "      <td>68078.00</td>\n",
       "      <td>68078.00</td>\n",
       "      <td>68078.00</td>\n",
       "      <td>8.169360e+05</td>\n",
       "    </tr>\n",
       "    <tr>\n",
       "      <th>422440</th>\n",
       "      <td>0</td>\n",
       "      <td>HR</td>\n",
       "      <td>HR</td>\n",
       "      <td>22.00</td>\n",
       "      <td>27144.00</td>\n",
       "      <td>45760.00</td>\n",
       "      <td>5.645952e+07</td>\n",
       "    </tr>\n",
       "    <tr>\n",
       "      <th>423055</th>\n",
       "      <td>0</td>\n",
       "      <td>YR</td>\n",
       "      <td>HR</td>\n",
       "      <td>60486.00</td>\n",
       "      <td>60486.00</td>\n",
       "      <td>60486.00</td>\n",
       "      <td>1.258109e+08</td>\n",
       "    </tr>\n",
       "    <tr>\n",
       "      <th>222900</th>\n",
       "      <td>1</td>\n",
       "      <td>MTH</td>\n",
       "      <td>MTH</td>\n",
       "      <td>40102.00</td>\n",
       "      <td>40102.00</td>\n",
       "      <td>40102.00</td>\n",
       "      <td>4.812240e+05</td>\n",
       "    </tr>\n",
       "    <tr>\n",
       "      <th>301125</th>\n",
       "      <td>1</td>\n",
       "      <td>YR</td>\n",
       "      <td>WK</td>\n",
       "      <td>130000.00</td>\n",
       "      <td>119101.00</td>\n",
       "      <td>130000.00</td>\n",
       "      <td>6.193252e+06</td>\n",
       "    </tr>\n",
       "    <tr>\n",
       "      <th>196679</th>\n",
       "      <td>0</td>\n",
       "      <td>MTH</td>\n",
       "      <td>MTH</td>\n",
       "      <td>26259.00</td>\n",
       "      <td>26259.00</td>\n",
       "      <td>315108.00</td>\n",
       "      <td>3.151080e+05</td>\n",
       "    </tr>\n",
       "    <tr>\n",
       "      <th>103417</th>\n",
       "      <td>1</td>\n",
       "      <td>MTH</td>\n",
       "      <td>MTH</td>\n",
       "      <td>26118.84</td>\n",
       "      <td>26118.84</td>\n",
       "      <td>313426.08</td>\n",
       "      <td>3.134261e+05</td>\n",
       "    </tr>\n",
       "    <tr>\n",
       "      <th>103424</th>\n",
       "      <td>1</td>\n",
       "      <td>MTH</td>\n",
       "      <td>MTH</td>\n",
       "      <td>26118.84</td>\n",
       "      <td>26118.84</td>\n",
       "      <td>313426.08</td>\n",
       "      <td>3.134261e+05</td>\n",
       "    </tr>\n",
       "    <tr>\n",
       "      <th>103430</th>\n",
       "      <td>1</td>\n",
       "      <td>MTH</td>\n",
       "      <td>MTH</td>\n",
       "      <td>26118.84</td>\n",
       "      <td>26118.84</td>\n",
       "      <td>313426.08</td>\n",
       "      <td>3.134261e+05</td>\n",
       "    </tr>\n",
       "    <tr>\n",
       "      <th>104137</th>\n",
       "      <td>1</td>\n",
       "      <td>HR</td>\n",
       "      <td>HR</td>\n",
       "      <td>48173.00</td>\n",
       "      <td>48173.00</td>\n",
       "      <td>48173.00</td>\n",
       "      <td>1.001998e+08</td>\n",
       "    </tr>\n",
       "  </tbody>\n",
       "</table>\n",
       "</div>"
      ],
      "text/plain": [
       "        CASE_STATUS WAGE_OFFER_UNIT_OF_PAY PW_UNIT_OF_PAY  WAGE_OFFER_FROM  \\\n",
       "527928            0                    MTH            MTH         45000.00   \n",
       "699636            1                     HR             HR         50544.00   \n",
       "448022            1                     YR             HR        110000.00   \n",
       "614415            0                     YR             HR         77147.00   \n",
       "630213            0                     YR             HR        110000.00   \n",
       "456013            0                     YR             HR        111760.00   \n",
       "464596            1                     YR             HR        104000.00   \n",
       "212736            0                     YR             HR         77958.00   \n",
       "330653            1                     WK             WK        107536.00   \n",
       "330872            0                     BI             BI        203000.00   \n",
       "390505            1                    MTH            MTH         68078.00   \n",
       "422440            0                     HR             HR            22.00   \n",
       "423055            0                     YR             HR         60486.00   \n",
       "222900            1                    MTH            MTH         40102.00   \n",
       "301125            1                     YR             WK        130000.00   \n",
       "196679            0                    MTH            MTH         26259.00   \n",
       "103417            1                    MTH            MTH         26118.84   \n",
       "103424            1                    MTH            MTH         26118.84   \n",
       "103430            1                    MTH            MTH         26118.84   \n",
       "104137            1                     HR             HR         48173.00   \n",
       "\n",
       "          PW_WAGE       WO_A          PW_A  \n",
       "527928   45000.00   45000.00  5.400000e+05  \n",
       "699636   50544.00   50544.00  1.051315e+08  \n",
       "448022  106267.00  110000.00  2.210354e+08  \n",
       "614415   77147.00   77147.00  1.604658e+08  \n",
       "630213  106267.00  110000.00  2.210354e+08  \n",
       "456013   95846.00  111760.00  1.993597e+08  \n",
       "464596   66789.00  104000.00  1.389211e+08  \n",
       "212736   77958.00   77958.00  1.621526e+08  \n",
       "330653  107536.00  107536.00  5.591872e+06  \n",
       "330872  202390.00  203000.00  5.262140e+06  \n",
       "390505   68078.00   68078.00  8.169360e+05  \n",
       "422440   27144.00   45760.00  5.645952e+07  \n",
       "423055   60486.00   60486.00  1.258109e+08  \n",
       "222900   40102.00   40102.00  4.812240e+05  \n",
       "301125  119101.00  130000.00  6.193252e+06  \n",
       "196679   26259.00  315108.00  3.151080e+05  \n",
       "103417   26118.84  313426.08  3.134261e+05  \n",
       "103424   26118.84  313426.08  3.134261e+05  \n",
       "103430   26118.84  313426.08  3.134261e+05  \n",
       "104137   48173.00   48173.00  1.001998e+08  "
      ]
     },
     "execution_count": 42,
     "metadata": {},
     "output_type": "execute_result"
    }
   ],
   "source": [
    "# GRABBING THE APPLICANTS THAT ARE OVER NON YR BUT > btm 5% of PW_WAGE\n",
    "todrop1 = pd.DataFrame()\n",
    "for i in range(len(year)):\n",
    "    j = df[(df[\"YEAR\"]==year1[i])&(df[\"PW_WAGE\"]>=top1[i])&(df[\"PW_UNIT_OF_PAY\"]!=\"YR\")]\n",
    "    todrop1 = pd.concat([todrop1,j])\n",
    "todrop1[[\"CASE_STATUS\",\"WAGE_OFFER_UNIT_OF_PAY\",\"PW_UNIT_OF_PAY\",\"WAGE_OFFER_FROM\",\"PW_WAGE\",\"WO_A\",\"PW_A\"]]"
   ]
  },
  {
   "cell_type": "code",
   "execution_count": 43,
   "id": "c73cc285",
   "metadata": {},
   "outputs": [],
   "source": [
    "# CHANGING THE PW_A TO THE WAGE OFFER AGAIN LEAVING THE UNIT LIKE WO_A\n",
    "todrop1[\"PW_A\"]=todrop1[\"PW_WAGE\"]"
   ]
  },
  {
   "cell_type": "code",
   "execution_count": 44,
   "id": "28cad543",
   "metadata": {},
   "outputs": [],
   "source": [
    "# CHANGING THE EXISTING APPLICANTS WITH UPDATED WAGE and UNIT OF PAY IN THE ORIGINAL DF\n",
    "# MATCH APPLICATIONS IN TODROP DF WITH ORIGINAL DF AND UPDATE WAGE DATA\n",
    "todrop1 = todrop1.set_index(\"ID\")\n",
    "df = df.set_index(\"ID\")\n",
    "df.loc[todrop1.index] = todrop1\n",
    "df = df.reset_index()"
   ]
  },
  {
   "cell_type": "code",
   "execution_count": 45,
   "id": "0b097de7",
   "metadata": {},
   "outputs": [],
   "source": [
    "# CONTINUE CLEANING OUTLIERS IF PW_UNIT IS NOT THE SAME AS WAGE_UNIT BUT WAGE_OFFER AND PW_WAGE IS THE SAME & PW UNIT IS YR:\n",
    "# UPDATE WO_A TO PW_A\n",
    "clean = df[(df[\"WAGE_OFFER_FROM\"]==df[\"PW_WAGE\"])&(df[\"PW_UNIT_OF_PAY\"]!=df[\"WAGE_OFFER_UNIT_OF_PAY\"])&(df[\"PW_UNIT_OF_PAY\"]==\"YR\")]\n",
    "clean[\"WO_A\"]=clean[\"PW_A\"]\n",
    "clean = clean.set_index(\"ID\")\n",
    "df = df.set_index(\"ID\")\n",
    "df.loc[clean.index] = clean\n",
    "df = df.reset_index()"
   ]
  },
  {
   "cell_type": "code",
   "execution_count": 46,
   "id": "64be4819",
   "metadata": {},
   "outputs": [],
   "source": [
    "# DROPPING THE BTM 1% FROM EACH YEAR\n",
    "# SETTING UP THE FOR LOOP\n",
    "wagebtm = df.groupby(\"YEAR\")[\"WO_A\"].quantile(.01)\n",
    "pwbtm = df.groupby(\"YEAR\")[\"PW_A\"].quantile(.01)\n",
    "yr = wagebtm.index.tolist()\n",
    "wagebtm = wagebtm.tolist()\n",
    "pwbtm = pwbtm.tolist()"
   ]
  },
  {
   "cell_type": "code",
   "execution_count": 47,
   "id": "4cd70fec",
   "metadata": {},
   "outputs": [],
   "source": [
    "# FOR LOOP TO GET ALL APPLICANTS WITH WO_A < CUTOFF\n",
    "emp = pd.DataFrame()\n",
    "for x in range(len(yr)):\n",
    "    j = df[(df[\"YEAR\"] == yr[x])&(df[\"WO_A\"]<wagebtm[x])]\n",
    "    emp = pd.concat([emp,j])"
   ]
  },
  {
   "cell_type": "code",
   "execution_count": 48,
   "id": "6ade76a8",
   "metadata": {},
   "outputs": [
    {
     "data": {
      "text/plain": [
       "6959"
      ]
     },
     "execution_count": 48,
     "metadata": {},
     "output_type": "execute_result"
    }
   ],
   "source": [
    "# HOW MANY ARE DROPPED FOR WO_A<CUTOFF?\n",
    "len(emp)"
   ]
  },
  {
   "cell_type": "code",
   "execution_count": 49,
   "id": "dafc59b1",
   "metadata": {},
   "outputs": [],
   "source": [
    "# DROPPING ALL APPLICANTS WO_A < CUTOFF\n",
    "emp = emp[\"ID\"].tolist()\n",
    "df = df[~df['ID'].isin(emp)]"
   ]
  },
  {
   "cell_type": "code",
   "execution_count": 50,
   "id": "9e39fbbb",
   "metadata": {},
   "outputs": [],
   "source": [
    "# FOR LOOP TO GET ALL APPLICANTS WITH PW_A < CUTOFF\n",
    "empt = pd.DataFrame()\n",
    "for x in range(len(yr)):\n",
    "    j = df[(df[\"YEAR\"] == yr[x])&(df[\"PW_A\"]<pwbtm[x])]\n",
    "    empt = pd.concat([empt,j])"
   ]
  },
  {
   "cell_type": "code",
   "execution_count": 51,
   "id": "7e59df79",
   "metadata": {},
   "outputs": [
    {
     "data": {
      "text/plain": [
       "1643"
      ]
     },
     "execution_count": 51,
     "metadata": {},
     "output_type": "execute_result"
    }
   ],
   "source": [
    "# HOW MANY ARE DROPPED FOR PW_A < CUTOFF?\n",
    "len(empt)"
   ]
  },
  {
   "cell_type": "code",
   "execution_count": 52,
   "id": "fc7fd496",
   "metadata": {},
   "outputs": [],
   "source": [
    "# DROPPING ALL APPLICANTS PW < CUTOFF\n",
    "empt = empt[\"ID\"].tolist()\n",
    "df = df[~df['ID'].isin(empt)]"
   ]
  },
  {
   "cell_type": "code",
   "execution_count": 53,
   "id": "f4ae13a3",
   "metadata": {},
   "outputs": [
    {
     "data": {
      "text/plain": [
       "<AxesSubplot:ylabel='Frequency'>"
      ]
     },
     "execution_count": 53,
     "metadata": {},
     "output_type": "execute_result"
    },
    {
     "data": {
      "image/png": "[encoded data removed]",
      "text/plain": [
       "<Figure size 432x288 with 1 Axes>"
      ]
     },
     "metadata": {
      "needs_background": "light"
     },
     "output_type": "display_data"
    }
   ],
   "source": [
    "# CLEANING CITIES: EVENTUALLY WILL BE USED TO CREATE AVG WAGE TO REPLACE EXTREME OUTLIER WAGES\n",
    "# CLEAN UP JOB CITY: distribution of the length of the cities\n",
    "df[\"WORKSITE_CITY\"].str.len().plot(kind = \"hist\")"
   ]
  },
  {
   "cell_type": "code",
   "execution_count": 54,
   "id": "e5aaa265",
   "metadata": {},
   "outputs": [
    {
     "data": {
      "text/plain": [
       "array(['BREA', 'TROY', 'CARY', 'KATY', 'LEHI', 'WEED', 'NOVI', 'LAIE',\n",
       "       'KENT', 'RENO', 'LULA', 'ERIE', 'YORK', 'STOW', 'OREM', 'NYC',\n",
       "       'ANZA', 'YIGO', 'ELM', 'APEX', 'WACO', 'ROME', 'MESA', 'HAYS',\n",
       "       'YUMA', 'KYLE', 'NY', 'ELKO', 'AVON', 'ENID', 'BUDA', 'ELON',\n",
       "       'YELM', 'NASH', 'NAPA', 'COPE', 'AMES', 'ELBA', 'LUTZ', 'COVE',\n",
       "       'HILO', 'LYNN', 'FIFE', 'LIMA', 'GARY', 'AGAT', 'LODI', 'PERU',\n",
       "       'GUAM', 'OMAK', 'HULL', 'ADA', 'ALMA', 'CUBA', 'KRUM', 'RAKE',\n",
       "       'BEND', 'BELL', 'TAFT', 'POCA', 'RYE', 'TATE', 'RIVA', 'OAKS',\n",
       "       'VONA', 'LEE', 'KULM', 'BEAR', 'IRMO', 'AZLE', 'OJAI', 'ELMA',\n",
       "       'HOWE', 'MARS', 'VAIL', 'HOPE', 'ALVA', 'ROY', 'SWEA', 'SACO',\n",
       "       'ZUNI', 'MOAB', 'POTH', 'KIEL', 'GILL', 'PALA', 'AJO', 'AYER',\n",
       "       'COOK', 'ROTA', 'WADE', 'TAOS', 'EDEN', 'MACK', 'RAY', 'DYER',\n",
       "       'ORD', 'AXIS', 'LUSK', 'VEGA', 'CA', 'ELY', 'RTP', 'DUNN', '',\n",
       "       'DOON', 'BATH', 'NUNN', 'ALTO', 'PACE', 'WALL', 'SPUR', 'WARE',\n",
       "       'CARO', 'LEAD', 'FORD', 'LIC', 'JAY', 'KNOX', 'WEBB', 'MENA',\n",
       "       'AIEA', 'PAGE', 'PITI', 'DEAL', 'CORN', 'GRAY', 'HUGO', 'CALL',\n",
       "       'PANA', 'MINA', 'ETNA', 'SILT', 'ELOY', 'WISE', 'HOLT', 'IOWA',\n",
       "       'MAMI', 'BUHL', 'ONA', '8817', 'LENA', 'BOAZ', 'DORR', 'ROSS',\n",
       "       'TOW', 'BOYD', 'RUTH', 'KITE', 'ARAB', 'ZION', 'CITY', 'CODY',\n",
       "       'NOME', 'DC', '300', 'ANNA', 'KILN', 'KANE', 'AUST', 'POLO',\n",
       "       'BUNA', 'YONA', 'PIRU', 'DUCK', 'BOW', 'ZAHL', 'EADS', 'GAP', 'NC',\n",
       "       'BONX', 'LOMA', '7302', 'MIMS', 'ASAN', 'EPES', 'TOK', 'YUM'],\n",
       "      dtype=object)"
      ]
     },
     "execution_count": 54,
     "metadata": {},
     "output_type": "execute_result"
    }
   ],
   "source": [
    "# TOO MANY TO MANUALLY CLEAN: BUT WE WILL TARGET CITIES UNDER 5 CHARECTERS TO SPELL OUT ANY ABR.\n",
    "df[df[\"WORKSITE_CITY\"].str.len()<5][\"WORKSITE_CITY\"].unique()"
   ]
  },
  {
   "cell_type": "code",
   "execution_count": 55,
   "id": "5d4d57b8",
   "metadata": {},
   "outputs": [
    {
     "data": {
      "text/plain": [
       "NEW YORK           43046\n",
       "SEATTLE            22738\n",
       "SAN FRANCISCO      20135\n",
       "COLLEGE STATION    18520\n",
       "REDMOND            16886\n",
       "MOUNTAIN VIEW      16716\n",
       "SAN JOSE           16423\n",
       "SANTA CLARA        12175\n",
       "CHICAGO            11773\n",
       "HOUSTON            11616\n",
       "SUNNYVALE          10925\n",
       "PLANO               9231\n",
       "AUSTIN              8013\n",
       "LOS ANGELES         7802\n",
       "EDISON              7205\n",
       "Name: WORKSITE_CITY, dtype: int64"
      ]
     },
     "execution_count": 55,
     "metadata": {},
     "output_type": "execute_result"
    }
   ],
   "source": [
    "# WHAT ARE THE TOP CITIES?\n",
    "df[\"WORKSITE_CITY\"].value_counts()[:15]"
   ]
  },
  {
   "cell_type": "code",
   "execution_count": 56,
   "id": "7c5cd301",
   "metadata": {},
   "outputs": [],
   "source": [
    "# HOW MANY VARIATIONS OF THE TOP CITIES?\n",
    "#df[df[\"WORKSITE_CITY\"].str.contains(\"edison\", case = False, na = False)][\"WORKSITE_CITY\"].value_counts()"
   ]
  },
  {
   "cell_type": "code",
   "execution_count": 57,
   "id": "267dde6f",
   "metadata": {},
   "outputs": [],
   "source": [
    "# TURNING ALL THE NYC VARATIONS INTO NEW YORK + SPELL OUT NEW YORK\n",
    "df[\"WORKSITE_CITY\"] =  df[\"WORKSITE_CITY\"].replace(\"NY\",\"NEW YORK\").replace(\"NYC\",\"NEW YORK\")\n",
    "df.loc[df[\"WORKSITE_CITY\"].str.contains(\"new york\", case = False, na = False), \"WORKSITE_CITY\"] = \"NEW YORK\"\n",
    "# MERGING THE TOP 15 cities (COLLEGE STATION, PLANO DOES NOT NEED CLEANING)\n",
    "df.loc[df[\"WORKSITE_CITY\"].str.contains(\"seattle\", case = False, na = False), \"WORKSITE_CITY\"] = \"SEATTLE\"\n",
    "df.loc[df[\"WORKSITE_CITY\"].str.contains(\"san francisco\", case = False, na = False), \"WORKSITE_CITY\"] = \"SAN FRANCISCO\"\n",
    "df.loc[df[\"WORKSITE_CITY\"].str.contains(\"REDMOND\", case = False, na = False), \"WORKSITE_CITY\"] = \"REDMOND\"\n",
    "df.loc[df[\"WORKSITE_CITY\"].str.contains(\"mountain view\", case = False, na = False), \"WORKSITE_CITY\"] = \"MOUNTAIN VIEW\"\n",
    "df.loc[df[\"WORKSITE_CITY\"].str.contains(\"san jose\", case = False, na = False), \"WORKSITE_CITY\"] = \"SAN JOSE\"\n",
    "df.loc[df[\"WORKSITE_CITY\"].str.contains(\"santa clara\", case = False, na = False), \"WORKSITE_CITY\"] = \"SANTA CLARA\"\n",
    "df.loc[df[\"WORKSITE_CITY\"].str.contains(\"chicago\", case = False, na = False), \"WORKSITE_CITY\"] = \"CHICAGO\"\n",
    "df.loc[df[\"WORKSITE_CITY\"].str.contains(\"houston\", case = False, na = False), \"WORKSITE_CITY\"] = \"HOUSTON\"\n",
    "df.loc[df[\"WORKSITE_CITY\"].str.contains(\"sunnyvale\", case = False, na = False), \"WORKSITE_CITY\"] = \"SUNNYVALE\"\n",
    "df.loc[df[\"WORKSITE_CITY\"].str.contains(\"austin/|austin,\", case = False, na = False), \"WORKSITE_CITY\"] = \"AUSTIN\"\n",
    "df.loc[df[\"WORKSITE_CITY\"].str.contains(\"los angeles\", case = False, na = False), \"WORKSITE_CITY\"] = \"LOS ANGELES\"\n",
    "df.loc[df[\"WORKSITE_CITY\"].str.contains(\"edison\", case = False, na = False), \"WORKSITE_CITY\"] = \"EDISON\""
   ]
  },
  {
   "cell_type": "code",
   "execution_count": 58,
   "id": "ce968ee3",
   "metadata": {},
   "outputs": [
    {
     "data": {
      "text/plain": [
       "114"
      ]
     },
     "execution_count": 58,
     "metadata": {},
     "output_type": "execute_result"
    }
   ],
   "source": [
    "# HOW MANY STATES ARE APPLICANTS TRYING TO WORK IN? SHOULD BE NO MORE THAN 60...\n",
    "df[\"WORKSITE_STATE\"].nunique()"
   ]
  },
  {
   "cell_type": "code",
   "execution_count": 59,
   "id": "0bfcef60",
   "metadata": {},
   "outputs": [],
   "source": [
    "# CREATING THE MAIN LIST TO TRY AND CLEAN MOST STATES INTO ABBREVIATIONS\n",
    "mainst= [\"Alabama\",\n",
    "\"Alaska\",\n",
    "\"Arizona\",\n",
    "\"Arkansas\",\n",
    "\"California\",\n",
    "\"Colorado\",\n",
    "\"Connecticut\",\n",
    "\"Delaware\",\n",
    "\"Florida\",\n",
    "\"Georgia\",\n",
    "\"Hawaii\",\n",
    "\"Idaho\",\n",
    "\"Illinois\",\n",
    "\"Indiana\",\n",
    "\"Iowa\",\n",
    "\"Kansas\",\n",
    "\"Kentucky\",\n",
    "\"Louisiana\",\n",
    "\"Maine\",\n",
    "\"Maryland\",\n",
    "\"Massachusetts\",\n",
    "\"Michigan\",\n",
    "\"Minnesota\",\n",
    "\"Mississippi\",\n",
    "\"Missouri\",\n",
    "\"Montana\",\n",
    "\"Nebraska\",\n",
    "\"Nevada\",\n",
    "\"New Hampshire\",\n",
    "\"New Jersey\",\n",
    "\"New Mexico\",\n",
    "\"New York\",\n",
    "\"North Carolina\",\n",
    "\"North Dakota\",\n",
    "\"Ohio\",\n",
    "\"Oklahoma\",\n",
    "\"Oregon\",\n",
    "\"Pennsylvania\",\n",
    "\"Rhode Island\",\n",
    "\"South Carolina\",\n",
    "\"South Dakota\",\n",
    "\"Tennessee\",\n",
    "\"Texas\",\n",
    "\"Utah\",\n",
    "\"Vermont\",\n",
    "\"Virginia\",\n",
    "\"Washington\",\n",
    "\"West Virginia\",\n",
    "\"Wisconsin\",\n",
    "\"Wyoming\",\n",
    "\"District of Columbia\"]"
   ]
  },
  {
   "cell_type": "code",
   "execution_count": 60,
   "id": "28efc771",
   "metadata": {},
   "outputs": [],
   "source": [
    "# CREATING THE MAIN ABR TO TRY AND CLEAN MOST STATES INTO ABBREVIATIONS\n",
    "mainabr = [\"AL\",\n",
    "\"AK\",\n",
    "\"AZ\",\n",
    "\"AR\",\n",
    "\"CA\",\n",
    "\"CO\",\n",
    "\"CT\",\n",
    "\"DE\",\n",
    "\"FL\",\n",
    "\"GA\",\n",
    "\"HI\",\n",
    "\"ID\",\n",
    "\"IL\",\n",
    "\"IN\",\n",
    "\"IA\",\n",
    "\"KS\",\n",
    "\"KY\",\n",
    "\"LA\",\n",
    "\"ME\",\n",
    "\"MD\",\n",
    "\"MA\",\n",
    "\"MI\",\n",
    "\"MN\",\n",
    "\"MS\",\n",
    "\"MO\",\n",
    "\"MT\",\n",
    "\"NE\",\n",
    "\"NV\",\n",
    "\"NH\",\n",
    "\"NJ\",\n",
    "\"NM\",\n",
    "\"NY\",\n",
    "\"NC\",\n",
    "\"ND\",\n",
    "\"OH\",\n",
    "\"OK\",\n",
    "\"OR\",\n",
    "\"PA\",\n",
    "\"RI\",\n",
    "\"SC\",\n",
    "\"SD\",\n",
    "\"TN\",\n",
    "\"TX\",\n",
    "\"UT\",\n",
    "\"VT\",\n",
    "\"VA\",\n",
    "\"WA\",\n",
    "\"WV\",\n",
    "\"WI\",\n",
    "\"WY\",\n",
    "\"DC\"]"
   ]
  },
  {
   "cell_type": "code",
   "execution_count": 61,
   "id": "fba604a5",
   "metadata": {},
   "outputs": [],
   "source": [
    "# ROUND 1 CLEANING STATES\n",
    "for j in range(len(mainst)):\n",
    "    df.loc[df[\"WORKSITE_STATE\"].str.contains(mainst[j], case = False, na = False), \"WORKSITE_STATE\"] = mainabr[j]"
   ]
  },
  {
   "cell_type": "code",
   "execution_count": 62,
   "id": "2ac4fbc7",
   "metadata": {},
   "outputs": [
    {
     "data": {
      "text/plain": [
       "array(['PUERTO RICO', 'GUAM', 'NORTHERN MARIANA ISLANDS',\n",
       "       'VIRGIN ISLANDS', 'MARSHALL ISLANDS',\n",
       "       'FEDERATED STATES OF MICRONESIA'], dtype=object)"
      ]
     },
     "execution_count": 62,
     "metadata": {},
     "output_type": "execute_result"
    }
   ],
   "source": [
    "# HOW MANY STATES ARE THERE NOT ABR AFTER ROUND 1 CLEANING?\n",
    "df[\"WORKSITE_STATE\"].unique()[np.vectorize(len)(df[\"WORKSITE_STATE\"].unique())>2]"
   ]
  },
  {
   "cell_type": "code",
   "execution_count": 63,
   "id": "c52cfc05",
   "metadata": {},
   "outputs": [],
   "source": [
    "# CREATING THE SECONDARY LIST TO FINISH CLEANING STATES\n",
    "secondst = ['PUERTO RICO', 'GUAM', 'NORTHERN MARIANA ISLANDS',\n",
    "       'VIRGIN ISLANDS', 'MARSHALL ISLANDS',\n",
    "       'FEDERATED STATES OF MICRONESIA']\n",
    "secondabr = [\"PR\",\"GU\",\"MP\",\"VI\",\"MH\",\"FSM\"]\n",
    "# ROUND 2 CLEANING STATES\n",
    "for j in range(len(secondst)):\n",
    "    df.loc[df[\"WORKSITE_STATE\"].str.contains(secondst[j], case = False, na = False), \"WORKSITE_STATE\"] = secondabr[j]"
   ]
  },
  {
   "cell_type": "code",
   "execution_count": 64,
   "id": "f0130656",
   "metadata": {},
   "outputs": [],
   "source": [
    "# CREATING US GEOGRAPHIC REGION: STATE LIST\n",
    "geostate = [\"AK\",\n",
    "\"AL\",\n",
    "\"AR\",\n",
    "\"AZ\",\n",
    "\"CA\",\n",
    "\"CO\",\n",
    "\"CT\",\n",
    "\"DC\",\n",
    "\"DE\",\n",
    "\"FL\",\n",
    "\"GA\",\n",
    "\"HI\",\n",
    "\"IA\",\n",
    "\"ID\",\n",
    "\"IL\",\n",
    "\"IN\",\n",
    "\"KS\",\n",
    "\"KY\",\n",
    "\"LA\",\n",
    "\"MA\",\n",
    "\"MD\",\n",
    "\"ME\",\n",
    "\"MI\",\n",
    "\"MN\",\n",
    "\"MO\",\n",
    "\"MS\",\n",
    "\"MT\",\n",
    "\"NC\",\n",
    "\"ND\",\n",
    "\"NE\",\n",
    "\"NH\",\n",
    "\"NJ\",\n",
    "\"NM\",\n",
    "\"NV\",\n",
    "\"NY\",\n",
    "\"OH\",\n",
    "\"OK\",\n",
    "\"OR\",\n",
    "\"PA\",\n",
    "\"RI\",\n",
    "\"SC\",\n",
    "\"SD\",\n",
    "\"TN\",\n",
    "\"TX\",\n",
    "\"UT\",\n",
    "\"VA\",\n",
    "\"VT\",\n",
    "\"WA\",\n",
    "\"WI\",\n",
    "\"WV\",\n",
    "\"WY\",\n",
    "\"PR\",\n",
    "\"GU\",\n",
    "\"MP\",\n",
    "\"VI\",\n",
    "\"MH\",\n",
    "\"FSM\"]"
   ]
  },
  {
   "cell_type": "code",
   "execution_count": 65,
   "id": "1a73d4c7",
   "metadata": {},
   "outputs": [],
   "source": [
    "# CREATING US GEOGRAPHIC REGION: REGION LIST\n",
    "region= [\"WEST\",\n",
    "\"SOUTH\",\n",
    "\"SOUTH\",\n",
    "\"WEST\",\n",
    "\"WEST\",\n",
    "\"WEST\",\n",
    "\"NORTHEAST\",\n",
    "\"SOUTH\",\n",
    "\"SOUTH\",\n",
    "\"SOUTH\",\n",
    "\"SOUTH\",\n",
    "\"WEST\",\n",
    "\"MIDWEST\",\n",
    "\"WEST\",\n",
    "\"MIDWEST\",\n",
    "\"MIDWEST\",\n",
    "\"MIDWEST\",\n",
    "\"SOUTH\",\n",
    "\"SOUTH\",\n",
    "\"NORTHEAST\",\n",
    "\"SOUTH\",\n",
    "\"NORTHEAST\",\n",
    "\"MIDWEST\",\n",
    "\"MIDWEST\",\n",
    "\"MIDWEST\",\n",
    "\"SOUTH\",\n",
    "\"WEST\",\n",
    "\"SOUTH\",\n",
    "\"MIDWEST\",\n",
    "\"MIDWEST\",\n",
    "\"NORTHEAST\",\n",
    "\"NORTHEAST\",\n",
    "\"WEST\",\n",
    "\"WEST\",\n",
    "\"NORTHEAST\",\n",
    "\"MIDWEST\",\n",
    "\"SOUTH\",\n",
    "\"WEST\",\n",
    "\"NORTHEAST\",\n",
    "\"NORTHEAST\",\n",
    "\"SOUTH\",\n",
    "\"MIDWEST\",\n",
    "\"SOUTH\",\n",
    "\"SOUTH\",\n",
    "\"WEST\",\n",
    "\"SOUTH\",\n",
    "\"NORTHEAST\",\n",
    "\"WEST\",\n",
    "\"MIDWEST\",\n",
    "\"SOUTH\",\n",
    "\"WEST\",\n",
    "\"TERRITORY\",\n",
    "\"TERRITORY\",\n",
    "\"TERRITORY\",\n",
    "\"TERRITORY\",\n",
    "\"TERRITORY\",\n",
    "\"TERRITORY\"]"
   ]
  },
  {
   "cell_type": "code",
   "execution_count": 66,
   "id": "f8ac2af1",
   "metadata": {},
   "outputs": [],
   "source": [
    "# CREATING A WORKSITE REGION COLUMN\n",
    "df[\"WORKSITE_REGION\"]=df[\"WORKSITE_STATE\"]\n",
    "for j in range(len(geostate)):\n",
    "    df.loc[df[\"WORKSITE_REGION\"].str.contains(geostate[j], case = False, na = False), \"WORKSITE_REGION\"] = region[j]"
   ]
  },
  {
   "cell_type": "code",
   "execution_count": 67,
   "id": "ccdf1c99",
   "metadata": {},
   "outputs": [
    {
     "data": {
      "text/plain": [
       "array(['WEST', 'MIDWEST', 'SOUTH', 'NORTHEAST', 'TERRITORY', ''],\n",
       "      dtype=object)"
      ]
     },
     "execution_count": 67,
     "metadata": {},
     "output_type": "execute_result"
    }
   ],
   "source": [
    "# UNIQUE REGIONS (CHECK IF ALL STATES WERE TRANSLATED CORRECTLY)\n",
    "df[\"WORKSITE_REGION\"].unique()"
   ]
  },
  {
   "cell_type": "code",
   "execution_count": 68,
   "id": "c493b128",
   "metadata": {},
   "outputs": [],
   "source": [
    "# OUTLIER WO_A USING IQR (EXTREME OUTLIER PER YEAR) TOP SIDE\n",
    "wagetop = df.groupby(\"YEAR\")[\"WO_A\"].quantile(.75) + (df.groupby(\"YEAR\")[\"WO_A\"].quantile(.75)-df.groupby(\"YEAR\")[\"WO_A\"].quantile(.25)) *3\n",
    "pwtop = df.groupby(\"YEAR\")[\"PW_A\"].quantile(.75) + (df.groupby(\"YEAR\")[\"PW_A\"].quantile(.75)-df.groupby(\"YEAR\")[\"PW_A\"].quantile(.25)) *3"
   ]
  },
  {
   "cell_type": "code",
   "execution_count": 69,
   "id": "78da70f2",
   "metadata": {},
   "outputs": [],
   "source": [
    "# CREATING LISTS TO CLEAN UP WAGE BASED ON OUTLIERS : TOP END ONLY... DROP BOTTOM 1% (LAWS PROTECTING THE BTM END... MORE LIKELY TOP END IS ERROR)\n",
    "yr = wagetop.index.tolist()\n",
    "wagetop = wagetop.tolist()\n",
    "pwtop = pwtop.tolist()"
   ]
  },
  {
   "cell_type": "code",
   "execution_count": 70,
   "id": "08e2c69f",
   "metadata": {},
   "outputs": [],
   "source": [
    "# FOR LOOP TO GET ALL APPLICANTS WITH WO_A > CUTOFF: BIGWAGE\n",
    "bigwage = pd.DataFrame()\n",
    "for x in range(len(yr)):\n",
    "    j = df[(df[\"YEAR\"] == yr[x])&(df[\"WO_A\"]>wagetop[x])]\n",
    "    bigwage = pd.concat([bigwage,j])"
   ]
  },
  {
   "cell_type": "code",
   "execution_count": 71,
   "id": "18ddcf33",
   "metadata": {},
   "outputs": [],
   "source": [
    "# GETTING THE REST OF THE APPLICANTS WHO ARE NOT > CUTOFF: REGWAGE\n",
    "bwlist = bigwage[\"ID\"].tolist()\n",
    "regwage = df[~df['ID'].isin(bwlist)]"
   ]
  },
  {
   "cell_type": "code",
   "execution_count": 72,
   "id": "4ab948dd",
   "metadata": {},
   "outputs": [
    {
     "data": {
      "text/plain": [
       "2.10322039232141"
      ]
     },
     "execution_count": 72,
     "metadata": {},
     "output_type": "execute_result"
    }
   ],
   "source": [
    "# CREATING A UNIQUE IDENTIFIER TO GET AN AVG WAGE FOR EACH IDENTIFIER TO REPLACE OUTLIER SALARIES\n",
    "regwage[\"BID\"] = regwage[\"PW_SOC_CODE\"].astype(str)+regwage[\"WORKSITE_STATE\"].astype(str) + regwage[\"WORKSITE_CITY\"].astype(str) + regwage[\"PW_SKILL_LEVEL\"].astype(str)\n",
    "# IS THIS TOO GRANULAR OF AN AVG? LETS SEE AVG COUNT FOR EACH UNIQUE IDENTIFIER\n",
    "regwage.groupby(\"BID\")[\"WO_A\"].value_counts().mean()"
   ]
  },
  {
   "cell_type": "code",
   "execution_count": 73,
   "id": "30c72ce7",
   "metadata": {},
   "outputs": [
    {
     "data": {
      "text/plain": [
       "2.7774250522354462"
      ]
     },
     "execution_count": 73,
     "metadata": {},
     "output_type": "execute_result"
    }
   ],
   "source": [
    "# NEW IDENTIFIER : USING STATE ONLY\n",
    "regwage[\"BID\"] = regwage[\"PW_SOC_CODE\"].astype(str)+regwage[\"WORKSITE_STATE\"].astype(str)+ regwage[\"PW_SKILL_LEVEL\"].astype(str)\n",
    "regwage.groupby(\"BID\")[\"WO_A\"].value_counts().mean()\n",
    "# STILL ONLY 2.7  APPLICANTS A CODE"
   ]
  },
  {
   "cell_type": "code",
   "execution_count": 74,
   "id": "df2585b6",
   "metadata": {},
   "outputs": [
    {
     "data": {
      "text/plain": [
       "3.326389912992184"
      ]
     },
     "execution_count": 74,
     "metadata": {},
     "output_type": "execute_result"
    }
   ],
   "source": [
    "# NEW IDENTIFIER : USING REGION ONLY\n",
    "regwage[\"BID\"] = regwage[\"PW_SOC_CODE\"].astype(str)+regwage[\"WORKSITE_REGION\"].astype(str)+ regwage[\"PW_SKILL_LEVEL\"].astype(str)\n",
    "regwage.groupby(\"BID\")[\"WO_A\"].value_counts().mean()\n",
    "# BETTER with 3.3... "
   ]
  },
  {
   "cell_type": "code",
   "execution_count": 75,
   "id": "176551fa",
   "metadata": {},
   "outputs": [],
   "source": [
    "# NORMALIZED AVG WAGE FOR EACH UNIQUE IDENTIFIER\n",
    "normwage = pd.DataFrame(regwage.groupby(\"BID\")[\"WO_A\"].mean())\n",
    "normpw = pd.DataFrame(regwage.groupby(\"BID\")[\"PW_A\"].mean())\n",
    "normwage.columns=[\"NORM_WAGE\"]\n",
    "normpw.columns = [\"NORM_PW\"]"
   ]
  },
  {
   "cell_type": "code",
   "execution_count": 76,
   "id": "ece9102a",
   "metadata": {},
   "outputs": [],
   "source": [
    "# CREATING THE UNIQUE IDENTIFIER FOR BIG WAGE TO MATCH UP WITH REG WAGE AVG\n",
    "bigwage[\"BID\"] = bigwage[\"PW_SOC_CODE\"].astype(str)+bigwage[\"WORKSITE_REGION\"].astype(str)+ bigwage[\"PW_SKILL_LEVEL\"].astype(str)"
   ]
  },
  {
   "cell_type": "code",
   "execution_count": 77,
   "id": "d0ca241c",
   "metadata": {},
   "outputs": [],
   "source": [
    "# MERGING BASED ON BID AND BRINGING IN NORM WAGE\n",
    "matchbidwage = bigwage\n",
    "matchbidwage = matchbidwage.merge(normwage, how = \"inner\", on = \"BID\")"
   ]
  },
  {
   "cell_type": "code",
   "execution_count": 78,
   "id": "4d3834e1",
   "metadata": {},
   "outputs": [
    {
     "data": {
      "text/plain": [
       "35"
      ]
     },
     "execution_count": 78,
     "metadata": {},
     "output_type": "execute_result"
    }
   ],
   "source": [
    "# HOW MANY APPLICANTS WERE NOT MATCHED THROUGH BID\n",
    "len(bigwage) - len(matchbidwage)"
   ]
  },
  {
   "cell_type": "code",
   "execution_count": 79,
   "id": "1d01cce1",
   "metadata": {},
   "outputs": [
    {
     "data": {
      "text/plain": [
       "['29-1069TERRITORYLEVEL I',\n",
       " '29-1064MIDWESTLEVEL IV',\n",
       " '29-1069TERRITORYLEVEL III',\n",
       " '29-1067SOUTHLEVEL III',\n",
       " '25-1051WESTLEVEL IV',\n",
       " '29-1067NORTHEAST',\n",
       " '29-1064NORTHEAST',\n",
       " '29-1061NORTHEAST',\n",
       " '11-1011SOUTH',\n",
       " '29-1067NORTHEASTLEVEL IV',\n",
       " '29-1063SOUTHLEVEL III',\n",
       " '29-1061NORTHEASTLEVEL I',\n",
       " '29-1061TERRITORYLEVEL III',\n",
       " '29-1022WESTLEVEL III',\n",
       " '29-1061SOUTHLEVEL III']"
      ]
     },
     "execution_count": 79,
     "metadata": {},
     "output_type": "execute_result"
    }
   ],
   "source": [
    "# LIST THE BIDs THAT DO NOT MATCH IN NORM WAGE: THESE ARE THE BIDs NOT IN THE NORM WAGE...\n",
    "bwregion = bigwage[\"BID\"].unique().tolist()\n",
    "normwageregion = normwage.index.tolist()\n",
    "list(set(bwregion) - set(normwageregion))"
   ]
  },
  {
   "cell_type": "code",
   "execution_count": 80,
   "id": "8e96b2ce",
   "metadata": {},
   "outputs": [],
   "source": [
    "# GETTING THE APPLICANTS THAT DID NOT MATCH IN BID for NORM WAGE\n",
    "nonmatchwage = pd.DataFrame()\n",
    "for x in range(len(list(set(bwregion) - set(normwageregion)))):\n",
    "    j = bigwage[bigwage[\"BID\"]==list(set(bwregion) - set(normwageregion))[x]]\n",
    "    nonmatchwage = pd.concat([nonmatchwage, j],axis = 0)"
   ]
  },
  {
   "cell_type": "code",
   "execution_count": 81,
   "id": "8fc7c9c4",
   "metadata": {},
   "outputs": [
    {
     "data": {
      "text/plain": [
       "35"
      ]
     },
     "execution_count": 81,
     "metadata": {},
     "output_type": "execute_result"
    }
   ],
   "source": [
    "# DOES THE NUMBER OF APPLICANTS THAT DO NOT MATCH = TO 35?\n",
    "len(nonmatchwage)\n",
    "# YES"
   ]
  },
  {
   "cell_type": "code",
   "execution_count": 82,
   "id": "5adb3579",
   "metadata": {},
   "outputs": [],
   "source": [
    "# CORRELATION BETWEEN REGION OR LEVEL WITH WAGE: TO DETERMINE HOW TO ADJUST THE BID\n",
    "regiondummy = pd.get_dummies(df[\"WORKSITE_REGION\"])\n",
    "leveldummy = pd.get_dummies(df[\"PW_SKILL_LEVEL\"])"
   ]
  },
  {
   "cell_type": "code",
   "execution_count": 83,
   "id": "f3eaed52",
   "metadata": {},
   "outputs": [
    {
     "data": {
      "text/plain": [
       "            -0.002334\n",
       "MIDWEST     -0.035596\n",
       "NORTHEAST   -0.000939\n",
       "SOUTH       -0.015371\n",
       "TERRITORY   -0.021151\n",
       "WEST         0.040113\n",
       "WO_A         1.000000\n",
       "Name: WO_A, dtype: float64"
      ]
     },
     "execution_count": 83,
     "metadata": {},
     "output_type": "execute_result"
    }
   ],
   "source": [
    "# CORREL BETWEEN REGIONS AND WO_A\n",
    "pd.concat([regiondummy,df[\"WO_A\"]],axis = 1).corr()[\"WO_A\"]"
   ]
  },
  {
   "cell_type": "code",
   "execution_count": 84,
   "id": "d3c60646",
   "metadata": {},
   "outputs": [
    {
     "data": {
      "text/plain": [
       "             0.030534\n",
       "LEVEL I     -0.140554\n",
       "LEVEL II    -0.011339\n",
       "LEVEL III    0.024664\n",
       "LEVEL IV     0.105982\n",
       "WO_A         1.000000\n",
       "Name: WO_A, dtype: float64"
      ]
     },
     "execution_count": 84,
     "metadata": {},
     "output_type": "execute_result"
    }
   ],
   "source": [
    "# CORREL BETWEEN LEVEL AND WO_A\n",
    "pd.concat([leveldummy,df[\"WO_A\"]],axis = 1).corr()[\"WO_A\"]\n",
    "# LEVELS LOOK MUCH HIGHER OVERALL "
   ]
  },
  {
   "cell_type": "code",
   "execution_count": 85,
   "id": "1e0b3c85",
   "metadata": {},
   "outputs": [
    {
     "data": {
      "text/plain": [
       "2"
      ]
     },
     "execution_count": 85,
     "metadata": {},
     "output_type": "execute_result"
    }
   ],
   "source": [
    "# GETTING THE ADJUSTED BID FOR NORM WAGE: ONLY KEEPING LEVELS SINCE IT IS MORE CORREL WITH WAGE THAN REGION\n",
    "adjregw = regwage\n",
    "adjregw[\"BID\"] = adjregw[\"PW_SOC_CODE\"].astype(str)+adjregw[\"PW_SKILL_LEVEL\"].astype(str)\n",
    "# NORMALIZED AVG WAGE FOR EACH UNIQUE IDENTIFIER\n",
    "adjnormwage = pd.DataFrame(adjregw.groupby(\"BID\")[\"WO_A\"].mean())\n",
    "adjnormwage.columns=[\"NORM_WAGE\"]\n",
    "\n",
    "# CREATING THE UNIQUE IDENTIFIER FOR MISSING BIG WAGE TO MATCH UP WITH REG WAGE AVG\n",
    "adjbigwage = nonmatchwage\n",
    "adjbigwage[\"BID\"] = adjbigwage[\"PW_SOC_CODE\"].astype(str)+ adjbigwage[\"PW_SKILL_LEVEL\"].astype(str)\n",
    "\n",
    "# MERGING BASED ON BID AND BRINGING IN NORM WAGE\n",
    "matchadjbidwage = adjbigwage\n",
    "matchadjbidwage = matchadjbidwage.merge(adjnormwage, how = \"inner\", on = \"BID\")\n",
    "\n",
    "# HOW MANY APPLICANTS WERE NOT MATCHED THROUGH AdjBID\n",
    "len(adjbigwage) - len(matchadjbidwage)"
   ]
  },
  {
   "cell_type": "code",
   "execution_count": 86,
   "id": "18c4e36a",
   "metadata": {},
   "outputs": [
    {
     "data": {
      "text/plain": [
       "['25-1051LEVEL IV', '29-1064LEVEL IV']"
      ]
     },
     "execution_count": 86,
     "metadata": {},
     "output_type": "execute_result"
    }
   ],
   "source": [
    "# LIST THE Adj BIDs THAT DO NOT MATCH IN NORM WAGE: THESE ARE THE Adj BIDs NOT IN THE NORM WAGE...\n",
    "adjbwregion = adjbigwage[\"BID\"].unique().tolist()\n",
    "adjnormwageregion = adjnormwage.index.tolist()\n",
    "list(set(adjbwregion) - set(adjnormwageregion))"
   ]
  },
  {
   "cell_type": "code",
   "execution_count": 87,
   "id": "f5c6a66d",
   "metadata": {},
   "outputs": [
    {
     "data": {
      "text/plain": [
       "2"
      ]
     },
     "execution_count": 87,
     "metadata": {},
     "output_type": "execute_result"
    }
   ],
   "source": [
    "# LIST THE APPLICANTS THAT ARE STILL NOT MATCHED THROUGH BID...\n",
    "nonmatchadjwage = pd.DataFrame()\n",
    "for x in range(len(list(set(adjbwregion) - set(adjnormwageregion)))):\n",
    "    j = adjbigwage[adjbigwage[\"BID\"]==list(set(adjbwregion) - set(adjnormwageregion))[x]]\n",
    "    nonmatchadjwage = pd.concat([nonmatchadjwage, j],axis = 0)\n",
    "\n",
    "# DOES THE NUMBER OF APPLICANTS THAT DO NOT MATCH = TO 2?\n",
    "len(nonmatchadjwage)\n",
    "# YES"
   ]
  },
  {
   "cell_type": "code",
   "execution_count": 88,
   "id": "e239dfa1",
   "metadata": {},
   "outputs": [
    {
     "data": {
      "text/plain": [
       "0"
      ]
     },
     "execution_count": 88,
     "metadata": {},
     "output_type": "execute_result"
    }
   ],
   "source": [
    "# GETTING THE WAGE FOR SOC CODE ONLY FOR NORM WAGE\n",
    "soconly = regwage\n",
    "soconly[\"BID\"] = soconly[\"PW_SOC_CODE\"].astype(str)\n",
    "# NORMALIZED AVG WAGE FOR EACH UNIQUE IDENTIFIER\n",
    "socnormwage = pd.DataFrame(soconly.groupby(\"BID\")[\"WO_A\"].mean())\n",
    "socnormwage.columns=[\"NORM_WAGE\"]\n",
    "\n",
    "# CREATING THE UNIQUE IDENTIFIER FOR MISSING BIG WAGE TO MATCH UP WITH REG WAGE AVG\n",
    "socbigwage = nonmatchadjwage\n",
    "socbigwage[\"BID\"] = socbigwage[\"PW_SOC_CODE\"].astype(str)\n",
    "\n",
    "# MERGING BASED ON BID AND BRINGING IN NORM WAGE\n",
    "matchsocbidwage = socbigwage\n",
    "matchsocbidwage = matchsocbidwage.merge(socnormwage, how = \"inner\", on = \"BID\")\n",
    "\n",
    "# HOW MANY APPLICANTS WERE NOT MATCHED THROUGH AdjBID\n",
    "len(socbigwage) - len(matchsocbidwage)"
   ]
  },
  {
   "cell_type": "code",
   "execution_count": 89,
   "id": "d626b715",
   "metadata": {},
   "outputs": [],
   "source": [
    "# MERGING BACK TO MAKE THE FINAL BIG WAGE : USING NORM WAGE...\n",
    "bigwage = pd.concat([matchbidwage,\n",
    "matchadjbidwage,\n",
    "matchsocbidwage],axis = 0, ignore_index = True)\n",
    "bigwage[\"WO_A\"] = bigwage[\"NORM_WAGE\"]\n",
    "bigwage = bigwage.drop(\"NORM_WAGE\", axis = 1)"
   ]
  },
  {
   "cell_type": "code",
   "execution_count": 90,
   "id": "6441be14",
   "metadata": {},
   "outputs": [],
   "source": [
    "# CLEANING UP THE PW_A\n",
    "# CREATING THE UNIQUE IDENTIFIER FOR BIG WAGE TO MATCH UP WITH REG WAGE AVG\n",
    "bigwage[\"BID\"] = bigwage[\"PW_SOC_CODE\"].astype(str)+bigwage[\"WORKSITE_REGION\"].astype(str)+ bigwage[\"PW_SKILL_LEVEL\"].astype(str)"
   ]
  },
  {
   "cell_type": "code",
   "execution_count": 91,
   "id": "fbd6755f",
   "metadata": {},
   "outputs": [],
   "source": [
    "# MERGING BASED ON BID AND BRINGING IN NORM PW\n",
    "matchbidwage = bigwage\n",
    "matchbidwage = matchbidwage.merge(normpw, how = \"inner\", on = \"BID\")"
   ]
  },
  {
   "cell_type": "code",
   "execution_count": 92,
   "id": "fc2dca9f",
   "metadata": {},
   "outputs": [
    {
     "data": {
      "text/plain": [
       "35"
      ]
     },
     "execution_count": 92,
     "metadata": {},
     "output_type": "execute_result"
    }
   ],
   "source": [
    "# HOW MANY APPLICANTS WERE NOT MATCHED THROUGH BID\n",
    "len(bigwage) - len(matchbidwage)"
   ]
  },
  {
   "cell_type": "code",
   "execution_count": 93,
   "id": "7fc58c80",
   "metadata": {},
   "outputs": [
    {
     "data": {
      "text/plain": [
       "['29-1069TERRITORYLEVEL I',\n",
       " '29-1064MIDWESTLEVEL IV',\n",
       " '29-1069TERRITORYLEVEL III',\n",
       " '29-1067SOUTHLEVEL III',\n",
       " '25-1051WESTLEVEL IV',\n",
       " '29-1067NORTHEAST',\n",
       " '29-1064NORTHEAST',\n",
       " '29-1061NORTHEAST',\n",
       " '11-1011SOUTH',\n",
       " '29-1067NORTHEASTLEVEL IV',\n",
       " '29-1063SOUTHLEVEL III',\n",
       " '29-1061NORTHEASTLEVEL I',\n",
       " '29-1061TERRITORYLEVEL III',\n",
       " '29-1022WESTLEVEL III',\n",
       " '29-1061SOUTHLEVEL III']"
      ]
     },
     "execution_count": 93,
     "metadata": {},
     "output_type": "execute_result"
    }
   ],
   "source": [
    "# LIST THE BIDs THAT DO NOT MATCH IN NORM WAGE: THESE ARE THE BIDs NOT IN THE NORM WAGE...\n",
    "bwregion = bigwage[\"BID\"].unique().tolist()\n",
    "normwageregion = normpw.index.tolist()\n",
    "list(set(bwregion) - set(normwageregion))"
   ]
  },
  {
   "cell_type": "code",
   "execution_count": 94,
   "id": "2c029043",
   "metadata": {},
   "outputs": [],
   "source": [
    "# GETTING THE APPLICANTS THAT DID NOT MATCH IN BID for NORM PW\n",
    "nonmatchwage = pd.DataFrame()\n",
    "for x in range(len(list(set(bwregion) - set(normwageregion)))):\n",
    "    j = bigwage[bigwage[\"BID\"]==list(set(bwregion) - set(normwageregion))[x]]\n",
    "    nonmatchwage = pd.concat([nonmatchwage, j],axis = 0)"
   ]
  },
  {
   "cell_type": "code",
   "execution_count": 95,
   "id": "ff824c07",
   "metadata": {},
   "outputs": [
    {
     "data": {
      "text/plain": [
       "35"
      ]
     },
     "execution_count": 95,
     "metadata": {},
     "output_type": "execute_result"
    }
   ],
   "source": [
    "# DOES THE NUMBER OF APPLICANTS THAT DO NOT MATCH = TO 35?\n",
    "len(nonmatchwage)\n",
    "# YES"
   ]
  },
  {
   "cell_type": "code",
   "execution_count": 96,
   "id": "2666d5aa",
   "metadata": {},
   "outputs": [
    {
     "data": {
      "text/plain": [
       "2"
      ]
     },
     "execution_count": 96,
     "metadata": {},
     "output_type": "execute_result"
    }
   ],
   "source": [
    "# GETTING THE ADJUSTED BID FOR NORM PW: ONLY KEEPING LEVELS SINCE IT IS MORE CORREL WITH WAGE THAN REGION\n",
    "adjregw = regwage\n",
    "adjregw[\"BID\"] = adjregw[\"PW_SOC_CODE\"].astype(str)+adjregw[\"PW_SKILL_LEVEL\"].astype(str)\n",
    "# NORMALIZED AVG WAGE FOR EACH UNIQUE IDENTIFIER\n",
    "adjnormwage = pd.DataFrame(adjregw.groupby(\"BID\")[\"PW_A\"].mean())\n",
    "adjnormwage.columns=[\"NORM_PW\"]\n",
    "\n",
    "# CREATING THE UNIQUE IDENTIFIER FOR MISSING BIG WAGE TO MATCH UP WITH REG WAGE AVG\n",
    "adjbigwage = nonmatchwage\n",
    "adjbigwage[\"BID\"] = adjbigwage[\"PW_SOC_CODE\"].astype(str)+ adjbigwage[\"PW_SKILL_LEVEL\"].astype(str)\n",
    "\n",
    "# MERGING BASED ON BID AND BRINGING IN NORM WAGE\n",
    "matchadjbidwage = adjbigwage\n",
    "matchadjbidwage = matchadjbidwage.merge(adjnormwage, how = \"inner\", on = \"BID\")\n",
    "\n",
    "# HOW MANY APPLICANTS WERE NOT MATCHED THROUGH AdjBID\n",
    "len(adjbigwage) - len(matchadjbidwage)"
   ]
  },
  {
   "cell_type": "code",
   "execution_count": 97,
   "id": "e96161b8",
   "metadata": {},
   "outputs": [
    {
     "data": {
      "text/plain": [
       "['25-1051LEVEL IV', '29-1064LEVEL IV']"
      ]
     },
     "execution_count": 97,
     "metadata": {},
     "output_type": "execute_result"
    }
   ],
   "source": [
    "# LIST THE Adj BIDs THAT DO NOT MATCH IN NORM WAGE: THESE ARE THE Adj BIDs NOT IN THE NORM WAGE...\n",
    "adjbwregion = adjbigwage[\"BID\"].unique().tolist()\n",
    "adjnormwageregion = adjnormwage.index.tolist()\n",
    "list(set(adjbwregion) - set(adjnormwageregion))"
   ]
  },
  {
   "cell_type": "code",
   "execution_count": 98,
   "id": "9f6c3bd4",
   "metadata": {},
   "outputs": [
    {
     "data": {
      "text/plain": [
       "2"
      ]
     },
     "execution_count": 98,
     "metadata": {},
     "output_type": "execute_result"
    }
   ],
   "source": [
    "# LIST THE APPLICANTS THAT ARE STILL NOT MATCHED THROUGH BID...\n",
    "nonmatchadjwage = pd.DataFrame()\n",
    "for x in range(len(list(set(adjbwregion) - set(adjnormwageregion)))):\n",
    "    j = adjbigwage[adjbigwage[\"BID\"]==list(set(adjbwregion) - set(adjnormwageregion))[x]]\n",
    "    nonmatchadjwage = pd.concat([nonmatchadjwage, j],axis = 0)\n",
    "\n",
    "# DOES THE NUMBER OF APPLICANTS THAT DO NOT MATCH = TO 2?\n",
    "len(nonmatchadjwage)\n",
    "# YES"
   ]
  },
  {
   "cell_type": "code",
   "execution_count": 99,
   "id": "ecb3e73a",
   "metadata": {},
   "outputs": [
    {
     "data": {
      "text/plain": [
       "0"
      ]
     },
     "execution_count": 99,
     "metadata": {},
     "output_type": "execute_result"
    }
   ],
   "source": [
    "# GETTING THE WAGE FOR SOC CODE ONLY FOR NORM WAGE\n",
    "soconly = regwage\n",
    "soconly[\"BID\"] = soconly[\"PW_SOC_CODE\"].astype(str)\n",
    "# NORMALIZED AVG WAGE FOR EACH UNIQUE IDENTIFIER\n",
    "socnormwage = pd.DataFrame(soconly.groupby(\"BID\")[\"PW_A\"].mean())\n",
    "socnormwage.columns=[\"NORM_PW\"]\n",
    "\n",
    "# CREATING THE UNIQUE IDENTIFIER FOR MISSING BIG WAGE TO MATCH UP WITH REG WAGE AVG\n",
    "socbigwage = nonmatchadjwage\n",
    "socbigwage[\"BID\"] = socbigwage[\"PW_SOC_CODE\"].astype(str)\n",
    "\n",
    "# MERGING BASED ON BID AND BRINGING IN NORM WAGE\n",
    "matchsocbidwage = socbigwage\n",
    "matchsocbidwage = matchsocbidwage.merge(socnormwage, how = \"inner\", on = \"BID\")\n",
    "\n",
    "# HOW MANY APPLICANTS WERE NOT MATCHED THROUGH AdjBID\n",
    "len(socbigwage) - len(matchsocbidwage)"
   ]
  },
  {
   "cell_type": "code",
   "execution_count": 100,
   "id": "ebf2e2e9",
   "metadata": {},
   "outputs": [],
   "source": [
    "# MERGING BACK TO MAKE THE FINAL BIG WAGE : USING NORM WAGE...\n",
    "bigwage = pd.concat([matchbidwage,\n",
    "matchadjbidwage,\n",
    "matchsocbidwage],axis = 0, ignore_index = True)\n",
    "bigwage[\"PW_A\"] = bigwage[\"NORM_PW\"]\n",
    "bigwage = bigwage.drop([\"BID\",\"NORM_PW\"], axis = 1)"
   ]
  },
  {
   "cell_type": "code",
   "execution_count": 101,
   "id": "f8fe52c8",
   "metadata": {},
   "outputs": [],
   "source": [
    "# MATCH APPLICATIONS IN BIGWAGE DF WITH ORIGINAL DF AND UPDATE WAGE AND PW DATA\n",
    "bigwage = bigwage.set_index(\"ID\")\n",
    "df = df.set_index(\"ID\")\n",
    "df.loc[bigwage.index] = bigwage\n",
    "df = df.reset_index()"
   ]
  },
  {
   "cell_type": "code",
   "execution_count": 102,
   "id": "59fa0fb9",
   "metadata": {},
   "outputs": [],
   "source": [
    "# ANNUALIZED WAGE OFFER - ANNUALIZED PW: REDO, WITH CLEANED UP ANNUAL WAGE AND PW\n",
    "df[\"WO-PW\"] = df[\"WO_A\"] - df[\"PW_A\"]"
   ]
  },
  {
   "cell_type": "code",
   "execution_count": 103,
   "id": "8b37fc20",
   "metadata": {},
   "outputs": [
    {
     "data": {
      "text/plain": [
       "<AxesSubplot:ylabel='Frequency'>"
      ]
     },
     "execution_count": 103,
     "metadata": {},
     "output_type": "execute_result"
    },
    {
     "data": {
      "image/png": "[encoded data removed]",
      "text/plain": [
       "<Figure size 432x288 with 1 Axes>"
      ]
     },
     "metadata": {
      "needs_background": "light"
     },
     "output_type": "display_data"
    }
   ],
   "source": [
    "# CLEANING EMPLOYER HQ CITIES\n",
    "# CLEAN UP JOB CITY: distribution of the length of the cities\n",
    "df[\"EMPLOYER_CITY\"].str.len().plot(kind = \"hist\")"
   ]
  },
  {
   "cell_type": "code",
   "execution_count": 104,
   "id": "9c17991d",
   "metadata": {},
   "outputs": [
    {
     "data": {
      "text/plain": [
       "NEW YORK           41062\n",
       "SEATTLE            24506\n",
       "MOUNTAIN VIEW      21402\n",
       "SANTA CLARA        21085\n",
       "COLLEGE STATION    19646\n",
       "SAN FRANCISCO      18349\n",
       "SAN JOSE           18137\n",
       "REDMOND            17907\n",
       "CHICAGO            15309\n",
       "SUNNYVALE          11828\n",
       "HOUSTON            10303\n",
       "PLANO               8655\n",
       "CUPERTINO           7894\n",
       "EDISON              7304\n",
       "MENLO PARK          7258\n",
       "Name: EMPLOYER_CITY, dtype: int64"
      ]
     },
     "execution_count": 104,
     "metadata": {},
     "output_type": "execute_result"
    }
   ],
   "source": [
    "# TOO MANY TO MANUALLY CLEAN: \n",
    "# WHAT ARE THE TOP CITIES?\n",
    "df[\"EMPLOYER_CITY\"].value_counts()[:15]"
   ]
  },
  {
   "cell_type": "code",
   "execution_count": 105,
   "id": "5850cd1a",
   "metadata": {},
   "outputs": [],
   "source": [
    "# HOW MANY VARIATIONS OF THE TOP CITIES?\n",
    "#df[df[\"EMPLOYER_CITY\"].str.contains(\"mountain view\", case = False, na = False)][\"EMPLOYER_CITY\"].value_counts()"
   ]
  },
  {
   "cell_type": "code",
   "execution_count": 106,
   "id": "686654ae",
   "metadata": {},
   "outputs": [],
   "source": [
    "# TURNING ALL THE NYC VARATIONS INTO NEW YORK + SPELL OUT NEW YORK\n",
    "df[\"EMPLOYER_CITY\"] =  df[\"EMPLOYER_CITY\"].replace(\"NY\",\"NEW YORK\").replace(\"NYC\",\"NEW YORK\")\n",
    "df.loc[df[\"EMPLOYER_CITY\"].str.contains(\"new york\", case = False, na = False), \"EMPLOYER_CITY\"] = \"NEW YORK\"\n",
    "# MERGING THE TOP 15 cities (santa clara, COLLEGE STATION,redmond, cupertino, menlo park, and PLANO did NOT NEED CLEANING)\n",
    "df.loc[df[\"EMPLOYER_CITY\"].str.contains(\"seattle\", case = False, na = False), \"EMPLOYER_CITY\"] = \"SEATTLE\"\n",
    "df.loc[df[\"EMPLOYER_CITY\"].str.contains(\"san francisco\", case = False, na = False), \"EMPLOYER_CITY\"] = \"SAN FRANCISCO\"\n",
    "df.loc[df[\"EMPLOYER_CITY\"].str.contains(\"san jose\", case = False, na = False), \"EMPLOYER_CITY\"] = \"SAN JOSE\"\n",
    "df.loc[df[\"EMPLOYER_CITY\"].str.contains(\"chicago\", case = False, na = False), \"EMPLOYER_CITY\"] = \"CHICAGO\"\n",
    "df.loc[df[\"EMPLOYER_CITY\"].str.contains(\"houston\", case = False, na = False), \"EMPLOYER_CITY\"] = \"HOUSTON\"\n",
    "df.loc[df[\"EMPLOYER_CITY\"].str.contains(\"sunnyvale\", case = False, na = False), \"EMPLOYER_CITY\"] = \"SUNNYVALE\"\n",
    "df.loc[df[\"EMPLOYER_CITY\"].str.contains(\"los angeles\", case = False, na = False), \"EMPLOYER_CITY\"] = \"LOS ANGELES\"\n",
    "df.loc[df[\"EMPLOYER_CITY\"].str.contains(\"edison\", case = False, na = False), \"EMPLOYER_CITY\"] = \"EDISON\""
   ]
  },
  {
   "cell_type": "code",
   "execution_count": 107,
   "id": "0d4c3d05",
   "metadata": {},
   "outputs": [
    {
     "data": {
      "text/plain": [
       "1157"
      ]
     },
     "execution_count": 107,
     "metadata": {},
     "output_type": "execute_result"
    }
   ],
   "source": [
    "# HOW MANY STATES ARE EMPLOYERS HQ IN? SHOULD BE NO MORE THAN 60...\n",
    "df[\"EMPLOYER_STATE_PROVINCE\"].nunique()\n",
    "# ... 1157"
   ]
  },
  {
   "cell_type": "code",
   "execution_count": 108,
   "id": "bae68af5",
   "metadata": {},
   "outputs": [],
   "source": [
    "# ROUND 1 CLEANING STATES\n",
    "for j in range(len(mainst)):\n",
    "    df.loc[df[\"EMPLOYER_STATE_PROVINCE\"].str.contains(mainst[j], case = False, na = False), \"EMPLOYER_STATE_PROVINCE\"] = mainabr[j]"
   ]
  },
  {
   "cell_type": "code",
   "execution_count": 109,
   "id": "f33959e1",
   "metadata": {},
   "outputs": [
    {
     "data": {
      "text/plain": [
       "array(['PUERTO RICO', 'GUAM', 'NORTHERN MARIANA ISLANDS',\n",
       "       'NORTHERN MARIANA ISLANDS CNMI', ' PR', 'GUAM ', 'GUAM GUAM',\n",
       "       'NORTHERN MARIANA ISLANDS SAIPAN INTERNATIONAL SCHOOL',\n",
       "       'VIRGIN ISLANDS ABC SALES & SERVICES', 'VIRGIN ISLANDS ST. CROIX',\n",
       "       'PUERTO RICO SAN JUAN', ' FL 32773', ' FL BUILDIN',\n",
       "       'NORTHERN MARIANA ISLANDS NORTHERN MARIANA ISLANDS',\n",
       "       'VIRGIN ISLANDS', 'PUERTO RICO PUERTO RICO', ' OR OR',\n",
       "       'VIRGIN ISLANDS ST CROIX', 'PUERTO RICO PR',\n",
       "       'NORTHERN MARIANA ISLANDS NORTHERN MARIANA ISLAND',\n",
       "       'FEDERATED STATES OF MICRONESIA', 'BRITISH COLUMBIA'], dtype=object)"
      ]
     },
     "execution_count": 109,
     "metadata": {},
     "output_type": "execute_result"
    }
   ],
   "source": [
    "# HOW MANY STATES ARE THERE NOT ABR AFTER ROUND 1 CLEANING?\n",
    "df[\"EMPLOYER_STATE_PROVINCE\"].unique()[np.vectorize(len)(df[\"EMPLOYER_STATE_PROVINCE\"].unique())>2]"
   ]
  },
  {
   "cell_type": "code",
   "execution_count": 110,
   "id": "90a29613",
   "metadata": {},
   "outputs": [
    {
     "data": {
      "text/plain": [
       "['PUERTO RICO',\n",
       " 'GUAM',\n",
       " 'NORTHERN MARIANA ISLANDS',\n",
       " 'NORTHERN MARIANA ISLANDS CNMI',\n",
       " ' PR',\n",
       " 'GUAM ',\n",
       " 'GUAM GUAM',\n",
       " 'NORTHERN MARIANA ISLANDS SAIPAN INTERNATIONAL SCHOOL',\n",
       " 'VIRGIN ISLANDS ABC SALES & SERVICES',\n",
       " 'VIRGIN ISLANDS ST. CROIX',\n",
       " 'PUERTO RICO SAN JUAN',\n",
       " ' FL 32773',\n",
       " ' FL BUILDIN',\n",
       " 'NORTHERN MARIANA ISLANDS NORTHERN MARIANA ISLANDS',\n",
       " 'VIRGIN ISLANDS',\n",
       " 'PUERTO RICO PUERTO RICO',\n",
       " ' OR OR',\n",
       " 'VIRGIN ISLANDS ST CROIX',\n",
       " 'PUERTO RICO PR',\n",
       " 'NORTHERN MARIANA ISLANDS NORTHERN MARIANA ISLAND',\n",
       " 'FEDERATED STATES OF MICRONESIA',\n",
       " 'BRITISH COLUMBIA']"
      ]
     },
     "execution_count": 110,
     "metadata": {},
     "output_type": "execute_result"
    }
   ],
   "source": [
    "df[\"EMPLOYER_STATE_PROVINCE\"].unique()[np.vectorize(len)(df[\"EMPLOYER_STATE_PROVINCE\"].unique())>2].tolist()"
   ]
  },
  {
   "cell_type": "code",
   "execution_count": 111,
   "id": "f722ee86",
   "metadata": {},
   "outputs": [],
   "source": [
    "# CREATING THE SECONDARY LIST TO FINISH CLEANING STATES\n",
    "secondst = ['PUERTO RICO', 'GUAM', 'NORTHERN MARIANA ISLANDS',\n",
    "       'VIRGIN ISLANDS', 'MARSHALL ISLANDS',\n",
    "       'FEDERATED STATES OF MICRONESIA',\" PR\",\"FL 32773\",\"FL BUILDIN\",\"OR OR\",\"BRITISH COLUMBIA\"]\n",
    "secondabr = [\"PR\",\"GU\",\"MP\",\"VI\",\"MH\",\"FSM\",\"PR\",\"FL\",\"FL\",\"OR\",\"BC\"]\n",
    "# ROUND 2 CLEANING STATES\n",
    "for j in range(len(secondst)):\n",
    "    df.loc[df[\"EMPLOYER_STATE_PROVINCE\"].str.contains(secondst[j], case = False, na = False), \"EMPLOYER_STATE_PROVINCE\"] = secondabr[j]"
   ]
  },
  {
   "cell_type": "code",
   "execution_count": 112,
   "id": "c77ce18a",
   "metadata": {},
   "outputs": [],
   "source": [
    "# CREATING A WORKSITE REGION COLUMN\n",
    "df[\"EMPLOYER_REGION\"]=df[\"EMPLOYER_STATE_PROVINCE\"]\n",
    "for j in range(len(geostate)):\n",
    "    df.loc[df[\"EMPLOYER_REGION\"].str.contains(geostate[j], case = False, na = False), \"EMPLOYER_REGION\"] = region[j]\n"
   ]
  },
  {
   "cell_type": "code",
   "execution_count": 113,
   "id": "648adff4",
   "metadata": {},
   "outputs": [
    {
     "data": {
      "text/plain": [
       "array(['WEST', 'MIDWEST', 'SOUTH', 'NORTHEAST', 'TERRITORY', '', 'OTHER'],\n",
       "      dtype=object)"
      ]
     },
     "execution_count": 113,
     "metadata": {},
     "output_type": "execute_result"
    }
   ],
   "source": [
    "# UNIQUE REGIONS (CHECK IF ALL STATES WERE TRANSLATED CORRECTLY)\n",
    "df[\"EMPLOYER_REGION\"] = df[\"EMPLOYER_REGION\"].replace(\"BC\",\"OTHER\")\n",
    "df[\"EMPLOYER_REGION\"].unique()"
   ]
  },
  {
   "cell_type": "code",
   "execution_count": 114,
   "id": "dd3e893d",
   "metadata": {},
   "outputs": [],
   "source": [
    "# ADDING A CATEGORICAL VARIABLE OF DISCREPANCY BETWEEN EMPLOYER HQ STATE , REGION, AND CITY WITH JOB WORK SITE. UNIT OF WAGE AS WELL\n",
    "df[\"DISC_ST\"] = np.where(df[\"EMPLOYER_STATE_PROVINCE\"]==df[\"WORKSITE_STATE\"], 0, 1)\n",
    "df[\"DISC_CTY\"] = np.where(df[\"EMPLOYER_CITY\"]==df[\"WORKSITE_CITY\"], 0, 1)\n",
    "df[\"DISC_RGION\"] = np.where(df[\"EMPLOYER_REGION\"]==df[\"WORKSITE_REGION\"], 0, 1)\n",
    "df[\"DISC_UNIT\"] = np.where(df[\"WAGE_OFFER_UNIT_OF_PAY\"]==df[\"PW_UNIT_OF_PAY\"], 0, 1)"
   ]
  },
  {
   "cell_type": "code",
   "execution_count": 115,
   "id": "635768c7",
   "metadata": {},
   "outputs": [],
   "source": [
    "# MANUAL CLEANING OF EMPLOYER NAMES: THIS CODE IS TAKEN FROM THE US IMMIGRANT EMPLOYEMENT MINIPROJECT IN MY GITHUB\n",
    "df.loc[df[\"EMPLOYER_NAME\"].str.contains(\"GOOGLE\", case = False, na = False),\"EMPLOYER_NAME\"]=\"GOOGLE\"\n",
    "df.loc[(df[\"EMPLOYER_NAME\"].str.contains(\"amazon |amazon.com\", case = False, na = False))&(~df[\"EMPLOYER_NAME\"].str.contains(\"amazon conservation team|amazon stones\", case = False, na = False)), \"EMPLOYER_NAME\"] = \"AMAZON\"\n",
    "df.loc[df[\"EMPLOYER_NAME\"].str.contains(\"MICROSOFT\", case = False, na = False), \"EMPLOYER_NAME\"] = \"MICROSOFT\"\n",
    "df.loc[df[\"EMPLOYER_NAME\"].str.contains(\"Cognizant\", case = False, na = False), \"EMPLOYER_NAME\"] = \"COGNIZANT\"\n",
    "df.loc[df[\"EMPLOYER_NAME\"].str.contains(\"intel corporation|intel mobile|intel massachusetts|intel america|intel federal\", case = False, na = False), \"EMPLOYER_NAME\"] = \"INTEL\"\n",
    "df.loc[df[\"EMPLOYER_NAME\"].str.contains(\"apple inc.|apple computer|apple educational\", case = False, na = False), \"EMPLOYER_NAME\"] = \"APPLE\"\n",
    "df.loc[df[\"EMPLOYER_NAME\"].str.contains(\"infosys ltd.|infosys technologies|infosys public|infosys solutions|infosys consulting|infosys international|infosys BPO\", case = False, na = False), \"EMPLOYER_NAME\"] = \"INFOSYS\"\n",
    "df.loc[df[\"EMPLOYER_NAME\"].str.contains(\"facebook\", case = False, na = False), \"EMPLOYER_NAME\"] = \"FACEBOOK\"\n",
    "df.loc[df[\"EMPLOYER_NAME\"].str.contains(\"tata consultancy|tata technologies|tata communications|tata industries|tata consltancy|tata enterprises|tata america international|tata autocomp|tata international metals|tata chemicals|tata elxsi\", case = False, na = False), \"EMPLOYER_NAME\"] = \"TATA\"\n",
    "df.loc[df[\"EMPLOYER_NAME\"].str.contains(\"oracle america|oracle usa|oracle financial\", case = False, na = False), \"EMPLOYER_NAME\"] = \"FACEBOOK\"\n",
    "df.loc[df[\"EMPLOYER_NAME\"].str.contains(\"hcl america\", case = False, na = False), \"EMPLOYER_NAME\"] = \"HCL AMERICA\"\n",
    "df.loc[df[\"EMPLOYER_NAME\"].str.contains(\"deloitte\", case = False, na = False), \"EMPLOYER_NAME\"] = \"DELOITTE\"\n",
    "df.loc[df[\"EMPLOYER_NAME\"].str.contains(\"qualcomm\", case = False, na = False), \"EMPLOYER_NAME\"] = \"QUALCOMM\"\n",
    "df.loc[df[\"EMPLOYER_NAME\"].str.contains(\"IBM \", case = False, na = False), \"EMPLOYER_NAME\"] = \"IBM\"\n",
    "df.loc[df[\"EMPLOYER_NAME\"].str.contains(\"Cisco systems|cisco consumer\", case = False, na = False), \"EMPLOYER_NAME\"] = \"CISCO\"\n",
    "df.loc[df[\"EMPLOYER_NAME\"].str.contains(\"salesforce\", case = False, na = False), \"EMPLOYER_NAME\"] = \"SALESFORCE\"\n",
    "df.loc[df[\"EMPLOYER_NAME\"].str.contains(\"morgan stanley\", case = False, na = False), \"EMPLOYER_NAME\"] = \"MORGAN STANLEY\"\n",
    "df.loc[df[\"EMPLOYER_NAME\"].str.contains(\"JP Morgan\", case = False, na = False), \"EMPLOYER_NAME\"] = \"JP MORGAN\"\n",
    "df.loc[df[\"EMPLOYER_NAME\"].str.contains(\"goldman sachs|goldman, sachs|goldman,sachs\", case = False, na = False), \"EMPLOYER_NAME\"] = \"GOLDMAN SACHS\"\n",
    "df.loc[df[\"EMPLOYER_NAME\"].str.contains(\"MERRILL LYNCH\", case = False, na = False), \"EMPLOYER_NAME\"] = \"MERRILL LYNCH\"\n",
    "df.loc[df[\"EMPLOYER_NAME\"].str.contains(\"Citibank|citigroup\", case = False, na = False), \"EMPLOYER_NAME\"] = \"CITI GROUP\"\n",
    "df.loc[df[\"EMPLOYER_NAME\"].str.contains(\"CREDIT SUISSE\", case = False, na = False), \"EMPLOYER_NAME\"] = \"CREDIT SUISSE\"\n",
    "df.loc[df[\"EMPLOYER_NAME\"].str.contains(\"pricewater|pwc\", case = False, na = False), \"EMPLOYER_NAME\"] = \"PRICEWATERHOUSECOOPERS\"\n",
    "df.loc[df[\"EMPLOYER_NAME\"].str.contains(\"ernst  |ernst & Young\", case = False, na = False), \"EMPLOYER_NAME\"] = \"ERNST YOUNG\"\n",
    "df.loc[df[\"EMPLOYER_NAME\"].str.contains(\"capgemini\", case = False, na = False), \"EMPLOYER_NAME\"] = \"CAPGEMINI\"\n",
    "df.loc[df[\"EMPLOYER_NAME\"].str.contains(\"technip usa\", case = False, na = False), \"EMPLOYER_NAME\"] = \"TECHNIP USA\"\n",
    "df.loc[df[\"EMPLOYER_NAME\"].str.contains(\"bechtel \", case = False, na = False), \"EMPLOYER_NAME\"] = \"BECHTEL\"\n",
    "df.loc[(df[\"EMPLOYER_NAME\"].str.contains(\"hp enterprise services|hp inc.|Hewlett-|Hewlett P|HewlettP\", case = False, na = False))&(~df[\"EMPLOYER_NAME\"].str.contains(\"queen nails hp inc|backer ehp inc\", case = False, na = False)), \"EMPLOYER_NAME\"] = \"AMAZON\"\n",
    "df.loc[df[\"EMPLOYER_NAME\"].str.contains(\"CGGVERITAS\", case = False, na = False), \"EMPLOYER_NAME\"] = \"CGGVERITAS\"\n",
    "df.loc[df[\"EMPLOYER_NAME\"].str.contains(\"national oilwell\", case = False, na = False), \"EMPLOYER_NAME\"] = \"NATIONAL OILWELL VARCO\"\n",
    "df.loc[df[\"EMPLOYER_NAME\"].str.contains(\"IH SERVICES\", case = False, na = False), \"EMPLOYER_NAME\"] = \"IH SERVICES\"\n",
    "df.loc[df[\"EMPLOYER_NAME\"].str.contains(\"paypal\", case = False, na = False), \"EMPLOYER_NAME\"] = \"PAYPAL\"\n",
    "df.loc[df[\"EMPLOYER_NAME\"].str.contains(\"EBAY INC.|EBAY INC|EBAY ENTERPRISE|EBAY MOBILE LABS| EBAY PAYMENTS\", case = False, na = False), \"EMPLOYER_NAME\"] = \"EBAY\"\n",
    "df.loc[df[\"EMPLOYER_NAME\"].str.contains(\"brocade\", case = False, na = False), \"EMPLOYER_NAME\"] = \"BROCADE\"\n",
    "df.loc[df[\"EMPLOYER_NAME\"].str.contains(\"ADOBE INC.|ADOBE SYSTEMS\", case = False, na = False), \"EMPLOYER_NAME\"] = \"ADOBE\"\n",
    "df.loc[df[\"EMPLOYER_NAME\"].str.contains(\"University of Chicago\", case = False, na = False), \"EMPLOYER_NAME\"] = \"THE UNIVERSITY OF CHICAGO\"\n",
    "df.loc[df[\"EMPLOYER_NAME\"].str.contains(\"mckinsey\", case = False, na = False), \"EMPLOYER_NAME\"] = \"MCKINSEY COMPANY\"\n",
    "df.loc[df[\"EMPLOYER_NAME\"].str.contains(\"motorola\", case = False, na = False), \"EMPLOYER_NAME\"] = \"MOTOROLA\"\n",
    "df.loc[df[\"EMPLOYER_NAME\"].str.contains(\"citadel LLC|citadel americas|citadel Securities|citadel investment|citadel enterprise\", case = False, na = False), \"EMPLOYER_NAME\"] = \"CITADEL LLC\"\n",
    "df.loc[df[\"EMPLOYER_NAME\"].str.contains(\"yahoo\", case = False, na = False), \"EMPLOYER_NAME\"] = \"YAHOO\"\n",
    "df.loc[df[\"EMPLOYER_NAME\"].str.contains(\"Juniper networks\", case = False, na = False), \"EMPLOYER_NAME\"] = \"JUNIPER NETWORKS\"\n",
    "df.loc[df[\"EMPLOYER_NAME\"].str.contains(\"a2z development\", case = False, na = False), \"EMPLOYER_NAME\"] = \"A2Z DEVELOPMENT\"\n",
    "df.loc[df[\"EMPLOYER_NAME\"].str.contains(\"walmart|wal-mart\", case = False, na = False), \"EMPLOYER_NAME\"] = \"WALMART\"\n",
    "df.loc[df[\"EMPLOYER_NAME\"].str.contains(\"fortinet\", case = False, na = False), \"EMPLOYER_NAME\"] = \"FORTINET\"\n",
    "df.loc[df[\"EMPLOYER_NAME\"].str.contains(\"larsen &|larsen  \", case = False, na = False), \"EMPLOYER_NAME\"] = \"LARSEN TOUBRO\"\n",
    "df.loc[df[\"EMPLOYER_NAME\"].str.contains(\"mindtree\", case = False, na = False), \"EMPLOYER_NAME\"] = \"MINDTREE LIMITED\"\n",
    "df.loc[df[\"EMPLOYER_NAME\"].str.contains(\"igate tech|igate mastech|igate global\", case = False, na = False), \"EMPLOYER_NAME\"] = \"IGATE TECHNOLOGIES\"\n",
    "df.loc[df[\"EMPLOYER_NAME\"].str.contains(\"3i info\", case = False, na = False), \"EMPLOYER_NAME\"] = \"3I INFOTECH\"\n",
    "df.loc[df[\"EMPLOYER_NAME\"].str.contains(\"NTT Data\", case = False, na = False), \"EMPLOYER_NAME\"] = \"NTT DATA\"\n",
    "df.loc[df[\"EMPLOYER_NAME\"].str.contains(\"Texas instrument\", case = False, na = False), \"EMPLOYER_NAME\"] = \"TEXAS INSTRUMENTS\"\n",
    "df.loc[df[\"EMPLOYER_NAME\"].str.contains(\"tech mahindra\", case = False, na = False), \"EMPLOYER_NAME\"] = \"TECH MAHINDRA\"\n",
    "df.loc[df[\"EMPLOYER_NAME\"].str.contains(\"DELL USA LP|DELL PRODUCTS LP|DELL MARKETING LP|DELL SOFTWARE INC|DELL FINANCIAL\", case = False, na = False), \"EMPLOYER_NAME\"] = \"DELL\"\n",
    "df.loc[df[\"EMPLOYER_NAME\"].str.contains(\"uber technologies\", case = False, na = False), \"EMPLOYER_NAME\"] = \"UBER TECHNOLOGIES\"\n",
    "df.loc[df[\"EMPLOYER_NAME\"].str.contains(\"case farms\", case = False, na = False), \"EMPLOYER_NAME\"] = \"CASE FARMS\"\n",
    "df.loc[df[\"EMPLOYER_NAME\"].str.contains(\"house of raeford\", case = False, na = False), \"EMPLOYER_NAME\"] = \"HOUSE OF RAEFORD FARMS\"\n",
    "df.loc[df[\"EMPLOYER_NAME\"].str.contains(\"george's processing\", case = False, na = False), \"EMPLOYER_NAME\"] = \"GEORGE'S PROCESSING\"\n",
    "df.loc[df[\"EMPLOYER_NAME\"].str.contains(\"abbyland\", case = False, na = False), \"EMPLOYER_NAME\"] = \"ABBYLAND FOODS\"\n",
    "df.loc[df[\"EMPLOYER_NAME\"].str.contains(\"koch foods of cinc\", case = False, na = False), \"EMPLOYER_NAME\"] = \"KOCH FOODS OF CINCINNATI\"\n",
    "df.loc[df[\"EMPLOYER_NAME\"].str.contains(\"koch foods of al\", case = False, na = False), \"EMPLOYER_NAME\"] = \"KOCH FOODS OF ALABAMA\"\n"
   ]
  },
  {
   "cell_type": "code",
   "execution_count": 116,
   "id": "2c570f2b",
   "metadata": {},
   "outputs": [],
   "source": [
    "# CREATING THE LIST OF COLUMNS THAT NEED CLEANING UP: \"Y\" OR \"N\" INTO 1 or 0\n",
    "Y_N_cols = [\"REFILE\",\n",
    "\"REQUIRED_TRAINING\",\n",
    "\"REQUIRED_EXPERIENCE\",\n",
    "\"ACCEPT_FOREIGN_EDUCATION\",\n",
    "\"ACCEPT_ALT_OCCUPATION\",\n",
    "\"JOB_OPP_REQUIREMENTS_NORMAL\",\n",
    "\"FOREIGN_LANGUAGE_REQUIRED\",\n",
    "\"PROFESSIONAL_OCCUPATION\",\n",
    "\"APP_FOR_COLLEGE_U_TEACHER\",\n",
    "\"SUNDAY_EDITION_NEWSPAPER\",\n",
    "\"SECOND_ADVERTISEMENT\",\n",
    "\"JOB_FAIR\",\n",
    "\"ON_CAMPUS_RECRUITING\",\n",
    "\"EMPLOYER_WEBSITE\",\n",
    "\"PRO_ORG_AD\",\n",
    "\"JOB_SEARCH_WEBSITE\",\n",
    "\"PVT_EMPLOYMENT_FIRM\",\n",
    "\"EMPLOYEE_REF_PROG\",\n",
    "\"CAMPUS_PLACEMENT\",\n",
    "\"LOCAL_ETHNIC_PAPER\",\n",
    "\"RADIO_TV_AD\",\n",
    "\"EMP_RECEIVED_PAYMENT\",\n",
    "\"BARGAINING_REP_NOTIFIED\",\n",
    "\"POSTED_NOTICE_AT_WORKSITE\",\n",
    "\"LAYOFF_IN_PAST_SIX_MONTHS\",\n",
    "\"US_WORKERS_CONSIDERED\",\n",
    "\"FOREIGN_WORKER_TRAINING_COMP\",\n",
    "\"FOREIGN_WORKER_REQ_EXPERIENCE\",\n",
    "\"FOREIGN_WORKER_ALT_ED_EXP\",\n",
    "\"FOREIGN_WORKER_ALT_OCC_EXP\",\n",
    "\"EMPLOYER_COMPLETED_APPLICATION\"]"
   ]
  },
  {
   "cell_type": "code",
   "execution_count": 117,
   "id": "e9607e14",
   "metadata": {},
   "outputs": [
    {
     "data": {
      "text/html": [
       "<div>\n",
       "<style scoped>\n",
       "    .dataframe tbody tr th:only-of-type {\n",
       "        vertical-align: middle;\n",
       "    }\n",
       "\n",
       "    .dataframe tbody tr th {\n",
       "        vertical-align: top;\n",
       "    }\n",
       "\n",
       "    .dataframe thead th {\n",
       "        text-align: right;\n",
       "    }\n",
       "</style>\n",
       "<table border=\"1\" class=\"dataframe\">\n",
       "  <thead>\n",
       "    <tr style=\"text-align: right;\">\n",
       "      <th></th>\n",
       "      <th>0</th>\n",
       "      <th>1</th>\n",
       "    </tr>\n",
       "  </thead>\n",
       "  <tbody>\n",
       "    <tr>\n",
       "      <th>0</th>\n",
       "      <td>REFILE</td>\n",
       "      <td>3</td>\n",
       "    </tr>\n",
       "    <tr>\n",
       "      <th>0</th>\n",
       "      <td>REQUIRED_TRAINING</td>\n",
       "      <td>3</td>\n",
       "    </tr>\n",
       "    <tr>\n",
       "      <th>0</th>\n",
       "      <td>REQUIRED_EXPERIENCE</td>\n",
       "      <td>3</td>\n",
       "    </tr>\n",
       "    <tr>\n",
       "      <th>0</th>\n",
       "      <td>ACCEPT_FOREIGN_EDUCATION</td>\n",
       "      <td>3</td>\n",
       "    </tr>\n",
       "    <tr>\n",
       "      <th>0</th>\n",
       "      <td>ACCEPT_ALT_OCCUPATION</td>\n",
       "      <td>45298</td>\n",
       "    </tr>\n",
       "    <tr>\n",
       "      <th>0</th>\n",
       "      <td>JOB_OPP_REQUIREMENTS_NORMAL</td>\n",
       "      <td>3</td>\n",
       "    </tr>\n",
       "    <tr>\n",
       "      <th>0</th>\n",
       "      <td>FOREIGN_LANGUAGE_REQUIRED</td>\n",
       "      <td>3</td>\n",
       "    </tr>\n",
       "    <tr>\n",
       "      <th>0</th>\n",
       "      <td>PROFESSIONAL_OCCUPATION</td>\n",
       "      <td>3</td>\n",
       "    </tr>\n",
       "    <tr>\n",
       "      <th>0</th>\n",
       "      <td>APP_FOR_COLLEGE_U_TEACHER</td>\n",
       "      <td>3</td>\n",
       "    </tr>\n",
       "    <tr>\n",
       "      <th>0</th>\n",
       "      <td>SUNDAY_EDITION_NEWSPAPER</td>\n",
       "      <td>3</td>\n",
       "    </tr>\n",
       "    <tr>\n",
       "      <th>0</th>\n",
       "      <td>SECOND_ADVERTISEMENT</td>\n",
       "      <td>2</td>\n",
       "    </tr>\n",
       "    <tr>\n",
       "      <th>0</th>\n",
       "      <td>JOB_FAIR</td>\n",
       "      <td>2</td>\n",
       "    </tr>\n",
       "    <tr>\n",
       "      <th>0</th>\n",
       "      <td>ON_CAMPUS_RECRUITING</td>\n",
       "      <td>2</td>\n",
       "    </tr>\n",
       "    <tr>\n",
       "      <th>0</th>\n",
       "      <td>EMPLOYER_WEBSITE</td>\n",
       "      <td>2</td>\n",
       "    </tr>\n",
       "    <tr>\n",
       "      <th>0</th>\n",
       "      <td>PRO_ORG_AD</td>\n",
       "      <td>2</td>\n",
       "    </tr>\n",
       "    <tr>\n",
       "      <th>0</th>\n",
       "      <td>JOB_SEARCH_WEBSITE</td>\n",
       "      <td>2</td>\n",
       "    </tr>\n",
       "    <tr>\n",
       "      <th>0</th>\n",
       "      <td>PVT_EMPLOYMENT_FIRM</td>\n",
       "      <td>2</td>\n",
       "    </tr>\n",
       "    <tr>\n",
       "      <th>0</th>\n",
       "      <td>EMPLOYEE_REF_PROG</td>\n",
       "      <td>2</td>\n",
       "    </tr>\n",
       "    <tr>\n",
       "      <th>0</th>\n",
       "      <td>CAMPUS_PLACEMENT</td>\n",
       "      <td>2</td>\n",
       "    </tr>\n",
       "    <tr>\n",
       "      <th>0</th>\n",
       "      <td>LOCAL_ETHNIC_PAPER</td>\n",
       "      <td>2</td>\n",
       "    </tr>\n",
       "    <tr>\n",
       "      <th>0</th>\n",
       "      <td>RADIO_TV_AD</td>\n",
       "      <td>2</td>\n",
       "    </tr>\n",
       "    <tr>\n",
       "      <th>0</th>\n",
       "      <td>EMP_RECEIVED_PAYMENT</td>\n",
       "      <td>3</td>\n",
       "    </tr>\n",
       "    <tr>\n",
       "      <th>0</th>\n",
       "      <td>BARGAINING_REP_NOTIFIED</td>\n",
       "      <td>4</td>\n",
       "    </tr>\n",
       "    <tr>\n",
       "      <th>0</th>\n",
       "      <td>POSTED_NOTICE_AT_WORKSITE</td>\n",
       "      <td>4</td>\n",
       "    </tr>\n",
       "    <tr>\n",
       "      <th>0</th>\n",
       "      <td>LAYOFF_IN_PAST_SIX_MONTHS</td>\n",
       "      <td>3</td>\n",
       "    </tr>\n",
       "    <tr>\n",
       "      <th>0</th>\n",
       "      <td>US_WORKERS_CONSIDERED</td>\n",
       "      <td>4</td>\n",
       "    </tr>\n",
       "    <tr>\n",
       "      <th>0</th>\n",
       "      <td>FOREIGN_WORKER_TRAINING_COMP</td>\n",
       "      <td>4</td>\n",
       "    </tr>\n",
       "    <tr>\n",
       "      <th>0</th>\n",
       "      <td>FOREIGN_WORKER_REQ_EXPERIENCE</td>\n",
       "      <td>4</td>\n",
       "    </tr>\n",
       "    <tr>\n",
       "      <th>0</th>\n",
       "      <td>FOREIGN_WORKER_ALT_ED_EXP</td>\n",
       "      <td>4</td>\n",
       "    </tr>\n",
       "    <tr>\n",
       "      <th>0</th>\n",
       "      <td>FOREIGN_WORKER_ALT_OCC_EXP</td>\n",
       "      <td>4</td>\n",
       "    </tr>\n",
       "    <tr>\n",
       "      <th>0</th>\n",
       "      <td>EMPLOYER_COMPLETED_APPLICATION</td>\n",
       "      <td>3</td>\n",
       "    </tr>\n",
       "  </tbody>\n",
       "</table>\n",
       "</div>"
      ],
      "text/plain": [
       "                                0      1\n",
       "0                          REFILE      3\n",
       "0               REQUIRED_TRAINING      3\n",
       "0             REQUIRED_EXPERIENCE      3\n",
       "0        ACCEPT_FOREIGN_EDUCATION      3\n",
       "0           ACCEPT_ALT_OCCUPATION  45298\n",
       "0     JOB_OPP_REQUIREMENTS_NORMAL      3\n",
       "0       FOREIGN_LANGUAGE_REQUIRED      3\n",
       "0         PROFESSIONAL_OCCUPATION      3\n",
       "0       APP_FOR_COLLEGE_U_TEACHER      3\n",
       "0        SUNDAY_EDITION_NEWSPAPER      3\n",
       "0            SECOND_ADVERTISEMENT      2\n",
       "0                        JOB_FAIR      2\n",
       "0            ON_CAMPUS_RECRUITING      2\n",
       "0                EMPLOYER_WEBSITE      2\n",
       "0                      PRO_ORG_AD      2\n",
       "0              JOB_SEARCH_WEBSITE      2\n",
       "0             PVT_EMPLOYMENT_FIRM      2\n",
       "0               EMPLOYEE_REF_PROG      2\n",
       "0                CAMPUS_PLACEMENT      2\n",
       "0              LOCAL_ETHNIC_PAPER      2\n",
       "0                     RADIO_TV_AD      2\n",
       "0            EMP_RECEIVED_PAYMENT      3\n",
       "0         BARGAINING_REP_NOTIFIED      4\n",
       "0       POSTED_NOTICE_AT_WORKSITE      4\n",
       "0       LAYOFF_IN_PAST_SIX_MONTHS      3\n",
       "0           US_WORKERS_CONSIDERED      4\n",
       "0    FOREIGN_WORKER_TRAINING_COMP      4\n",
       "0   FOREIGN_WORKER_REQ_EXPERIENCE      4\n",
       "0       FOREIGN_WORKER_ALT_ED_EXP      4\n",
       "0      FOREIGN_WORKER_ALT_OCC_EXP      4\n",
       "0  EMPLOYER_COMPLETED_APPLICATION      3"
      ]
     },
     "execution_count": 117,
     "metadata": {},
     "output_type": "execute_result"
    }
   ],
   "source": [
    "# CHECKING WHAT THE MAX UNIQUE VALUES ARE FOR THE FIELDS WITH \"Y\" AND \"N\": THIS SHOULD BE NO MORE THAN 4 (Y,N,NA,Blank)\n",
    "exlist = []\n",
    "edf = pd.DataFrame()\n",
    "for i in range(len(Y_N_cols)):\n",
    "    j = df[Y_N_cols[i]].nunique()\n",
    "    x = pd.DataFrame([Y_N_cols[i],j]).transpose()\n",
    "    edf = pd.concat([edf,x])\n",
    "edf"
   ]
  },
  {
   "cell_type": "code",
   "execution_count": 118,
   "id": "4fead012",
   "metadata": {},
   "outputs": [
    {
     "data": {
      "text/plain": [
       "Y                                                                257499\n",
       "                                                                 198133\n",
       "N                                                                129970\n",
       "Computer Science, Engineering or related technical field           2017\n",
       "Engineering, Mathematics, or a related field                       1935\n",
       "                                                                  ...  \n",
       "HISTORY OR EQUIVALENT (SEE H.14)                                      1\n",
       "Theology or Educational Leadership                                    1\n",
       "Bus Admin, Econ, or a related field.                                  1\n",
       "Manufacturing Engineering, or in a related field of study             1\n",
       "Business Administration, Business and Commerce, or its equiv.         1\n",
       "Name: ACCEPT_ALT_OCCUPATION, Length: 45298, dtype: int64"
      ]
     },
     "execution_count": 118,
     "metadata": {},
     "output_type": "execute_result"
    }
   ],
   "source": [
    "# LOOKING INTO ACCEPT_ALT_OCCUPATION\n",
    "df[\"ACCEPT_ALT_OCCUPATION\"].value_counts()\n",
    "# LOOKS LIKE SOME APPLICANTS HAVE Y AND N WHILE OTHERS WRITE THE ACCEPTED OCCUPATION..."
   ]
  },
  {
   "cell_type": "code",
   "execution_count": 119,
   "id": "bc2e4306",
   "metadata": {},
   "outputs": [],
   "source": [
    "# GETTING A LIST TO RUN A LOOP AND FIND ALL THE UNIQUES FOR EACH COLUMN, EXCEPT FOR ALT_OCCUPATION\n",
    "new_Y_N_cols = [\"REFILE\",\n",
    "\"REQUIRED_TRAINING\",\n",
    "\"REQUIRED_EXPERIENCE\",\n",
    "\"ACCEPT_FOREIGN_EDUCATION\",\n",
    "\"JOB_OPP_REQUIREMENTS_NORMAL\",\n",
    "\"FOREIGN_LANGUAGE_REQUIRED\",\n",
    "\"PROFESSIONAL_OCCUPATION\",\n",
    "\"APP_FOR_COLLEGE_U_TEACHER\",\n",
    "\"SUNDAY_EDITION_NEWSPAPER\",\n",
    "\"SECOND_ADVERTISEMENT\",\n",
    "\"JOB_FAIR\",\n",
    "\"ON_CAMPUS_RECRUITING\",\n",
    "\"EMPLOYER_WEBSITE\",\n",
    "\"PRO_ORG_AD\",\n",
    "\"JOB_SEARCH_WEBSITE\",\n",
    "\"PVT_EMPLOYMENT_FIRM\",\n",
    "\"EMPLOYEE_REF_PROG\",\n",
    "\"CAMPUS_PLACEMENT\",\n",
    "\"LOCAL_ETHNIC_PAPER\",\n",
    "\"RADIO_TV_AD\",\n",
    "\"EMP_RECEIVED_PAYMENT\",\n",
    "\"BARGAINING_REP_NOTIFIED\",\n",
    "\"POSTED_NOTICE_AT_WORKSITE\",\n",
    "\"LAYOFF_IN_PAST_SIX_MONTHS\",\n",
    "\"US_WORKERS_CONSIDERED\",\n",
    "\"FOREIGN_WORKER_TRAINING_COMP\",\n",
    "\"FOREIGN_WORKER_REQ_EXPERIENCE\",\n",
    "\"FOREIGN_WORKER_ALT_ED_EXP\",\n",
    "\"FOREIGN_WORKER_ALT_OCC_EXP\",\n",
    "\"EMPLOYER_COMPLETED_APPLICATION\"]"
   ]
  },
  {
   "cell_type": "code",
   "execution_count": 120,
   "id": "490a39be",
   "metadata": {},
   "outputs": [
    {
     "data": {
      "text/html": [
       "<div>\n",
       "<style scoped>\n",
       "    .dataframe tbody tr th:only-of-type {\n",
       "        vertical-align: middle;\n",
       "    }\n",
       "\n",
       "    .dataframe tbody tr th {\n",
       "        vertical-align: top;\n",
       "    }\n",
       "\n",
       "    .dataframe thead th {\n",
       "        text-align: right;\n",
       "    }\n",
       "</style>\n",
       "<table border=\"1\" class=\"dataframe\">\n",
       "  <thead>\n",
       "    <tr style=\"text-align: right;\">\n",
       "      <th></th>\n",
       "      <th>0</th>\n",
       "      <th>1</th>\n",
       "      <th>2</th>\n",
       "    </tr>\n",
       "  </thead>\n",
       "  <tbody>\n",
       "    <tr>\n",
       "      <th>0</th>\n",
       "      <td>REFILE</td>\n",
       "      <td>3</td>\n",
       "      <td>[N, Y, ]</td>\n",
       "    </tr>\n",
       "    <tr>\n",
       "      <th>0</th>\n",
       "      <td>REQUIRED_TRAINING</td>\n",
       "      <td>3</td>\n",
       "      <td>[N, Y, ]</td>\n",
       "    </tr>\n",
       "    <tr>\n",
       "      <th>0</th>\n",
       "      <td>REQUIRED_EXPERIENCE</td>\n",
       "      <td>3</td>\n",
       "      <td>[Y, N, ]</td>\n",
       "    </tr>\n",
       "    <tr>\n",
       "      <th>0</th>\n",
       "      <td>ACCEPT_FOREIGN_EDUCATION</td>\n",
       "      <td>3</td>\n",
       "      <td>[Y, N, ]</td>\n",
       "    </tr>\n",
       "    <tr>\n",
       "      <th>0</th>\n",
       "      <td>JOB_OPP_REQUIREMENTS_NORMAL</td>\n",
       "      <td>3</td>\n",
       "      <td>[Y, N, ]</td>\n",
       "    </tr>\n",
       "    <tr>\n",
       "      <th>0</th>\n",
       "      <td>FOREIGN_LANGUAGE_REQUIRED</td>\n",
       "      <td>3</td>\n",
       "      <td>[N, Y, ]</td>\n",
       "    </tr>\n",
       "    <tr>\n",
       "      <th>0</th>\n",
       "      <td>PROFESSIONAL_OCCUPATION</td>\n",
       "      <td>3</td>\n",
       "      <td>[N, Y, ]</td>\n",
       "    </tr>\n",
       "    <tr>\n",
       "      <th>0</th>\n",
       "      <td>APP_FOR_COLLEGE_U_TEACHER</td>\n",
       "      <td>3</td>\n",
       "      <td>[N, Y, ]</td>\n",
       "    </tr>\n",
       "    <tr>\n",
       "      <th>0</th>\n",
       "      <td>SUNDAY_EDITION_NEWSPAPER</td>\n",
       "      <td>3</td>\n",
       "      <td>[Y, , N]</td>\n",
       "    </tr>\n",
       "    <tr>\n",
       "      <th>0</th>\n",
       "      <td>SECOND_ADVERTISEMENT</td>\n",
       "      <td>2</td>\n",
       "      <td>[Y, N]</td>\n",
       "    </tr>\n",
       "    <tr>\n",
       "      <th>0</th>\n",
       "      <td>JOB_FAIR</td>\n",
       "      <td>2</td>\n",
       "      <td>[N, Y]</td>\n",
       "    </tr>\n",
       "    <tr>\n",
       "      <th>0</th>\n",
       "      <td>ON_CAMPUS_RECRUITING</td>\n",
       "      <td>2</td>\n",
       "      <td>[N, Y]</td>\n",
       "    </tr>\n",
       "    <tr>\n",
       "      <th>0</th>\n",
       "      <td>EMPLOYER_WEBSITE</td>\n",
       "      <td>2</td>\n",
       "      <td>[N, Y]</td>\n",
       "    </tr>\n",
       "    <tr>\n",
       "      <th>0</th>\n",
       "      <td>PRO_ORG_AD</td>\n",
       "      <td>2</td>\n",
       "      <td>[N, Y]</td>\n",
       "    </tr>\n",
       "    <tr>\n",
       "      <th>0</th>\n",
       "      <td>JOB_SEARCH_WEBSITE</td>\n",
       "      <td>2</td>\n",
       "      <td>[N, Y]</td>\n",
       "    </tr>\n",
       "    <tr>\n",
       "      <th>0</th>\n",
       "      <td>PVT_EMPLOYMENT_FIRM</td>\n",
       "      <td>2</td>\n",
       "      <td>[N, Y]</td>\n",
       "    </tr>\n",
       "    <tr>\n",
       "      <th>0</th>\n",
       "      <td>EMPLOYEE_REF_PROG</td>\n",
       "      <td>2</td>\n",
       "      <td>[N, Y]</td>\n",
       "    </tr>\n",
       "    <tr>\n",
       "      <th>0</th>\n",
       "      <td>CAMPUS_PLACEMENT</td>\n",
       "      <td>2</td>\n",
       "      <td>[N, Y]</td>\n",
       "    </tr>\n",
       "    <tr>\n",
       "      <th>0</th>\n",
       "      <td>LOCAL_ETHNIC_PAPER</td>\n",
       "      <td>2</td>\n",
       "      <td>[N, Y]</td>\n",
       "    </tr>\n",
       "    <tr>\n",
       "      <th>0</th>\n",
       "      <td>RADIO_TV_AD</td>\n",
       "      <td>2</td>\n",
       "      <td>[N, Y]</td>\n",
       "    </tr>\n",
       "    <tr>\n",
       "      <th>0</th>\n",
       "      <td>EMP_RECEIVED_PAYMENT</td>\n",
       "      <td>3</td>\n",
       "      <td>[N, Y, ]</td>\n",
       "    </tr>\n",
       "    <tr>\n",
       "      <th>0</th>\n",
       "      <td>BARGAINING_REP_NOTIFIED</td>\n",
       "      <td>4</td>\n",
       "      <td>[, N, Y, A]</td>\n",
       "    </tr>\n",
       "    <tr>\n",
       "      <th>0</th>\n",
       "      <td>POSTED_NOTICE_AT_WORKSITE</td>\n",
       "      <td>4</td>\n",
       "      <td>[Y, , N, A]</td>\n",
       "    </tr>\n",
       "    <tr>\n",
       "      <th>0</th>\n",
       "      <td>LAYOFF_IN_PAST_SIX_MONTHS</td>\n",
       "      <td>3</td>\n",
       "      <td>[N, Y, ]</td>\n",
       "    </tr>\n",
       "    <tr>\n",
       "      <th>0</th>\n",
       "      <td>US_WORKERS_CONSIDERED</td>\n",
       "      <td>4</td>\n",
       "      <td>[, Y, N, A]</td>\n",
       "    </tr>\n",
       "    <tr>\n",
       "      <th>0</th>\n",
       "      <td>FOREIGN_WORKER_TRAINING_COMP</td>\n",
       "      <td>4</td>\n",
       "      <td>[, N, Y, A]</td>\n",
       "    </tr>\n",
       "    <tr>\n",
       "      <th>0</th>\n",
       "      <td>FOREIGN_WORKER_REQ_EXPERIENCE</td>\n",
       "      <td>4</td>\n",
       "      <td>[Y, , N, A]</td>\n",
       "    </tr>\n",
       "    <tr>\n",
       "      <th>0</th>\n",
       "      <td>FOREIGN_WORKER_ALT_ED_EXP</td>\n",
       "      <td>4</td>\n",
       "      <td>[, Y, N, A]</td>\n",
       "    </tr>\n",
       "    <tr>\n",
       "      <th>0</th>\n",
       "      <td>FOREIGN_WORKER_ALT_OCC_EXP</td>\n",
       "      <td>4</td>\n",
       "      <td>[, Y, N, A]</td>\n",
       "    </tr>\n",
       "    <tr>\n",
       "      <th>0</th>\n",
       "      <td>EMPLOYER_COMPLETED_APPLICATION</td>\n",
       "      <td>3</td>\n",
       "      <td>[Y, N, ]</td>\n",
       "    </tr>\n",
       "  </tbody>\n",
       "</table>\n",
       "</div>"
      ],
      "text/plain": [
       "                                0  1            2\n",
       "0                          REFILE  3     [N, Y, ]\n",
       "0               REQUIRED_TRAINING  3     [N, Y, ]\n",
       "0             REQUIRED_EXPERIENCE  3     [Y, N, ]\n",
       "0        ACCEPT_FOREIGN_EDUCATION  3     [Y, N, ]\n",
       "0     JOB_OPP_REQUIREMENTS_NORMAL  3     [Y, N, ]\n",
       "0       FOREIGN_LANGUAGE_REQUIRED  3     [N, Y, ]\n",
       "0         PROFESSIONAL_OCCUPATION  3     [N, Y, ]\n",
       "0       APP_FOR_COLLEGE_U_TEACHER  3     [N, Y, ]\n",
       "0        SUNDAY_EDITION_NEWSPAPER  3     [Y, , N]\n",
       "0            SECOND_ADVERTISEMENT  2       [Y, N]\n",
       "0                        JOB_FAIR  2       [N, Y]\n",
       "0            ON_CAMPUS_RECRUITING  2       [N, Y]\n",
       "0                EMPLOYER_WEBSITE  2       [N, Y]\n",
       "0                      PRO_ORG_AD  2       [N, Y]\n",
       "0              JOB_SEARCH_WEBSITE  2       [N, Y]\n",
       "0             PVT_EMPLOYMENT_FIRM  2       [N, Y]\n",
       "0               EMPLOYEE_REF_PROG  2       [N, Y]\n",
       "0                CAMPUS_PLACEMENT  2       [N, Y]\n",
       "0              LOCAL_ETHNIC_PAPER  2       [N, Y]\n",
       "0                     RADIO_TV_AD  2       [N, Y]\n",
       "0            EMP_RECEIVED_PAYMENT  3     [N, Y, ]\n",
       "0         BARGAINING_REP_NOTIFIED  4  [, N, Y, A]\n",
       "0       POSTED_NOTICE_AT_WORKSITE  4  [Y, , N, A]\n",
       "0       LAYOFF_IN_PAST_SIX_MONTHS  3     [N, Y, ]\n",
       "0           US_WORKERS_CONSIDERED  4  [, Y, N, A]\n",
       "0    FOREIGN_WORKER_TRAINING_COMP  4  [, N, Y, A]\n",
       "0   FOREIGN_WORKER_REQ_EXPERIENCE  4  [Y, , N, A]\n",
       "0       FOREIGN_WORKER_ALT_ED_EXP  4  [, Y, N, A]\n",
       "0      FOREIGN_WORKER_ALT_OCC_EXP  4  [, Y, N, A]\n",
       "0  EMPLOYER_COMPLETED_APPLICATION  3     [Y, N, ]"
      ]
     },
     "execution_count": 120,
     "metadata": {},
     "output_type": "execute_result"
    }
   ],
   "source": [
    "# CHECKING THE UNIQUE VALUES ARE FOR THE FIELDS WITH \"Y\" AND \"N\": THIS SHOULD BE NO MORE THAN 4 (Y,N,NA,Blank)\n",
    "exlist = []\n",
    "edf = pd.DataFrame()\n",
    "for i in range(len(new_Y_N_cols)):\n",
    "    j = df[new_Y_N_cols[i]].nunique()\n",
    "    a = df[new_Y_N_cols[i]].unique()\n",
    "    x = pd.DataFrame([new_Y_N_cols[i],j,a]).transpose()\n",
    "    edf = pd.concat([edf,x])\n",
    "edf"
   ]
  },
  {
   "cell_type": "code",
   "execution_count": 121,
   "id": "f9a66170",
   "metadata": {},
   "outputs": [],
   "source": [
    "# CHANGING \"Y\" TO 1, N to 0, A to 0, and \"\" to 0\n",
    "for i in range(len(new_Y_N_cols)):\n",
    "    df[new_Y_N_cols[i]] = np.where(df[new_Y_N_cols[i]]==\"Y\", 1, 0)"
   ]
  },
  {
   "cell_type": "code",
   "execution_count": 122,
   "id": "3f0004fb",
   "metadata": {},
   "outputs": [],
   "source": [
    "# CHANGING ALT OCCUPATION Y to 1, N to 0, \"\" to 0, anything else will be a 1\n",
    "df[\"ACCEPT_ALT_OCCUPATION\"] = np.where(df[\"ACCEPT_ALT_OCCUPATION\"]==\"Y\", 1, df[\"ACCEPT_ALT_OCCUPATION\"])\n",
    "df[\"ACCEPT_ALT_OCCUPATION\"] = np.where((df[\"ACCEPT_ALT_OCCUPATION\"]==\"N\")|(df[\"ACCEPT_ALT_OCCUPATION\"]==\"\"), 0, df[\"ACCEPT_ALT_OCCUPATION\"])\n",
    "df[\"ACCEPT_ALT_OCCUPATION\"] = np.where(df[\"ACCEPT_ALT_OCCUPATION\"]!=0, 1, df[\"ACCEPT_ALT_OCCUPATION\"])"
   ]
  },
  {
   "cell_type": "code",
   "execution_count": 123,
   "id": "195c42c6",
   "metadata": {},
   "outputs": [],
   "source": [
    "# DROP THE COLUMNS NOT IN USE\n",
    "df = df.drop([\"ID\",\"CASE_NUMBER\",\"DECISION_DATE\",\"RECEIVED_DATE\"], axis = 1).reset_index(drop = True)"
   ]
  },
  {
   "cell_type": "code",
   "execution_count": 124,
   "id": "61066619",
   "metadata": {},
   "outputs": [],
   "source": [
    "# TURN ALL \"\" TO NP.NAN\n",
    "df = df.replace(\"\",np.nan)"
   ]
  },
  {
   "cell_type": "code",
   "execution_count": 125,
   "id": "48bbdc71",
   "metadata": {},
   "outputs": [],
   "source": [
    "############################################################"
   ]
  },
  {
   "cell_type": "code",
   "execution_count": 126,
   "id": "9a551f25",
   "metadata": {},
   "outputs": [],
   "source": [
    "########## EDA ##########"
   ]
  },
  {
   "cell_type": "code",
   "execution_count": 127,
   "id": "5df2d0c5",
   "metadata": {},
   "outputs": [],
   "source": [
    "### EMPLOYER RELATED DATA ###"
   ]
  },
  {
   "cell_type": "code",
   "execution_count": 128,
   "id": "fcf21b4e",
   "metadata": {},
   "outputs": [],
   "source": [
    "# TURNING EMPLOYER EMPLOYEE NUMBER, \"\" INTO 0, THIS WILL ALLOW FOR EASIER CLEANING\n",
    "df[\"EMPLOYER_NUM_EMPLOYEES\"] = df[\"EMPLOYER_NUM_EMPLOYEES\"].replace(np.nan,0)"
   ]
  },
  {
   "cell_type": "code",
   "execution_count": 129,
   "id": "229a6354",
   "metadata": {},
   "outputs": [
    {
     "name": "stdout",
     "output_type": "stream",
     "text": [
      "There are around 71274 companies that have only sponsored one applicant.\n",
      "There are a total of 115443 unique companies in the entire dataset.\n",
      "Dropping companies with only 1 applicant would be 61.74 % of all companies.\n",
      "There would be 655400 applicants left out of 726677 in the entire dataset, or dropping 9.81 %.\n"
     ]
    }
   ],
   "source": [
    "# CLEANING UP APPLICANT DATA BASED ON FREQUENCY OF EMPLOYER SPONSORSHIP...\n",
    "# IF AN EMPLOYER ONLY HAS 1 APPLICANT EVER, PROBABLY WILL NOT SPONSOR AGAIN - COMPARED TO COMPANIES THAT SPONSOR FREQUENTLY\n",
    "# HOW MANY EMPLOYERS HAVE SPONSORED ONLY ONCE? NOT COMPLETELY ACCURATE DUE TO LACK OF STANDARDIZATION RULES\n",
    "print(\"There are around\",(df[\"EMPLOYER_NAME\"].value_counts()==1).sum(),\"companies that have only sponsored one applicant.\")\n",
    "print(\"There are a total of\",len(df[\"EMPLOYER_NAME\"].value_counts()),\"unique companies in the entire dataset.\")\n",
    "print(\"Dropping companies with only 1 applicant would be\",round(((df[\"EMPLOYER_NAME\"].value_counts()==1).sum()/len(df[\"EMPLOYER_NAME\"].value_counts()))*100,2),\"% of all companies.\")\n",
    "print(\"There would be\",df[\"EMPLOYER_NAME\"].value_counts()[df[\"EMPLOYER_NAME\"].value_counts()>1].sum(),\"applicants left out of\",len(df),\"in the entire dataset, or dropping\",round((len(df)-df[\"EMPLOYER_NAME\"].value_counts()[df[\"EMPLOYER_NAME\"].value_counts()>1].sum())/len(df)*100,2),\"%.\")"
   ]
  },
  {
   "cell_type": "code",
   "execution_count": 130,
   "id": "107234e2",
   "metadata": {},
   "outputs": [],
   "source": [
    "# BEFORE WE DROP, WHATS THE SUCCESS % OF THESE APPLICANTS?\n",
    "# CREATE A DF WITH ONLY APPLICANTS TO COMPANIES THAT HAVE SPONSORED ONLY 1 APPLICANT\n",
    "onlyone = df[\"EMPLOYER_NAME\"].value_counts()[df[\"EMPLOYER_NAME\"].value_counts()<=1].index.tolist()\n",
    "onlyonedf = df[df[\"EMPLOYER_NAME\"].isin(onlyone)]"
   ]
  },
  {
   "cell_type": "code",
   "execution_count": 131,
   "id": "1fa162fe",
   "metadata": {},
   "outputs": [
    {
     "name": "stdout",
     "output_type": "stream",
     "text": [
      "Applicants sponsored by companies that have only sponsored one applicant have a, 88.93 % success rate.\n",
      "The rest of the applicants have a, 91.77 % success rate.\n"
     ]
    }
   ],
   "source": [
    "# SUCCESS RATE OF APPLICANTS SPONSORED BY COMPANIES THAT HAVE ONLY SPONSORED ONE APPLICANT\n",
    "# COMPARE THIS TO THE REST OF THE DATA SET\n",
    "print(\"Applicants sponsored by companies that have only sponsored one applicant have a,\",round((onlyonedf[\"CASE_STATUS\"].sum())/len(onlyonedf)*100,2),\"% success rate.\")\n",
    "rest = df[\"EMPLOYER_NAME\"].value_counts()[df[\"EMPLOYER_NAME\"].value_counts()>1].index.tolist()\n",
    "df = df[df[\"EMPLOYER_NAME\"].isin(rest)]\n",
    "print(\"The rest of the applicants have a,\",round((df[\"CASE_STATUS\"].sum())/len(df)*100,2),\"% success rate.\")"
   ]
  },
  {
   "cell_type": "code",
   "execution_count": 132,
   "id": "f26d1f1a",
   "metadata": {},
   "outputs": [
    {
     "name": "stdout",
     "output_type": "stream",
     "text": [
      "There are around 156 applications from companies that have no employees or did not fill out the field.\n",
      "Dropping applicants with 0 employees or who did not fill out would be 0.02 % of all applications.\n",
      "There would be 655244 applications left out of 655400 .\n"
     ]
    }
   ],
   "source": [
    "# CLEANING UP APPLICANT DATA BASED ON EMPLOYEE NUM FIELD\n",
    "# IF AN EMPLOYER HAS 0 or DID NOT FILL OUT THE EMPLOYEE NUM FIELD, WE WILL DROP: INACCURATE DATA\n",
    "# HOW MANY EMPLOYERS HAVE 0 EMPLOYEES?\n",
    "print(\"There are around\",(df[\"EMPLOYER_NUM_EMPLOYEES\"]==0).sum(),\"applications from companies that have no employees or did not fill out the field.\")\n",
    "print(\"Dropping applicants with 0 employees or who did not fill out would be\",round((df[\"EMPLOYER_NUM_EMPLOYEES\"]==0).sum()/len(df)*100,2),\"% of all applications.\")\n",
    "print(\"There would be\",len(df[df[\"EMPLOYER_NUM_EMPLOYEES\"]>0]),\"applications left out of\",len(df),\".\")"
   ]
  },
  {
   "cell_type": "code",
   "execution_count": 133,
   "id": "1bdd9d91",
   "metadata": {},
   "outputs": [
    {
     "name": "stdout",
     "output_type": "stream",
     "text": [
      "Applicants sponsored by companies with 0 employees have a, 20.51 % success rate.\n",
      "The rest of the applicants have a, 91.79 % success rate.\n"
     ]
    }
   ],
   "source": [
    "# BEFORE WE DROP, WHATS THE SUCCESS % OF THESE APPLICANTS?\n",
    "# CREATE A DF WITH ONLY APPLICANTS TO COMPANIES THAT HAVE 0 EMPLOYEES\n",
    "none = df[df[\"EMPLOYER_NUM_EMPLOYEES\"]==0]\n",
    "# SUCCESS RATE OF APPLICANTS SPONSORED BY COMPANIES HAVE 0 EMPLOYEES / DID NOT FILL OUT THE FIELD\n",
    "# COMPARE THIS TO THE REST OF THE DATA SET\n",
    "print(\"Applicants sponsored by companies with 0 employees have a,\",round((none[\"CASE_STATUS\"].sum())/len(none)*100,2),\"% success rate.\")\n",
    "df = df[df[\"EMPLOYER_NUM_EMPLOYEES\"]>0]\n",
    "print(\"The rest of the applicants have a,\",round((df[\"CASE_STATUS\"].sum())/len(df)*100,2),\"% success rate.\")"
   ]
  },
  {
   "cell_type": "code",
   "execution_count": 353,
   "id": "4eb8fb1f",
   "metadata": {},
   "outputs": [
    {
     "name": "stdout",
     "output_type": "stream",
     "text": [
      "There are around 34 applications from companies that operated before the year 1600.\n",
      "Dropping applicants from companies operating before 1600 would be 0.01 % of all applications.\n",
      "There would be 655158 applications left out of 655244 .\n"
     ]
    }
   ],
   "source": [
    "# CLEANING UP APPLICANT DATA BASED ON EMPLOYER YR COMMENCED BUSINESS\n",
    "# IF AN EMPLOYER COMMENCED BUSINESS IN YEAR 1600, DROP\n",
    "print(\"There are around\",(df[\"EMPLOYER_YEAR_COMMENCED_BUSINESS\"]<=1600).sum(),\"applications from companies that operated before the year 1600.\")\n",
    "print(\"Dropping applicants from companies operating before 1600 would be\",round((df[\"EMPLOYER_YEAR_COMMENCED_BUSINESS\"]<=1600).sum()/len(df)*100,2),\"% of all applications.\")\n",
    "print(\"There would be\",len(df[df[\"EMPLOYER_YEAR_COMMENCED_BUSINESS\"]>1600]),\"applications left out of\",len(df),\".\")"
   ]
  },
  {
   "cell_type": "code",
   "execution_count": 354,
   "id": "60de60ca",
   "metadata": {},
   "outputs": [
    {
     "name": "stdout",
     "output_type": "stream",
     "text": [
      "Applicants sponsored by companies operating before 1600, 82.35 % success rate.\n",
      "The rest of the applicants have a, 91.8 % success rate.\n"
     ]
    }
   ],
   "source": [
    "# BEFORE WE DROP, WHATS THE SUCCESS % OF THESE APPLICANTS?\n",
    "# CREATE A DF WITH ONLY APPLICANTS TO COMPANIES THAT WERE OPERATING BEFORE 1600\n",
    "none = df[df[\"EMPLOYER_YEAR_COMMENCED_BUSINESS\"]<=1600]\n",
    "# SUCCESS RATE OF APPLICANTS SPONSORED BY COMPANIES OPERATING BEFORE 1600\n",
    "# COMPARE THIS TO THE REST OF THE DATA SET\n",
    "print(\"Applicants sponsored by companies operating before 1600,\",round((none[\"CASE_STATUS\"].sum())/len(none)*100,2),\"% success rate.\")\n",
    "df = df[df[\"EMPLOYER_YEAR_COMMENCED_BUSINESS\"]>1600]\n",
    "print(\"The rest of the applicants have a,\",round((df[\"CASE_STATUS\"].sum())/len(df)*100,2),\"% success rate.\")"
   ]
  },
  {
   "cell_type": "code",
   "execution_count": 134,
   "id": "9b07adf8",
   "metadata": {},
   "outputs": [
    {
     "data": {
      "text/html": [
       "<div>\n",
       "<style scoped>\n",
       "    .dataframe tbody tr th:only-of-type {\n",
       "        vertical-align: middle;\n",
       "    }\n",
       "\n",
       "    .dataframe tbody tr th {\n",
       "        vertical-align: top;\n",
       "    }\n",
       "\n",
       "    .dataframe thead th {\n",
       "        text-align: right;\n",
       "    }\n",
       "</style>\n",
       "<table border=\"1\" class=\"dataframe\">\n",
       "  <thead>\n",
       "    <tr style=\"text-align: right;\">\n",
       "      <th></th>\n",
       "      <th>AEMP</th>\n",
       "      <th>COUNT AEMP</th>\n",
       "      <th>SEMP</th>\n",
       "      <th>COUNT SEMP</th>\n",
       "    </tr>\n",
       "  </thead>\n",
       "  <tbody>\n",
       "    <tr>\n",
       "      <th>0</th>\n",
       "      <td>AMAZON</td>\n",
       "      <td>22046</td>\n",
       "      <td>AMAZON</td>\n",
       "      <td>21627</td>\n",
       "    </tr>\n",
       "    <tr>\n",
       "      <th>1</th>\n",
       "      <td>COGNIZANT</td>\n",
       "      <td>19497</td>\n",
       "      <td>COGNIZANT</td>\n",
       "      <td>19305</td>\n",
       "    </tr>\n",
       "    <tr>\n",
       "      <th>2</th>\n",
       "      <td>MICROSOFT</td>\n",
       "      <td>16960</td>\n",
       "      <td>MICROSOFT</td>\n",
       "      <td>16468</td>\n",
       "    </tr>\n",
       "    <tr>\n",
       "      <th>3</th>\n",
       "      <td>GOOGLE</td>\n",
       "      <td>15574</td>\n",
       "      <td>GOOGLE</td>\n",
       "      <td>15354</td>\n",
       "    </tr>\n",
       "    <tr>\n",
       "      <th>4</th>\n",
       "      <td>INTEL</td>\n",
       "      <td>12374</td>\n",
       "      <td>INTEL</td>\n",
       "      <td>11224</td>\n",
       "    </tr>\n",
       "    <tr>\n",
       "      <th>5</th>\n",
       "      <td>FACEBOOK</td>\n",
       "      <td>10818</td>\n",
       "      <td>FACEBOOK</td>\n",
       "      <td>10437</td>\n",
       "    </tr>\n",
       "    <tr>\n",
       "      <th>6</th>\n",
       "      <td>INFOSYS</td>\n",
       "      <td>6857</td>\n",
       "      <td>TATA</td>\n",
       "      <td>6450</td>\n",
       "    </tr>\n",
       "    <tr>\n",
       "      <th>7</th>\n",
       "      <td>TATA</td>\n",
       "      <td>6561</td>\n",
       "      <td>APPLE</td>\n",
       "      <td>6440</td>\n",
       "    </tr>\n",
       "    <tr>\n",
       "      <th>8</th>\n",
       "      <td>APPLE</td>\n",
       "      <td>6523</td>\n",
       "      <td>INFOSYS</td>\n",
       "      <td>6235</td>\n",
       "    </tr>\n",
       "    <tr>\n",
       "      <th>9</th>\n",
       "      <td>DELOITTE</td>\n",
       "      <td>5104</td>\n",
       "      <td>DELOITTE</td>\n",
       "      <td>5049</td>\n",
       "    </tr>\n",
       "    <tr>\n",
       "      <th>10</th>\n",
       "      <td>CISCO</td>\n",
       "      <td>4673</td>\n",
       "      <td>CISCO</td>\n",
       "      <td>4530</td>\n",
       "    </tr>\n",
       "    <tr>\n",
       "      <th>11</th>\n",
       "      <td>HCL AMERICA</td>\n",
       "      <td>4024</td>\n",
       "      <td>HCL AMERICA</td>\n",
       "      <td>3935</td>\n",
       "    </tr>\n",
       "    <tr>\n",
       "      <th>12</th>\n",
       "      <td>QUALCOMM</td>\n",
       "      <td>3896</td>\n",
       "      <td>QUALCOMM</td>\n",
       "      <td>3824</td>\n",
       "    </tr>\n",
       "    <tr>\n",
       "      <th>13</th>\n",
       "      <td>CAPGEMINI</td>\n",
       "      <td>3495</td>\n",
       "      <td>CAPGEMINI</td>\n",
       "      <td>3335</td>\n",
       "    </tr>\n",
       "    <tr>\n",
       "      <th>14</th>\n",
       "      <td>ERNST YOUNG</td>\n",
       "      <td>3069</td>\n",
       "      <td>ERNST YOUNG</td>\n",
       "      <td>3014</td>\n",
       "    </tr>\n",
       "  </tbody>\n",
       "</table>\n",
       "</div>"
      ],
      "text/plain": [
       "           AEMP  COUNT AEMP         SEMP  COUNT SEMP\n",
       "0        AMAZON       22046       AMAZON       21627\n",
       "1     COGNIZANT       19497    COGNIZANT       19305\n",
       "2     MICROSOFT       16960    MICROSOFT       16468\n",
       "3        GOOGLE       15574       GOOGLE       15354\n",
       "4         INTEL       12374        INTEL       11224\n",
       "5      FACEBOOK       10818     FACEBOOK       10437\n",
       "6       INFOSYS        6857         TATA        6450\n",
       "7          TATA        6561        APPLE        6440\n",
       "8         APPLE        6523      INFOSYS        6235\n",
       "9      DELOITTE        5104     DELOITTE        5049\n",
       "10        CISCO        4673        CISCO        4530\n",
       "11  HCL AMERICA        4024  HCL AMERICA        3935\n",
       "12     QUALCOMM        3896     QUALCOMM        3824\n",
       "13    CAPGEMINI        3495    CAPGEMINI        3335\n",
       "14  ERNST YOUNG        3069  ERNST YOUNG        3014"
      ]
     },
     "execution_count": 134,
     "metadata": {},
     "output_type": "execute_result"
    }
   ],
   "source": [
    "# Top 15 Employers of all time 2014-2021\n",
    "allemp = pd.DataFrame(df[\"EMPLOYER_NAME\"].value_counts()[:15]).reset_index()\n",
    "allemp.columns = [\"AEMP\",\"COUNT AEMP\"]\n",
    "sucemp = pd.DataFrame(df[df[\"CASE_STATUS\"]==1][\"EMPLOYER_NAME\"].value_counts()[:15]).reset_index()\n",
    "sucemp.columns = [\"SEMP\",\"COUNT SEMP\"]\n",
    "pd.concat([allemp,sucemp], axis = 1)"
   ]
  },
  {
   "cell_type": "code",
   "execution_count": 135,
   "id": "2b9ab7e9",
   "metadata": {},
   "outputs": [
    {
     "data": {
      "text/plain": [
       "MICROSOFT      0\n",
       "AMAZON         0\n",
       "GOOGLE         0\n",
       "APPLE          0\n",
       "INTEL          1\n",
       "INFOSYS        1\n",
       "HCL AMERICA    1\n",
       "DELOITTE       1\n",
       "FACEBOOK       1\n",
       "ERNST YOUNG    2\n",
       "Name: Yrs not in Top 15, dtype: int64"
      ]
     },
     "execution_count": 135,
     "metadata": {},
     "output_type": "execute_result"
    }
   ],
   "source": [
    "# Grabbing the top 15 for each year employers: only succesful applications\n",
    "top15semp = pd.DataFrame()\n",
    "def grab (year):\n",
    "    return df[(df[\"YEAR\"]==year)&(df[\"CASE_STATUS\"]==1)][\"EMPLOYER_NAME\"].value_counts()[:15]\n",
    "for x in range(len(yr)):\n",
    "    j = pd.DataFrame(grab(yr[x]))\n",
    "    top15semp = pd.concat([top15semp,j], axis = 1)\n",
    "top15semp.columns= yr\n",
    "# King of Consistency: HOW MANY YEARS IS THIS COMPANY NOT IN THE TOP 15?: TOP 10 CONSISTENT COMPANIES...\n",
    "kingcons = top15semp.isnull().replace(False,0).replace(True,1)\n",
    "kingcons[\"Yrs not in Top 15\"] = top15semp.isnull().replace(False,0).replace(True,1).sum(axis = 1)\n",
    "kingcons[\"Yrs not in Top 15\"].sort_values()[:10]"
   ]
  },
  {
   "cell_type": "code",
   "execution_count": 136,
   "id": "129aff06",
   "metadata": {},
   "outputs": [
    {
     "data": {
      "text/plain": [
       "MICROSOFT      0\n",
       "INTEL          0\n",
       "APPLE          0\n",
       "AMAZON         0\n",
       "GOOGLE         0\n",
       "FACEBOOK       0\n",
       "INFOSYS        0\n",
       "DELOITTE       1\n",
       "HCL AMERICA    3\n",
       "JP MORGAN      3\n",
       "Name: Yrs not in Top 15, dtype: int64"
      ]
     },
     "execution_count": 136,
     "metadata": {},
     "output_type": "execute_result"
    }
   ],
   "source": [
    "# Grabbing the top 15 for each year employers: total applications\n",
    "top15aemp = pd.DataFrame()\n",
    "def grab (year):\n",
    "    return df[df[\"YEAR\"]==year][\"EMPLOYER_NAME\"].value_counts()[:15]\n",
    "for x in range(len(yr)):\n",
    "    j = pd.DataFrame(grab(yr[x]))\n",
    "    top15aemp = pd.concat([top15aemp,j], axis = 1)\n",
    "top15aemp.columns= yr\n",
    "# King of Consistency: HOW MANY YEARS IS THIS COMPANY NOT IN THE TOP 15?: TOP 10 CONSISTENT COMPANIES...\n",
    "kingconsA = top15aemp.isnull().replace(False,0).replace(True,1)\n",
    "kingconsA[\"Yrs not in Top 15\"] = top15aemp.isnull().replace(False,0).replace(True,1).sum(axis = 1)\n",
    "kingconsA[\"Yrs not in Top 15\"].sort_values()[:10]"
   ]
  },
  {
   "cell_type": "code",
   "execution_count": 137,
   "id": "b8cb87bf",
   "metadata": {},
   "outputs": [],
   "source": [
    "# CREATE A NEW COLUMN, YRS EDUCATION - DECISION YEAR: HOW MANY YEARS AFTER GRADUATION: POSTGRADYRS\n",
    "df[\"YRSPOSTGRAD\"] = df[\"YEAR\"]-df[\"FOREIGN_WORKER_YRS_ED_COMP\"]\n",
    "# CLEANING UP WORKER EDUCATION AND EDUCATION REQUIREMENTS\n",
    "df[\"FOREIGN_WORKER_EDUCATION\"]= df[\"FOREIGN_WORKER_EDUCATION\"].replace(\"NONE\",np.nan)\n",
    "df[\"MINIMUM_EDUCATION\"] = df[\"MINIMUM_EDUCATION\"].replace(\"NONE\",np.nan)"
   ]
  },
  {
   "cell_type": "code",
   "execution_count": 138,
   "id": "31fb5c84",
   "metadata": {
    "scrolled": true
   },
   "outputs": [
    {
     "data": {
      "text/html": [
       "<div>\n",
       "<style scoped>\n",
       "    .dataframe tbody tr th:only-of-type {\n",
       "        vertical-align: middle;\n",
       "    }\n",
       "\n",
       "    .dataframe tbody tr th {\n",
       "        vertical-align: top;\n",
       "    }\n",
       "\n",
       "    .dataframe thead th {\n",
       "        text-align: right;\n",
       "    }\n",
       "</style>\n",
       "<table border=\"1\" class=\"dataframe\">\n",
       "  <thead>\n",
       "    <tr style=\"text-align: right;\">\n",
       "      <th></th>\n",
       "      <th></th>\n",
       "      <th>TOTAL APPLICATIONS</th>\n",
       "      <th>MEDIAN WAGE</th>\n",
       "      <th>MEDIAN YRS POST GRAD</th>\n",
       "      <th>MEDIAN DAYS TO DECIDE</th>\n",
       "    </tr>\n",
       "    <tr>\n",
       "      <th>STATE</th>\n",
       "      <th>PW LEVEL</th>\n",
       "      <th></th>\n",
       "      <th></th>\n",
       "      <th></th>\n",
       "      <th></th>\n",
       "    </tr>\n",
       "  </thead>\n",
       "  <tbody>\n",
       "    <tr>\n",
       "      <th rowspan=\"4\" valign=\"top\">WA</th>\n",
       "      <th>LEVEL I</th>\n",
       "      <td>4334</td>\n",
       "      <td>117116.5</td>\n",
       "      <td>3.0</td>\n",
       "      <td>150.0</td>\n",
       "    </tr>\n",
       "    <tr>\n",
       "      <th>LEVEL II</th>\n",
       "      <td>6667</td>\n",
       "      <td>120500.0</td>\n",
       "      <td>4.0</td>\n",
       "      <td>157.0</td>\n",
       "    </tr>\n",
       "    <tr>\n",
       "      <th>LEVEL III</th>\n",
       "      <td>2246</td>\n",
       "      <td>135000.0</td>\n",
       "      <td>10.0</td>\n",
       "      <td>138.0</td>\n",
       "    </tr>\n",
       "    <tr>\n",
       "      <th>LEVEL IV</th>\n",
       "      <td>1543</td>\n",
       "      <td>154315.0</td>\n",
       "      <td>12.0</td>\n",
       "      <td>153.0</td>\n",
       "    </tr>\n",
       "    <tr>\n",
       "      <th rowspan=\"4\" valign=\"top\">CA</th>\n",
       "      <th>LEVEL I</th>\n",
       "      <td>190</td>\n",
       "      <td>130954.0</td>\n",
       "      <td>4.0</td>\n",
       "      <td>121.169103</td>\n",
       "    </tr>\n",
       "    <tr>\n",
       "      <th>LEVEL II</th>\n",
       "      <td>465</td>\n",
       "      <td>135500.0</td>\n",
       "      <td>4.0</td>\n",
       "      <td>145.0</td>\n",
       "    </tr>\n",
       "    <tr>\n",
       "      <th>LEVEL III</th>\n",
       "      <td>181</td>\n",
       "      <td>155147.0</td>\n",
       "      <td>9.0</td>\n",
       "      <td>145.0</td>\n",
       "    </tr>\n",
       "    <tr>\n",
       "      <th>LEVEL IV</th>\n",
       "      <td>123</td>\n",
       "      <td>175000.0</td>\n",
       "      <td>12.0</td>\n",
       "      <td>140.0</td>\n",
       "    </tr>\n",
       "    <tr>\n",
       "      <th rowspan=\"4\" valign=\"top\">TX</th>\n",
       "      <th>LEVEL I</th>\n",
       "      <td>46</td>\n",
       "      <td>93750.0</td>\n",
       "      <td>7.0</td>\n",
       "      <td>137.600411</td>\n",
       "    </tr>\n",
       "    <tr>\n",
       "      <th>LEVEL II</th>\n",
       "      <td>83</td>\n",
       "      <td>104832.0</td>\n",
       "      <td>6.0</td>\n",
       "      <td>148.0</td>\n",
       "    </tr>\n",
       "    <tr>\n",
       "      <th>LEVEL III</th>\n",
       "      <td>56</td>\n",
       "      <td>105400.0</td>\n",
       "      <td>12.0</td>\n",
       "      <td>113.28522</td>\n",
       "    </tr>\n",
       "    <tr>\n",
       "      <th>LEVEL IV</th>\n",
       "      <td>36</td>\n",
       "      <td>118500.0</td>\n",
       "      <td>13.0</td>\n",
       "      <td>145.0</td>\n",
       "    </tr>\n",
       "    <tr>\n",
       "      <th rowspan=\"4\" valign=\"top\">NC</th>\n",
       "      <th>LEVEL I</th>\n",
       "      <td>32</td>\n",
       "      <td>99050.0</td>\n",
       "      <td>4.5</td>\n",
       "      <td>153.0</td>\n",
       "    </tr>\n",
       "    <tr>\n",
       "      <th>LEVEL II</th>\n",
       "      <td>124</td>\n",
       "      <td>105500.0</td>\n",
       "      <td>3.0</td>\n",
       "      <td>156.0</td>\n",
       "    </tr>\n",
       "    <tr>\n",
       "      <th>LEVEL III</th>\n",
       "      <td>35</td>\n",
       "      <td>130300.0</td>\n",
       "      <td>10.0</td>\n",
       "      <td>153.0</td>\n",
       "    </tr>\n",
       "    <tr>\n",
       "      <th>LEVEL IV</th>\n",
       "      <td>25</td>\n",
       "      <td>135470.0</td>\n",
       "      <td>12.0</td>\n",
       "      <td>127.0</td>\n",
       "    </tr>\n",
       "    <tr>\n",
       "      <th rowspan=\"4\" valign=\"top\">MA</th>\n",
       "      <th>LEVEL I</th>\n",
       "      <td>43</td>\n",
       "      <td>117980.0</td>\n",
       "      <td>2.0</td>\n",
       "      <td>157.0</td>\n",
       "    </tr>\n",
       "    <tr>\n",
       "      <th>LEVEL II</th>\n",
       "      <td>53</td>\n",
       "      <td>116000.0</td>\n",
       "      <td>3.0</td>\n",
       "      <td>153.0</td>\n",
       "    </tr>\n",
       "    <tr>\n",
       "      <th>LEVEL III</th>\n",
       "      <td>27</td>\n",
       "      <td>130000.0</td>\n",
       "      <td>11.0</td>\n",
       "      <td>103.0</td>\n",
       "    </tr>\n",
       "    <tr>\n",
       "      <th>LEVEL IV</th>\n",
       "      <td>8</td>\n",
       "      <td>159040.0</td>\n",
       "      <td>7.5</td>\n",
       "      <td>96.683322</td>\n",
       "    </tr>\n",
       "    <tr>\n",
       "      <th rowspan=\"4\" valign=\"top\">NY</th>\n",
       "      <th>LEVEL I</th>\n",
       "      <td>19</td>\n",
       "      <td>135260.0</td>\n",
       "      <td>5.0</td>\n",
       "      <td>92.0</td>\n",
       "    </tr>\n",
       "    <tr>\n",
       "      <th>LEVEL II</th>\n",
       "      <td>35</td>\n",
       "      <td>135000.0</td>\n",
       "      <td>6.0</td>\n",
       "      <td>143.0</td>\n",
       "    </tr>\n",
       "    <tr>\n",
       "      <th>LEVEL III</th>\n",
       "      <td>28</td>\n",
       "      <td>147212.5</td>\n",
       "      <td>11.0</td>\n",
       "      <td>120.0</td>\n",
       "    </tr>\n",
       "    <tr>\n",
       "      <th>LEVEL IV</th>\n",
       "      <td>25</td>\n",
       "      <td>162000.0</td>\n",
       "      <td>11.0</td>\n",
       "      <td>121.416991</td>\n",
       "    </tr>\n",
       "    <tr>\n",
       "      <th rowspan=\"4\" valign=\"top\">ND</th>\n",
       "      <th>LEVEL I</th>\n",
       "      <td>16</td>\n",
       "      <td>87080.0</td>\n",
       "      <td>5.5</td>\n",
       "      <td>144.311094</td>\n",
       "    </tr>\n",
       "    <tr>\n",
       "      <th>LEVEL II</th>\n",
       "      <td>18</td>\n",
       "      <td>88500.0</td>\n",
       "      <td>2.5</td>\n",
       "      <td>178.5</td>\n",
       "    </tr>\n",
       "    <tr>\n",
       "      <th>LEVEL III</th>\n",
       "      <td>5</td>\n",
       "      <td>96900.0</td>\n",
       "      <td>8.0</td>\n",
       "      <td>90.0</td>\n",
       "    </tr>\n",
       "    <tr>\n",
       "      <th>LEVEL IV</th>\n",
       "      <td>9</td>\n",
       "      <td>110000.0</td>\n",
       "      <td>11.0</td>\n",
       "      <td>132.518229</td>\n",
       "    </tr>\n",
       "    <tr>\n",
       "      <th rowspan=\"4\" valign=\"top\">FL</th>\n",
       "      <th>LEVEL I</th>\n",
       "      <td>5</td>\n",
       "      <td>98800.0</td>\n",
       "      <td>8.0</td>\n",
       "      <td>98.0</td>\n",
       "    </tr>\n",
       "    <tr>\n",
       "      <th>LEVEL II</th>\n",
       "      <td>12</td>\n",
       "      <td>118195.0</td>\n",
       "      <td>9.0</td>\n",
       "      <td>132.0</td>\n",
       "    </tr>\n",
       "    <tr>\n",
       "      <th>LEVEL III</th>\n",
       "      <td>6</td>\n",
       "      <td>136250.0</td>\n",
       "      <td>17.0</td>\n",
       "      <td>75.0</td>\n",
       "    </tr>\n",
       "    <tr>\n",
       "      <th>LEVEL IV</th>\n",
       "      <td>19</td>\n",
       "      <td>138352.0</td>\n",
       "      <td>12.0</td>\n",
       "      <td>102.0</td>\n",
       "    </tr>\n",
       "    <tr>\n",
       "      <th rowspan=\"4\" valign=\"top\">GA</th>\n",
       "      <th>LEVEL I</th>\n",
       "      <td>6</td>\n",
       "      <td>105000.0</td>\n",
       "      <td>4.5</td>\n",
       "      <td>159.0</td>\n",
       "    </tr>\n",
       "    <tr>\n",
       "      <th>LEVEL II</th>\n",
       "      <td>14</td>\n",
       "      <td>109000.0</td>\n",
       "      <td>3.5</td>\n",
       "      <td>151.5</td>\n",
       "    </tr>\n",
       "    <tr>\n",
       "      <th>LEVEL III</th>\n",
       "      <td>3</td>\n",
       "      <td>112500.0</td>\n",
       "      <td>7.0</td>\n",
       "      <td>160.0</td>\n",
       "    </tr>\n",
       "    <tr>\n",
       "      <th>LEVEL IV</th>\n",
       "      <td>7</td>\n",
       "      <td>127379.0</td>\n",
       "      <td>14.0</td>\n",
       "      <td>145.498576</td>\n",
       "    </tr>\n",
       "    <tr>\n",
       "      <th rowspan=\"4\" valign=\"top\">VA</th>\n",
       "      <th>LEVEL I</th>\n",
       "      <td>8</td>\n",
       "      <td>110007.0</td>\n",
       "      <td>8.5</td>\n",
       "      <td>180.5</td>\n",
       "    </tr>\n",
       "    <tr>\n",
       "      <th>LEVEL II</th>\n",
       "      <td>5</td>\n",
       "      <td>127525.0</td>\n",
       "      <td>10.0</td>\n",
       "      <td>139.0</td>\n",
       "    </tr>\n",
       "    <tr>\n",
       "      <th>LEVEL III</th>\n",
       "      <td>5</td>\n",
       "      <td>131800.0</td>\n",
       "      <td>15.0</td>\n",
       "      <td>87.0</td>\n",
       "    </tr>\n",
       "    <tr>\n",
       "      <th>LEVEL IV</th>\n",
       "      <td>2</td>\n",
       "      <td>126050.0</td>\n",
       "      <td>7.0</td>\n",
       "      <td>87.0</td>\n",
       "    </tr>\n",
       "    <tr>\n",
       "      <th rowspan=\"4\" valign=\"top\">NJ</th>\n",
       "      <th>LEVEL I</th>\n",
       "      <td>0</td>\n",
       "      <td>NaN</td>\n",
       "      <td>NaN</td>\n",
       "      <td>NaN</td>\n",
       "    </tr>\n",
       "    <tr>\n",
       "      <th>LEVEL II</th>\n",
       "      <td>0</td>\n",
       "      <td>NaN</td>\n",
       "      <td>NaN</td>\n",
       "      <td>NaN</td>\n",
       "    </tr>\n",
       "    <tr>\n",
       "      <th>LEVEL III</th>\n",
       "      <td>8</td>\n",
       "      <td>120853.0</td>\n",
       "      <td>11.0</td>\n",
       "      <td>89.5</td>\n",
       "    </tr>\n",
       "    <tr>\n",
       "      <th>LEVEL IV</th>\n",
       "      <td>8</td>\n",
       "      <td>158227.0</td>\n",
       "      <td>14.0</td>\n",
       "      <td>126.5</td>\n",
       "    </tr>\n",
       "    <tr>\n",
       "      <th rowspan=\"4\" valign=\"top\">IL</th>\n",
       "      <th>LEVEL I</th>\n",
       "      <td>1</td>\n",
       "      <td>160550.0</td>\n",
       "      <td>18.0</td>\n",
       "      <td>104.0</td>\n",
       "    </tr>\n",
       "    <tr>\n",
       "      <th>LEVEL II</th>\n",
       "      <td>9</td>\n",
       "      <td>109076.0</td>\n",
       "      <td>6.0</td>\n",
       "      <td>87.0</td>\n",
       "    </tr>\n",
       "    <tr>\n",
       "      <th>LEVEL III</th>\n",
       "      <td>0</td>\n",
       "      <td>NaN</td>\n",
       "      <td>NaN</td>\n",
       "      <td>NaN</td>\n",
       "    </tr>\n",
       "    <tr>\n",
       "      <th>LEVEL IV</th>\n",
       "      <td>5</td>\n",
       "      <td>142700.0</td>\n",
       "      <td>13.0</td>\n",
       "      <td>156.0</td>\n",
       "    </tr>\n",
       "    <tr>\n",
       "      <th rowspan=\"4\" valign=\"top\">PA</th>\n",
       "      <th>LEVEL I</th>\n",
       "      <td>1</td>\n",
       "      <td>142080.0</td>\n",
       "      <td>7.0</td>\n",
       "      <td>84.0</td>\n",
       "    </tr>\n",
       "    <tr>\n",
       "      <th>LEVEL II</th>\n",
       "      <td>9</td>\n",
       "      <td>105000.0</td>\n",
       "      <td>5.0</td>\n",
       "      <td>129.672928</td>\n",
       "    </tr>\n",
       "    <tr>\n",
       "      <th>LEVEL III</th>\n",
       "      <td>1</td>\n",
       "      <td>128200.0</td>\n",
       "      <td>5.0</td>\n",
       "      <td>106.0</td>\n",
       "    </tr>\n",
       "    <tr>\n",
       "      <th>LEVEL IV</th>\n",
       "      <td>1</td>\n",
       "      <td>110575.0</td>\n",
       "      <td>NaN</td>\n",
       "      <td>149.0</td>\n",
       "    </tr>\n",
       "    <tr>\n",
       "      <th rowspan=\"4\" valign=\"top\">CO</th>\n",
       "      <th>LEVEL I</th>\n",
       "      <td>1</td>\n",
       "      <td>125000.0</td>\n",
       "      <td>1.0</td>\n",
       "      <td>160.0</td>\n",
       "    </tr>\n",
       "    <tr>\n",
       "      <th>LEVEL II</th>\n",
       "      <td>6</td>\n",
       "      <td>122532.68</td>\n",
       "      <td>4.0</td>\n",
       "      <td>137.5</td>\n",
       "    </tr>\n",
       "    <tr>\n",
       "      <th>LEVEL III</th>\n",
       "      <td>2</td>\n",
       "      <td>150000.0</td>\n",
       "      <td>8.5</td>\n",
       "      <td>186.0</td>\n",
       "    </tr>\n",
       "    <tr>\n",
       "      <th>LEVEL IV</th>\n",
       "      <td>0</td>\n",
       "      <td>NaN</td>\n",
       "      <td>NaN</td>\n",
       "      <td>NaN</td>\n",
       "    </tr>\n",
       "    <tr>\n",
       "      <th rowspan=\"4\" valign=\"top\">NV</th>\n",
       "      <th>LEVEL I</th>\n",
       "      <td>2</td>\n",
       "      <td>86453.0</td>\n",
       "      <td>2.0</td>\n",
       "      <td>163.5</td>\n",
       "    </tr>\n",
       "    <tr>\n",
       "      <th>LEVEL II</th>\n",
       "      <td>7</td>\n",
       "      <td>114000.0</td>\n",
       "      <td>6.0</td>\n",
       "      <td>115.0</td>\n",
       "    </tr>\n",
       "    <tr>\n",
       "      <th>LEVEL III</th>\n",
       "      <td>0</td>\n",
       "      <td>NaN</td>\n",
       "      <td>NaN</td>\n",
       "      <td>NaN</td>\n",
       "    </tr>\n",
       "    <tr>\n",
       "      <th>LEVEL IV</th>\n",
       "      <td>0</td>\n",
       "      <td>NaN</td>\n",
       "      <td>NaN</td>\n",
       "      <td>NaN</td>\n",
       "    </tr>\n",
       "  </tbody>\n",
       "</table>\n",
       "</div>"
      ],
      "text/plain": [
       "                TOTAL APPLICATIONS MEDIAN WAGE MEDIAN YRS POST GRAD  \\\n",
       "STATE PW LEVEL                                                        \n",
       "WA    LEVEL I                 4334    117116.5                  3.0   \n",
       "      LEVEL II                6667    120500.0                  4.0   \n",
       "      LEVEL III               2246    135000.0                 10.0   \n",
       "      LEVEL IV                1543    154315.0                 12.0   \n",
       "CA    LEVEL I                  190    130954.0                  4.0   \n",
       "      LEVEL II                 465    135500.0                  4.0   \n",
       "      LEVEL III                181    155147.0                  9.0   \n",
       "      LEVEL IV                 123    175000.0                 12.0   \n",
       "TX    LEVEL I                   46     93750.0                  7.0   \n",
       "      LEVEL II                  83    104832.0                  6.0   \n",
       "      LEVEL III                 56    105400.0                 12.0   \n",
       "      LEVEL IV                  36    118500.0                 13.0   \n",
       "NC    LEVEL I                   32     99050.0                  4.5   \n",
       "      LEVEL II                 124    105500.0                  3.0   \n",
       "      LEVEL III                 35    130300.0                 10.0   \n",
       "      LEVEL IV                  25    135470.0                 12.0   \n",
       "MA    LEVEL I                   43    117980.0                  2.0   \n",
       "      LEVEL II                  53    116000.0                  3.0   \n",
       "      LEVEL III                 27    130000.0                 11.0   \n",
       "      LEVEL IV                   8    159040.0                  7.5   \n",
       "NY    LEVEL I                   19    135260.0                  5.0   \n",
       "      LEVEL II                  35    135000.0                  6.0   \n",
       "      LEVEL III                 28    147212.5                 11.0   \n",
       "      LEVEL IV                  25    162000.0                 11.0   \n",
       "ND    LEVEL I                   16     87080.0                  5.5   \n",
       "      LEVEL II                  18     88500.0                  2.5   \n",
       "      LEVEL III                  5     96900.0                  8.0   \n",
       "      LEVEL IV                   9    110000.0                 11.0   \n",
       "FL    LEVEL I                    5     98800.0                  8.0   \n",
       "      LEVEL II                  12    118195.0                  9.0   \n",
       "      LEVEL III                  6    136250.0                 17.0   \n",
       "      LEVEL IV                  19    138352.0                 12.0   \n",
       "GA    LEVEL I                    6    105000.0                  4.5   \n",
       "      LEVEL II                  14    109000.0                  3.5   \n",
       "      LEVEL III                  3    112500.0                  7.0   \n",
       "      LEVEL IV                   7    127379.0                 14.0   \n",
       "VA    LEVEL I                    8    110007.0                  8.5   \n",
       "      LEVEL II                   5    127525.0                 10.0   \n",
       "      LEVEL III                  5    131800.0                 15.0   \n",
       "      LEVEL IV                   2    126050.0                  7.0   \n",
       "NJ    LEVEL I                    0         NaN                  NaN   \n",
       "      LEVEL II                   0         NaN                  NaN   \n",
       "      LEVEL III                  8    120853.0                 11.0   \n",
       "      LEVEL IV                   8    158227.0                 14.0   \n",
       "IL    LEVEL I                    1    160550.0                 18.0   \n",
       "      LEVEL II                   9    109076.0                  6.0   \n",
       "      LEVEL III                  0         NaN                  NaN   \n",
       "      LEVEL IV                   5    142700.0                 13.0   \n",
       "PA    LEVEL I                    1    142080.0                  7.0   \n",
       "      LEVEL II                   9    105000.0                  5.0   \n",
       "      LEVEL III                  1    128200.0                  5.0   \n",
       "      LEVEL IV                   1    110575.0                  NaN   \n",
       "CO    LEVEL I                    1    125000.0                  1.0   \n",
       "      LEVEL II                   6   122532.68                  4.0   \n",
       "      LEVEL III                  2    150000.0                  8.5   \n",
       "      LEVEL IV                   0         NaN                  NaN   \n",
       "NV    LEVEL I                    2     86453.0                  2.0   \n",
       "      LEVEL II                   7    114000.0                  6.0   \n",
       "      LEVEL III                  0         NaN                  NaN   \n",
       "      LEVEL IV                   0         NaN                  NaN   \n",
       "\n",
       "                MEDIAN DAYS TO DECIDE  \n",
       "STATE PW LEVEL                         \n",
       "WA    LEVEL I                   150.0  \n",
       "      LEVEL II                  157.0  \n",
       "      LEVEL III                 138.0  \n",
       "      LEVEL IV                  153.0  \n",
       "CA    LEVEL I              121.169103  \n",
       "      LEVEL II                  145.0  \n",
       "      LEVEL III                 145.0  \n",
       "      LEVEL IV                  140.0  \n",
       "TX    LEVEL I              137.600411  \n",
       "      LEVEL II                  148.0  \n",
       "      LEVEL III             113.28522  \n",
       "      LEVEL IV                  145.0  \n",
       "NC    LEVEL I                   153.0  \n",
       "      LEVEL II                  156.0  \n",
       "      LEVEL III                 153.0  \n",
       "      LEVEL IV                  127.0  \n",
       "MA    LEVEL I                   157.0  \n",
       "      LEVEL II                  153.0  \n",
       "      LEVEL III                 103.0  \n",
       "      LEVEL IV              96.683322  \n",
       "NY    LEVEL I                    92.0  \n",
       "      LEVEL II                  143.0  \n",
       "      LEVEL III                 120.0  \n",
       "      LEVEL IV             121.416991  \n",
       "ND    LEVEL I              144.311094  \n",
       "      LEVEL II                  178.5  \n",
       "      LEVEL III                  90.0  \n",
       "      LEVEL IV             132.518229  \n",
       "FL    LEVEL I                    98.0  \n",
       "      LEVEL II                  132.0  \n",
       "      LEVEL III                  75.0  \n",
       "      LEVEL IV                  102.0  \n",
       "GA    LEVEL I                   159.0  \n",
       "      LEVEL II                  151.5  \n",
       "      LEVEL III                 160.0  \n",
       "      LEVEL IV             145.498576  \n",
       "VA    LEVEL I                   180.5  \n",
       "      LEVEL II                  139.0  \n",
       "      LEVEL III                  87.0  \n",
       "      LEVEL IV                   87.0  \n",
       "NJ    LEVEL I                     NaN  \n",
       "      LEVEL II                    NaN  \n",
       "      LEVEL III                  89.5  \n",
       "      LEVEL IV                  126.5  \n",
       "IL    LEVEL I                   104.0  \n",
       "      LEVEL II                   87.0  \n",
       "      LEVEL III                   NaN  \n",
       "      LEVEL IV                  156.0  \n",
       "PA    LEVEL I                    84.0  \n",
       "      LEVEL II             129.672928  \n",
       "      LEVEL III                 106.0  \n",
       "      LEVEL IV                  149.0  \n",
       "CO    LEVEL I                   160.0  \n",
       "      LEVEL II                  137.5  \n",
       "      LEVEL III                 186.0  \n",
       "      LEVEL IV                    NaN  \n",
       "NV    LEVEL I                   163.5  \n",
       "      LEVEL II                  115.0  \n",
       "      LEVEL III                   NaN  \n",
       "      LEVEL IV                    NaN  "
      ]
     },
     "execution_count": 138,
     "metadata": {},
     "output_type": "execute_result"
    }
   ],
   "source": [
    "# DIVING DEEPER INTO MICROSOFT, AMAZON, GOOGLE, APPLE (COMPANY VARIABLE CAN BE CHANGED FOR ANY COMPANY)\n",
    "#ANCHORED BY STATE: PW SKILL,APPLICATIONS, MEDIAN WAGE, YRS POST GRADE, MEDIAN DAYS\n",
    "\n",
    "company = \"MICROSOFT\"\n",
    "# CHANGE THIS FOR ANY COMPANY\n",
    "\n",
    "# MEDIAN WAGE, MEDIAN YEARS AFTER GRADUATING, MEDIAN DAYS TO DECIDE : FOR EACH STATE IN THE TOP 15 OF THE COMPANY AND BY PW LEVEL\n",
    "topstate = df[df[\"EMPLOYER_NAME\"] == company][\"WORKSITE_STATE\"].value_counts()[:15].index.tolist()\n",
    "pwskill = df[\"PW_SKILL_LEVEL\"].dropna().unique().tolist()\n",
    "pwskill.sort()\n",
    "\n",
    "\n",
    "statelist = []\n",
    "pwlist = pwskill*len(topstate)\n",
    "apps = []\n",
    "medwage = []\n",
    "yrsgrad = []\n",
    "meddays = []\n",
    "\n",
    "\n",
    "for x in range(len(topstate)):\n",
    "    s = (topstate[x]+\",\")*len(pwskill)\n",
    "    s = \"\".join(s).split(\",\")\n",
    "    s = list(filter((\"\").__ne__, s))\n",
    "    statelist.append(s) \n",
    "for x in range(len(topstate)):\n",
    "    for j in range(len(pwskill)):\n",
    "        a = len(df[(df[\"EMPLOYER_NAME\"] == company)&(df[\"WORKSITE_STATE\"] == topstate[x])][df[(df[\"EMPLOYER_NAME\"] == company)&(df[\"WORKSITE_STATE\"] == topstate[x])][\"PW_SKILL_LEVEL\"]==pwskill[j]])\n",
    "        apps.append(a)\n",
    "        b = df[(df[\"EMPLOYER_NAME\"] == company)&(df[\"WORKSITE_STATE\"] == topstate[x])][df[(df[\"EMPLOYER_NAME\"] == company)&(df[\"WORKSITE_STATE\"] == topstate[x])][\"PW_SKILL_LEVEL\"]==pwskill[j]][\"WO_A\"].median()\n",
    "        medwage.append(b)\n",
    "        c = df[(df[\"EMPLOYER_NAME\"] == company)&(df[\"WORKSITE_STATE\"] == topstate[x])][df[(df[\"EMPLOYER_NAME\"] == company)&(df[\"WORKSITE_STATE\"] == topstate[x])][\"PW_SKILL_LEVEL\"]==pwskill[j]][\"YRSPOSTGRAD\"].median()\n",
    "        yrsgrad.append(c)\n",
    "        d = df[(df[\"EMPLOYER_NAME\"] == company)&(df[\"WORKSITE_STATE\"] == topstate[x])][df[(df[\"EMPLOYER_NAME\"] == company)&(df[\"WORKSITE_STATE\"] == topstate[x])][\"PW_SKILL_LEVEL\"]==pwskill[j]][\"DAYS_TO_DECIDE\"].median()\n",
    "        meddays.append(d)\n",
    "empstatedf = pd.DataFrame([sum(statelist, []),pwlist,apps,medwage,yrsgrad,meddays]).transpose()\n",
    "empstatedf.columns = [\"STATE\",\"PW LEVEL\", \"TOTAL APPLICATIONS\",\"MEDIAN WAGE\",\"MEDIAN YRS POST GRAD\",\"MEDIAN DAYS TO DECIDE\"]\n",
    "empstatedf = empstatedf.set_index([\"STATE\",\"PW LEVEL\"])\n",
    "empstatedf"
   ]
  },
  {
   "cell_type": "code",
   "execution_count": 139,
   "id": "5109f715",
   "metadata": {
    "scrolled": false
   },
   "outputs": [
    {
     "data": {
      "text/html": [
       "<div>\n",
       "<style scoped>\n",
       "    .dataframe tbody tr th:only-of-type {\n",
       "        vertical-align: middle;\n",
       "    }\n",
       "\n",
       "    .dataframe tbody tr th {\n",
       "        vertical-align: top;\n",
       "    }\n",
       "\n",
       "    .dataframe thead th {\n",
       "        text-align: right;\n",
       "    }\n",
       "</style>\n",
       "<table border=\"1\" class=\"dataframe\">\n",
       "  <thead>\n",
       "    <tr style=\"text-align: right;\">\n",
       "      <th></th>\n",
       "      <th></th>\n",
       "      <th>TOTAL APPLICATIONS</th>\n",
       "      <th>MEDIAN WAGE</th>\n",
       "      <th>MEDIAN YRS POST GRAD</th>\n",
       "      <th>MEDIAN DAYS TO DECIDE</th>\n",
       "    </tr>\n",
       "    <tr>\n",
       "      <th>STATE</th>\n",
       "      <th>EDU LEVEL</th>\n",
       "      <th></th>\n",
       "      <th></th>\n",
       "      <th></th>\n",
       "      <th></th>\n",
       "    </tr>\n",
       "  </thead>\n",
       "  <tbody>\n",
       "    <tr>\n",
       "      <th rowspan=\"5\" valign=\"top\">WA</th>\n",
       "      <th>HIGH SCHOOL</th>\n",
       "      <td>1</td>\n",
       "      <td>136300.0</td>\n",
       "      <td>21.0</td>\n",
       "      <td>257.0</td>\n",
       "    </tr>\n",
       "    <tr>\n",
       "      <th>ASSOCIATE'S</th>\n",
       "      <td>7</td>\n",
       "      <td>130000.0</td>\n",
       "      <td>10.0</td>\n",
       "      <td>187.0</td>\n",
       "    </tr>\n",
       "    <tr>\n",
       "      <th>BACHELOR'S</th>\n",
       "      <td>5698</td>\n",
       "      <td>124790.0</td>\n",
       "      <td>7.0</td>\n",
       "      <td>149.0</td>\n",
       "    </tr>\n",
       "    <tr>\n",
       "      <th>MASTER'S</th>\n",
       "      <td>8270</td>\n",
       "      <td>121700.0</td>\n",
       "      <td>4.0</td>\n",
       "      <td>155.0</td>\n",
       "    </tr>\n",
       "    <tr>\n",
       "      <th>DOCTORATE</th>\n",
       "      <td>0</td>\n",
       "      <td>NaN</td>\n",
       "      <td>NaN</td>\n",
       "      <td>NaN</td>\n",
       "    </tr>\n",
       "    <tr>\n",
       "      <th>...</th>\n",
       "      <th>...</th>\n",
       "      <td>...</td>\n",
       "      <td>...</td>\n",
       "      <td>...</td>\n",
       "      <td>...</td>\n",
       "    </tr>\n",
       "    <tr>\n",
       "      <th rowspan=\"5\" valign=\"top\">NV</th>\n",
       "      <th>ASSOCIATE'S</th>\n",
       "      <td>None</td>\n",
       "      <td>None</td>\n",
       "      <td>None</td>\n",
       "      <td>None</td>\n",
       "    </tr>\n",
       "    <tr>\n",
       "      <th>BACHELOR'S</th>\n",
       "      <td>None</td>\n",
       "      <td>None</td>\n",
       "      <td>None</td>\n",
       "      <td>None</td>\n",
       "    </tr>\n",
       "    <tr>\n",
       "      <th>MASTER'S</th>\n",
       "      <td>None</td>\n",
       "      <td>None</td>\n",
       "      <td>None</td>\n",
       "      <td>None</td>\n",
       "    </tr>\n",
       "    <tr>\n",
       "      <th>DOCTORATE</th>\n",
       "      <td>None</td>\n",
       "      <td>None</td>\n",
       "      <td>None</td>\n",
       "      <td>None</td>\n",
       "    </tr>\n",
       "    <tr>\n",
       "      <th>OTHER</th>\n",
       "      <td>None</td>\n",
       "      <td>None</td>\n",
       "      <td>None</td>\n",
       "      <td>None</td>\n",
       "    </tr>\n",
       "  </tbody>\n",
       "</table>\n",
       "<p>90 rows × 4 columns</p>\n",
       "</div>"
      ],
      "text/plain": [
       "                  TOTAL APPLICATIONS MEDIAN WAGE MEDIAN YRS POST GRAD  \\\n",
       "STATE EDU LEVEL                                                         \n",
       "WA    HIGH SCHOOL                  1    136300.0                 21.0   \n",
       "      ASSOCIATE'S                  7    130000.0                 10.0   \n",
       "      BACHELOR'S                5698    124790.0                  7.0   \n",
       "      MASTER'S                  8270    121700.0                  4.0   \n",
       "      DOCTORATE                    0         NaN                  NaN   \n",
       "...                              ...         ...                  ...   \n",
       "NV    ASSOCIATE'S               None        None                 None   \n",
       "      BACHELOR'S                None        None                 None   \n",
       "      MASTER'S                  None        None                 None   \n",
       "      DOCTORATE                 None        None                 None   \n",
       "      OTHER                     None        None                 None   \n",
       "\n",
       "                  MEDIAN DAYS TO DECIDE  \n",
       "STATE EDU LEVEL                          \n",
       "WA    HIGH SCHOOL                 257.0  \n",
       "      ASSOCIATE'S                 187.0  \n",
       "      BACHELOR'S                  149.0  \n",
       "      MASTER'S                    155.0  \n",
       "      DOCTORATE                     NaN  \n",
       "...                                 ...  \n",
       "NV    ASSOCIATE'S                  None  \n",
       "      BACHELOR'S                   None  \n",
       "      MASTER'S                     None  \n",
       "      DOCTORATE                    None  \n",
       "      OTHER                        None  \n",
       "\n",
       "[90 rows x 4 columns]"
      ]
     },
     "execution_count": 139,
     "metadata": {},
     "output_type": "execute_result"
    }
   ],
   "source": [
    "# ANCHORED BY STATE: EDU LEVEL,APPLICATIONS, MEDIAN WAGE, YRS POST GRADE, MEDIAN DAYS\n",
    "# MEDIAN WAGE, MEDIAN YEARS AFTER GRADUATING, MEDIAN DAYS TO DECIDE : FOR EACH STATE IN THE TOP 15 OF THE COMPANY AND BY EDU LEVEL\n",
    "edu = df[\"FOREIGN_WORKER_EDUCATION\"].dropna().unique().tolist()\n",
    "edu[0],edu[1],edu[2],edu[3],edu[4],edu[5] = edu[3],edu[5],edu[0],edu[2],edu[1],edu[4]\n",
    "\n",
    "statelist = []\n",
    "edulist = edu*len(topstate)\n",
    "apps = []\n",
    "medwage = []\n",
    "yrsgrad = []\n",
    "meddays = []\n",
    "\n",
    "\n",
    "for x in range(len(topstate)):\n",
    "    s = (topstate[x]+\",\")*len(edu)\n",
    "    s = \"\".join(s).split(\",\")\n",
    "    s = list(filter((\"\").__ne__, s))\n",
    "    statelist.append(s) \n",
    "for x in range(len(topstate)):\n",
    "    for j in range(len(pwskill)):\n",
    "        a = len(df[(df[\"EMPLOYER_NAME\"] == company)&(df[\"WORKSITE_STATE\"] == topstate[x])][df[(df[\"EMPLOYER_NAME\"] == company)&(df[\"WORKSITE_STATE\"] == topstate[x])][\"FOREIGN_WORKER_EDUCATION\"]==edu[j]])\n",
    "        apps.append(a)\n",
    "        b = df[(df[\"EMPLOYER_NAME\"] == company)&(df[\"WORKSITE_STATE\"] == topstate[x])][df[(df[\"EMPLOYER_NAME\"] == company)&(df[\"WORKSITE_STATE\"] == topstate[x])][\"FOREIGN_WORKER_EDUCATION\"]==edu[j]][\"WO_A\"].median()\n",
    "        medwage.append(b)\n",
    "        c = df[(df[\"EMPLOYER_NAME\"] == company)&(df[\"WORKSITE_STATE\"] == topstate[x])][df[(df[\"EMPLOYER_NAME\"] == company)&(df[\"WORKSITE_STATE\"] == topstate[x])][\"FOREIGN_WORKER_EDUCATION\"]==edu[j]][\"YRSPOSTGRAD\"].median()\n",
    "        yrsgrad.append(c)\n",
    "        d = df[(df[\"EMPLOYER_NAME\"] == company)&(df[\"WORKSITE_STATE\"] == topstate[x])][df[(df[\"EMPLOYER_NAME\"] == company)&(df[\"WORKSITE_STATE\"] == topstate[x])][\"FOREIGN_WORKER_EDUCATION\"]==edu[j]][\"DAYS_TO_DECIDE\"].median()\n",
    "        meddays.append(d)\n",
    "empstatedf1 = pd.DataFrame([sum(statelist, []),edulist,apps,medwage,yrsgrad,meddays]).transpose()\n",
    "empstatedf1.columns = [\"STATE\",\"EDU LEVEL\", \"TOTAL APPLICATIONS\",\"MEDIAN WAGE\",\"MEDIAN YRS POST GRAD\",\"MEDIAN DAYS TO DECIDE\"]\n",
    "empstatedf1 = empstatedf1.set_index([\"STATE\",\"EDU LEVEL\"])\n",
    "empstatedf1"
   ]
  },
  {
   "cell_type": "code",
   "execution_count": 140,
   "id": "8278f5df",
   "metadata": {},
   "outputs": [
    {
     "data": {
      "text/html": [
       "<div>\n",
       "<style scoped>\n",
       "    .dataframe tbody tr th:only-of-type {\n",
       "        vertical-align: middle;\n",
       "    }\n",
       "\n",
       "    .dataframe tbody tr th {\n",
       "        vertical-align: top;\n",
       "    }\n",
       "\n",
       "    .dataframe thead th {\n",
       "        text-align: right;\n",
       "    }\n",
       "</style>\n",
       "<table border=\"1\" class=\"dataframe\">\n",
       "  <thead>\n",
       "    <tr style=\"text-align: right;\">\n",
       "      <th></th>\n",
       "      <th>ASTATE</th>\n",
       "      <th>COUNT ASTATE</th>\n",
       "      <th>SSTATE</th>\n",
       "      <th>COUNT SSTATE</th>\n",
       "    </tr>\n",
       "  </thead>\n",
       "  <tbody>\n",
       "    <tr>\n",
       "      <th>0</th>\n",
       "      <td>CA</td>\n",
       "      <td>173279</td>\n",
       "      <td>CA</td>\n",
       "      <td>162279</td>\n",
       "    </tr>\n",
       "    <tr>\n",
       "      <th>1</th>\n",
       "      <td>TX</td>\n",
       "      <td>72712</td>\n",
       "      <td>TX</td>\n",
       "      <td>67234</td>\n",
       "    </tr>\n",
       "    <tr>\n",
       "      <th>2</th>\n",
       "      <td>NY</td>\n",
       "      <td>48586</td>\n",
       "      <td>WA</td>\n",
       "      <td>45500</td>\n",
       "    </tr>\n",
       "    <tr>\n",
       "      <th>3</th>\n",
       "      <td>NJ</td>\n",
       "      <td>48252</td>\n",
       "      <td>NY</td>\n",
       "      <td>45215</td>\n",
       "    </tr>\n",
       "    <tr>\n",
       "      <th>4</th>\n",
       "      <td>WA</td>\n",
       "      <td>47163</td>\n",
       "      <td>NJ</td>\n",
       "      <td>44466</td>\n",
       "    </tr>\n",
       "    <tr>\n",
       "      <th>5</th>\n",
       "      <td>IL</td>\n",
       "      <td>28330</td>\n",
       "      <td>IL</td>\n",
       "      <td>26280</td>\n",
       "    </tr>\n",
       "    <tr>\n",
       "      <th>6</th>\n",
       "      <td>MA</td>\n",
       "      <td>22713</td>\n",
       "      <td>MA</td>\n",
       "      <td>21352</td>\n",
       "    </tr>\n",
       "    <tr>\n",
       "      <th>7</th>\n",
       "      <td>MI</td>\n",
       "      <td>21166</td>\n",
       "      <td>MI</td>\n",
       "      <td>19805</td>\n",
       "    </tr>\n",
       "    <tr>\n",
       "      <th>8</th>\n",
       "      <td>PA</td>\n",
       "      <td>20825</td>\n",
       "      <td>PA</td>\n",
       "      <td>19713</td>\n",
       "    </tr>\n",
       "    <tr>\n",
       "      <th>9</th>\n",
       "      <td>FL</td>\n",
       "      <td>18626</td>\n",
       "      <td>VA</td>\n",
       "      <td>16494</td>\n",
       "    </tr>\n",
       "    <tr>\n",
       "      <th>10</th>\n",
       "      <td>VA</td>\n",
       "      <td>18500</td>\n",
       "      <td>FL</td>\n",
       "      <td>16108</td>\n",
       "    </tr>\n",
       "    <tr>\n",
       "      <th>11</th>\n",
       "      <td>GA</td>\n",
       "      <td>18270</td>\n",
       "      <td>GA</td>\n",
       "      <td>15501</td>\n",
       "    </tr>\n",
       "    <tr>\n",
       "      <th>12</th>\n",
       "      <td>NC</td>\n",
       "      <td>12282</td>\n",
       "      <td>NC</td>\n",
       "      <td>11033</td>\n",
       "    </tr>\n",
       "    <tr>\n",
       "      <th>13</th>\n",
       "      <td>OH</td>\n",
       "      <td>9626</td>\n",
       "      <td>OH</td>\n",
       "      <td>8801</td>\n",
       "    </tr>\n",
       "    <tr>\n",
       "      <th>14</th>\n",
       "      <td>MD</td>\n",
       "      <td>8344</td>\n",
       "      <td>MD</td>\n",
       "      <td>7333</td>\n",
       "    </tr>\n",
       "  </tbody>\n",
       "</table>\n",
       "</div>"
      ],
      "text/plain": [
       "   ASTATE  COUNT ASTATE SSTATE  COUNT SSTATE\n",
       "0      CA        173279     CA        162279\n",
       "1      TX         72712     TX         67234\n",
       "2      NY         48586     WA         45500\n",
       "3      NJ         48252     NY         45215\n",
       "4      WA         47163     NJ         44466\n",
       "5      IL         28330     IL         26280\n",
       "6      MA         22713     MA         21352\n",
       "7      MI         21166     MI         19805\n",
       "8      PA         20825     PA         19713\n",
       "9      FL         18626     VA         16494\n",
       "10     VA         18500     FL         16108\n",
       "11     GA         18270     GA         15501\n",
       "12     NC         12282     NC         11033\n",
       "13     OH          9626     OH          8801\n",
       "14     MD          8344     MD          7333"
      ]
     },
     "execution_count": 140,
     "metadata": {},
     "output_type": "execute_result"
    }
   ],
   "source": [
    "# WHERE ARE EMPLOYERS HEADQUARTED? \n",
    "# TOP STATES WHERE EMPLOYERS HQ AND SPONSOR GREEN CARDS\n",
    "allHQ = pd.DataFrame(df[\"EMPLOYER_STATE_PROVINCE\"].value_counts()[:15]).reset_index()\n",
    "allHQ.columns = [\"ASTATE\",\"COUNT ASTATE\"]\n",
    "sucHQ = pd.DataFrame(df[df[\"CASE_STATUS\"]==1][\"EMPLOYER_STATE_PROVINCE\"].value_counts()[:15]).reset_index()\n",
    "sucHQ.columns = [\"SSTATE\",\"COUNT SSTATE\"]\n",
    "pd.concat([allHQ,sucHQ], axis = 1)"
   ]
  },
  {
   "cell_type": "code",
   "execution_count": 141,
   "id": "bc736ab9",
   "metadata": {
    "scrolled": true
   },
   "outputs": [
    {
     "data": {
      "text/html": [
       "<div>\n",
       "<style scoped>\n",
       "    .dataframe tbody tr th:only-of-type {\n",
       "        vertical-align: middle;\n",
       "    }\n",
       "\n",
       "    .dataframe tbody tr th {\n",
       "        vertical-align: top;\n",
       "    }\n",
       "\n",
       "    .dataframe thead th {\n",
       "        text-align: right;\n",
       "    }\n",
       "</style>\n",
       "<table border=\"1\" class=\"dataframe\">\n",
       "  <thead>\n",
       "    <tr style=\"text-align: right;\">\n",
       "      <th></th>\n",
       "      <th></th>\n",
       "      <th>APPLICATIONS</th>\n",
       "      <th>% OF TOTAL APPLICATIONS</th>\n",
       "    </tr>\n",
       "    <tr>\n",
       "      <th>EMPLOYER</th>\n",
       "      <th>STATE</th>\n",
       "      <th></th>\n",
       "      <th></th>\n",
       "    </tr>\n",
       "  </thead>\n",
       "  <tbody>\n",
       "    <tr>\n",
       "      <th rowspan=\"5\" valign=\"top\">MICROSOFT</th>\n",
       "      <th>CA</th>\n",
       "      <td>0</td>\n",
       "      <td>0.0</td>\n",
       "    </tr>\n",
       "    <tr>\n",
       "      <th>TX</th>\n",
       "      <td>0</td>\n",
       "      <td>0.0</td>\n",
       "    </tr>\n",
       "    <tr>\n",
       "      <th>NY</th>\n",
       "      <td>0</td>\n",
       "      <td>0.0</td>\n",
       "    </tr>\n",
       "    <tr>\n",
       "      <th>NJ</th>\n",
       "      <td>0</td>\n",
       "      <td>0.0</td>\n",
       "    </tr>\n",
       "    <tr>\n",
       "      <th>WA</th>\n",
       "      <td>16958</td>\n",
       "      <td>35.956152</td>\n",
       "    </tr>\n",
       "    <tr>\n",
       "      <th rowspan=\"5\" valign=\"top\">INTEL</th>\n",
       "      <th>CA</th>\n",
       "      <td>12054</td>\n",
       "      <td>6.956411</td>\n",
       "    </tr>\n",
       "    <tr>\n",
       "      <th>TX</th>\n",
       "      <td>0</td>\n",
       "      <td>0.0</td>\n",
       "    </tr>\n",
       "    <tr>\n",
       "      <th>NY</th>\n",
       "      <td>0</td>\n",
       "      <td>0.0</td>\n",
       "    </tr>\n",
       "    <tr>\n",
       "      <th>NJ</th>\n",
       "      <td>0</td>\n",
       "      <td>0.0</td>\n",
       "    </tr>\n",
       "    <tr>\n",
       "      <th>WA</th>\n",
       "      <td>0</td>\n",
       "      <td>0.0</td>\n",
       "    </tr>\n",
       "    <tr>\n",
       "      <th rowspan=\"5\" valign=\"top\">APPLE</th>\n",
       "      <th>CA</th>\n",
       "      <td>6521</td>\n",
       "      <td>3.763295</td>\n",
       "    </tr>\n",
       "    <tr>\n",
       "      <th>TX</th>\n",
       "      <td>0</td>\n",
       "      <td>0.0</td>\n",
       "    </tr>\n",
       "    <tr>\n",
       "      <th>NY</th>\n",
       "      <td>0</td>\n",
       "      <td>0.0</td>\n",
       "    </tr>\n",
       "    <tr>\n",
       "      <th>NJ</th>\n",
       "      <td>2</td>\n",
       "      <td>0.004145</td>\n",
       "    </tr>\n",
       "    <tr>\n",
       "      <th>WA</th>\n",
       "      <td>0</td>\n",
       "      <td>0.0</td>\n",
       "    </tr>\n",
       "    <tr>\n",
       "      <th rowspan=\"5\" valign=\"top\">AMAZON</th>\n",
       "      <th>CA</th>\n",
       "      <td>1080</td>\n",
       "      <td>0.623272</td>\n",
       "    </tr>\n",
       "    <tr>\n",
       "      <th>TX</th>\n",
       "      <td>78</td>\n",
       "      <td>0.107273</td>\n",
       "    </tr>\n",
       "    <tr>\n",
       "      <th>NY</th>\n",
       "      <td>1</td>\n",
       "      <td>0.002058</td>\n",
       "    </tr>\n",
       "    <tr>\n",
       "      <th>NJ</th>\n",
       "      <td>12</td>\n",
       "      <td>0.024869</td>\n",
       "    </tr>\n",
       "    <tr>\n",
       "      <th>WA</th>\n",
       "      <td>20768</td>\n",
       "      <td>44.034519</td>\n",
       "    </tr>\n",
       "    <tr>\n",
       "      <th rowspan=\"5\" valign=\"top\">GOOGLE</th>\n",
       "      <th>CA</th>\n",
       "      <td>15574</td>\n",
       "      <td>8.987817</td>\n",
       "    </tr>\n",
       "    <tr>\n",
       "      <th>TX</th>\n",
       "      <td>0</td>\n",
       "      <td>0.0</td>\n",
       "    </tr>\n",
       "    <tr>\n",
       "      <th>NY</th>\n",
       "      <td>0</td>\n",
       "      <td>0.0</td>\n",
       "    </tr>\n",
       "    <tr>\n",
       "      <th>NJ</th>\n",
       "      <td>0</td>\n",
       "      <td>0.0</td>\n",
       "    </tr>\n",
       "    <tr>\n",
       "      <th>WA</th>\n",
       "      <td>0</td>\n",
       "      <td>0.0</td>\n",
       "    </tr>\n",
       "    <tr>\n",
       "      <th rowspan=\"5\" valign=\"top\">FACEBOOK</th>\n",
       "      <th>CA</th>\n",
       "      <td>10128</td>\n",
       "      <td>5.844909</td>\n",
       "    </tr>\n",
       "    <tr>\n",
       "      <th>TX</th>\n",
       "      <td>504</td>\n",
       "      <td>0.693146</td>\n",
       "    </tr>\n",
       "    <tr>\n",
       "      <th>NY</th>\n",
       "      <td>0</td>\n",
       "      <td>0.0</td>\n",
       "    </tr>\n",
       "    <tr>\n",
       "      <th>NJ</th>\n",
       "      <td>180</td>\n",
       "      <td>0.373042</td>\n",
       "    </tr>\n",
       "    <tr>\n",
       "      <th>WA</th>\n",
       "      <td>0</td>\n",
       "      <td>0.0</td>\n",
       "    </tr>\n",
       "    <tr>\n",
       "      <th rowspan=\"5\" valign=\"top\">INFOSYS</th>\n",
       "      <th>CA</th>\n",
       "      <td>0</td>\n",
       "      <td>0.0</td>\n",
       "    </tr>\n",
       "    <tr>\n",
       "      <th>TX</th>\n",
       "      <td>6676</td>\n",
       "      <td>9.181428</td>\n",
       "    </tr>\n",
       "    <tr>\n",
       "      <th>NY</th>\n",
       "      <td>3</td>\n",
       "      <td>0.006175</td>\n",
       "    </tr>\n",
       "    <tr>\n",
       "      <th>NJ</th>\n",
       "      <td>0</td>\n",
       "      <td>0.0</td>\n",
       "    </tr>\n",
       "    <tr>\n",
       "      <th>WA</th>\n",
       "      <td>0</td>\n",
       "      <td>0.0</td>\n",
       "    </tr>\n",
       "  </tbody>\n",
       "</table>\n",
       "</div>"
      ],
      "text/plain": [
       "                APPLICATIONS % OF TOTAL APPLICATIONS\n",
       "EMPLOYER  STATE                                     \n",
       "MICROSOFT CA               0                     0.0\n",
       "          TX               0                     0.0\n",
       "          NY               0                     0.0\n",
       "          NJ               0                     0.0\n",
       "          WA           16958               35.956152\n",
       "INTEL     CA           12054                6.956411\n",
       "          TX               0                     0.0\n",
       "          NY               0                     0.0\n",
       "          NJ               0                     0.0\n",
       "          WA               0                     0.0\n",
       "APPLE     CA            6521                3.763295\n",
       "          TX               0                     0.0\n",
       "          NY               0                     0.0\n",
       "          NJ               2                0.004145\n",
       "          WA               0                     0.0\n",
       "AMAZON    CA            1080                0.623272\n",
       "          TX              78                0.107273\n",
       "          NY               1                0.002058\n",
       "          NJ              12                0.024869\n",
       "          WA           20768               44.034519\n",
       "GOOGLE    CA           15574                8.987817\n",
       "          TX               0                     0.0\n",
       "          NY               0                     0.0\n",
       "          NJ               0                     0.0\n",
       "          WA               0                     0.0\n",
       "FACEBOOK  CA           10128                5.844909\n",
       "          TX             504                0.693146\n",
       "          NY               0                     0.0\n",
       "          NJ             180                0.373042\n",
       "          WA               0                     0.0\n",
       "INFOSYS   CA               0                     0.0\n",
       "          TX            6676                9.181428\n",
       "          NY               3                0.006175\n",
       "          NJ               0                     0.0\n",
       "          WA               0                     0.0"
      ]
     },
     "execution_count": 141,
     "metadata": {},
     "output_type": "execute_result"
    }
   ],
   "source": [
    "# HOW MANY OF THE TOP COMPANIES, IDENTIFIED ABOVE, ARE HQ IN THE TOP 5 STATES\n",
    "companies = kingconsA[\"Yrs not in Top 15\"].sort_values()[:7].index.tolist()\n",
    "states = allHQ[\"ASTATE\"][:5].tolist()\n",
    "apps = allHQ[\"COUNT ASTATE\"][:5].tolist()\n",
    "companystates = pd.DataFrame()\n",
    "for x in range(len(companies)):\n",
    "    for i in range(len(states)):\n",
    "        c = (df[df[\"EMPLOYER_NAME\"]==companies[x]][\"EMPLOYER_STATE_PROVINCE\"]==states[i]).sum()\n",
    "        n = pd.DataFrame([companies[x],states[i],c]).transpose()\n",
    "        companystates = pd.concat([companystates,n])\n",
    "companystates.columns=[\"EMPLOYER\",\"STATE\",\"APPLICATIONS\"]\n",
    "companystates[\"TOTALAPP\"]=np.nan\n",
    "for x in range(len(states)):\n",
    "    companystates[\"TOTALAPP\"] = np.where(companystates[\"STATE\"]==states[x],apps[x],companystates[\"TOTALAPP\"])\n",
    "companystates = companystates.set_index([\"EMPLOYER\",\"STATE\"])\n",
    "companystates[\"% OF TOTAL APPLICATIONS\"] = (companystates[\"APPLICATIONS\"]/companystates[\"TOTALAPP\"])*100\n",
    "companystates = companystates.drop(\"TOTALAPP\", axis = 1)\n",
    "companystates"
   ]
  },
  {
   "cell_type": "code",
   "execution_count": 142,
   "id": "7f257f65",
   "metadata": {},
   "outputs": [
    {
     "data": {
      "text/html": [
       "<div>\n",
       "<style scoped>\n",
       "    .dataframe tbody tr th:only-of-type {\n",
       "        vertical-align: middle;\n",
       "    }\n",
       "\n",
       "    .dataframe tbody tr th {\n",
       "        vertical-align: top;\n",
       "    }\n",
       "\n",
       "    .dataframe thead th {\n",
       "        text-align: right;\n",
       "    }\n",
       "</style>\n",
       "<table border=\"1\" class=\"dataframe\">\n",
       "  <thead>\n",
       "    <tr style=\"text-align: right;\">\n",
       "      <th></th>\n",
       "      <th>AREGION</th>\n",
       "      <th>COUNT AREGION</th>\n",
       "      <th>SREGION</th>\n",
       "      <th>COUNT SREGION</th>\n",
       "    </tr>\n",
       "  </thead>\n",
       "  <tbody>\n",
       "    <tr>\n",
       "      <th>0</th>\n",
       "      <td>WEST</td>\n",
       "      <td>524778</td>\n",
       "      <td>WEST</td>\n",
       "      <td>482195</td>\n",
       "    </tr>\n",
       "    <tr>\n",
       "      <th>1</th>\n",
       "      <td>MIDWEST</td>\n",
       "      <td>88121</td>\n",
       "      <td>MIDWEST</td>\n",
       "      <td>80463</td>\n",
       "    </tr>\n",
       "    <tr>\n",
       "      <th>2</th>\n",
       "      <td>NORTHEAST</td>\n",
       "      <td>22689</td>\n",
       "      <td>NORTHEAST</td>\n",
       "      <td>21450</td>\n",
       "    </tr>\n",
       "    <tr>\n",
       "      <th>3</th>\n",
       "      <td>SOUTH</td>\n",
       "      <td>18720</td>\n",
       "      <td>SOUTH</td>\n",
       "      <td>16697</td>\n",
       "    </tr>\n",
       "    <tr>\n",
       "      <th>4</th>\n",
       "      <td>TERRITORY</td>\n",
       "      <td>911</td>\n",
       "      <td>TERRITORY</td>\n",
       "      <td>641</td>\n",
       "    </tr>\n",
       "    <tr>\n",
       "      <th>5</th>\n",
       "      <td>OTHER</td>\n",
       "      <td>7</td>\n",
       "      <td>OTHER</td>\n",
       "      <td>7</td>\n",
       "    </tr>\n",
       "  </tbody>\n",
       "</table>\n",
       "</div>"
      ],
      "text/plain": [
       "     AREGION  COUNT AREGION    SREGION  COUNT SREGION\n",
       "0       WEST         524778       WEST         482195\n",
       "1    MIDWEST          88121    MIDWEST          80463\n",
       "2  NORTHEAST          22689  NORTHEAST          21450\n",
       "3      SOUTH          18720      SOUTH          16697\n",
       "4  TERRITORY            911  TERRITORY            641\n",
       "5      OTHER              7      OTHER              7"
      ]
     },
     "execution_count": 142,
     "metadata": {},
     "output_type": "execute_result"
    }
   ],
   "source": [
    "# WHERE ARE EMPLOYERS HEADQUARTED? \n",
    "# TOP REGIONS WHERE EMPLOYERS HQ AND SPONSOR GREEN CARDS\n",
    "allRHQ = pd.DataFrame(df[\"EMPLOYER_REGION\"].value_counts()[:15]).reset_index()\n",
    "allRHQ.columns = [\"AREGION\",\"COUNT AREGION\"]\n",
    "sucRHQ = pd.DataFrame(df[df[\"CASE_STATUS\"]==1][\"EMPLOYER_REGION\"].value_counts()[:15]).reset_index()\n",
    "sucRHQ.columns = [\"SREGION\",\"COUNT SREGION\"]\n",
    "pd.concat([allRHQ,sucRHQ], axis = 1)"
   ]
  },
  {
   "cell_type": "code",
   "execution_count": 143,
   "id": "f9f71abf",
   "metadata": {
    "scrolled": true
   },
   "outputs": [
    {
     "data": {
      "text/html": [
       "<div>\n",
       "<style scoped>\n",
       "    .dataframe tbody tr th:only-of-type {\n",
       "        vertical-align: middle;\n",
       "    }\n",
       "\n",
       "    .dataframe tbody tr th {\n",
       "        vertical-align: top;\n",
       "    }\n",
       "\n",
       "    .dataframe thead th {\n",
       "        text-align: right;\n",
       "    }\n",
       "</style>\n",
       "<table border=\"1\" class=\"dataframe\">\n",
       "  <thead>\n",
       "    <tr style=\"text-align: right;\">\n",
       "      <th></th>\n",
       "      <th></th>\n",
       "      <th>APPLICATIONS</th>\n",
       "      <th>% OF TOTAL APPLICATIONS</th>\n",
       "    </tr>\n",
       "    <tr>\n",
       "      <th>EMPLOYER</th>\n",
       "      <th>REGION</th>\n",
       "      <th></th>\n",
       "      <th></th>\n",
       "    </tr>\n",
       "  </thead>\n",
       "  <tbody>\n",
       "    <tr>\n",
       "      <th rowspan=\"4\" valign=\"top\">MICROSOFT</th>\n",
       "      <th>WEST</th>\n",
       "      <td>16958</td>\n",
       "      <td>3.231462</td>\n",
       "    </tr>\n",
       "    <tr>\n",
       "      <th>MIDWEST</th>\n",
       "      <td>0</td>\n",
       "      <td>0.0</td>\n",
       "    </tr>\n",
       "    <tr>\n",
       "      <th>NORTHEAST</th>\n",
       "      <td>0</td>\n",
       "      <td>0.0</td>\n",
       "    </tr>\n",
       "    <tr>\n",
       "      <th>SOUTH</th>\n",
       "      <td>0</td>\n",
       "      <td>0.0</td>\n",
       "    </tr>\n",
       "    <tr>\n",
       "      <th rowspan=\"4\" valign=\"top\">INTEL</th>\n",
       "      <th>WEST</th>\n",
       "      <td>12374</td>\n",
       "      <td>2.357949</td>\n",
       "    </tr>\n",
       "    <tr>\n",
       "      <th>MIDWEST</th>\n",
       "      <td>0</td>\n",
       "      <td>0.0</td>\n",
       "    </tr>\n",
       "    <tr>\n",
       "      <th>NORTHEAST</th>\n",
       "      <td>0</td>\n",
       "      <td>0.0</td>\n",
       "    </tr>\n",
       "    <tr>\n",
       "      <th>SOUTH</th>\n",
       "      <td>0</td>\n",
       "      <td>0.0</td>\n",
       "    </tr>\n",
       "    <tr>\n",
       "      <th rowspan=\"4\" valign=\"top\">APPLE</th>\n",
       "      <th>WEST</th>\n",
       "      <td>6523</td>\n",
       "      <td>1.243002</td>\n",
       "    </tr>\n",
       "    <tr>\n",
       "      <th>MIDWEST</th>\n",
       "      <td>0</td>\n",
       "      <td>0.0</td>\n",
       "    </tr>\n",
       "    <tr>\n",
       "      <th>NORTHEAST</th>\n",
       "      <td>0</td>\n",
       "      <td>0.0</td>\n",
       "    </tr>\n",
       "    <tr>\n",
       "      <th>SOUTH</th>\n",
       "      <td>0</td>\n",
       "      <td>0.0</td>\n",
       "    </tr>\n",
       "    <tr>\n",
       "      <th rowspan=\"4\" valign=\"top\">AMAZON</th>\n",
       "      <th>WEST</th>\n",
       "      <td>22034</td>\n",
       "      <td>4.198728</td>\n",
       "    </tr>\n",
       "    <tr>\n",
       "      <th>MIDWEST</th>\n",
       "      <td>4</td>\n",
       "      <td>0.004539</td>\n",
       "    </tr>\n",
       "    <tr>\n",
       "      <th>NORTHEAST</th>\n",
       "      <td>0</td>\n",
       "      <td>0.0</td>\n",
       "    </tr>\n",
       "    <tr>\n",
       "      <th>SOUTH</th>\n",
       "      <td>0</td>\n",
       "      <td>0.0</td>\n",
       "    </tr>\n",
       "    <tr>\n",
       "      <th rowspan=\"4\" valign=\"top\">GOOGLE</th>\n",
       "      <th>WEST</th>\n",
       "      <td>15574</td>\n",
       "      <td>2.967731</td>\n",
       "    </tr>\n",
       "    <tr>\n",
       "      <th>MIDWEST</th>\n",
       "      <td>0</td>\n",
       "      <td>0.0</td>\n",
       "    </tr>\n",
       "    <tr>\n",
       "      <th>NORTHEAST</th>\n",
       "      <td>0</td>\n",
       "      <td>0.0</td>\n",
       "    </tr>\n",
       "    <tr>\n",
       "      <th>SOUTH</th>\n",
       "      <td>0</td>\n",
       "      <td>0.0</td>\n",
       "    </tr>\n",
       "    <tr>\n",
       "      <th rowspan=\"4\" valign=\"top\">FACEBOOK</th>\n",
       "      <th>WEST</th>\n",
       "      <td>10818</td>\n",
       "      <td>2.061443</td>\n",
       "    </tr>\n",
       "    <tr>\n",
       "      <th>MIDWEST</th>\n",
       "      <td>0</td>\n",
       "      <td>0.0</td>\n",
       "    </tr>\n",
       "    <tr>\n",
       "      <th>NORTHEAST</th>\n",
       "      <td>0</td>\n",
       "      <td>0.0</td>\n",
       "    </tr>\n",
       "    <tr>\n",
       "      <th>SOUTH</th>\n",
       "      <td>0</td>\n",
       "      <td>0.0</td>\n",
       "    </tr>\n",
       "    <tr>\n",
       "      <th rowspan=\"4\" valign=\"top\">INFOSYS</th>\n",
       "      <th>WEST</th>\n",
       "      <td>6857</td>\n",
       "      <td>1.306648</td>\n",
       "    </tr>\n",
       "    <tr>\n",
       "      <th>MIDWEST</th>\n",
       "      <td>0</td>\n",
       "      <td>0.0</td>\n",
       "    </tr>\n",
       "    <tr>\n",
       "      <th>NORTHEAST</th>\n",
       "      <td>0</td>\n",
       "      <td>0.0</td>\n",
       "    </tr>\n",
       "    <tr>\n",
       "      <th>SOUTH</th>\n",
       "      <td>0</td>\n",
       "      <td>0.0</td>\n",
       "    </tr>\n",
       "  </tbody>\n",
       "</table>\n",
       "</div>"
      ],
      "text/plain": [
       "                    APPLICATIONS % OF TOTAL APPLICATIONS\n",
       "EMPLOYER  REGION                                        \n",
       "MICROSOFT WEST             16958                3.231462\n",
       "          MIDWEST              0                     0.0\n",
       "          NORTHEAST            0                     0.0\n",
       "          SOUTH                0                     0.0\n",
       "INTEL     WEST             12374                2.357949\n",
       "          MIDWEST              0                     0.0\n",
       "          NORTHEAST            0                     0.0\n",
       "          SOUTH                0                     0.0\n",
       "APPLE     WEST              6523                1.243002\n",
       "          MIDWEST              0                     0.0\n",
       "          NORTHEAST            0                     0.0\n",
       "          SOUTH                0                     0.0\n",
       "AMAZON    WEST             22034                4.198728\n",
       "          MIDWEST              4                0.004539\n",
       "          NORTHEAST            0                     0.0\n",
       "          SOUTH                0                     0.0\n",
       "GOOGLE    WEST             15574                2.967731\n",
       "          MIDWEST              0                     0.0\n",
       "          NORTHEAST            0                     0.0\n",
       "          SOUTH                0                     0.0\n",
       "FACEBOOK  WEST             10818                2.061443\n",
       "          MIDWEST              0                     0.0\n",
       "          NORTHEAST            0                     0.0\n",
       "          SOUTH                0                     0.0\n",
       "INFOSYS   WEST              6857                1.306648\n",
       "          MIDWEST              0                     0.0\n",
       "          NORTHEAST            0                     0.0\n",
       "          SOUTH                0                     0.0"
      ]
     },
     "execution_count": 143,
     "metadata": {},
     "output_type": "execute_result"
    }
   ],
   "source": [
    "# HOW MANY OF THE TOP COMPANIES, IDENTIFIED ABOVE, ARE HQ IN THE TOP 4 REGION\n",
    "companies = kingconsA[\"Yrs not in Top 15\"].sort_values()[:7].index.tolist()\n",
    "region = allRHQ[\"AREGION\"][:4].tolist()\n",
    "apps = allRHQ[\"COUNT AREGION\"][:4].tolist()\n",
    "companyregions = pd.DataFrame()\n",
    "for x in range(len(companies)):\n",
    "    for i in range(len(region)):\n",
    "        c = (df[df[\"EMPLOYER_NAME\"]==companies[x]][\"EMPLOYER_REGION\"]==region[i]).sum()\n",
    "        n = pd.DataFrame([companies[x],region[i],c]).transpose()\n",
    "        companyregions = pd.concat([companyregions,n])\n",
    "companyregions.columns=[\"EMPLOYER\",\"REGION\",\"APPLICATIONS\"]\n",
    "companyregions[\"TOTALAPP\"]=np.nan\n",
    "for x in range(len(region)):\n",
    "    companyregions[\"TOTALAPP\"] = np.where(companyregions[\"REGION\"]==region[x],apps[x],companyregions[\"TOTALAPP\"])\n",
    "companyregions = companyregions.set_index([\"EMPLOYER\",\"REGION\"])\n",
    "companyregions[\"% OF TOTAL APPLICATIONS\"] = (companyregions[\"APPLICATIONS\"]/companyregions[\"TOTALAPP\"])*100\n",
    "companyregions = companyregions.drop(\"TOTALAPP\", axis = 1)\n",
    "companyregions"
   ]
  },
  {
   "cell_type": "code",
   "execution_count": 144,
   "id": "4e77f60a",
   "metadata": {},
   "outputs": [
    {
     "name": "stdout",
     "output_type": "stream",
     "text": [
      "Only 23 countries are not headquartered in the U.S.\n",
      "UNITED STATES OF AMERICA    655151\n",
      "CANADA                          12\n",
      "GEORGIA                          4\n",
      "CAMEROON                         2\n",
      "INDIA                            2\n",
      "GERMANY                          2\n",
      "SOUTH KOREA                      1\n",
      "Name: EMPLOYER_COUNTRY, dtype: int64\n"
     ]
    }
   ],
   "source": [
    "# HOW MANY EMPLOYERS ARE NOT HQ IN USA?\n",
    "print(\"Only\",df[\"EMPLOYER_COUNTRY\"].value_counts()[1:].sum(),\"countries are not headquartered in the U.S.\")\n",
    "print(df[\"EMPLOYER_COUNTRY\"].value_counts())"
   ]
  },
  {
   "cell_type": "code",
   "execution_count": 145,
   "id": "d575cdca",
   "metadata": {
    "scrolled": true
   },
   "outputs": [
    {
     "data": {
      "text/plain": [
       "EMPLOYER_NAME\n",
       "WALMART                              1400000.0\n",
       "YUM RESTAURANTS INTERNATIONAL         725000.0\n",
       "TACO BELL CORP.                       725000.0\n",
       "AMAZON                                647500.0\n",
       "ANNAPURNA LABS U.S. INC.              647500.0\n",
       "                                       ...    \n",
       "HSP SERVICES, INC.                         1.0\n",
       "MONTEBIANCO, LTD DBA/MUSE BESPOKE          1.0\n",
       "SMART FLORIDA LLC                          1.0\n",
       "ADAM IMPORTS INC                           1.0\n",
       "CHAD CORNER ASSISTED LIVING                1.0\n",
       "Name: EMPLOYER_NUM_EMPLOYEES, Length: 44132, dtype: float64"
      ]
     },
     "execution_count": 145,
     "metadata": {},
     "output_type": "execute_result"
    }
   ],
   "source": [
    "# EXPLORING THE DISTRIBUTION OF NUMBER OF EMPLOYEES PER EMPLOYER\n",
    "avgempnum = df.groupby(\"EMPLOYER_NAME\")[\"EMPLOYER_NUM_EMPLOYEES\"].agg(lambda x: st.mode(x)[0][0])\n",
    "# WHAT IS THE MOST EMPLOYEES PER EMPLOYER\n",
    "avgempnum.sort_values(ascending = False)"
   ]
  },
  {
   "cell_type": "code",
   "execution_count": 146,
   "id": "5947d94f",
   "metadata": {},
   "outputs": [
    {
     "data": {
      "text/html": [
       "<div>\n",
       "<style scoped>\n",
       "    .dataframe tbody tr th:only-of-type {\n",
       "        vertical-align: middle;\n",
       "    }\n",
       "\n",
       "    .dataframe tbody tr th {\n",
       "        vertical-align: top;\n",
       "    }\n",
       "\n",
       "    .dataframe thead th {\n",
       "        text-align: right;\n",
       "    }\n",
       "</style>\n",
       "<table border=\"1\" class=\"dataframe\">\n",
       "  <thead>\n",
       "    <tr style=\"text-align: right;\">\n",
       "      <th></th>\n",
       "      <th>EMPLOYER_NAME</th>\n",
       "      <th>EMPLOYER_NUM_EMPLOYEES</th>\n",
       "      <th>COUNT</th>\n",
       "    </tr>\n",
       "  </thead>\n",
       "  <tbody>\n",
       "    <tr>\n",
       "      <th>42318</th>\n",
       "      <td>WALMART</td>\n",
       "      <td>1400000.0</td>\n",
       "      <td>1660.0</td>\n",
       "    </tr>\n",
       "    <tr>\n",
       "      <th>43833</th>\n",
       "      <td>YUM RESTAURANTS INTERNATIONAL</td>\n",
       "      <td>725000.0</td>\n",
       "      <td>7.0</td>\n",
       "    </tr>\n",
       "    <tr>\n",
       "      <th>37665</th>\n",
       "      <td>TACO BELL CORP.</td>\n",
       "      <td>725000.0</td>\n",
       "      <td>2.0</td>\n",
       "    </tr>\n",
       "    <tr>\n",
       "      <th>2072</th>\n",
       "      <td>AMAZON</td>\n",
       "      <td>647500.0</td>\n",
       "      <td>22046.0</td>\n",
       "    </tr>\n",
       "    <tr>\n",
       "      <th>2661</th>\n",
       "      <td>ANNAPURNA LABS U.S. INC.</td>\n",
       "      <td>647500.0</td>\n",
       "      <td>7.0</td>\n",
       "    </tr>\n",
       "    <tr>\n",
       "      <th>...</th>\n",
       "      <td>...</td>\n",
       "      <td>...</td>\n",
       "      <td>...</td>\n",
       "    </tr>\n",
       "    <tr>\n",
       "      <th>18024</th>\n",
       "      <td>HSP SERVICES, INC.</td>\n",
       "      <td>1.0</td>\n",
       "      <td>4.0</td>\n",
       "    </tr>\n",
       "    <tr>\n",
       "      <th>26180</th>\n",
       "      <td>MONTEBIANCO, LTD DBA/MUSE BESPOKE</td>\n",
       "      <td>1.0</td>\n",
       "      <td>3.0</td>\n",
       "    </tr>\n",
       "    <tr>\n",
       "      <th>35386</th>\n",
       "      <td>SMART FLORIDA LLC</td>\n",
       "      <td>1.0</td>\n",
       "      <td>2.0</td>\n",
       "    </tr>\n",
       "    <tr>\n",
       "      <th>860</th>\n",
       "      <td>ADAM IMPORTS INC</td>\n",
       "      <td>1.0</td>\n",
       "      <td>1.0</td>\n",
       "    </tr>\n",
       "    <tr>\n",
       "      <th>7513</th>\n",
       "      <td>CHAD CORNER ASSISTED LIVING</td>\n",
       "      <td>1.0</td>\n",
       "      <td>2.0</td>\n",
       "    </tr>\n",
       "  </tbody>\n",
       "</table>\n",
       "<p>44132 rows × 3 columns</p>\n",
       "</div>"
      ],
      "text/plain": [
       "                           EMPLOYER_NAME  EMPLOYER_NUM_EMPLOYEES    COUNT\n",
       "42318                            WALMART               1400000.0   1660.0\n",
       "43833      YUM RESTAURANTS INTERNATIONAL                725000.0      7.0\n",
       "37665                    TACO BELL CORP.                725000.0      2.0\n",
       "2072                              AMAZON                647500.0  22046.0\n",
       "2661            ANNAPURNA LABS U.S. INC.                647500.0      7.0\n",
       "...                                  ...                     ...      ...\n",
       "18024                 HSP SERVICES, INC.                     1.0      4.0\n",
       "26180  MONTEBIANCO, LTD DBA/MUSE BESPOKE                     1.0      3.0\n",
       "35386                  SMART FLORIDA LLC                     1.0      2.0\n",
       "860                     ADAM IMPORTS INC                     1.0      1.0\n",
       "7513         CHAD CORNER ASSISTED LIVING                     1.0      2.0\n",
       "\n",
       "[44132 rows x 3 columns]"
      ]
     },
     "execution_count": 146,
     "metadata": {},
     "output_type": "execute_result"
    }
   ],
   "source": [
    "# THE MODE LOOKS FISHY, LETS BRING IN THE TOTAL APPLICANTS\n",
    "countemp = pd.DataFrame(df.groupby(\"EMPLOYER_NAME\")[\"CASE_STATUS\"].count()).reset_index().sort_values(by = \"EMPLOYER_NAME\").reset_index(drop = True)\n",
    "empdf = pd.DataFrame(avgempnum).reset_index().sort_values(by = \"EMPLOYER_NAME\").reset_index(drop = True)\n",
    "empdf[\"COUNT\"] = np.where(empdf[\"EMPLOYER_NAME\"]==countemp[\"EMPLOYER_NAME\"],countemp[\"CASE_STATUS\"],np.nan)\n",
    "empdf = empdf.sort_values(by = \"EMPLOYER_NUM_EMPLOYEES\", ascending = False)\n",
    "empdf"
   ]
  },
  {
   "cell_type": "code",
   "execution_count": 170,
   "id": "39eab3e7",
   "metadata": {},
   "outputs": [
    {
     "data": {
      "image/png": "[encoded data removed]",
      "text/plain": [
       "<Figure size 864x720 with 2 Axes>"
      ]
     },
     "metadata": {
      "needs_background": "light"
     },
     "output_type": "display_data"
    }
   ],
   "source": [
    "# PLOT THE DIST OF EMPLOYEE COUNT\n",
    "btmemp = avgempnum[avgempnum<=avgempnum.median()]\n",
    "topemp = avgempnum[avgempnum>avgempnum.median()]\n",
    "fig, ax = plt.subplots(1,2, figsize = (12,10))\n",
    "sns.histplot(x = btmemp, ax = ax[0])\n",
    "topend = sns.histplot(x = topemp, ax = ax[1])\n",
    "topend.set_xlim([50, 10000])\n",
    "plt.tight_layout()"
   ]
  },
  {
   "cell_type": "code",
   "execution_count": 171,
   "id": "a5d74f40",
   "metadata": {},
   "outputs": [
    {
     "data": {
      "text/plain": [
       "LinregressResult(slope=1.3243164191356925e-10, intercept=0.9418044734412306, rvalue=0.0018053124379263361, pvalue=0.20734779664839026, stderr=1.0502999191184296e-10, intercept_stderr=0.0003352246138679802)"
      ]
     },
     "execution_count": 171,
     "metadata": {},
     "output_type": "execute_result"
    }
   ],
   "source": [
    "# CORRELATION ANALYSIS: NUMBER OF EMPLOYEEs WITH CASE STATUS: CASE BY CASE\n",
    "st.linregress(x = df.dropna()[\"EMPLOYER_NUM_EMPLOYEES\"], y = df.dropna()[\"CASE_STATUS\"])\n",
    "# DOES NOT SHOW MUCH, AGGREGATE MAY SHOW A DIFFERENT STORY"
   ]
  },
  {
   "cell_type": "code",
   "execution_count": 266,
   "id": "64c9e689",
   "metadata": {},
   "outputs": [
    {
     "data": {
      "text/plain": [
       "Text(0.5, 1.0, 'Success Rates by Company Size, Over Time')"
      ]
     },
     "execution_count": 266,
     "metadata": {},
     "output_type": "execute_result"
    },
    {
     "data": {
      "text/plain": [
       "<Figure size 1200x1000 with 0 Axes>"
      ]
     },
     "metadata": {},
     "output_type": "display_data"
    },
    {
     "data": {
      "image/png": "[encoded data removed]",
      "text/plain": [
       "<Figure size 432x288 with 1 Axes>"
      ]
     },
     "metadata": {
      "needs_background": "light"
     },
     "output_type": "display_data"
    }
   ],
   "source": [
    "# CORRELATION ANALYSIS: AGGREGATE BY SIZE BRACKETS AND YEARLY\n",
    "# PLOTTING SUCCESS RATES OVER TIME BY SIZE OF COMPANY\n",
    "\n",
    "small = df[df[\"EMPLOYER_NUM_EMPLOYEES\"]<1000]\n",
    "medium = df[(df[\"EMPLOYER_NUM_EMPLOYEES\"]>=1000)&(df[\"EMPLOYER_NUM_EMPLOYEES\"]<10000)]\n",
    "large = df[df[\"EMPLOYER_NUM_EMPLOYEES\"]>10000]\n",
    "\n",
    "\n",
    "smalldf = pd.DataFrame()\n",
    "meddf = pd.DataFrame()\n",
    "largedf = pd.DataFrame()\n",
    "regressdf = pd.DataFrame()\n",
    "\n",
    "for x in range(len(yr)):\n",
    "    j = pd.DataFrame([len(small[(small[\"YEAR\"]==yr[x])&small[\"CASE_STATUS\"]==1])/len(small[small[\"YEAR\"]==yr[x]])])\n",
    "    med = pd.DataFrame([len(medium[(medium[\"YEAR\"]==yr[x])&medium[\"CASE_STATUS\"]==1])/len(medium[medium[\"YEAR\"]==yr[x]])])\n",
    "    lar = pd.DataFrame([len(large[(large[\"YEAR\"]==yr[x])&large[\"CASE_STATUS\"]==1])/len(large[large[\"YEAR\"]==yr[x]])])\n",
    "    smalldf = pd.concat([smalldf,j])\n",
    "    meddf = pd.concat([meddf,med])\n",
    "    largedf = pd.concat([largedf,lar])\n",
    "    regressdf = pd.concat([smalldf,meddf,largedf], axis = 1)\n",
    "    \n",
    "\n",
    "regressdf.index = yr\n",
    "regressdf.columns = [\"Small Success %\", \"Medium Success %\", \"Large Success %\"]\n",
    "plt.figure(figsize = (12,10), dpi = 100)\n",
    "regressdf.plot(kind = \"bar\")\n",
    "plt.tight_layout()\n",
    "plt.legend(bbox_to_anchor=(1.05, 1), loc=2, borderaxespad=0.)\n",
    "plt.title(\"Success Rates by Company Size, Over Time\")"
   ]
  },
  {
   "cell_type": "code",
   "execution_count": 267,
   "id": "dfb3133c",
   "metadata": {},
   "outputs": [],
   "source": [
    "# PREPARING DATA FOR LIN REGRESS AND GETTING P VALUE\n",
    "smallapps = []\n",
    "mediumapps = []\n",
    "largeapps = []\n",
    "smallsd = []\n",
    "mediumsd = []\n",
    "largesd = []\n",
    "\n",
    "for x in range(len(yr)):\n",
    "    s = (small[\"YEAR\"]==yr[x]).sum()\n",
    "    ssd = st.tstd(small[small[\"YEAR\"]==yr[x]][\"CASE_STATUS\"])\n",
    "    m = (medium[\"YEAR\"]==yr[x]).sum()\n",
    "    msd = st.tstd(medium[medium[\"YEAR\"]==yr[x]][\"CASE_STATUS\"])\n",
    "    l = (large[\"YEAR\"]==yr[x]).sum()\n",
    "    lsd = st.tstd(large[large[\"YEAR\"]==yr[x]][\"CASE_STATUS\"])\n",
    "    smallapps.append(s)\n",
    "    mediumapps.append(m)\n",
    "    largeapps.append(l)\n",
    "    smallsd.append(ssd)\n",
    "    mediumsd.append(msd)\n",
    "    largesd.append(lsd)\n",
    "regressdf = regressdf.reset_index()\n",
    "regressdf[\"Small Apps\"] = pd.DataFrame(smallapps)\n",
    "regressdf[\"Medium Apps\"] = pd.DataFrame(mediumapps)\n",
    "regressdf[\"Large Apps\"] = pd.DataFrame(largeapps)\n",
    "regressdf[\"Small SD\"] = pd.DataFrame(smallsd)\n",
    "regressdf[\"Medium SD\"] = pd.DataFrame(mediumsd)\n",
    "regressdf[\"Large SD\"] = pd.DataFrame(largesd)\n",
    "regressdf = regressdf.set_index(\"index\")"
   ]
  },
  {
   "cell_type": "code",
   "execution_count": 347,
   "id": "252d060b",
   "metadata": {},
   "outputs": [
    {
     "data": {
      "text/plain": [
       "Text(0.5, 1.0, 'Application Rates by Company Size, Over Time')"
      ]
     },
     "execution_count": 347,
     "metadata": {},
     "output_type": "execute_result"
    },
    {
     "data": {
      "text/plain": [
       "<Figure size 1200x1000 with 0 Axes>"
      ]
     },
     "metadata": {},
     "output_type": "display_data"
    },
    {
     "data": {
      "image/png": "[encoded data removed]",
      "text/plain": [
       "<Figure size 432x288 with 1 Axes>"
      ]
     },
     "metadata": {
      "needs_background": "light"
     },
     "output_type": "display_data"
    }
   ],
   "source": [
    "# PLOTTING APPLICATION RATES OVER TIME BY SIZE OF COMPANY\n",
    "plt.figure(figsize = (12,10), dpi = 100)\n",
    "regressdf.reset_index().plot(x = \"index\", y = [\"Small Apps\",\"Medium Apps\",\"Large Apps\"], kind = \"bar\")\n",
    "plt.tight_layout()\n",
    "plt.legend(bbox_to_anchor=(1.05, 1), loc=2, borderaxespad=0.)\n",
    "plt.title(\"Application Rates by Company Size, Over Time\")"
   ]
  },
  {
   "cell_type": "code",
   "execution_count": 298,
   "id": "8c1064d3",
   "metadata": {},
   "outputs": [
    {
     "data": {
      "text/html": [
       "<style type=\"text/css\">\n",
       "</style>\n",
       "<table id=\"T_7d16a\">\n",
       "  <thead>\n",
       "    <tr>\n",
       "      <th class=\"blank level0\" >&nbsp;</th>\n",
       "      <th id=\"T_7d16a_level0_col0\" class=\"col_heading level0 col0\" >Small_Med</th>\n",
       "      <th id=\"T_7d16a_level0_col1\" class=\"col_heading level0 col1\" >Small_Large</th>\n",
       "      <th id=\"T_7d16a_level0_col2\" class=\"col_heading level0 col2\" >Med_Large</th>\n",
       "    </tr>\n",
       "  </thead>\n",
       "  <tbody>\n",
       "    <tr>\n",
       "      <th id=\"T_7d16a_level0_row0\" class=\"row_heading level0 row0\" >2014</th>\n",
       "      <td id=\"T_7d16a_row0_col0\" class=\"data row0 col0\" >0.0000</td>\n",
       "      <td id=\"T_7d16a_row0_col1\" class=\"data row0 col1\" >0.0001</td>\n",
       "      <td id=\"T_7d16a_row0_col2\" class=\"data row0 col2\" >0.1478</td>\n",
       "    </tr>\n",
       "    <tr>\n",
       "      <th id=\"T_7d16a_level0_row1\" class=\"row_heading level0 row1\" >2015</th>\n",
       "      <td id=\"T_7d16a_row1_col0\" class=\"data row1 col0\" >0.0000</td>\n",
       "      <td id=\"T_7d16a_row1_col1\" class=\"data row1 col1\" >0.0000</td>\n",
       "      <td id=\"T_7d16a_row1_col2\" class=\"data row1 col2\" >0.0000</td>\n",
       "    </tr>\n",
       "    <tr>\n",
       "      <th id=\"T_7d16a_level0_row2\" class=\"row_heading level0 row2\" >2016</th>\n",
       "      <td id=\"T_7d16a_row2_col0\" class=\"data row2 col0\" >0.0000</td>\n",
       "      <td id=\"T_7d16a_row2_col1\" class=\"data row2 col1\" >0.0000</td>\n",
       "      <td id=\"T_7d16a_row2_col2\" class=\"data row2 col2\" >0.0000</td>\n",
       "    </tr>\n",
       "    <tr>\n",
       "      <th id=\"T_7d16a_level0_row3\" class=\"row_heading level0 row3\" >2017</th>\n",
       "      <td id=\"T_7d16a_row3_col0\" class=\"data row3 col0\" >0.0000</td>\n",
       "      <td id=\"T_7d16a_row3_col1\" class=\"data row3 col1\" >0.0000</td>\n",
       "      <td id=\"T_7d16a_row3_col2\" class=\"data row3 col2\" >0.0000</td>\n",
       "    </tr>\n",
       "    <tr>\n",
       "      <th id=\"T_7d16a_level0_row4\" class=\"row_heading level0 row4\" >2018</th>\n",
       "      <td id=\"T_7d16a_row4_col0\" class=\"data row4 col0\" >0.0000</td>\n",
       "      <td id=\"T_7d16a_row4_col1\" class=\"data row4 col1\" >0.0000</td>\n",
       "      <td id=\"T_7d16a_row4_col2\" class=\"data row4 col2\" >0.0000</td>\n",
       "    </tr>\n",
       "    <tr>\n",
       "      <th id=\"T_7d16a_level0_row5\" class=\"row_heading level0 row5\" >2019</th>\n",
       "      <td id=\"T_7d16a_row5_col0\" class=\"data row5 col0\" >0.0000</td>\n",
       "      <td id=\"T_7d16a_row5_col1\" class=\"data row5 col1\" >0.0000</td>\n",
       "      <td id=\"T_7d16a_row5_col2\" class=\"data row5 col2\" >0.0000</td>\n",
       "    </tr>\n",
       "    <tr>\n",
       "      <th id=\"T_7d16a_level0_row6\" class=\"row_heading level0 row6\" >2020</th>\n",
       "      <td id=\"T_7d16a_row6_col0\" class=\"data row6 col0\" >0.0000</td>\n",
       "      <td id=\"T_7d16a_row6_col1\" class=\"data row6 col1\" >0.0000</td>\n",
       "      <td id=\"T_7d16a_row6_col2\" class=\"data row6 col2\" >0.0000</td>\n",
       "    </tr>\n",
       "    <tr>\n",
       "      <th id=\"T_7d16a_level0_row7\" class=\"row_heading level0 row7\" >2021</th>\n",
       "      <td id=\"T_7d16a_row7_col0\" class=\"data row7 col0\" >0.0000</td>\n",
       "      <td id=\"T_7d16a_row7_col1\" class=\"data row7 col1\" >0.0000</td>\n",
       "      <td id=\"T_7d16a_row7_col2\" class=\"data row7 col2\" >0.0000</td>\n",
       "    </tr>\n",
       "  </tbody>\n",
       "</table>\n"
      ],
      "text/plain": [
       "<pandas.io.formats.style.Styler at 0x173d5d7d700>"
      ]
     },
     "execution_count": 298,
     "metadata": {},
     "output_type": "execute_result"
    }
   ],
   "source": [
    "# P VALUE PER YEAR\n",
    "small_med = []\n",
    "for x in range(len(yr)):\n",
    "    sample1_phat = regressdf.loc[yr[x]][\"Small Success %\"]\n",
    "    sample2_phat = regressdf.loc[yr[x]][\"Medium Success %\"]\n",
    "    sample1_size = regressdf.loc[yr[x]][\"Small Apps\"]\n",
    "    sample2_size = regressdf.loc[yr[x]][\"Medium Apps\"]\n",
    "    phat = (sample1_phat*sample1_size+sample2_phat*sample2_size)/(sample1_size+sample2_size)\n",
    "    zscore = (sample1_phat - sample2_phat)/np.sqrt(phat*(1-phat)*((1/sample1_size)+(1/sample2_size)))    \n",
    "    pval = st.norm.sf(abs(zscore))*2\n",
    "    small_med.append(pval)\n",
    "\n",
    "pvaldf = pd.DataFrame(small_med)\n",
    "\n",
    "small_large = []\n",
    "for x in range(len(yr)):\n",
    "    sample1_phat = regressdf.loc[yr[x]][\"Small Success %\"]\n",
    "    sample2_phat = regressdf.loc[yr[x]][\"Large Success %\"]\n",
    "    sample1_size = regressdf.loc[yr[x]][\"Small Apps\"]\n",
    "    sample2_size = regressdf.loc[yr[x]][\"Large Apps\"]\n",
    "    phat = (sample1_phat*sample1_size+sample2_phat*sample2_size)/(sample1_size+sample2_size)\n",
    "    zscore = (sample1_phat - sample2_phat)/np.sqrt(phat*(1-phat)*((1/sample1_size)+(1/sample2_size)))    \n",
    "    pval = st.norm.sf(abs(zscore))*2\n",
    "    small_large.append(pval)\n",
    "pvaldf = pd.concat([pvaldf,pd.DataFrame(small_large)], axis = 1)\n",
    "\n",
    "med_large = []\n",
    "for x in range(len(yr)):\n",
    "    sample1_phat = regressdf.loc[yr[x]][\"Medium Success %\"]\n",
    "    sample2_phat = regressdf.loc[yr[x]][\"Large Success %\"]\n",
    "    sample1_size = regressdf.loc[yr[x]][\"Medium Apps\"]\n",
    "    sample2_size = regressdf.loc[yr[x]][\"Large Apps\"]\n",
    "    phat = (sample1_phat*sample1_size+sample2_phat*sample2_size)/(sample1_size+sample2_size)\n",
    "    zscore = (sample1_phat - sample2_phat)/np.sqrt(phat*(1-phat)*((1/sample1_size)+(1/sample2_size)))    \n",
    "    pval = st.norm.sf(abs(zscore))*2\n",
    "    med_large.append(pval)\n",
    "pvaldf = pd.concat([pvaldf,pd.DataFrame(med_large)], axis = 1)\n",
    "pvaldf.columns = [\"Small_Med\",\"Small_Large\",\"Med_Large\"]\n",
    "pvaldf.index = yr\n",
    "pvaldf = pvaldf.head(8).style.format(\"{:,.4f}\")\n",
    "pvaldf"
   ]
  },
  {
   "cell_type": "code",
   "execution_count": 337,
   "id": "58ffcfde",
   "metadata": {},
   "outputs": [
    {
     "name": "stdout",
     "output_type": "stream",
     "text": [
      "Small Company Success Rate Over Time Slope: 0.00198 , P Val: 0.5848 , R Val: 0.2294 \n",
      "Weak growth, .19% growth in success rate a year, and not a statistically significant slope.\n",
      "\n",
      "Small Company Application Rate Over Time Slope: 1203.702 , P Val: 0.5637 , R Val: 0.242 \n",
      "Weak growth, 1203 applications a year, and not a statistically significant slope.\n"
     ]
    }
   ],
   "source": [
    "# LINEAR REGRESSION BETWEEN COMPANY SIZE AND SUCCESS RATE OVER TIME: SMALL COMPANY\n",
    "print(\"Small Company Success Rate Over Time Slope:\",round(st.linregress(y = regressdf[\"Small Success %\"], x = yr).slope,6),\", P Val:\",round(st.linregress(y = regressdf[\"Small Success %\"], x = yr).pvalue,4),\", R Val:\",round(st.linregress(y = regressdf[\"Small Success %\"], x = yr).rvalue,4),\"\\nWeak growth, .19% growth in success rate a year, and not a statistically significant slope.\")\n",
    "# LINEAR REGRESSION BETWEEN COMPANY SIZE AND APPLICATIONS OVER TIME: SMALL COMPANY\n",
    "print(\"\\nSmall Company Application Rate Over Time Slope:\",round(st.linregress(y = regressdf[\"Small Apps\"], x = yr).slope,3),\", P Val:\",round(st.linregress(y = regressdf[\"Small Apps\"], x = yr).pvalue,4),\", R Val:\",round(st.linregress(y = regressdf[\"Small Apps\"], x = yr).rvalue,4),\"\\nWeak growth, 1203 applications a year, and not a statistically significant slope.\")"
   ]
  },
  {
   "cell_type": "code",
   "execution_count": 332,
   "id": "2fda4148",
   "metadata": {},
   "outputs": [
    {
     "name": "stdout",
     "output_type": "stream",
     "text": [
      "Medium Company Success Rate Over Time Slope: 0.0057 , P Val: 0.0201 , R Val: 0.7884 \n",
      "Strong growth, .57% growth in success rate a year, with a statistically significant slope.\n",
      "\n",
      "Medium Company Application Rate Over Time Slope: 1122.333 , P Val: 0.3186 , R Val: 0.4058 \n",
      "Does not appear to be growing strongly, 1122 applications a year, and not a statistically significant slope.\n"
     ]
    }
   ],
   "source": [
    "# LINEAR REGRESSION BETWEEN COMPANY SIZE AND SUCCESS RATE OVER TIME: MEDIUM COMPANY\n",
    "print(\"Medium Company Success Rate Over Time Slope:\",round(st.linregress(y = regressdf[\"Medium Success %\"], x = yr).slope,6),\", P Val:\",round(st.linregress(y = regressdf[\"Medium Success %\"], x = yr).pvalue,4),\", R Val:\",round(st.linregress(y = regressdf[\"Medium Success %\"], x = yr).rvalue,4),\"\\nStrong growth, .57% growth in success rate a year, with a statistically significant slope.\")\n",
    "# LINEAR REGRESSION BETWEEN COMPANY SIZE AND APPLICATIONS OVER TIME: MEDIUM COMPANY\n",
    "print(\"\\nMedium Company Application Rate Over Time Slope:\",round(st.linregress(y = regressdf[\"Medium Apps\"], x = yr).slope,3),\", P Val:\",round(st.linregress(y = regressdf[\"Medium Apps\"], x = yr).pvalue,4),\", R Val:\",round(st.linregress(y = regressdf[\"Medium Apps\"], x = yr).rvalue,4),\"\\nDoes not appear to be growing strongly, 1122 applications a year, and not a statistically significant slope.\")"
   ]
  },
  {
   "cell_type": "code",
   "execution_count": 334,
   "id": "92e97b0a",
   "metadata": {},
   "outputs": [
    {
     "name": "stdout",
     "output_type": "stream",
     "text": [
      "Large Company Success Rate Over Time Slope: 0.008373 , P Val: 0.0312 , R Val: 0.7526 \n",
      "Strong growth, .83% growth in success rate a year, and not a statistically significant slope.\n",
      "\n",
      "Large Company Application Rate Over Time Slope: 2523.298 , P Val: 0.1291 , R Val: 0.5833 \n",
      "Moderate growth, 2523 applications a year, and not a statistically significant slope.\n"
     ]
    }
   ],
   "source": [
    "# LINEAR REGRESSION BETWEEN COMPANY SIZE AND SUCCESS RATE OVER TIME: LARGE COMPANY\n",
    "print(\"Large Company Success Rate Over Time Slope:\",round(st.linregress(y = regressdf[\"Large Success %\"], x = yr).slope,6),\", P Val:\",round(st.linregress(y = regressdf[\"Large Success %\"], x = yr).pvalue,4),\", R Val:\",round(st.linregress(y = regressdf[\"Large Success %\"], x = yr).rvalue,4),\"\\nStrong growth, .83% growth in success rate a year, and not a statistically significant slope.\")\n",
    "# LINEAR REGRESSION BETWEEN COMPANY SIZE AND APPLICATIONS OVER TIME: LARGE COMPANY\n",
    "print(\"\\nLarge Company Application Rate Over Time Slope:\",round(st.linregress(y = regressdf[\"Large Apps\"], x = yr).slope,3),\", P Val:\",round(st.linregress(y = regressdf[\"Large Apps\"], x = yr).pvalue,4),\", R Val:\",round(st.linregress(y = regressdf[\"Large Apps\"], x = yr).rvalue,4),\"\\nModerate growth, 2523 applications a year, and not a statistically significant slope.\")"
   ]
  },
  {
   "cell_type": "code",
   "execution_count": 357,
   "id": "28ad71b2",
   "metadata": {},
   "outputs": [
    {
     "data": {
      "image/png": "[encoded data removed]",
      "text/plain": [
       "<Figure size 864x720 with 1 Axes>"
      ]
     },
     "metadata": {
      "needs_background": "light"
     },
     "output_type": "display_data"
    }
   ],
   "source": [
    "# DISTRIBUTION OF YEAR COMMENCED\n",
    "# PLOT THE DIST OF YEAR COMMENCED\n",
    "plt.figure(figsize = (12,10))\n",
    "empcount = sns.histplot(x = df[\"EMPLOYER_YEAR_COMMENCED_BUSINESS\"], bins = 100)\n",
    "plt.tight_layout()"
   ]
  },
  {
   "cell_type": "code",
   "execution_count": null,
   "id": "c4f544d6",
   "metadata": {},
   "outputs": [],
   "source": []
  },
  {
   "cell_type": "code",
   "execution_count": null,
   "id": "8c9aeb07",
   "metadata": {},
   "outputs": [],
   "source": []
  },
  {
   "cell_type": "code",
   "execution_count": null,
   "id": "20faa5a3",
   "metadata": {},
   "outputs": [],
   "source": []
  },
  {
   "cell_type": "code",
   "execution_count": null,
   "id": "bd496d7a",
   "metadata": {},
   "outputs": [],
   "source": []
  },
  {
   "cell_type": "code",
   "execution_count": null,
   "id": "47191817",
   "metadata": {},
   "outputs": [],
   "source": []
  },
  {
   "cell_type": "code",
   "execution_count": null,
   "id": "fadb899f",
   "metadata": {},
   "outputs": [],
   "source": []
  },
  {
   "cell_type": "code",
   "execution_count": null,
   "id": "59bae43a",
   "metadata": {},
   "outputs": [],
   "source": []
  },
  {
   "cell_type": "code",
   "execution_count": null,
   "id": "5f263d73",
   "metadata": {},
   "outputs": [],
   "source": []
  },
  {
   "cell_type": "code",
   "execution_count": null,
   "id": "509f641f",
   "metadata": {},
   "outputs": [],
   "source": []
  },
  {
   "cell_type": "code",
   "execution_count": null,
   "id": "e839a3a2",
   "metadata": {},
   "outputs": [],
   "source": []
  },
  {
   "cell_type": "code",
   "execution_count": null,
   "id": "30f2081f",
   "metadata": {},
   "outputs": [],
   "source": []
  },
  {
   "cell_type": "code",
   "execution_count": null,
   "id": "181f5d25",
   "metadata": {},
   "outputs": [],
   "source": []
  },
  {
   "cell_type": "code",
   "execution_count": null,
   "id": "078ab04b",
   "metadata": {},
   "outputs": [],
   "source": []
  },
  {
   "cell_type": "code",
   "execution_count": null,
   "id": "620b423e",
   "metadata": {},
   "outputs": [],
   "source": []
  },
  {
   "cell_type": "code",
   "execution_count": null,
   "id": "4b548f63",
   "metadata": {},
   "outputs": [],
   "source": []
  },
  {
   "cell_type": "code",
   "execution_count": null,
   "id": "f2eff606",
   "metadata": {},
   "outputs": [],
   "source": []
  },
  {
   "cell_type": "code",
   "execution_count": null,
   "id": "e773999e",
   "metadata": {},
   "outputs": [],
   "source": []
  },
  {
   "cell_type": "code",
   "execution_count": null,
   "id": "60006482",
   "metadata": {},
   "outputs": [],
   "source": []
  },
  {
   "cell_type": "code",
   "execution_count": null,
   "id": "185d1022",
   "metadata": {},
   "outputs": [],
   "source": []
  },
  {
   "cell_type": "code",
   "execution_count": null,
   "id": "f637e076",
   "metadata": {},
   "outputs": [],
   "source": []
  },
  {
   "cell_type": "code",
   "execution_count": null,
   "id": "129fea91",
   "metadata": {},
   "outputs": [],
   "source": [
    "#### APPLICATION / JOB RELATED #####"
   ]
  },
  {
   "cell_type": "code",
   "execution_count": null,
   "id": "41f9945f",
   "metadata": {},
   "outputs": [],
   "source": [
    "#### WAGE ANALYSIS ####"
   ]
  },
  {
   "cell_type": "code",
   "execution_count": null,
   "id": "549c7af6",
   "metadata": {},
   "outputs": [],
   "source": [
    "yr = df[\"YEAR\"].unique().tolist()\n",
    "yr = yr.sort()"
   ]
  },
  {
   "cell_type": "code",
   "execution_count": null,
   "id": "767213ca",
   "metadata": {},
   "outputs": [],
   "source": [
    "# CORREL AND LIN REG BETWEEN Wage Offered and the Year (case by case)\n",
    "st.linregress(y = df.reset_index().dropna()[\"WO_A\"], x = yr)"
   ]
  },
  {
   "cell_type": "code",
   "execution_count": null,
   "id": "64f0a990",
   "metadata": {},
   "outputs": [],
   "source": [
    "# CORREL AND LIN REG BETWEEN Wage offered (btm 25%) and Year (in aggregate)\n",
    "st.linregress(y = df.groupby(\"YEAR\")[\"WO_A\"].quantile(.25), x = yr)"
   ]
  },
  {
   "cell_type": "code",
   "execution_count": null,
   "id": "65a68cee",
   "metadata": {},
   "outputs": [],
   "source": [
    "# CORREL AND LIN REG BETWEEN Wage offered (median) and Year (in aggregate)\n",
    "st.linregress(y = df.groupby(\"YEAR\")[\"WO_A\"].quantile(.5), x = yr)"
   ]
  },
  {
   "cell_type": "code",
   "execution_count": null,
   "id": "e5f5923a",
   "metadata": {},
   "outputs": [],
   "source": [
    "# CORREL AND LIN REG BETWEEN Wage offered (top 75%) and Year (in aggregate)\n",
    "st.linregress(y = df.groupby(\"YEAR\")[\"WO_A\"].quantile(.75), x = yr)"
   ]
  },
  {
   "cell_type": "code",
   "execution_count": null,
   "id": "20bc5419",
   "metadata": {},
   "outputs": [],
   "source": [
    "# CORREL AND LIN REG BETWEEN WAGE OFFERED - PW WAGE and Acceptance (case by case) \n",
    "# FIRST TURN INTO A DUMMY AND THEN COMPARE WITH CASE STATUS AND COMPARE IT WITH IF WAGE OFFER NOT BIGGER: ANY DIFFERENCE?\n",
    "st.linregress(x = np.where(df[\"OW-PW\"]> 0, 1, 0),y = df[\"CASE_STATUS\"])\n",
    "st.linregress(x = np.where(df[\"OW-PW\"]< 0, 1, 0),y = df[\"CASE_STATUS\"])"
   ]
  },
  {
   "cell_type": "code",
   "execution_count": null,
   "id": "a2bb3819",
   "metadata": {},
   "outputs": [],
   "source": [
    "#PLOT OF AVERAGE WAGE - PW\n",
    "fig,axes = plt.subplots(ncols = 2, figsize = (12,10))\n",
    "df.groupby(\"YEAR\")[\"OW-PW\"].mean().plot(ax = axes[0],kind = \"bar\")\n",
    "df.groupby(\"YEAR\")[\"OW-PW\"].quantile(.5).plot(ax = axes[1],kind = \"bar\")"
   ]
  },
  {
   "cell_type": "code",
   "execution_count": null,
   "id": "6ab2e54d",
   "metadata": {},
   "outputs": [],
   "source": []
  },
  {
   "cell_type": "code",
   "execution_count": null,
   "id": "8ae3df3e",
   "metadata": {},
   "outputs": [],
   "source": []
  },
  {
   "cell_type": "code",
   "execution_count": null,
   "id": "395da0e8",
   "metadata": {},
   "outputs": [],
   "source": [
    "### CITY, STATE, AND REGION TO WORK IN ###"
   ]
  },
  {
   "cell_type": "code",
   "execution_count": null,
   "id": "e2ec211b",
   "metadata": {},
   "outputs": [],
   "source": [
    "# ACCEPT % BASED ON STATE HQ IN\n",
    "\n",
    "empy = df.groupby(\"EMPLOYER_STATE\")[\"CASE_STATUS\"].value_counts()\n",
    "empyer = pd.DataFrame(empy.groupby(level=0).transform(lambda x: (x / x.sum()).round(2)))\n",
    "empyer.columns = [\"Percent\"]\n",
    "f1 = empyer.reset_index()[\"EMPLOYER_STATE\"].tolist()\n",
    "t1 = empyer.reset_index()[\"CASE_STATUS\"].replace(1,\"Accept\").replace(0,\"Reject\").tolist()\n",
    "idx1 = []\n",
    "idx1.extend([tuple(a) for a in zip (f1,t1)])\n",
    "empyer.index = pd.MultiIndex.from_tuples(idx1)\n",
    "empyer = empyer.reset_index()\n",
    "empyer = empyer[empyer[\"level_1\"]==\"Accept\"]\n",
    "empyer = empyer.drop(\"level_1\",axis = 1)\n",
    "\n",
    "empycount = pd.DataFrame(df.groupby(\"EMPLOYER_STATE\")[\"CASE_STATUS\"].value_counts())\n",
    "empycount.columns = [\"Count\"]\n",
    "empycount = empycount.reset_index()\n",
    "empycount = empycount[empycount[\"CASE_STATUS\"]==1]\n",
    "empycount = empycount[\"Count\"]\n",
    "\n",
    "empyer = pd.concat([empyer, empycount], axis = 1)\n",
    "empyer.columns = [\"State\",\"Percent\",\"Count\"]\n",
    "empyer[\"Count\"] = empyer[\"State\"].astype(str)+\": \"+empyer[\"Count\"].astype(str)+\" Successful Applications\"\n",
    "empyer"
   ]
  },
  {
   "cell_type": "code",
   "execution_count": null,
   "id": "e2de1f84",
   "metadata": {},
   "outputs": [],
   "source": [
    "# Choropleth Map of Employer State Accept %\n",
    "data = dict(type = \"choropleth\",\n",
    "           locations = empyer[\"State\"],\n",
    "           locationmode = \"USA-states\",\n",
    "           z = empyer[\"Percent\"].astype(float),\n",
    "           text = empyer[\"Count\"],\n",
    "           colorbar={\"title\":\"Percent Accepted\"},\n",
    "           colorscale = \"delta\",\n",
    "           marker = dict(line = dict(color = \"rgb(255,255,255)\")) )\n",
    "layout = dict(title = \"Percent Accepted in Employer Headquartered States\",\n",
    "              geo = dict(scope = \"usa\",showlakes = True, lakecolor = \"rgb(255,255,255)\"))\n",
    "choro = go.Figure(data, layout)\n",
    "iplot(choro)"
   ]
  },
  {
   "cell_type": "code",
   "execution_count": null,
   "id": "90d67fd7",
   "metadata": {},
   "outputs": [],
   "source": [
    "# ACCEPT % BASED ON STATE WORKED IN\n",
    "\n",
    "joby = df.groupby(\"JOB_INFO_WORK_STATE\")[\"CASE_STATUS\"].value_counts()\n",
    "jobyer = pd.DataFrame(joby.groupby(level=0).transform(lambda x: (x / x.sum()).round(2)))\n",
    "jobyer.columns = [\"Percent\"]\n",
    "f1 = jobyer.reset_index()[\"JOB_INFO_WORK_STATE\"].tolist()\n",
    "t1 = jobyer.reset_index()[\"CASE_STATUS\"].replace(1,\"Accept\").replace(0,\"Reject\").tolist()\n",
    "idx1 = []\n",
    "idx1.extend([tuple(a) for a in zip (f1,t1)])\n",
    "jobyer.index = pd.MultiIndex.from_tuples(idx1)\n",
    "jobyer = jobyer.reset_index()\n",
    "jobyer = jobyer[jobyer[\"level_1\"]==\"Accept\"]\n",
    "jobyer = jobyer.drop(\"level_1\",axis = 1)\n",
    "\n",
    "jobycount = pd.DataFrame(df.groupby(\"JOB_INFO_WORK_STATE\")[\"CASE_STATUS\"].value_counts())\n",
    "jobycount.columns = [\"Count\"]\n",
    "jobycount = jobycount.reset_index()\n",
    "jobycount = jobycount[jobycount[\"CASE_STATUS\"]==1]\n",
    "jobycount = jobycount[\"Count\"]\n",
    "\n",
    "jobyer = pd.concat([jobyer, jobycount], axis = 1)\n",
    "jobyer.columns = [\"State\",\"Percent\",\"Count\"]\n",
    "jobyer[\"Count\"] = jobyer[\"State\"].astype(str)+\": \"+jobyer[\"Count\"].astype(str)+\" Successful Applications\"\n",
    "jobyer"
   ]
  },
  {
   "cell_type": "code",
   "execution_count": null,
   "id": "7f0db2c4",
   "metadata": {},
   "outputs": [],
   "source": [
    "# Choropleth Map of JOB State Accept %\n",
    "data = dict(type = \"choropleth\",\n",
    "           locations = jobyer[\"State\"],\n",
    "           locationmode = \"USA-states\",\n",
    "           z = jobyer[\"Percent\"].astype(float),\n",
    "           text = jobyer[\"Count\"],\n",
    "           colorbar={\"title\":\"Percent Accepted\"},\n",
    "           colorscale = \"delta\",\n",
    "           marker = dict(line = dict(color = \"rgb(255,255,255)\")) )\n",
    "layout = dict(title = \"Percent Accepted in States Worked In\",\n",
    "              geo = dict(scope = \"usa\",showlakes = True, lakecolor = \"rgb(255,255,255)\"))\n",
    "choro = go.Figure(data, layout)\n",
    "iplot(choro)"
   ]
  },
  {
   "cell_type": "code",
   "execution_count": null,
   "id": "1df4b556",
   "metadata": {},
   "outputs": [],
   "source": [
    "# top 15 CITY TO WORK IN (APPLICATION)\n",
    "def grab (year):\n",
    "    return df[df[\"YEAR\"]==year][\"JOB_INFO_WORK_CITY\"].value_counts()[:15]\n",
    "top15jcityapp = pd.DataFrame([grab(2007),grab(2008),grab(2009),grab(2010),\n",
    "             grab(2011),grab(2012),grab(2013),grab(2014),grab(2015),\n",
    "             grab(2016),grab(2017),grab(2018),grab(2019),grab(2020),\n",
    "             grab(2021)], index = [2007,2008,2009,2010,2011,2012,2013,2014,2015,2016,2017,\n",
    "                                  2018,2019,2020,2021]).transpose()\n",
    "# King of Consistency: Count the N in top 15 (application) Job city\n",
    "kingconjc = top15jcityapp.isnull().replace(False,0).replace(True,1)\n",
    "kingconjc[\"Yrs not in top15\"] = kingconjc[2007]+kingconjc[2008]+kingconjc[2009]+kingconjc[2010]+kingconjc[2011]+kingconjc[2012]+kingconjc[2013]+kingconjc[2014]+kingconjc[2015]+kingconjc[2016]+kingconjc[2017]+kingconjc[2018]+kingconjc[2019]+kingconjc[2020]+kingconjc[2021]\n",
    "kingconjc[\"Yrs not in top15\"].sort_values()"
   ]
  },
  {
   "cell_type": "code",
   "execution_count": null,
   "id": "961ce93b",
   "metadata": {},
   "outputs": [],
   "source": [
    "# Top 15 City TO WORK IN (SUCCESS)\n",
    "def grab (year):\n",
    "    return df[(df[\"YEAR\"]==year)&(df[\"CASE_STATUS\"]==1)][\"JOB_INFO_WORK_CITY\"].value_counts()[:15]\n",
    "top15jcitysuc = pd.DataFrame([grab(2007),grab(2008),grab(2009),grab(2010),\n",
    "             grab(2011),grab(2012),grab(2013),grab(2014),grab(2015),\n",
    "             grab(2016),grab(2017),grab(2018),grab(2019),grab(2020),\n",
    "             grab(2021)], index = [2007,2008,2009,2010,2011,2012,2013,2014,2015,2016,2017,\n",
    "                                  2018,2019,2020,2021]).transpose()\n",
    "# King of Consistency: Count the N in top 15 (success) Job city\n",
    "kingconjc = top15jcitysuc.isnull().replace(False,0).replace(True,1)\n",
    "kingconjc[\"Yrs not in top15\"] = kingconjc[2007]+kingconjc[2008]+kingconjc[2009]+kingconjc[2010]+kingconjc[2011]+kingconjc[2012]+kingconjc[2013]+kingconjc[2014]+kingconjc[2015]+kingconjc[2016]+kingconjc[2017]+kingconjc[2018]+kingconjc[2019]+kingconjc[2020]+kingconjc[2021]\n",
    "kingconjc[\"Yrs not in top15\"].sort_values()"
   ]
  },
  {
   "cell_type": "code",
   "execution_count": null,
   "id": "8ac3baf9",
   "metadata": {},
   "outputs": [],
   "source": [
    "##### DEEPER DIVE INTO TOP CITY ####"
   ]
  },
  {
   "cell_type": "code",
   "execution_count": null,
   "id": "61f551c5",
   "metadata": {},
   "outputs": [],
   "source": [
    "# Working in New York City\n",
    "# TOP JOB CODES in NEW YORK CITY\n",
    "appcol = pd.DataFrame(df[df[\"JOB_INFO_WORK_CITY\"]==\"NEW YORK\"][\"PW_SOC_CODE\"].value_counts()[:15]).reset_index()\n",
    "appcol.columns = [\"ACode\",\"ACount\"]\n",
    "succol = pd.DataFrame(df[(df[\"JOB_INFO_WORK_CITY\"]==\"NEW YORK\")&(df[\"CASE_STATUS\"]==1)][\"PW_SOC_CODE\"].value_counts()[:15]).reset_index()\n",
    "succol.columns = [\"SCode\",\"SCount\"]\n",
    "pd.concat([appcol,succol], axis = 1)"
   ]
  },
  {
   "cell_type": "code",
   "execution_count": null,
   "id": "14d412bd",
   "metadata": {},
   "outputs": [],
   "source": [
    "# Working in New York City\n",
    "# EMPLOYER NAMES\n",
    "appcol = pd.DataFrame(df[df[\"JOB_INFO_WORK_CITY\"]==\"NEW YORK\"][\"EMPLOYER_NAME\"].value_counts()[:15]).reset_index()\n",
    "appcol.columns = [\"AName\",\"ACount\"]\n",
    "succol = pd.DataFrame(df[(df[\"JOB_INFO_WORK_CITY\"]==\"NEW YORK\")&(df[\"CASE_STATUS\"]==1)][\"EMPLOYER_NAME\"].value_counts()[:15]).reset_index()\n",
    "succol.columns = [\"SName\",\"SCount\"]\n",
    "pd.concat([appcol,succol], axis = 1)"
   ]
  },
  {
   "cell_type": "code",
   "execution_count": null,
   "id": "2a05c015",
   "metadata": {},
   "outputs": [],
   "source": [
    "# Working in New York City\n",
    "# Wage Offered\n",
    "print(\"25th Percentile Application:\",round(df[df[\"JOB_INFO_WORK_CITY\"]==\"NEW YORK\"][\"WAGE_OFFER_FROM_9089\"].quantile(.25),2))\n",
    "print(\"25th Percentile Success:\",round(df[(df[\"JOB_INFO_WORK_CITY\"]==\"NEW YORK\")&(df[\"CASE_STATUS\"]==1)][\"WAGE_OFFER_FROM_9089\"].quantile(.25),2))\n",
    "print(\"Mean Application:\",round(df[df[\"JOB_INFO_WORK_CITY\"]==\"NEW YORK\"][\"WAGE_OFFER_FROM_9089\"].mean(),2))\n",
    "print(\"Mean Success:\",round(df[(df[\"JOB_INFO_WORK_CITY\"]==\"NEW YORK\")&(df[\"CASE_STATUS\"]==1)][\"WAGE_OFFER_FROM_9089\"].mean(),2))\n",
    "print(\"Median Application:\",round(df[df[\"JOB_INFO_WORK_CITY\"]==\"NEW YORK\"][\"WAGE_OFFER_FROM_9089\"].median(),2))\n",
    "print(\"Median Sucess:\",round(df[(df[\"JOB_INFO_WORK_CITY\"]==\"NEW YORK\")&(df[\"CASE_STATUS\"]==1)][\"WAGE_OFFER_FROM_9089\"].median(),2))\n",
    "print(\"75th Percentile Application:\",round(df[df[\"JOB_INFO_WORK_CITY\"]==\"NEW YORK\"][\"WAGE_OFFER_FROM_9089\"].quantile(.75),2))\n",
    "print(\"75th Percentile Success:\",round(df[(df[\"JOB_INFO_WORK_CITY\"]==\"NEW YORK\")&(df[\"CASE_STATUS\"]==1)][\"WAGE_OFFER_FROM_9089\"].quantile(.75),2))"
   ]
  },
  {
   "cell_type": "code",
   "execution_count": null,
   "id": "0381ed39",
   "metadata": {},
   "outputs": [],
   "source": [
    "# Working in New York City\n",
    "# Class of Admission\n",
    "appcol = pd.DataFrame(df[df[\"JOB_INFO_WORK_CITY\"]==\"NEW YORK\"][\"CLASS_OF_ADMISSION\"].value_counts()[:15]).reset_index()\n",
    "appcol.columns = [\"AClass\",\"ACount\"]\n",
    "succol = pd.DataFrame(df[(df[\"JOB_INFO_WORK_CITY\"]==\"NEW YORK\")&(df[\"CASE_STATUS\"]==1)][\"CLASS_OF_ADMISSION\"].value_counts()[:15]).reset_index()\n",
    "succol.columns = [\"SClass\",\"SCount\"]\n",
    "pd.concat([appcol,succol], axis = 1)"
   ]
  },
  {
   "cell_type": "code",
   "execution_count": null,
   "id": "d1b5a476",
   "metadata": {},
   "outputs": [],
   "source": [
    "# Working in New York City\n",
    "# Top Years\n",
    "appcol = pd.DataFrame(df[df[\"JOB_INFO_WORK_CITY\"]==\"NEW YORK\"][\"YEAR\"].value_counts()[:15]).reset_index()\n",
    "appcol.columns = [\"AYear\",\"ACount\"]\n",
    "succol = pd.DataFrame(df[(df[\"JOB_INFO_WORK_CITY\"]==\"NEW YORK\")&(df[\"CASE_STATUS\"]==1)][\"YEAR\"].value_counts()[:15]).reset_index()\n",
    "succol.columns = [\"SYear\",\"SCount\"]\n",
    "pd.concat([appcol,succol], axis = 1)"
   ]
  },
  {
   "cell_type": "code",
   "execution_count": null,
   "id": "32f8cc18",
   "metadata": {},
   "outputs": [],
   "source": [
    "# Working in New York City\n",
    "# CORREL AND LIN REG BETWEEN YEARS AND NEW YORK CITY"
   ]
  },
  {
   "cell_type": "code",
   "execution_count": null,
   "id": "f74b971a",
   "metadata": {},
   "outputs": [],
   "source": [
    "# Top 15 State worked in (application)\n",
    "def grab (year):\n",
    "    return df[df[\"YEAR\"]==year][\"JOB_INFO_WORK_STATE\"].value_counts()[:15]\n",
    "top15jstateapp = pd.DataFrame([grab(2007),grab(2008),grab(2009),grab(2010),\n",
    "             grab(2011),grab(2012),grab(2013),grab(2014),grab(2015),\n",
    "             grab(2016),grab(2017),grab(2018),grab(2019),grab(2020),\n",
    "             grab(2021)], index = [2007,2008,2009,2010,2011,2012,2013,2014,2015,2016,2017,\n",
    "                                  2018,2019,2020,2021]).transpose()\n",
    "# King of Consistency: Count the N in top 15 (application) Job state\n",
    "kingconjc = top15jstateapp.isnull().replace(False,0).replace(True,1)\n",
    "kingconjc[\"Yrs not in top15\"] = kingconjc[2007]+kingconjc[2008]+kingconjc[2009]+kingconjc[2010]+kingconjc[2011]+kingconjc[2012]+kingconjc[2013]+kingconjc[2014]+kingconjc[2015]+kingconjc[2016]+kingconjc[2017]+kingconjc[2018]+kingconjc[2019]+kingconjc[2020]+kingconjc[2021]\n",
    "kingconjc[\"Yrs not in top15\"].sort_values()"
   ]
  },
  {
   "cell_type": "code",
   "execution_count": null,
   "id": "d8f901e7",
   "metadata": {},
   "outputs": [],
   "source": [
    "# Top 15 State worked in (success)\n",
    "def grab (year):\n",
    "    return df[(df[\"YEAR\"]==year)&(df[\"CASE_STATUS\"]==1)][\"JOB_INFO_WORK_STATE\"].value_counts()[:15]\n",
    "top15jstatesuc = pd.DataFrame([grab(2007),grab(2008),grab(2009),grab(2010),\n",
    "             grab(2011),grab(2012),grab(2013),grab(2014),grab(2015),\n",
    "             grab(2016),grab(2017),grab(2018),grab(2019),grab(2020),\n",
    "             grab(2021)], index = [2007,2008,2009,2010,2011,2012,2013,2014,2015,2016,2017,\n",
    "                                  2018,2019,2020,2021]).transpose()\n",
    "# King of Consistency: Count the N in top 15 (success) Job state\n",
    "kingconjc = top15jstatesuc.isnull().replace(False,0).replace(True,1)\n",
    "kingconjc[\"Yrs not in top15\"] = kingconjc[2007]+kingconjc[2008]+kingconjc[2009]+kingconjc[2010]+kingconjc[2011]+kingconjc[2012]+kingconjc[2013]+kingconjc[2014]+kingconjc[2015]+kingconjc[2016]+kingconjc[2017]+kingconjc[2018]+kingconjc[2019]+kingconjc[2020]+kingconjc[2021]\n",
    "kingconjc[\"Yrs not in top15\"].sort_values()"
   ]
  },
  {
   "cell_type": "code",
   "execution_count": null,
   "id": "5f0a24ce",
   "metadata": {},
   "outputs": [],
   "source": [
    "##### DEEPER DIVE INTO TOP STATE ####"
   ]
  },
  {
   "cell_type": "code",
   "execution_count": null,
   "id": "4069aa40",
   "metadata": {},
   "outputs": [],
   "source": [
    "# Working in CA State\n",
    "# TOP JOB CODES in CA \n",
    "appcol = pd.DataFrame(df[df[\"JOB_INFO_WORK_STATE\"]==\"CA\"][\"PW_SOC_CODE\"].value_counts()[:15]).reset_index()\n",
    "appcol.columns = [\"ACode\",\"ACount\"]\n",
    "succol = pd.DataFrame(df[(df[\"JOB_INFO_WORK_STATE\"]==\"CA\")&(df[\"CASE_STATUS\"]==1)][\"PW_SOC_CODE\"].value_counts()[:15]).reset_index()\n",
    "succol.columns = [\"SCode\",\"SCount\"]\n",
    "pd.concat([appcol,succol], axis = 1)"
   ]
  },
  {
   "cell_type": "code",
   "execution_count": null,
   "id": "97466bfc",
   "metadata": {},
   "outputs": [],
   "source": [
    "# Working in CA State\n",
    "# EMPLOYER NAMES\n",
    "appcol = pd.DataFrame(df[df[\"JOB_INFO_WORK_STATE\"]==\"CA\"][\"EMPLOYER_NAME\"].value_counts()[:15]).reset_index()\n",
    "appcol.columns = [\"AName\",\"ACount\"]\n",
    "succol = pd.DataFrame(df[(df[\"JOB_INFO_WORK_STATE\"]==\"CA\")&(df[\"CASE_STATUS\"]==1)][\"EMPLOYER_NAME\"].value_counts()[:15]).reset_index()\n",
    "succol.columns = [\"SName\",\"SCount\"]\n",
    "pd.concat([appcol,succol], axis = 1)"
   ]
  },
  {
   "cell_type": "code",
   "execution_count": null,
   "id": "9926eafa",
   "metadata": {},
   "outputs": [],
   "source": [
    "# Working in CA State\n",
    "# Wage Offered\n",
    "print(\"25th Percentile Application:\",round(df[df[\"JOB_INFO_WORK_STATE\"]==\"CA\"][\"WAGE_OFFER_FROM_9089\"].quantile(.25),2))\n",
    "print(\"25th Percentile Success:\",round(df[(df[\"JOB_INFO_WORK_STATE\"]==\"CA\")&(df[\"CASE_STATUS\"]==1)][\"WAGE_OFFER_FROM_9089\"].quantile(.25),2))\n",
    "print(\"Mean Application:\",round(df[df[\"JOB_INFO_WORK_STATE\"]==\"CA\"][\"WAGE_OFFER_FROM_9089\"].mean(),2))\n",
    "print(\"Mean Success:\",round(df[(df[\"JOB_INFO_WORK_STATE\"]==\"CA\")&(df[\"CASE_STATUS\"]==1)][\"WAGE_OFFER_FROM_9089\"].mean(),2))\n",
    "print(\"Median Application:\",round(df[df[\"JOB_INFO_WORK_STATE\"]==\"CA\"][\"WAGE_OFFER_FROM_9089\"].median(),2))\n",
    "print(\"Median Sucess:\",round(df[(df[\"JOB_INFO_WORK_STATE\"]==\"CA\")&(df[\"CASE_STATUS\"]==1)][\"WAGE_OFFER_FROM_9089\"].median(),2))\n",
    "print(\"75th Percentile Application:\",round(df[df[\"JOB_INFO_WORK_STATE\"]==\"CA\"][\"WAGE_OFFER_FROM_9089\"].quantile(.75),2))\n",
    "print(\"75th Percentile Success:\",round(df[(df[\"JOB_INFO_WORK_STATE\"]==\"CA\")&(df[\"CASE_STATUS\"]==1)][\"WAGE_OFFER_FROM_9089\"].quantile(.75),2))"
   ]
  },
  {
   "cell_type": "code",
   "execution_count": null,
   "id": "77f4e8df",
   "metadata": {},
   "outputs": [],
   "source": [
    "# Working in CA State\n",
    "# Class of Admission\n",
    "appcol = pd.DataFrame(df[df[\"JOB_INFO_WORK_STATE\"]==\"CA\"][\"CLASS_OF_ADMISSION\"].value_counts()[:15]).reset_index()\n",
    "appcol.columns = [\"AClass\",\"ACount\"]\n",
    "succol = pd.DataFrame(df[(df[\"JOB_INFO_WORK_STATE\"]==\"CA\")&(df[\"CASE_STATUS\"]==1)][\"CLASS_OF_ADMISSION\"].value_counts()[:15]).reset_index()\n",
    "succol.columns = [\"SClass\",\"SCount\"]\n",
    "pd.concat([appcol,succol], axis = 1)"
   ]
  },
  {
   "cell_type": "code",
   "execution_count": null,
   "id": "8c8e7dfa",
   "metadata": {},
   "outputs": [],
   "source": [
    "# Working in CA State\n",
    "# Top Years\n",
    "appcol = pd.DataFrame(df[df[\"JOB_INFO_WORK_STATE\"]==\"CA\"][\"YEAR\"].value_counts()[:15]).reset_index()\n",
    "appcol.columns = [\"AYear\",\"ACount\"]\n",
    "succol = pd.DataFrame(df[(df[\"JOB_INFO_WORK_STATE\"]==\"CA\")&(df[\"CASE_STATUS\"]==1)][\"YEAR\"].value_counts()[:15]).reset_index()\n",
    "succol.columns = [\"SYear\",\"SCount\"]\n",
    "pd.concat([appcol,succol], axis = 1)"
   ]
  },
  {
   "cell_type": "code",
   "execution_count": null,
   "id": "fb8e66a2",
   "metadata": {},
   "outputs": [],
   "source": [
    "# Working in CA State\n",
    "# CORREL AND LIN REG BETWEEN YEARS AND CA "
   ]
  },
  {
   "cell_type": "code",
   "execution_count": null,
   "id": "08449c08",
   "metadata": {},
   "outputs": [],
   "source": [
    "#### JOB CODE ANALYSIS #####"
   ]
  },
  {
   "cell_type": "code",
   "execution_count": null,
   "id": "b1816d18",
   "metadata": {},
   "outputs": [],
   "source": [
    "# TOP 15 JOB CODES\n",
    "allcode = pd.DataFrame(df[\"PW_SOC_CODE\"].value_counts()[:15]).reset_index()\n",
    "allcode.columns = [\"ACODE\",\"COUNT ACODE\"]\n",
    "succode = pd.DataFrame(df[df[\"CASE_STATUS\"]==1][\"PW_SOC_CODE\"].value_counts()[:15]).reset_index()\n",
    "succode.columns = [\"SCODE\",\"COUNT SCODE\"]\n",
    "pd.concat([allcode,succode], axis = 1)"
   ]
  },
  {
   "cell_type": "code",
   "execution_count": null,
   "id": "02937458",
   "metadata": {},
   "outputs": [],
   "source": [
    "# TOP 15 Apps codes\n",
    "def grab (year):\n",
    "    return df[df[\"YEAR\"]==year][\"PW_SOC_CODE\"].value_counts()[:15]\n",
    "top15code = pd.DataFrame([grab(2007),grab(2008),grab(2009),grab(2010),\n",
    "             grab(2011),grab(2012),grab(2013),grab(2014),grab(2015),\n",
    "             grab(2016),grab(2017),grab(2018),grab(2019),grab(2020),\n",
    "             grab(2021)], index = [2007,2008,2009,2010,2011,2012,2013,2014,2015,2016,2017,\n",
    "                                  2018,2019,2020,2021]).transpose()\n",
    "# King of Consistency: Count the N in top 15 (application)\n",
    "kingconjc = top15code.isnull().replace(False,0).replace(True,1)\n",
    "kingconjc[\"Yrs not in top15\"] = kingconjc[2007]+kingconjc[2008]+kingconjc[2009]+kingconjc[2010]+kingconjc[2011]+kingconjc[2012]+kingconjc[2013]+kingconjc[2014]+kingconjc[2015]+kingconjc[2016]+kingconjc[2017]+kingconjc[2018]+kingconjc[2019]+kingconjc[2020]+kingconjc[2021]\n",
    "kingconjc[\"Yrs not in top15\"].sort_values()"
   ]
  },
  {
   "cell_type": "code",
   "execution_count": null,
   "id": "933180fb",
   "metadata": {},
   "outputs": [],
   "source": [
    "# TOP 15 Success Codes\n",
    "def grab (year):\n",
    "    return df[(df[\"YEAR\"]==year)&(df[\"CASE_STATUS\"]==1)][\"PW_SOC_CODE\"].value_counts()[:15]\n",
    "top15acode = pd.DataFrame([grab(2007),grab(2008),grab(2009),grab(2010),\n",
    "             grab(2011),grab(2012),grab(2013),grab(2014),grab(2015),\n",
    "             grab(2016),grab(2017),grab(2018),grab(2019),grab(2020),\n",
    "             grab(2021)], index = [2007,2008,2009,2010,2011,2012,2013,2014,2015,2016,2017,\n",
    "                                  2018,2019,2020,2021]).transpose()\n",
    "# King of Consistency: Count the N in top 15 (success)\n",
    "kingconsjc = top15acode.isnull().replace(False,0).replace(True,1)\n",
    "kingconsjc[\"Yrs not in top15\"] = kingconsjc[2007]+kingconsjc[2008]+kingconsjc[2009]+kingconsjc[2010]+kingconsjc[2011]+kingconsjc[2012]+kingconsjc[2013]+kingconsjc[2014]+kingconsjc[2015]+kingconsjc[2016]+kingconsjc[2017]+kingconsjc[2018]+kingconsjc[2019]+kingconsjc[2020]+kingconsjc[2021]\n",
    "kingconsjc[\"Yrs not in top15\"].sort_values()"
   ]
  },
  {
   "cell_type": "code",
   "execution_count": null,
   "id": "4c067e85",
   "metadata": {},
   "outputs": [],
   "source": [
    "##### DEEPER DIVE INTO TOP 3 JOB CODE ####"
   ]
  },
  {
   "cell_type": "code",
   "execution_count": null,
   "id": "43e1aa70",
   "metadata": {},
   "outputs": [],
   "source": [
    "# 11-3021\n",
    "# Computer and Information Systems Managers\n",
    "# 17-2072\n",
    "# Electronics Engineers, Except Computer\n",
    "# 17-2141\n",
    "# Mechanical Engineers"
   ]
  },
  {
   "cell_type": "code",
   "execution_count": null,
   "id": "ea030e53",
   "metadata": {},
   "outputs": [],
   "source": [
    "# 11-3021, Computer and Information Systems Managers\n",
    "\n",
    "# TOP CITIES WORKED IN\n",
    "appcol = pd.DataFrame(df[df[\"PW_SOC_CODE\"]==\"11-3021\"][\"JOB_INFO_WORK_CITY\"].value_counts()[:15]).reset_index()\n",
    "appcol.columns = [\"ACity\",\"ACount\"]\n",
    "succol = pd.DataFrame(df[(df[\"PW_SOC_CODE\"]==\"11-3021\")&(df[\"CASE_STATUS\"]==1)][\"JOB_INFO_WORK_CITY\"].value_counts()[:15]).reset_index()\n",
    "succol.columns = [\"SCity\",\"SCount\"]\n",
    "pd.concat([appcol,succol], axis = 1)"
   ]
  },
  {
   "cell_type": "code",
   "execution_count": null,
   "id": "7d1bb2e9",
   "metadata": {},
   "outputs": [],
   "source": [
    "# TOP STATES WORKED IN \n",
    "appcol = pd.DataFrame(df[df[\"PW_SOC_CODE\"]==\"11-3021\"][\"JOB_INFO_WORK_STATE\"].value_counts()[:15]).reset_index()\n",
    "appcol.columns = [\"AState\",\"ACount\"]\n",
    "succol = pd.DataFrame(df[(df[\"PW_SOC_CODE\"]==\"11-3021\")&(df[\"CASE_STATUS\"]==1)][\"JOB_INFO_WORK_STATE\"].value_counts()[:15]).reset_index()\n",
    "succol.columns = [\"SState\",\"SCount\"]\n",
    "pd.concat([appcol,succol], axis = 1)"
   ]
  },
  {
   "cell_type": "code",
   "execution_count": null,
   "id": "5a2795a6",
   "metadata": {},
   "outputs": [],
   "source": [
    "jobcho = pd.DataFrame(df[(df[\"PW_SOC_CODE\"]==\"11-3021\")&(df[\"CASE_STATUS\"]==1)][\"JOB_INFO_WORK_STATE\"].value_counts()).reset_index()\n",
    "jobcho.columns = [\"SState\",\"SCount\"]\n",
    "jobcho[\"text\"] = jobcho[\"SState\"].astype(str)+\": \"+jobcho[\"SCount\"].astype(str)+\" Successful Applications\"\n",
    "# Choropleth Map of EMPLOYER STATE\n",
    "data = dict(type = \"choropleth\",\n",
    "           locations = jobcho[\"SState\"],\n",
    "           locationmode = \"USA-states\",\n",
    "           z = jobcho[\"SCount\"].astype(float),\n",
    "           text = jobcho[\"text\"],\n",
    "           colorbar={\"title\":\"Applications\"},\n",
    "           colorscale = \"oranges\",\n",
    "           marker = dict(line = dict(color = \"rgb(255,255,255)\")) )\n",
    "layout = dict(title = \"Successful 11-3021 Applications in States Worked In\",\n",
    "              geo = dict(scope = \"usa\",showlakes = True, lakecolor = \"rgb(255,255,255)\"))\n",
    "choro = go.Figure(data, layout)\n",
    "iplot(choro)"
   ]
  },
  {
   "cell_type": "code",
   "execution_count": null,
   "id": "c66e890b",
   "metadata": {},
   "outputs": [],
   "source": [
    "# 11-3021, Computer and Information Systems Managers\n",
    "# EMPLOYER NAME\n",
    "appcol = pd.DataFrame(df[df[\"PW_SOC_CODE\"]==\"11-3021\"][\"EMPLOYER_NAME\"].value_counts()[:15]).reset_index()\n",
    "appcol.columns = [\"AName\",\"ACount\"]\n",
    "succol = pd.DataFrame(df[(df[\"PW_SOC_CODE\"]==\"11-3021\")&(df[\"CASE_STATUS\"]==1)][\"EMPLOYER_NAME\"].value_counts()[:15]).reset_index()\n",
    "succol.columns = [\"SName\",\"SCount\"]\n",
    "pd.concat([appcol,succol], axis = 1)"
   ]
  },
  {
   "cell_type": "code",
   "execution_count": null,
   "id": "9d8ba12c",
   "metadata": {},
   "outputs": [],
   "source": [
    "# 11-3021, Computer and Information Systems Managers\n",
    "# Wage Offered\n",
    "print(\"25th Percentile Application:\",round(df[df[\"PW_SOC_CODE\"]==\"11-3021\"][\"WAGE_OFFER_FROM_9089\"].quantile(.25),2))\n",
    "print(\"25th Percentile Success:\",round(df[(df[\"PW_SOC_CODE\"]==\"11-3021\")&(df[\"CASE_STATUS\"]==1)][\"WAGE_OFFER_FROM_9089\"].quantile(.25),2))\n",
    "print(\"Mean Application:\",round(df[df[\"PW_SOC_CODE\"]==\"11-3021\"][\"WAGE_OFFER_FROM_9089\"].mean(),2))\n",
    "print(\"Mean Success:\",round(df[(df[\"PW_SOC_CODE\"]==\"11-3021\")&(df[\"CASE_STATUS\"]==1)][\"WAGE_OFFER_FROM_9089\"].mean(),2))\n",
    "print(\"Median Application:\",round(df[df[\"PW_SOC_CODE\"]==\"11-3021\"][\"WAGE_OFFER_FROM_9089\"].median(),2))\n",
    "print(\"Median Sucess:\",round(df[(df[\"PW_SOC_CODE\"]==\"11-3021\")&(df[\"CASE_STATUS\"]==1)][\"WAGE_OFFER_FROM_9089\"].median(),2))\n",
    "print(\"75th Percentile Application:\",round(df[df[\"PW_SOC_CODE\"]==\"11-3021\"][\"WAGE_OFFER_FROM_9089\"].quantile(.75),2))\n",
    "print(\"75th Percentile Success:\",round(df[(df[\"PW_SOC_CODE\"]==\"11-3021\")&(df[\"CASE_STATUS\"]==1)][\"WAGE_OFFER_FROM_9089\"].quantile(.75),2))"
   ]
  },
  {
   "cell_type": "code",
   "execution_count": null,
   "id": "7185693c",
   "metadata": {},
   "outputs": [],
   "source": [
    "# 11-3021, Computer and Information Systems Managers\n",
    "# Class of Admission\n",
    "appcol = pd.DataFrame(df[df[\"PW_SOC_CODE\"]==\"11-3021\"][\"CLASS_OF_ADMISSION\"].value_counts()[:15]).reset_index()\n",
    "appcol.columns = [\"AClass\",\"ACount\"]\n",
    "succol = pd.DataFrame(df[(df[\"PW_SOC_CODE\"]==\"11-3021\")&(df[\"CASE_STATUS\"]==1)][\"CLASS_OF_ADMISSION\"].value_counts()[:15]).reset_index()\n",
    "succol.columns = [\"SClass\",\"SCount\"]\n",
    "pd.concat([appcol,succol], axis = 1)"
   ]
  },
  {
   "cell_type": "code",
   "execution_count": null,
   "id": "e4827961",
   "metadata": {},
   "outputs": [],
   "source": [
    "# 11-3021, Computer and Information Systems Managers\n",
    "# Top Years\n",
    "appcol = pd.DataFrame(df[df[\"PW_SOC_CODE\"]==\"11-3021\"][\"YEAR\"].value_counts()[:15]).reset_index()\n",
    "appcol.columns = [\"AYear\",\"ACount\"]\n",
    "succol = pd.DataFrame(df[(df[\"PW_SOC_CODE\"]==\"11-3021\")&(df[\"CASE_STATUS\"]==1)][\"YEAR\"].value_counts()[:15]).reset_index()\n",
    "succol.columns = [\"SYear\",\"SCount\"]\n",
    "pd.concat([appcol,succol], axis = 1)"
   ]
  },
  {
   "cell_type": "code",
   "execution_count": null,
   "id": "1c73a1fa",
   "metadata": {},
   "outputs": [],
   "source": [
    "# 11-3021, Computer and Information Systems Managers\n",
    "# CORREL AND LIN REG BETWEEN YEARS AND APPLICATIONS\n"
   ]
  },
  {
   "cell_type": "code",
   "execution_count": null,
   "id": "4cf90bca",
   "metadata": {},
   "outputs": [],
   "source": [
    "### JOB LEVEL ANALYSIS ###"
   ]
  },
  {
   "cell_type": "code",
   "execution_count": null,
   "id": "9664efb5",
   "metadata": {},
   "outputs": [],
   "source": [
    "# DISTRIBUTION OF JOB LEVEL OVER TIME\n",
    "plt.figure(figsize=(12,10))\n",
    "sns.countplot(x = \"YEAR\", hue = \"PW_LEVEL_9089\",data=df,hue_order=[\"LEVEL I\",\"LEVEL II\",\"LEVEL III\",\"LEVEL IV\"])"
   ]
  },
  {
   "cell_type": "code",
   "execution_count": null,
   "id": "b9389983",
   "metadata": {},
   "outputs": [],
   "source": [
    "# SUCCESS % OF JOB LEVEL IN AGGREGATE\n",
    "lo = df[df[\"PW_LEVEL_9089\"] == \"LEVEL I\"][\"CASE_STATUS\"].sum()/len(df[df[\"PW_LEVEL_9089\"] == \"LEVEL I\"])\n",
    "lt = df[df[\"PW_LEVEL_9089\"] == \"LEVEL II\"][\"CASE_STATUS\"].sum()/len(df[df[\"PW_LEVEL_9089\"] == \"LEVEL II\"])\n",
    "lth = df[df[\"PW_LEVEL_9089\"] == \"LEVEL III\"][\"CASE_STATUS\"].sum()/len(df[df[\"PW_LEVEL_9089\"] == \"LEVEL III\"])\n",
    "lf = df[df[\"PW_LEVEL_9089\"] == \"LEVEL IV\"][\"CASE_STATUS\"].sum()/len(df[df[\"PW_LEVEL_9089\"] == \"LEVEL IV\"])\n",
    "#SIMPLE AVG\n",
    "salw =(lo+lt+lth+lf)/4 \n",
    "#WEIGHTED AVG\n",
    "walw = (len(df[df[\"PW_LEVEL_9089\"] == \"LEVEL I\"])*lo+\n",
    "len(df[df[\"PW_LEVEL_9089\"] == \"LEVEL II\"])*lt+\n",
    "len(df[df[\"PW_LEVEL_9089\"] == \"LEVEL III\"])*lth+\n",
    "len(df[df[\"PW_LEVEL_9089\"] == \"LEVEL IV\"])*lf)/len(df[df[\"PW_LEVEL_9089\"].notna()])\n",
    "#MERGING ALL\n",
    "la = pd.DataFrame([lo,lt,lth,lf,salw,walw]).transpose()\n",
    "la.columns=[\"LEVEL I\",\"LEVEL II\",\"LEVEL III\",\"LEVEL IV\",\"AVG\",\"WAVG\"]\n",
    "la"
   ]
  },
  {
   "cell_type": "code",
   "execution_count": null,
   "id": "9e260799",
   "metadata": {},
   "outputs": [],
   "source": [
    "# GET A GROUPBY ON THE YEAR AND SEE EACH LEVELS SUCCESS AND APPLICATION COUNT\n",
    "#PLOT THAT\n",
    "# GET CORREL AND LIN REG OF THE SUCCESS AND APP COUNT OVER TIME FOR EACH LEVEL "
   ]
  },
  {
   "cell_type": "code",
   "execution_count": null,
   "id": "60e6717d",
   "metadata": {},
   "outputs": [],
   "source": [
    "# PW LEVEL DIST PER STATE WORKED IN\n",
    "joblevel = pd.DataFrame(df.groupby(\"JOB_INFO_WORK_STATE\")[\"PW_LEVEL_9089\"].value_counts())\n",
    "joblevel.columns = [\"Count\"]\n",
    "joblevel = joblevel.reset_index()"
   ]
  },
  {
   "cell_type": "code",
   "execution_count": null,
   "id": "6c24a068",
   "metadata": {},
   "outputs": [],
   "source": [
    "# LEVEL 1 DISTRIBUTION BY STATES WORKED IN\n",
    "jobcho = joblevel[joblevel[\"PW_LEVEL_9089\"]==\"LEVEL I\"]\n",
    "jobcho.columns = [\"State\",\"Level\",\"Count\"]\n",
    "jobcho[\"text\"] = jobcho[\"State\"].astype(str)+\": \"+jobcho[\"Count\"].astype(str)+\" Applications\"\n",
    "# Choropleth Map of EMPLOYER STATE\n",
    "data = dict(type = \"choropleth\",\n",
    "           locations = jobcho[\"State\"],\n",
    "           locationmode = \"USA-states\",\n",
    "           z = jobcho[\"Count\"].astype(float),\n",
    "           text = jobcho[\"text\"],\n",
    "           colorbar={\"title\":\"Applications\"},\n",
    "           colorscale = \"oranges\",\n",
    "           marker = dict(line = dict(color = \"rgb(255,255,255)\")) )\n",
    "layout = dict(title = \"Level I Applications in States Worked In\",\n",
    "              geo = dict(scope = \"usa\",showlakes = True, lakecolor = \"rgb(255,255,255)\"))\n",
    "choro = go.Figure(data, layout)\n",
    "iplot(choro)"
   ]
  },
  {
   "cell_type": "code",
   "execution_count": null,
   "id": "24b02be7",
   "metadata": {},
   "outputs": [],
   "source": [
    "# LEVEL 2 DISTRIBUTION BY STATES WORKED IN\n",
    "jobcho = joblevel[joblevel[\"PW_LEVEL_9089\"]==\"LEVEL II\"]\n",
    "jobcho.columns = [\"State\",\"Level\",\"Count\"]\n",
    "jobcho[\"text\"] = jobcho[\"State\"].astype(str)+\": \"+jobcho[\"Count\"].astype(str)+\" Applications\"\n",
    "# Choropleth Map of EMPLOYER STATE\n",
    "data = dict(type = \"choropleth\",\n",
    "           locations = jobcho[\"State\"],\n",
    "           locationmode = \"USA-states\",\n",
    "           z = jobcho[\"Count\"].astype(float),\n",
    "           text = jobcho[\"text\"],\n",
    "           colorbar={\"title\":\"Applications\"},\n",
    "           colorscale = \"oranges\",\n",
    "           marker = dict(line = dict(color = \"rgb(255,255,255)\")) )\n",
    "layout = dict(title = \"Level II Applications in States Worked In\",\n",
    "              geo = dict(scope = \"usa\",showlakes = True, lakecolor = \"rgb(255,255,255)\"))\n",
    "choro = go.Figure(data, layout)\n",
    "iplot(choro)"
   ]
  },
  {
   "cell_type": "code",
   "execution_count": null,
   "id": "138aaf3a",
   "metadata": {},
   "outputs": [],
   "source": [
    "# LEVEL 3 DISTRIBUTION BY STATES WORKED IN\n",
    "jobcho = joblevel[joblevel[\"PW_LEVEL_9089\"]==\"LEVEL III\"]\n",
    "jobcho.columns = [\"State\",\"Level\",\"Count\"]\n",
    "jobcho[\"text\"] = jobcho[\"State\"].astype(str)+\": \"+jobcho[\"Count\"].astype(str)+\" Applications\"\n",
    "# Choropleth Map of EMPLOYER STATE\n",
    "data = dict(type = \"choropleth\",\n",
    "           locations = jobcho[\"State\"],\n",
    "           locationmode = \"USA-states\",\n",
    "           z = jobcho[\"Count\"].astype(float),\n",
    "           text = jobcho[\"text\"],\n",
    "           colorbar={\"title\":\"Applications\"},\n",
    "           colorscale = \"oranges\",\n",
    "           marker = dict(line = dict(color = \"rgb(255,255,255)\")) )\n",
    "layout = dict(title = \"Level III Applications in States Worked In\",\n",
    "              geo = dict(scope = \"usa\",showlakes = True, lakecolor = \"rgb(255,255,255)\"))\n",
    "choro = go.Figure(data, layout)\n",
    "iplot(choro)"
   ]
  },
  {
   "cell_type": "code",
   "execution_count": null,
   "id": "dca68e1e",
   "metadata": {},
   "outputs": [],
   "source": [
    "# LEVEL 4 DISTRIBUTION BY STATES WORKED IN\n",
    "jobcho = joblevel[joblevel[\"PW_LEVEL_9089\"]==\"LEVEL IV\"]\n",
    "jobcho.columns = [\"State\",\"Level\",\"Count\"]\n",
    "jobcho[\"text\"] = jobcho[\"State\"].astype(str)+\": \"+jobcho[\"Count\"].astype(str)+\" Applications\"\n",
    "# Choropleth Map of EMPLOYER STATE\n",
    "data = dict(type = \"choropleth\",\n",
    "           locations = jobcho[\"State\"],\n",
    "           locationmode = \"USA-states\",\n",
    "           z = jobcho[\"Count\"].astype(float),\n",
    "           text = jobcho[\"text\"],\n",
    "           colorbar={\"title\":\"Applications\"},\n",
    "           colorscale = \"oranges\",\n",
    "           marker = dict(line = dict(color = \"rgb(255,255,255)\")) )\n",
    "layout = dict(title = \"Level IV Applications in States Worked In\",\n",
    "              geo = dict(scope = \"usa\",showlakes = True, lakecolor = \"rgb(255,255,255)\"))\n",
    "choro = go.Figure(data, layout)\n",
    "iplot(choro)"
   ]
  },
  {
   "cell_type": "code",
   "execution_count": null,
   "id": "15362775",
   "metadata": {},
   "outputs": [],
   "source": []
  },
  {
   "cell_type": "code",
   "execution_count": null,
   "id": "261412f5",
   "metadata": {},
   "outputs": [],
   "source": []
  }
 ],
 "metadata": {
  "kernelspec": {
   "display_name": "Python 3 (ipykernel)",
   "language": "python",
   "name": "python3"
  },
  "language_info": {
   "codemirror_mode": {
    "name": "ipython",
    "version": 3
   },
   "file_extension": ".py",
   "mimetype": "text/x-python",
   "name": "python",
   "nbconvert_exporter": "python",
   "pygments_lexer": "ipython3",
   "version": "3.9.12"
  }
 },
 "nbformat": 4,
 "nbformat_minor": 5
}
